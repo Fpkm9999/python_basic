{
 "cells": [
  {
   "cell_type": "code",
   "execution_count": 1,
   "id": "initial_id",
   "metadata": {
    "collapsed": true,
    "ExecuteTime": {
     "end_time": "2024-02-27T03:43:21.665955300Z",
     "start_time": "2024-02-27T03:43:19.728406600Z"
    }
   },
   "outputs": [
    {
     "name": "stdout",
     "output_type": "stream",
     "text": [
      "점수는 67점이고, 학점은 D입니다.\n"
     ]
    }
   ],
   "source": [
    "# 문제\n",
    "# 1. 점수를 입력받아서 학점을 출력하는 프로그램을 구현하세요.\n",
    "# 학점은 점수가 100~ 90점이면 'A', 89 ~ 80 점 이면 'B', 79 ~ 70 점 이면 'C',\n",
    "# 69 ~ 60 점 이면 'D', 59 ~ 0 점 이면 'F' 입니다.\n",
    "\n",
    "# 실행 예)\n",
    "# 점수를 입력하세요 >>> 95\n",
    "# 점수는 95점이고, 학점은 A 학점입니다.\n",
    "\n",
    "inputUser = int(input(\"점수를 입력하세요 >>> \"))\n",
    "\n",
    "if 90 <= inputUser <= 100:  # and 연산자의 경우 이런 간결식도 가능하다.\n",
    "    grade = 'A'\n",
    "elif inputUser >= 80:\n",
    "    grade = 'B'\n",
    "elif inputUser >= 70:\n",
    "    grade = 'C'\n",
    "elif inputUser >= 60:\n",
    "    grade = 'D'\n",
    "else:\n",
    "    grade = 'F'\n",
    "\n",
    "print(f'점수는 {inputUser}점이고, 학점은 {grade}입니다.')"
   ]
  },
  {
   "cell_type": "code",
   "outputs": [
    {
     "name": "stdout",
     "output_type": "stream",
     "text": [
      "15는 3의 배수입니다.\n",
      "15 는 3의 배수입니다. \n"
     ]
    }
   ],
   "source": [
    "# 2. 임의의 정수를 입력받은 뒤 해당 값이 3의 배수인지 아닌지 판별하는 프로그램을 구현하세요\n",
    "\n",
    "# 실행 예)\n",
    "# 정수를 입력하세요 >>> 14\n",
    "# 14는 3의 배수가 아닙니다 \n",
    "#-----------------------\n",
    "# 정수를 입력하세요 >>> 15\n",
    "# 15는 3의 배수입니다.\n",
    "inputUser2 = int(input('정수를 입력하세요 >>> '))\n",
    "\n",
    "# print(inputUser2%3)\n",
    "if inputUser2 % 3 == 0:\n",
    "    result2 = '입니다.'\n",
    "else:\n",
    "    result2 = '가 아닙니다.'\n",
    "\n",
    "print(f'{inputUser2}는 3의 배수{result2}')\n",
    "\n",
    "# 2. 삼항 연산자 사용\n",
    "print(f'{inputUser2}는 3의 {\"배수입니다. \" if inputUser2 % 3 == 0 else \"배수가 아닙니다.\"}')"
   ],
   "metadata": {
    "collapsed": false,
    "ExecuteTime": {
     "end_time": "2024-02-27T00:31:24.130066600Z",
     "start_time": "2024-02-27T00:31:23.110046900Z"
    }
   },
   "id": "5bdaba93ce0b7d98",
   "execution_count": 30
  },
  {
   "cell_type": "code",
   "outputs": [
    {
     "name": "stdout",
     "output_type": "stream",
     "text": [
      "[3, 1, 2]\n",
      "가장 큰 수는 3입니다.\n",
      "가장 큰 수는 3입니다.\n",
      "가장 큰 수는 3입니다.\n"
     ]
    }
   ],
   "source": [
    "# 3. 임의의 정수 3개를 입력받아 그 중에서 가장 큰 수를 출력하는 프로그램을 구현하세요.\n",
    "\n",
    "# 실행 예)\n",
    "# 정수1 입력 >>> 3\n",
    "# 정수2 입력 >>> 1\n",
    "# 정수3 입력 >>> 2\n",
    "\n",
    "# 가장 큰 수는 3입니다. \n",
    "li = [int(input('정수1 입력 >>> ')), int(input('정수2 입력 >>> ')), int(input('정수3 입력 >>> '))]\n",
    "print(li)  # 테스트\n",
    "\n",
    "# case 1\n",
    "print(f'가장 큰 수는 {max(li)}입니다.')\n",
    "\n",
    "# case 2\n",
    "if li[0] > li[1] and li[0] > li[2]:\n",
    "    result2 = li[0]\n",
    "elif li[0] < li[1] < li[2]:\n",
    "    result2 = li[2]\n",
    "else:\n",
    "    result2 = li[1]\n",
    "print(f'가장 큰 수는 {result2}입니다.')\n",
    "\n",
    "# case 3\n",
    "max_num = li[0]\n",
    "if li[1] > max_num:\n",
    "    max_num = li[1]\n",
    "if li[2] > max_num:\n",
    "    max_num = li[2]\n",
    "    \n",
    "print(f'가장 큰 수는 {max_num}입니다.')\n"
   ],
   "metadata": {
    "collapsed": false,
    "ExecuteTime": {
     "end_time": "2024-02-27T00:35:05.970865200Z",
     "start_time": "2024-02-27T00:35:04.529229400Z"
    }
   },
   "id": "e61dcbbc737473eb",
   "execution_count": 32
  }
 ],
 "metadata": {
  "kernelspec": {
   "display_name": "Python 3",
   "language": "python",
   "name": "python3"
  },
  "language_info": {
   "codemirror_mode": {
    "name": "ipython",
    "version": 2
   },
   "file_extension": ".py",
   "mimetype": "text/x-python",
   "name": "python",
   "nbconvert_exporter": "python",
   "pygments_lexer": "ipython2",
   "version": "2.7.6"
  }
 },
 "nbformat": 4,
 "nbformat_minor": 5
}
