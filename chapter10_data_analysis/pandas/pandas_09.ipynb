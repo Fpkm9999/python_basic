{
 "cells": [
  {
   "cell_type": "markdown",
   "source": [
    "### 04. 판다스 데이터 선택하기\n"
   ],
   "metadata": {
    "collapsed": false
   },
   "id": "e184698913c5211d"
  },
  {
   "cell_type": "code",
   "execution_count": null,
   "id": "initial_id",
   "metadata": {
    "collapsed": true
   },
   "outputs": [],
   "source": [
    "# Pandas DataFrame으로 부터 데이터를 선택하는 다양한 방법."
   ]
  },
  {
   "cell_type": "code",
   "outputs": [],
   "source": [
    "import pandas as pd"
   ],
   "metadata": {
    "collapsed": false,
    "ExecuteTime": {
     "end_time": "2024-03-12T05:43:30.473505Z",
     "start_time": "2024-03-12T05:43:29.770330Z"
    }
   },
   "id": "bedd9a0a76603487",
   "execution_count": 2
  },
  {
   "cell_type": "markdown",
   "source": [
    "#### 1) 열 선택하기"
   ],
   "metadata": {
    "collapsed": false
   },
   "id": "72ee31b241a79f79"
  },
  {
   "cell_type": "code",
   "outputs": [],
   "source": [
    "# DataFrame의 하나의 열을 선택하면 하나의 Series를 만듬.\n",
    "# df['컬럼명']은 df.컬럼명과 같음. 단, 이 방법을 사용하려면 열 이름이 숫자로 시작하지 않고 공백이나 특수 문자 등을 포함하지 않는 등의 조건을 만족해야 함.\n",
    "# iloc() 및 loc() 메서드를 사용하여 여러 열을 선택할 수도 있음."
   ],
   "metadata": {
    "collapsed": false
   },
   "id": "384b202bb8670cb5"
  },
  {
   "cell_type": "code",
   "outputs": [
    {
     "data": {
      "text/plain": "0       28.7\n1       25.2\n2       22.1\n3       25.3\n4       27.2\n        ... \n3648    22.1\n3649    21.9\n3650    21.6\n3651    22.9\n3652    25.7\nName: temp, Length: 3653, dtype: float64"
     },
     "execution_count": 4,
     "metadata": {},
     "output_type": "execute_result"
    }
   ],
   "source": [
    "# 단일 컬럼 선택하기\n",
    "df = pd.read_csv('../input/weather.csv')\n",
    "df['temp']  # dict 의 key 값처럼 사용이 가능함"
   ],
   "metadata": {
    "collapsed": false,
    "ExecuteTime": {
     "end_time": "2024-03-12T05:43:39.713942Z",
     "start_time": "2024-03-12T05:43:39.686589Z"
    }
   },
   "id": "7994dc3ae84c4b41",
   "execution_count": 4
  },
  {
   "cell_type": "code",
   "outputs": [
    {
     "data": {
      "text/plain": "0       28.7\n1       25.2\n2       22.1\n3       25.3\n4       27.2\n        ... \n3648    22.1\n3649    21.9\n3650    21.6\n3651    22.9\n3652    25.7\nName: temp, Length: 3653, dtype: float64"
     },
     "execution_count": 5,
     "metadata": {},
     "output_type": "execute_result"
    }
   ],
   "source": [
    "df.temp  # 이렇게도 사용가능함. 객체의 속성값처럼"
   ],
   "metadata": {
    "collapsed": false,
    "ExecuteTime": {
     "end_time": "2024-03-12T05:44:10.578994Z",
     "start_time": "2024-03-12T05:44:10.554837Z"
    }
   },
   "id": "e99a6b16cf2daf4f",
   "execution_count": 5
  },
  {
   "cell_type": "code",
   "outputs": [
    {
     "data": {
      "text/plain": "            date  temp\n0     2010-08-01  28.7\n1     2010-08-02  25.2\n2     2010-08-03  22.1\n3     2010-08-04  25.3\n4     2010-08-05  27.2\n...          ...   ...\n3648  2020-07-27  22.1\n3649  2020-07-28  21.9\n3650  2020-07-29  21.6\n3651  2020-07-30  22.9\n3652  2020-07-31  25.7\n\n[3653 rows x 2 columns]",
      "text/html": "<div>\n<style scoped>\n    .dataframe tbody tr th:only-of-type {\n        vertical-align: middle;\n    }\n\n    .dataframe tbody tr th {\n        vertical-align: top;\n    }\n\n    .dataframe thead th {\n        text-align: right;\n    }\n</style>\n<table border=\"1\" class=\"dataframe\">\n  <thead>\n    <tr style=\"text-align: right;\">\n      <th></th>\n      <th>date</th>\n      <th>temp</th>\n    </tr>\n  </thead>\n  <tbody>\n    <tr>\n      <th>0</th>\n      <td>2010-08-01</td>\n      <td>28.7</td>\n    </tr>\n    <tr>\n      <th>1</th>\n      <td>2010-08-02</td>\n      <td>25.2</td>\n    </tr>\n    <tr>\n      <th>2</th>\n      <td>2010-08-03</td>\n      <td>22.1</td>\n    </tr>\n    <tr>\n      <th>3</th>\n      <td>2010-08-04</td>\n      <td>25.3</td>\n    </tr>\n    <tr>\n      <th>4</th>\n      <td>2010-08-05</td>\n      <td>27.2</td>\n    </tr>\n    <tr>\n      <th>...</th>\n      <td>...</td>\n      <td>...</td>\n    </tr>\n    <tr>\n      <th>3648</th>\n      <td>2020-07-27</td>\n      <td>22.1</td>\n    </tr>\n    <tr>\n      <th>3649</th>\n      <td>2020-07-28</td>\n      <td>21.9</td>\n    </tr>\n    <tr>\n      <th>3650</th>\n      <td>2020-07-29</td>\n      <td>21.6</td>\n    </tr>\n    <tr>\n      <th>3651</th>\n      <td>2020-07-30</td>\n      <td>22.9</td>\n    </tr>\n    <tr>\n      <th>3652</th>\n      <td>2020-07-31</td>\n      <td>25.7</td>\n    </tr>\n  </tbody>\n</table>\n<p>3653 rows × 2 columns</p>\n</div>"
     },
     "execution_count": 7,
     "metadata": {},
     "output_type": "execute_result"
    }
   ],
   "source": [
    "# 여러 컬럼 선택하기\n",
    "\n",
    "# 추출할 열 이름을 리스트에 저장한 다음 [] 에 전달하면 여러 열을 선택할 수 있음\n",
    "df[['date', 'temp']]"
   ],
   "metadata": {
    "collapsed": false,
    "ExecuteTime": {
     "end_time": "2024-03-12T05:46:05.032916Z",
     "start_time": "2024-03-12T05:46:05.005198Z"
    }
   },
   "id": "68f555d1f99346aa",
   "execution_count": 7
  },
  {
   "cell_type": "code",
   "outputs": [
    {
     "data": {
      "text/plain": "            date  temp\n0     2010-08-01  28.7\n1     2010-08-02  25.2\n2     2010-08-03  22.1\n3     2010-08-04  25.3\n4     2010-08-05  27.2\n...          ...   ...\n3648  2020-07-27  22.1\n3649  2020-07-28  21.9\n3650  2020-07-29  21.6\n3651  2020-07-30  22.9\n3652  2020-07-31  25.7\n\n[3653 rows x 2 columns]",
      "text/html": "<div>\n<style scoped>\n    .dataframe tbody tr th:only-of-type {\n        vertical-align: middle;\n    }\n\n    .dataframe tbody tr th {\n        vertical-align: top;\n    }\n\n    .dataframe thead th {\n        text-align: right;\n    }\n</style>\n<table border=\"1\" class=\"dataframe\">\n  <thead>\n    <tr style=\"text-align: right;\">\n      <th></th>\n      <th>date</th>\n      <th>temp</th>\n    </tr>\n  </thead>\n  <tbody>\n    <tr>\n      <th>0</th>\n      <td>2010-08-01</td>\n      <td>28.7</td>\n    </tr>\n    <tr>\n      <th>1</th>\n      <td>2010-08-02</td>\n      <td>25.2</td>\n    </tr>\n    <tr>\n      <th>2</th>\n      <td>2010-08-03</td>\n      <td>22.1</td>\n    </tr>\n    <tr>\n      <th>3</th>\n      <td>2010-08-04</td>\n      <td>25.3</td>\n    </tr>\n    <tr>\n      <th>4</th>\n      <td>2010-08-05</td>\n      <td>27.2</td>\n    </tr>\n    <tr>\n      <th>...</th>\n      <td>...</td>\n      <td>...</td>\n    </tr>\n    <tr>\n      <th>3648</th>\n      <td>2020-07-27</td>\n      <td>22.1</td>\n    </tr>\n    <tr>\n      <th>3649</th>\n      <td>2020-07-28</td>\n      <td>21.9</td>\n    </tr>\n    <tr>\n      <th>3650</th>\n      <td>2020-07-29</td>\n      <td>21.6</td>\n    </tr>\n    <tr>\n      <th>3651</th>\n      <td>2020-07-30</td>\n      <td>22.9</td>\n    </tr>\n    <tr>\n      <th>3652</th>\n      <td>2020-07-31</td>\n      <td>25.7</td>\n    </tr>\n  </tbody>\n</table>\n<p>3653 rows × 2 columns</p>\n</div>"
     },
     "execution_count": 9,
     "metadata": {},
     "output_type": "execute_result"
    }
   ],
   "source": [
    "# 여러 컬럼 선택하기 : loc\n",
    "\n",
    "# 열 이름을 사용하여 열을 선택하려는 경우 loc 를 사용\n",
    "# df.loc[행 인덱싱 값, 열 인덱싱 값]\n",
    "\n",
    "df.loc[:, ['date', 'temp']]  # 앞부분:뒷부분. 앞이 생략된 형태인데 그러면 위와 동일한 형태로 나옴"
   ],
   "metadata": {
    "collapsed": false,
    "ExecuteTime": {
     "end_time": "2024-03-12T05:47:11.045719Z",
     "start_time": "2024-03-12T05:47:11.028997Z"
    }
   },
   "id": "1e5db960d6526a20",
   "execution_count": 9
  },
  {
   "cell_type": "code",
   "outputs": [
    {
     "data": {
      "text/plain": "            date  temp\n0     2010-08-01  28.7\n1     2010-08-02  25.2\n2     2010-08-03  22.1\n3     2010-08-04  25.3\n4     2010-08-05  27.2\n...          ...   ...\n3648  2020-07-27  22.1\n3649  2020-07-28  21.9\n3650  2020-07-29  21.6\n3651  2020-07-30  22.9\n3652  2020-07-31  25.7\n\n[3653 rows x 2 columns]",
      "text/html": "<div>\n<style scoped>\n    .dataframe tbody tr th:only-of-type {\n        vertical-align: middle;\n    }\n\n    .dataframe tbody tr th {\n        vertical-align: top;\n    }\n\n    .dataframe thead th {\n        text-align: right;\n    }\n</style>\n<table border=\"1\" class=\"dataframe\">\n  <thead>\n    <tr style=\"text-align: right;\">\n      <th></th>\n      <th>date</th>\n      <th>temp</th>\n    </tr>\n  </thead>\n  <tbody>\n    <tr>\n      <th>0</th>\n      <td>2010-08-01</td>\n      <td>28.7</td>\n    </tr>\n    <tr>\n      <th>1</th>\n      <td>2010-08-02</td>\n      <td>25.2</td>\n    </tr>\n    <tr>\n      <th>2</th>\n      <td>2010-08-03</td>\n      <td>22.1</td>\n    </tr>\n    <tr>\n      <th>3</th>\n      <td>2010-08-04</td>\n      <td>25.3</td>\n    </tr>\n    <tr>\n      <th>4</th>\n      <td>2010-08-05</td>\n      <td>27.2</td>\n    </tr>\n    <tr>\n      <th>...</th>\n      <td>...</td>\n      <td>...</td>\n    </tr>\n    <tr>\n      <th>3648</th>\n      <td>2020-07-27</td>\n      <td>22.1</td>\n    </tr>\n    <tr>\n      <th>3649</th>\n      <td>2020-07-28</td>\n      <td>21.9</td>\n    </tr>\n    <tr>\n      <th>3650</th>\n      <td>2020-07-29</td>\n      <td>21.6</td>\n    </tr>\n    <tr>\n      <th>3651</th>\n      <td>2020-07-30</td>\n      <td>22.9</td>\n    </tr>\n    <tr>\n      <th>3652</th>\n      <td>2020-07-31</td>\n      <td>25.7</td>\n    </tr>\n  </tbody>\n</table>\n<p>3653 rows × 2 columns</p>\n</div>"
     },
     "execution_count": 11,
     "metadata": {},
     "output_type": "execute_result"
    }
   ],
   "source": [
    "# 여러 컬럼 선택하기 : iloc\n",
    "\n",
    "# 열 인덱스를 사용하여 추출.\n",
    "# df.iloc[행 인덱스, 열 인덱스]\n",
    "df.iloc[:, [0, 1]]"
   ],
   "metadata": {
    "collapsed": false,
    "ExecuteTime": {
     "end_time": "2024-03-12T05:50:16.675289Z",
     "start_time": "2024-03-12T05:50:16.649889Z"
    }
   },
   "id": "835fac58502d4f52",
   "execution_count": 11
  },
  {
   "cell_type": "markdown",
   "source": [
    "### 2) 행 선택하기"
   ],
   "metadata": {
    "collapsed": false
   },
   "id": "fba300cd8d93ce1f"
  },
  {
   "cell_type": "code",
   "outputs": [
    {
     "data": {
      "text/plain": "         date  temp  max_wind  mean_wind\n0  2010-08-01  28.7       8.3        3.4\n1  2010-08-02  25.2       8.7        3.8\n2  2010-08-03  22.1       6.3        2.9",
      "text/html": "<div>\n<style scoped>\n    .dataframe tbody tr th:only-of-type {\n        vertical-align: middle;\n    }\n\n    .dataframe tbody tr th {\n        vertical-align: top;\n    }\n\n    .dataframe thead th {\n        text-align: right;\n    }\n</style>\n<table border=\"1\" class=\"dataframe\">\n  <thead>\n    <tr style=\"text-align: right;\">\n      <th></th>\n      <th>date</th>\n      <th>temp</th>\n      <th>max_wind</th>\n      <th>mean_wind</th>\n    </tr>\n  </thead>\n  <tbody>\n    <tr>\n      <th>0</th>\n      <td>2010-08-01</td>\n      <td>28.7</td>\n      <td>8.3</td>\n      <td>3.4</td>\n    </tr>\n    <tr>\n      <th>1</th>\n      <td>2010-08-02</td>\n      <td>25.2</td>\n      <td>8.7</td>\n      <td>3.8</td>\n    </tr>\n    <tr>\n      <th>2</th>\n      <td>2010-08-03</td>\n      <td>22.1</td>\n      <td>6.3</td>\n      <td>2.9</td>\n    </tr>\n  </tbody>\n</table>\n</div>"
     },
     "execution_count": 12,
     "metadata": {},
     "output_type": "execute_result"
    }
   ],
   "source": [
    "# 특정 행 범위 선택하기\n",
    "# 인덱스 숫자를 사용하면 행을 슬라이싱할 수 있음.\n",
    "df[0:3]  # 3개의 행을 불러옴 0,1,2"
   ],
   "metadata": {
    "collapsed": false,
    "ExecuteTime": {
     "end_time": "2024-03-12T05:50:47.333393Z",
     "start_time": "2024-03-12T05:50:47.313850Z"
    }
   },
   "id": "91c7a007a5b2fd05",
   "execution_count": 12
  },
  {
   "cell_type": "markdown",
   "source": [
    "### 3) 레이블로 선택하기 df.loc"
   ],
   "metadata": {
    "collapsed": false
   },
   "id": "f69d4b9f6f98529f"
  },
  {
   "cell_type": "code",
   "outputs": [
    {
     "data": {
      "text/plain": "                  date  temp  max_wind  mean_wind\ndate                                             \n2010-08-01  2010-08-01  28.7       8.3        3.4\n2010-08-02  2010-08-02  25.2       8.7        3.8\n2010-08-03  2010-08-03  22.1       6.3        2.9\n2010-08-04  2010-08-04  25.3       6.6        4.2\n2010-08-05  2010-08-05  27.2       9.1        5.6\n...                ...   ...       ...        ...\n2020-07-27  2020-07-27  22.1       4.2        1.7\n2020-07-28  2020-07-28  21.9       4.5        1.6\n2020-07-29  2020-07-29  21.6       3.2        1.0\n2020-07-30  2020-07-30  22.9       9.7        2.4\n2020-07-31  2020-07-31  25.7       4.8        2.5\n\n[3653 rows x 4 columns]",
      "text/html": "<div>\n<style scoped>\n    .dataframe tbody tr th:only-of-type {\n        vertical-align: middle;\n    }\n\n    .dataframe tbody tr th {\n        vertical-align: top;\n    }\n\n    .dataframe thead th {\n        text-align: right;\n    }\n</style>\n<table border=\"1\" class=\"dataframe\">\n  <thead>\n    <tr style=\"text-align: right;\">\n      <th></th>\n      <th>date</th>\n      <th>temp</th>\n      <th>max_wind</th>\n      <th>mean_wind</th>\n    </tr>\n    <tr>\n      <th>date</th>\n      <th></th>\n      <th></th>\n      <th></th>\n      <th></th>\n    </tr>\n  </thead>\n  <tbody>\n    <tr>\n      <th>2010-08-01</th>\n      <td>2010-08-01</td>\n      <td>28.7</td>\n      <td>8.3</td>\n      <td>3.4</td>\n    </tr>\n    <tr>\n      <th>2010-08-02</th>\n      <td>2010-08-02</td>\n      <td>25.2</td>\n      <td>8.7</td>\n      <td>3.8</td>\n    </tr>\n    <tr>\n      <th>2010-08-03</th>\n      <td>2010-08-03</td>\n      <td>22.1</td>\n      <td>6.3</td>\n      <td>2.9</td>\n    </tr>\n    <tr>\n      <th>2010-08-04</th>\n      <td>2010-08-04</td>\n      <td>25.3</td>\n      <td>6.6</td>\n      <td>4.2</td>\n    </tr>\n    <tr>\n      <th>2010-08-05</th>\n      <td>2010-08-05</td>\n      <td>27.2</td>\n      <td>9.1</td>\n      <td>5.6</td>\n    </tr>\n    <tr>\n      <th>...</th>\n      <td>...</td>\n      <td>...</td>\n      <td>...</td>\n      <td>...</td>\n    </tr>\n    <tr>\n      <th>2020-07-27</th>\n      <td>2020-07-27</td>\n      <td>22.1</td>\n      <td>4.2</td>\n      <td>1.7</td>\n    </tr>\n    <tr>\n      <th>2020-07-28</th>\n      <td>2020-07-28</td>\n      <td>21.9</td>\n      <td>4.5</td>\n      <td>1.6</td>\n    </tr>\n    <tr>\n      <th>2020-07-29</th>\n      <td>2020-07-29</td>\n      <td>21.6</td>\n      <td>3.2</td>\n      <td>1.0</td>\n    </tr>\n    <tr>\n      <th>2020-07-30</th>\n      <td>2020-07-30</td>\n      <td>22.9</td>\n      <td>9.7</td>\n      <td>2.4</td>\n    </tr>\n    <tr>\n      <th>2020-07-31</th>\n      <td>2020-07-31</td>\n      <td>25.7</td>\n      <td>4.8</td>\n      <td>2.5</td>\n    </tr>\n  </tbody>\n</table>\n<p>3653 rows × 4 columns</p>\n</div>"
     },
     "execution_count": 14,
     "metadata": {},
     "output_type": "execute_result"
    }
   ],
   "source": [
    "# 특정 날짜에 해당하는 열 선택\n",
    "df.index = df['date']  # 인덱스 값으로 df['date'] 을 설정.(복사하는거임)\n",
    "df"
   ],
   "metadata": {
    "collapsed": false,
    "ExecuteTime": {
     "end_time": "2024-03-12T06:17:28.901200Z",
     "start_time": "2024-03-12T06:17:28.880205Z"
    }
   },
   "id": "48e3b33c965a1933",
   "execution_count": 14
  },
  {
   "cell_type": "code",
   "outputs": [
    {
     "data": {
      "text/plain": "temp         27.8\nmean_wind     4.2\nName: 2010-08-21, dtype: object"
     },
     "execution_count": 15,
     "metadata": {},
     "output_type": "execute_result"
    }
   ],
   "source": [
    "df.loc['2010-08-21', ['temp', 'mean_wind']]  # 행과 열의 위치가 바뀌었다."
   ],
   "metadata": {
    "collapsed": false,
    "ExecuteTime": {
     "end_time": "2024-03-12T06:17:46.641060Z",
     "start_time": "2024-03-12T06:17:46.624061Z"
    }
   },
   "id": "a949078d7a415da6",
   "execution_count": 15
  },
  {
   "cell_type": "markdown",
   "source": [
    "### 4) 위치로 선택하기 df.iloc"
   ],
   "metadata": {
    "collapsed": false
   },
   "id": "b50a258109f0b6da"
  },
  {
   "cell_type": "code",
   "outputs": [
    {
     "data": {
      "text/plain": "date         2010-08-04\ntemp               25.3\nmax_wind            6.6\nmean_wind           4.2\nName: 2010-08-04, dtype: object"
     },
     "execution_count": 17,
     "metadata": {},
     "output_type": "execute_result"
    }
   ],
   "source": [
    "# iloc[n] 과 같이 정수를 입력하면 해당 행을 선택. iloc 이후에 붙은 숫자 3은 (위에서 0부터 시작) 4번째 행이라는 뜻.\n",
    "\n",
    "# 특정 행을 선택\n",
    "df.iloc[3]"
   ],
   "metadata": {
    "collapsed": false,
    "ExecuteTime": {
     "end_time": "2024-03-12T06:19:41.344736Z",
     "start_time": "2024-03-12T06:19:41.332404Z"
    }
   },
   "id": "4f6d2de59e833a95",
   "execution_count": 17
  },
  {
   "cell_type": "code",
   "outputs": [
    {
     "data": {
      "text/plain": "                  date  temp\ndate                        \n2010-08-02  2010-08-02  25.2\n2010-08-03  2010-08-03  22.1",
      "text/html": "<div>\n<style scoped>\n    .dataframe tbody tr th:only-of-type {\n        vertical-align: middle;\n    }\n\n    .dataframe tbody tr th {\n        vertical-align: top;\n    }\n\n    .dataframe thead th {\n        text-align: right;\n    }\n</style>\n<table border=\"1\" class=\"dataframe\">\n  <thead>\n    <tr style=\"text-align: right;\">\n      <th></th>\n      <th>date</th>\n      <th>temp</th>\n    </tr>\n    <tr>\n      <th>date</th>\n      <th></th>\n      <th></th>\n    </tr>\n  </thead>\n  <tbody>\n    <tr>\n      <th>2010-08-02</th>\n      <td>2010-08-02</td>\n      <td>25.2</td>\n    </tr>\n    <tr>\n      <th>2010-08-03</th>\n      <td>2010-08-03</td>\n      <td>22.1</td>\n    </tr>\n  </tbody>\n</table>\n</div>"
     },
     "execution_count": 18,
     "metadata": {},
     "output_type": "execute_result"
    }
   ],
   "source": [
    "# 특정 행과 열 선택 : 슬라이싱\n",
    "df.iloc[1:3, 0:2]  # 1~2, 0~1 "
   ],
   "metadata": {
    "collapsed": false,
    "ExecuteTime": {
     "end_time": "2024-03-12T06:20:53.961528Z",
     "start_time": "2024-03-12T06:20:53.937518Z"
    }
   },
   "id": "f8b55f907d958ebe",
   "execution_count": 18
  },
  {
   "cell_type": "markdown",
   "source": [
    "### 5) 불 인덱싱 <-- ㅈㄴ 중요함."
   ],
   "metadata": {
    "collapsed": false
   },
   "id": "6badfe362c9f70af"
  },
  {
   "cell_type": "code",
   "outputs": [
    {
     "data": {
      "text/plain": "date\n2010-08-01    False\n2010-08-02    False\n2010-08-03    False\n2010-08-04    False\n2010-08-05    False\n              ...  \n2020-07-27    False\n2020-07-28    False\n2020-07-29    False\n2020-07-30    False\n2020-07-31    False\nName: temp, Length: 3653, dtype: bool"
     },
     "execution_count": 22,
     "metadata": {},
     "output_type": "execute_result"
    }
   ],
   "source": [
    "# 하나의 열의 값을 기준으로 데이터를 선택할 수 있음.\n",
    "# df[df.A>0]은 df로 부터 A열이 0보다 큰 데이터를 보여줌.\n",
    "\n",
    "# 조건에 맞는 데이터를 추출\n",
    "w = df['temp'] > 30\n",
    "w"
   ],
   "metadata": {
    "collapsed": false,
    "ExecuteTime": {
     "end_time": "2024-03-12T06:24:09.418975Z",
     "start_time": "2024-03-12T06:24:09.398454Z"
    }
   },
   "id": "afaa598501766a66",
   "execution_count": 22
  },
  {
   "cell_type": "code",
   "outputs": [
    {
     "data": {
      "text/plain": "                  date  temp  max_wind  mean_wind\ndate                                             \n2013-08-08  2013-08-08  31.3       7.8        4.6\n2013-08-09  2013-08-09  30.6       9.9        6.4\n2013-08-10  2013-08-10  30.6       7.4        3.8\n2018-07-23  2018-07-23  30.5       6.5        1.6\n2018-08-04  2018-08-04  30.3       5.8        3.0",
      "text/html": "<div>\n<style scoped>\n    .dataframe tbody tr th:only-of-type {\n        vertical-align: middle;\n    }\n\n    .dataframe tbody tr th {\n        vertical-align: top;\n    }\n\n    .dataframe thead th {\n        text-align: right;\n    }\n</style>\n<table border=\"1\" class=\"dataframe\">\n  <thead>\n    <tr style=\"text-align: right;\">\n      <th></th>\n      <th>date</th>\n      <th>temp</th>\n      <th>max_wind</th>\n      <th>mean_wind</th>\n    </tr>\n    <tr>\n      <th>date</th>\n      <th></th>\n      <th></th>\n      <th></th>\n      <th></th>\n    </tr>\n  </thead>\n  <tbody>\n    <tr>\n      <th>2013-08-08</th>\n      <td>2013-08-08</td>\n      <td>31.3</td>\n      <td>7.8</td>\n      <td>4.6</td>\n    </tr>\n    <tr>\n      <th>2013-08-09</th>\n      <td>2013-08-09</td>\n      <td>30.6</td>\n      <td>9.9</td>\n      <td>6.4</td>\n    </tr>\n    <tr>\n      <th>2013-08-10</th>\n      <td>2013-08-10</td>\n      <td>30.6</td>\n      <td>7.4</td>\n      <td>3.8</td>\n    </tr>\n    <tr>\n      <th>2018-07-23</th>\n      <td>2018-07-23</td>\n      <td>30.5</td>\n      <td>6.5</td>\n      <td>1.6</td>\n    </tr>\n    <tr>\n      <th>2018-08-04</th>\n      <td>2018-08-04</td>\n      <td>30.3</td>\n      <td>5.8</td>\n      <td>3.0</td>\n    </tr>\n  </tbody>\n</table>\n</div>"
     },
     "execution_count": 26,
     "metadata": {},
     "output_type": "execute_result"
    }
   ],
   "source": [
    "df[w] # <-- 이렇게 사용함\n",
    "# 혹은 정성대로하자면\n",
    "df[df['temp']>30]"
   ],
   "metadata": {
    "collapsed": false,
    "ExecuteTime": {
     "end_time": "2024-03-12T06:26:55.000941Z",
     "start_time": "2024-03-12T06:26:54.972844Z"
    }
   },
   "id": "f36a2e75277481eb",
   "execution_count": 26
  },
  {
   "cell_type": "code",
   "outputs": [
    {
     "data": {
      "text/plain": "                  date  temp  max_wind  mean_wind\ndate                                             \n2013-08-08  2013-08-08  31.3       7.8        4.6",
      "text/html": "<div>\n<style scoped>\n    .dataframe tbody tr th:only-of-type {\n        vertical-align: middle;\n    }\n\n    .dataframe tbody tr th {\n        vertical-align: top;\n    }\n\n    .dataframe thead th {\n        text-align: right;\n    }\n</style>\n<table border=\"1\" class=\"dataframe\">\n  <thead>\n    <tr style=\"text-align: right;\">\n      <th></th>\n      <th>date</th>\n      <th>temp</th>\n      <th>max_wind</th>\n      <th>mean_wind</th>\n    </tr>\n    <tr>\n      <th>date</th>\n      <th></th>\n      <th></th>\n      <th></th>\n      <th></th>\n    </tr>\n  </thead>\n  <tbody>\n    <tr>\n      <th>2013-08-08</th>\n      <td>2013-08-08</td>\n      <td>31.3</td>\n      <td>7.8</td>\n      <td>4.6</td>\n    </tr>\n  </tbody>\n</table>\n</div>"
     },
     "execution_count": 30,
     "metadata": {},
     "output_type": "execute_result"
    }
   ],
   "source": [
    "# 최고로 더웠던 날의 모든 정보를 추출\n",
    "w = df['temp'] == df['temp'].max() # <-- w에는 불인덱싱이 된 상태\n",
    "w\n",
    "df[w]"
   ],
   "metadata": {
    "collapsed": false,
    "ExecuteTime": {
     "end_time": "2024-03-12T06:28:46.182636Z",
     "start_time": "2024-03-12T06:28:46.161528Z"
    }
   },
   "id": "1bbfb3f2f7b16a2f",
   "execution_count": 30
  },
  {
   "cell_type": "code",
   "outputs": [
    {
     "data": {
      "text/plain": "                  date  temp  max_wind  mean_wind\ndate                                             \n2013-08-08  2013-08-08  31.3       7.8        4.6",
      "text/html": "<div>\n<style scoped>\n    .dataframe tbody tr th:only-of-type {\n        vertical-align: middle;\n    }\n\n    .dataframe tbody tr th {\n        vertical-align: top;\n    }\n\n    .dataframe thead th {\n        text-align: right;\n    }\n</style>\n<table border=\"1\" class=\"dataframe\">\n  <thead>\n    <tr style=\"text-align: right;\">\n      <th></th>\n      <th>date</th>\n      <th>temp</th>\n      <th>max_wind</th>\n      <th>mean_wind</th>\n    </tr>\n    <tr>\n      <th>date</th>\n      <th></th>\n      <th></th>\n      <th></th>\n      <th></th>\n    </tr>\n  </thead>\n  <tbody>\n    <tr>\n      <th>2013-08-08</th>\n      <td>2013-08-08</td>\n      <td>31.3</td>\n      <td>7.8</td>\n      <td>4.6</td>\n    </tr>\n  </tbody>\n</table>\n</div>"
     },
     "execution_count": 32,
     "metadata": {},
     "output_type": "execute_result"
    }
   ],
   "source": [
    "df[df['temp'] == df['temp'].max()]\n",
    "# 통상 이렇게 사용함"
   ],
   "metadata": {
    "collapsed": false,
    "ExecuteTime": {
     "end_time": "2024-03-12T06:29:13.068728Z",
     "start_time": "2024-03-12T06:29:13.051207Z"
    }
   },
   "id": "61112f6c86dbf41e",
   "execution_count": 32
  },
  {
   "cell_type": "code",
   "outputs": [
    {
     "data": {
      "text/plain": "                  date  temp  max_wind  mean_wind\ndate                                             \n2013-08-09  2013-08-09  30.6       9.9        6.4",
      "text/html": "<div>\n<style scoped>\n    .dataframe tbody tr th:only-of-type {\n        vertical-align: middle;\n    }\n\n    .dataframe tbody tr th {\n        vertical-align: top;\n    }\n\n    .dataframe thead th {\n        text-align: right;\n    }\n</style>\n<table border=\"1\" class=\"dataframe\">\n  <thead>\n    <tr style=\"text-align: right;\">\n      <th></th>\n      <th>date</th>\n      <th>temp</th>\n      <th>max_wind</th>\n      <th>mean_wind</th>\n    </tr>\n    <tr>\n      <th>date</th>\n      <th></th>\n      <th></th>\n      <th></th>\n      <th></th>\n    </tr>\n  </thead>\n  <tbody>\n    <tr>\n      <th>2013-08-09</th>\n      <td>2013-08-09</td>\n      <td>30.6</td>\n      <td>9.9</td>\n      <td>6.4</td>\n    </tr>\n  </tbody>\n</table>\n</div>"
     },
     "execution_count": 38,
     "metadata": {},
     "output_type": "execute_result"
    }
   ],
   "source": [
    "# 조건이 2개 이사인 경우\n",
    "# 기온이 30도 이상이고, 최대 풍속이 9 이상인 데이터\n",
    "w = (df['temp'] >= 30) & (df['max_wind'] >= 9)\n",
    "df[w]"
   ],
   "metadata": {
    "collapsed": false,
    "ExecuteTime": {
     "end_time": "2024-03-12T06:31:22.663956Z",
     "start_time": "2024-03-12T06:31:22.638942Z"
    }
   },
   "id": "bbe26926fa6796a5",
   "execution_count": 38
  },
  {
   "cell_type": "code",
   "outputs": [],
   "source": [],
   "metadata": {
    "collapsed": false
   },
   "id": "c32417e77f069dd3"
  }
 ],
 "metadata": {
  "kernelspec": {
   "display_name": "Python 3",
   "language": "python",
   "name": "python3"
  },
  "language_info": {
   "codemirror_mode": {
    "name": "ipython",
    "version": 2
   },
   "file_extension": ".py",
   "mimetype": "text/x-python",
   "name": "python",
   "nbconvert_exporter": "python",
   "pygments_lexer": "ipython2",
   "version": "2.7.6"
  }
 },
 "nbformat": 4,
 "nbformat_minor": 5
}
