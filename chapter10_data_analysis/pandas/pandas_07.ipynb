{
 "cells": [
  {
   "cell_type": "markdown",
   "source": [
    "### 03. 판다스 데이터 확인하기\n",
    "\n",
    "판다스에는 데이터 분석에 유용한 여러 가지 메서드와 속성이 미리 정의되어 있음."
   ],
   "metadata": {
    "collapsed": false
   },
   "id": "febed0cc37ea4d63"
  },
  {
   "cell_type": "code",
   "execution_count": 23,
   "id": "initial_id",
   "metadata": {
    "collapsed": true,
    "ExecuteTime": {
     "end_time": "2024-03-14T14:15:53.639200Z",
     "start_time": "2024-03-14T14:15:53.634097Z"
    }
   },
   "outputs": [],
   "source": [
    "import pandas as pd\n"
   ]
  },
  {
   "cell_type": "code",
   "outputs": [
    {
     "name": "stdout",
     "output_type": "stream",
     "text": [
      "            date  temp  max_wind  mean_wind\n",
      "0     2010-08-01  28.7       8.3        3.4\n",
      "1     2010-08-02  25.2       8.7        3.8\n",
      "2     2010-08-03  22.1       6.3        2.9\n",
      "3     2010-08-04  25.3       6.6        4.2\n",
      "4     2010-08-05  27.2       9.1        5.6\n",
      "...          ...   ...       ...        ...\n",
      "3648  2020-07-27  22.1       4.2        1.7\n",
      "3649  2020-07-28  21.9       4.5        1.6\n",
      "3650  2020-07-29  21.6       3.2        1.0\n",
      "3651  2020-07-30  22.9       9.7        2.4\n",
      "3652  2020-07-31  25.7       4.8        2.5\n",
      "\n",
      "[3653 rows x 4 columns]\n"
     ]
    }
   ],
   "source": [
    "# 1) DataFrame 만들기\n",
    "\n",
    "# csv 파일 불러오기\n",
    "# csv 파일을 불러와서 데이터프레임을 생성\n",
    "df = pd.read_csv('./input/weather.csv')\n",
    "print(df)\n",
    "# df"
   ],
   "metadata": {
    "collapsed": false,
    "ExecuteTime": {
     "end_time": "2024-03-14T14:15:54.020732Z",
     "start_time": "2024-03-14T14:15:54.004698Z"
    }
   },
   "id": "9f6285705ee41342",
   "execution_count": 24
  },
  {
   "cell_type": "code",
   "outputs": [
    {
     "data": {
      "text/plain": "            date  temp  max_wind  mean_wind\n0     2010-08-01  28.7       8.3        3.4\n1     2010-08-02  25.2       8.7        3.8\n2     2010-08-03  22.1       6.3        2.9\n3     2010-08-04  25.3       6.6        4.2\n4     2010-08-05  27.2       9.1        5.6\n...          ...   ...       ...        ...\n3648  2020-07-27  22.1       4.2        1.7\n3649  2020-07-28  21.9       4.5        1.6\n3650  2020-07-29  21.6       3.2        1.0\n3651  2020-07-30  22.9       9.7        2.4\n3652  2020-07-31  25.7       4.8        2.5\n\n[3653 rows x 4 columns]",
      "text/html": "<div>\n<style scoped>\n    .dataframe tbody tr th:only-of-type {\n        vertical-align: middle;\n    }\n\n    .dataframe tbody tr th {\n        vertical-align: top;\n    }\n\n    .dataframe thead th {\n        text-align: right;\n    }\n</style>\n<table border=\"1\" class=\"dataframe\">\n  <thead>\n    <tr style=\"text-align: right;\">\n      <th></th>\n      <th>date</th>\n      <th>temp</th>\n      <th>max_wind</th>\n      <th>mean_wind</th>\n    </tr>\n  </thead>\n  <tbody>\n    <tr>\n      <th>0</th>\n      <td>2010-08-01</td>\n      <td>28.7</td>\n      <td>8.3</td>\n      <td>3.4</td>\n    </tr>\n    <tr>\n      <th>1</th>\n      <td>2010-08-02</td>\n      <td>25.2</td>\n      <td>8.7</td>\n      <td>3.8</td>\n    </tr>\n    <tr>\n      <th>2</th>\n      <td>2010-08-03</td>\n      <td>22.1</td>\n      <td>6.3</td>\n      <td>2.9</td>\n    </tr>\n    <tr>\n      <th>3</th>\n      <td>2010-08-04</td>\n      <td>25.3</td>\n      <td>6.6</td>\n      <td>4.2</td>\n    </tr>\n    <tr>\n      <th>4</th>\n      <td>2010-08-05</td>\n      <td>27.2</td>\n      <td>9.1</td>\n      <td>5.6</td>\n    </tr>\n    <tr>\n      <th>...</th>\n      <td>...</td>\n      <td>...</td>\n      <td>...</td>\n      <td>...</td>\n    </tr>\n    <tr>\n      <th>3648</th>\n      <td>2020-07-27</td>\n      <td>22.1</td>\n      <td>4.2</td>\n      <td>1.7</td>\n    </tr>\n    <tr>\n      <th>3649</th>\n      <td>2020-07-28</td>\n      <td>21.9</td>\n      <td>4.5</td>\n      <td>1.6</td>\n    </tr>\n    <tr>\n      <th>3650</th>\n      <td>2020-07-29</td>\n      <td>21.6</td>\n      <td>3.2</td>\n      <td>1.0</td>\n    </tr>\n    <tr>\n      <th>3651</th>\n      <td>2020-07-30</td>\n      <td>22.9</td>\n      <td>9.7</td>\n      <td>2.4</td>\n    </tr>\n    <tr>\n      <th>3652</th>\n      <td>2020-07-31</td>\n      <td>25.7</td>\n      <td>4.8</td>\n      <td>2.5</td>\n    </tr>\n  </tbody>\n</table>\n<p>3653 rows × 4 columns</p>\n</div>"
     },
     "execution_count": 25,
     "metadata": {},
     "output_type": "execute_result"
    }
   ],
   "source": [
    "df"
   ],
   "metadata": {
    "collapsed": false,
    "ExecuteTime": {
     "end_time": "2024-03-14T14:15:54.070946Z",
     "start_time": "2024-03-14T14:15:54.055217Z"
    }
   },
   "id": "8511e22a7f98f923",
   "execution_count": 25
  },
  {
   "cell_type": "markdown",
   "source": [
    "### 2) df.shape"
   ],
   "metadata": {
    "collapsed": false
   },
   "id": "391fbe09239b5729"
  },
  {
   "cell_type": "code",
   "outputs": [
    {
     "data": {
      "text/plain": "(3653, 4)"
     },
     "execution_count": 26,
     "metadata": {},
     "output_type": "execute_result"
    }
   ],
   "source": [
    "# shape 속성을 이용하면 데이터의 (행, 열) 크기를 확인할 수 있음.\n",
    "\n",
    "# 행, 열 크기 확인하기\n",
    "df.shape  # (3653, 4)"
   ],
   "metadata": {
    "collapsed": false,
    "ExecuteTime": {
     "end_time": "2024-03-14T14:15:54.119403Z",
     "start_time": "2024-03-14T14:15:54.109720Z"
    }
   },
   "id": "d4bb52716ddde29c",
   "execution_count": 26
  },
  {
   "cell_type": "code",
   "outputs": [
    {
     "data": {
      "text/plain": "3653"
     },
     "execution_count": 27,
     "metadata": {},
     "output_type": "execute_result"
    }
   ],
   "source": [
    "df.shape[0]\n",
    "# df.shape[1]"
   ],
   "metadata": {
    "collapsed": false,
    "ExecuteTime": {
     "end_time": "2024-03-14T14:15:54.170127Z",
     "start_time": "2024-03-14T14:15:54.162346Z"
    }
   },
   "id": "d6b63c0971c49d6a",
   "execution_count": 27
  },
  {
   "cell_type": "markdown",
   "source": [
    "### 3) df.info()"
   ],
   "metadata": {
    "collapsed": false
   },
   "id": "24888cdffe3896fa"
  },
  {
   "cell_type": "code",
   "outputs": [
    {
     "name": "stdout",
     "output_type": "stream",
     "text": [
      "<class 'pandas.core.frame.DataFrame'>\n",
      "RangeIndex: 3653 entries, 0 to 3652\n",
      "Data columns (total 4 columns):\n",
      " #   Column     Non-Null Count  Dtype  \n",
      "---  ------     --------------  -----  \n",
      " 0   date       3653 non-null   object \n",
      " 1   temp       3653 non-null   float64\n",
      " 2   max_wind   3649 non-null   float64\n",
      " 3   mean_wind  3647 non-null   float64\n",
      "dtypes: float64(3), object(1)\n",
      "memory usage: 114.3+ KB\n"
     ]
    }
   ],
   "source": [
    "# info() 메서드는 데이터에 대한 전반적인 정보를 나타냄.\n",
    "# df 를 구성하는 행과 열의 크기, 컬럼명, 컬럼을 구성하는 값의 자료형을 출력해 줌.\n",
    "\n",
    "df.info()\n",
    "# 3653개수인데 3649 max_wind가 찍혀있다는건 4개의 값이 비었다는 것. mean_wind의 경우도 6개의 null 값이 있다는 말임\n"
   ],
   "metadata": {
    "collapsed": false,
    "ExecuteTime": {
     "end_time": "2024-03-14T14:15:54.243367Z",
     "start_time": "2024-03-14T14:15:54.225151Z"
    }
   },
   "id": "2445555a5e159802",
   "execution_count": 28
  },
  {
   "cell_type": "code",
   "outputs": [],
   "source": [
    "#  -> 데이터 개수 n= 3653 entry, 행 인덱스 번호 0 to 3652\n",
    "# 열 변수 출력 형식 : 실수 float, 문자열 object\n",
    "# 결측치 개수가 나타남 : max_wind, mean_wind 변수에 결측치가 있음."
   ],
   "metadata": {
    "collapsed": false,
    "ExecuteTime": {
     "end_time": "2024-03-14T14:15:54.462990Z",
     "start_time": "2024-03-14T14:15:54.456976Z"
    }
   },
   "id": "65a65fbb8ff67479",
   "execution_count": 29
  },
  {
   "cell_type": "markdown",
   "source": [
    "### 4) df.head(), df.tail()"
   ],
   "metadata": {
    "collapsed": false
   },
   "id": "e073c3f1b37c5c77"
  },
  {
   "cell_type": "code",
   "outputs": [
    {
     "data": {
      "text/plain": "         date  temp  max_wind  mean_wind\n0  2010-08-01  28.7       8.3        3.4\n1  2010-08-02  25.2       8.7        3.8\n2  2010-08-03  22.1       6.3        2.9\n3  2010-08-04  25.3       6.6        4.2\n4  2010-08-05  27.2       9.1        5.6",
      "text/html": "<div>\n<style scoped>\n    .dataframe tbody tr th:only-of-type {\n        vertical-align: middle;\n    }\n\n    .dataframe tbody tr th {\n        vertical-align: top;\n    }\n\n    .dataframe thead th {\n        text-align: right;\n    }\n</style>\n<table border=\"1\" class=\"dataframe\">\n  <thead>\n    <tr style=\"text-align: right;\">\n      <th></th>\n      <th>date</th>\n      <th>temp</th>\n      <th>max_wind</th>\n      <th>mean_wind</th>\n    </tr>\n  </thead>\n  <tbody>\n    <tr>\n      <th>0</th>\n      <td>2010-08-01</td>\n      <td>28.7</td>\n      <td>8.3</td>\n      <td>3.4</td>\n    </tr>\n    <tr>\n      <th>1</th>\n      <td>2010-08-02</td>\n      <td>25.2</td>\n      <td>8.7</td>\n      <td>3.8</td>\n    </tr>\n    <tr>\n      <th>2</th>\n      <td>2010-08-03</td>\n      <td>22.1</td>\n      <td>6.3</td>\n      <td>2.9</td>\n    </tr>\n    <tr>\n      <th>3</th>\n      <td>2010-08-04</td>\n      <td>25.3</td>\n      <td>6.6</td>\n      <td>4.2</td>\n    </tr>\n    <tr>\n      <th>4</th>\n      <td>2010-08-05</td>\n      <td>27.2</td>\n      <td>9.1</td>\n      <td>5.6</td>\n    </tr>\n  </tbody>\n</table>\n</div>"
     },
     "execution_count": 30,
     "metadata": {},
     "output_type": "execute_result"
    }
   ],
   "source": [
    "# 데이터를 잘 불러 왔는지 확인하기 위해 앞 부분과 마지막 부분을 확인\n",
    "\n",
    "# 상위 n 행 살펴보기\n",
    "df.head()\n",
    "# 전체를 불러오는 행위는 너무 하드하니 실제론 이렇게 일단 실행해서 봄"
   ],
   "metadata": {
    "collapsed": false,
    "ExecuteTime": {
     "end_time": "2024-03-14T14:15:54.538702Z",
     "start_time": "2024-03-14T14:15:54.526448Z"
    }
   },
   "id": "763f292b4e535a14",
   "execution_count": 30
  },
  {
   "cell_type": "code",
   "outputs": [
    {
     "data": {
      "text/plain": "            date  temp  max_wind  mean_wind\n3648  2020-07-27  22.1       4.2        1.7\n3649  2020-07-28  21.9       4.5        1.6\n3650  2020-07-29  21.6       3.2        1.0\n3651  2020-07-30  22.9       9.7        2.4\n3652  2020-07-31  25.7       4.8        2.5",
      "text/html": "<div>\n<style scoped>\n    .dataframe tbody tr th:only-of-type {\n        vertical-align: middle;\n    }\n\n    .dataframe tbody tr th {\n        vertical-align: top;\n    }\n\n    .dataframe thead th {\n        text-align: right;\n    }\n</style>\n<table border=\"1\" class=\"dataframe\">\n  <thead>\n    <tr style=\"text-align: right;\">\n      <th></th>\n      <th>date</th>\n      <th>temp</th>\n      <th>max_wind</th>\n      <th>mean_wind</th>\n    </tr>\n  </thead>\n  <tbody>\n    <tr>\n      <th>3648</th>\n      <td>2020-07-27</td>\n      <td>22.1</td>\n      <td>4.2</td>\n      <td>1.7</td>\n    </tr>\n    <tr>\n      <th>3649</th>\n      <td>2020-07-28</td>\n      <td>21.9</td>\n      <td>4.5</td>\n      <td>1.6</td>\n    </tr>\n    <tr>\n      <th>3650</th>\n      <td>2020-07-29</td>\n      <td>21.6</td>\n      <td>3.2</td>\n      <td>1.0</td>\n    </tr>\n    <tr>\n      <th>3651</th>\n      <td>2020-07-30</td>\n      <td>22.9</td>\n      <td>9.7</td>\n      <td>2.4</td>\n    </tr>\n    <tr>\n      <th>3652</th>\n      <td>2020-07-31</td>\n      <td>25.7</td>\n      <td>4.8</td>\n      <td>2.5</td>\n    </tr>\n  </tbody>\n</table>\n</div>"
     },
     "execution_count": 31,
     "metadata": {},
     "output_type": "execute_result"
    }
   ],
   "source": [
    "# 하위 n 행 살펴보기\n",
    "df.tail()"
   ],
   "metadata": {
    "collapsed": false,
    "ExecuteTime": {
     "end_time": "2024-03-14T14:15:54.613415Z",
     "start_time": "2024-03-14T14:15:54.597606Z"
    }
   },
   "id": "b316f07f76697f9",
   "execution_count": 31
  },
  {
   "cell_type": "code",
   "outputs": [],
   "source": [
    "# head() 는 상위 5개 행을 출력하고, tail() 은 하위 5개 행을 출력함.\n",
    "# 괄호() 안에 원하는 숫자를 넣으면 그 숫자만큼 행을 출력함\n"
   ],
   "metadata": {
    "collapsed": false,
    "ExecuteTime": {
     "end_time": "2024-03-14T14:15:54.677449Z",
     "start_time": "2024-03-14T14:15:54.673542Z"
    }
   },
   "id": "60aad8c014e50e9b",
   "execution_count": 32
  },
  {
   "cell_type": "markdown",
   "source": [
    "### 5) df.index, df.columns"
   ],
   "metadata": {
    "collapsed": false
   },
   "id": "a41233653808af86"
  },
  {
   "cell_type": "code",
   "outputs": [
    {
     "data": {
      "text/plain": "RangeIndex(start=0, stop=3653, step=1)"
     },
     "execution_count": 33,
     "metadata": {},
     "output_type": "execute_result"
    }
   ],
   "source": [
    "# 인덱스(행 이름)과 열의 레이블(칼럼 이름)을 출력할 때 사용.\n",
    "\n",
    "# 인덱스 출력\n",
    "df.index\n",
    "# 데이터프레임의 인덱스(행 이름)을 반환. 인덱스를 따로 지정하지 않았기 때문에 0부터 시작하는 인덱스가 부여."
   ],
   "metadata": {
    "collapsed": false,
    "ExecuteTime": {
     "end_time": "2024-03-14T14:15:54.742125Z",
     "start_time": "2024-03-14T14:15:54.736017Z"
    }
   },
   "id": "a0aae89f30a8898",
   "execution_count": 33
  },
  {
   "cell_type": "code",
   "outputs": [
    {
     "data": {
      "text/plain": "Index(['date', 'temp', 'max_wind', 'mean_wind'], dtype='object')"
     },
     "execution_count": 34,
     "metadata": {},
     "output_type": "execute_result"
    }
   ],
   "source": [
    "# 칼럼 출력\n",
    "df.columns"
   ],
   "metadata": {
    "collapsed": false,
    "ExecuteTime": {
     "end_time": "2024-03-14T14:15:54.873538Z",
     "start_time": "2024-03-14T14:15:54.865982Z"
    }
   },
   "id": "32c0fafd80deb1e",
   "execution_count": 34
  },
  {
   "cell_type": "code",
   "outputs": [],
   "source": [
    "# 해당 데이터프레임을 구성하는 컬럼명을 확인할 수 있음.\n",
    "# 컬럼명을 변경할 때도 유용하게 사용."
   ],
   "metadata": {
    "collapsed": false,
    "ExecuteTime": {
     "end_time": "2024-03-14T14:15:55.110360Z",
     "start_time": "2024-03-14T14:15:55.107269Z"
    }
   },
   "id": "310f6ee72662ed2c",
   "execution_count": 35
  },
  {
   "cell_type": "markdown",
   "source": [
    "### 6). df.describe()"
   ],
   "metadata": {
    "collapsed": false
   },
   "id": "b5258489023936fb"
  },
  {
   "cell_type": "code",
   "outputs": [
    {
     "data": {
      "text/plain": "              temp     max_wind    mean_wind\ncount  3653.000000  3649.000000  3647.000000\nmean     12.942102     7.911099     3.936441\nstd       8.538507     3.029862     1.888473\nmin      -9.000000     2.000000     0.200000\n25%       5.400000     5.700000     2.500000\n50%      13.800000     7.600000     3.600000\n75%      20.100000     9.700000     5.000000\nmax      31.300000    26.000000    14.900000",
      "text/html": "<div>\n<style scoped>\n    .dataframe tbody tr th:only-of-type {\n        vertical-align: middle;\n    }\n\n    .dataframe tbody tr th {\n        vertical-align: top;\n    }\n\n    .dataframe thead th {\n        text-align: right;\n    }\n</style>\n<table border=\"1\" class=\"dataframe\">\n  <thead>\n    <tr style=\"text-align: right;\">\n      <th></th>\n      <th>temp</th>\n      <th>max_wind</th>\n      <th>mean_wind</th>\n    </tr>\n  </thead>\n  <tbody>\n    <tr>\n      <th>count</th>\n      <td>3653.000000</td>\n      <td>3649.000000</td>\n      <td>3647.000000</td>\n    </tr>\n    <tr>\n      <th>mean</th>\n      <td>12.942102</td>\n      <td>7.911099</td>\n      <td>3.936441</td>\n    </tr>\n    <tr>\n      <th>std</th>\n      <td>8.538507</td>\n      <td>3.029862</td>\n      <td>1.888473</td>\n    </tr>\n    <tr>\n      <th>min</th>\n      <td>-9.000000</td>\n      <td>2.000000</td>\n      <td>0.200000</td>\n    </tr>\n    <tr>\n      <th>25%</th>\n      <td>5.400000</td>\n      <td>5.700000</td>\n      <td>2.500000</td>\n    </tr>\n    <tr>\n      <th>50%</th>\n      <td>13.800000</td>\n      <td>7.600000</td>\n      <td>3.600000</td>\n    </tr>\n    <tr>\n      <th>75%</th>\n      <td>20.100000</td>\n      <td>9.700000</td>\n      <td>5.000000</td>\n    </tr>\n    <tr>\n      <th>max</th>\n      <td>31.300000</td>\n      <td>26.000000</td>\n      <td>14.900000</td>\n    </tr>\n  </tbody>\n</table>\n</div>"
     },
     "execution_count": 36,
     "metadata": {},
     "output_type": "execute_result"
    }
   ],
   "source": [
    "# 데이터의 컬럼별 요약 통계량을 나타냄.\n",
    "# 또한 mean(), max() 등 개별 함수를 사용하여 통계량을 계산할 수 있음.\n",
    "\n",
    "# 요약 통계량 확인하기\n",
    "df.describe()  # 컬럼은 4개임, 수치형이3개 수치형만 들고와서 1개믄 없는 것처럼 보이는거"
   ],
   "metadata": {
    "collapsed": false,
    "ExecuteTime": {
     "end_time": "2024-03-14T14:15:55.159330Z",
     "start_time": "2024-03-14T14:15:55.139492Z"
    }
   },
   "id": "8ec4af5ac1c2920e",
   "execution_count": 36
  },
  {
   "cell_type": "markdown",
   "source": [
    "### 7) df.sort_values()"
   ],
   "metadata": {
    "collapsed": false
   },
   "id": "28d2471934d4be2a"
  },
  {
   "cell_type": "code",
   "outputs": [],
   "source": [
    "# 데이터를 크기 순으로 정렬.\n",
    "\n",
    "# 형식\n",
    "# DataFrame.sort_values(by=['정렬변수1','정렬변수2'...], ascending=True, inplace=False)\n",
    "# by=[] : by= 을 사용하지 않아도 됨.\n",
    "# ascending=True : True가 기본 값이고 오름차순 정렬. 내림차순 정렬일 경우에는 False 사용.\n",
    "# inplace=False : True 이면 정렬 결과가 동일 데이터프레임 이름으로 저장. 기본 값은 False."
   ],
   "metadata": {
    "collapsed": false,
    "ExecuteTime": {
     "end_time": "2024-03-14T14:15:55.239516Z",
     "start_time": "2024-03-14T14:15:55.234464Z"
    }
   },
   "id": "6038f2433e1acea1",
   "execution_count": 37
  },
  {
   "cell_type": "code",
   "outputs": [
    {
     "data": {
      "text/plain": "            date  temp  max_wind  mean_wind\n1514  2014-09-23  20.7       2.0        1.0\n1134  2013-09-08  20.4       2.1        0.8\n421   2011-09-26  18.7       2.1        0.3\n1512  2014-09-21  20.4       2.2        1.2\n1005  2013-05-02   7.1       2.2        0.8\n...          ...   ...       ...        ...\n2988  2018-10-06  19.4      26.0        7.0\n559   2012-02-11  -0.7       NaN        NaN\n560   2012-02-12   0.4       NaN        NaN\n561   2012-02-13   4.0       NaN        NaN\n3183  2019-04-19   7.8       NaN        2.3\n\n[3653 rows x 4 columns]",
      "text/html": "<div>\n<style scoped>\n    .dataframe tbody tr th:only-of-type {\n        vertical-align: middle;\n    }\n\n    .dataframe tbody tr th {\n        vertical-align: top;\n    }\n\n    .dataframe thead th {\n        text-align: right;\n    }\n</style>\n<table border=\"1\" class=\"dataframe\">\n  <thead>\n    <tr style=\"text-align: right;\">\n      <th></th>\n      <th>date</th>\n      <th>temp</th>\n      <th>max_wind</th>\n      <th>mean_wind</th>\n    </tr>\n  </thead>\n  <tbody>\n    <tr>\n      <th>1514</th>\n      <td>2014-09-23</td>\n      <td>20.7</td>\n      <td>2.0</td>\n      <td>1.0</td>\n    </tr>\n    <tr>\n      <th>1134</th>\n      <td>2013-09-08</td>\n      <td>20.4</td>\n      <td>2.1</td>\n      <td>0.8</td>\n    </tr>\n    <tr>\n      <th>421</th>\n      <td>2011-09-26</td>\n      <td>18.7</td>\n      <td>2.1</td>\n      <td>0.3</td>\n    </tr>\n    <tr>\n      <th>1512</th>\n      <td>2014-09-21</td>\n      <td>20.4</td>\n      <td>2.2</td>\n      <td>1.2</td>\n    </tr>\n    <tr>\n      <th>1005</th>\n      <td>2013-05-02</td>\n      <td>7.1</td>\n      <td>2.2</td>\n      <td>0.8</td>\n    </tr>\n    <tr>\n      <th>...</th>\n      <td>...</td>\n      <td>...</td>\n      <td>...</td>\n      <td>...</td>\n    </tr>\n    <tr>\n      <th>2988</th>\n      <td>2018-10-06</td>\n      <td>19.4</td>\n      <td>26.0</td>\n      <td>7.0</td>\n    </tr>\n    <tr>\n      <th>559</th>\n      <td>2012-02-11</td>\n      <td>-0.7</td>\n      <td>NaN</td>\n      <td>NaN</td>\n    </tr>\n    <tr>\n      <th>560</th>\n      <td>2012-02-12</td>\n      <td>0.4</td>\n      <td>NaN</td>\n      <td>NaN</td>\n    </tr>\n    <tr>\n      <th>561</th>\n      <td>2012-02-13</td>\n      <td>4.0</td>\n      <td>NaN</td>\n      <td>NaN</td>\n    </tr>\n    <tr>\n      <th>3183</th>\n      <td>2019-04-19</td>\n      <td>7.8</td>\n      <td>NaN</td>\n      <td>2.3</td>\n    </tr>\n  </tbody>\n</table>\n<p>3653 rows × 4 columns</p>\n</div>"
     },
     "execution_count": 38,
     "metadata": {},
     "output_type": "execute_result"
    }
   ],
   "source": [
    "# 최대 풍속 max_wind 컬럼의 값의 크기에 따라 오름차순 정렬\n",
    "df.sort_values(['max_wind'])  # 1차기준값max_wind가 같을 경우 기본 인덱스값 순서로 정렬함"
   ],
   "metadata": {
    "collapsed": false,
    "ExecuteTime": {
     "end_time": "2024-03-14T14:15:55.273950Z",
     "start_time": "2024-03-14T14:15:55.257836Z"
    }
   },
   "id": "4a1bb13931de26b7",
   "execution_count": 38
  },
  {
   "cell_type": "code",
   "outputs": [
    {
     "data": {
      "text/plain": "            date  temp  max_wind  mean_wind\n2988  2018-10-06  19.4      26.0        7.0\n3340  2019-09-23  15.0      25.8       11.0\n1850  2015-08-25  20.1      25.3       14.9\n3339  2019-09-22  15.7      23.1       11.9\n1851  2015-08-26  17.4      22.6        8.1\n...          ...   ...       ...        ...\n1514  2014-09-23  20.7       2.0        1.0\n559   2012-02-11  -0.7       NaN        NaN\n560   2012-02-12   0.4       NaN        NaN\n561   2012-02-13   4.0       NaN        NaN\n3183  2019-04-19   7.8       NaN        2.3\n\n[3653 rows x 4 columns]",
      "text/html": "<div>\n<style scoped>\n    .dataframe tbody tr th:only-of-type {\n        vertical-align: middle;\n    }\n\n    .dataframe tbody tr th {\n        vertical-align: top;\n    }\n\n    .dataframe thead th {\n        text-align: right;\n    }\n</style>\n<table border=\"1\" class=\"dataframe\">\n  <thead>\n    <tr style=\"text-align: right;\">\n      <th></th>\n      <th>date</th>\n      <th>temp</th>\n      <th>max_wind</th>\n      <th>mean_wind</th>\n    </tr>\n  </thead>\n  <tbody>\n    <tr>\n      <th>2988</th>\n      <td>2018-10-06</td>\n      <td>19.4</td>\n      <td>26.0</td>\n      <td>7.0</td>\n    </tr>\n    <tr>\n      <th>3340</th>\n      <td>2019-09-23</td>\n      <td>15.0</td>\n      <td>25.8</td>\n      <td>11.0</td>\n    </tr>\n    <tr>\n      <th>1850</th>\n      <td>2015-08-25</td>\n      <td>20.1</td>\n      <td>25.3</td>\n      <td>14.9</td>\n    </tr>\n    <tr>\n      <th>3339</th>\n      <td>2019-09-22</td>\n      <td>15.7</td>\n      <td>23.1</td>\n      <td>11.9</td>\n    </tr>\n    <tr>\n      <th>1851</th>\n      <td>2015-08-26</td>\n      <td>17.4</td>\n      <td>22.6</td>\n      <td>8.1</td>\n    </tr>\n    <tr>\n      <th>...</th>\n      <td>...</td>\n      <td>...</td>\n      <td>...</td>\n      <td>...</td>\n    </tr>\n    <tr>\n      <th>1514</th>\n      <td>2014-09-23</td>\n      <td>20.7</td>\n      <td>2.0</td>\n      <td>1.0</td>\n    </tr>\n    <tr>\n      <th>559</th>\n      <td>2012-02-11</td>\n      <td>-0.7</td>\n      <td>NaN</td>\n      <td>NaN</td>\n    </tr>\n    <tr>\n      <th>560</th>\n      <td>2012-02-12</td>\n      <td>0.4</td>\n      <td>NaN</td>\n      <td>NaN</td>\n    </tr>\n    <tr>\n      <th>561</th>\n      <td>2012-02-13</td>\n      <td>4.0</td>\n      <td>NaN</td>\n      <td>NaN</td>\n    </tr>\n    <tr>\n      <th>3183</th>\n      <td>2019-04-19</td>\n      <td>7.8</td>\n      <td>NaN</td>\n      <td>2.3</td>\n    </tr>\n  </tbody>\n</table>\n<p>3653 rows × 4 columns</p>\n</div>"
     },
     "execution_count": 39,
     "metadata": {},
     "output_type": "execute_result"
    }
   ],
   "source": [
    "# 최대 풍속 max_wind 컬럼의 값의 크기에 따라 내림차순 정렬\n",
    "df.sort_values(['max_wind'], ascending=False)"
   ],
   "metadata": {
    "collapsed": false,
    "ExecuteTime": {
     "end_time": "2024-03-14T14:15:55.352387Z",
     "start_time": "2024-03-14T14:15:55.338080Z"
    }
   },
   "id": "84b719d17c9bb54a",
   "execution_count": 39
  },
  {
   "cell_type": "markdown",
   "source": [
    "# 8) df.value_count()"
   ],
   "metadata": {
    "collapsed": false
   },
   "id": "b2388b8cb1b0580"
  },
  {
   "cell_type": "code",
   "outputs": [
    {
     "data": {
      "text/plain": "           job  education  balance  duration   y\n0   management   tertiary     2143       261  no\n1   technician  secondary      265       348  no\n2  blue-collar  secondary       -7       365  no\n3   technician  secondary       -3      1666  no\n4   technician  secondary     -103       145  no",
      "text/html": "<div>\n<style scoped>\n    .dataframe tbody tr th:only-of-type {\n        vertical-align: middle;\n    }\n\n    .dataframe tbody tr th {\n        vertical-align: top;\n    }\n\n    .dataframe thead th {\n        text-align: right;\n    }\n</style>\n<table border=\"1\" class=\"dataframe\">\n  <thead>\n    <tr style=\"text-align: right;\">\n      <th></th>\n      <th>job</th>\n      <th>education</th>\n      <th>balance</th>\n      <th>duration</th>\n      <th>y</th>\n    </tr>\n  </thead>\n  <tbody>\n    <tr>\n      <th>0</th>\n      <td>management</td>\n      <td>tertiary</td>\n      <td>2143</td>\n      <td>261</td>\n      <td>no</td>\n    </tr>\n    <tr>\n      <th>1</th>\n      <td>technician</td>\n      <td>secondary</td>\n      <td>265</td>\n      <td>348</td>\n      <td>no</td>\n    </tr>\n    <tr>\n      <th>2</th>\n      <td>blue-collar</td>\n      <td>secondary</td>\n      <td>-7</td>\n      <td>365</td>\n      <td>no</td>\n    </tr>\n    <tr>\n      <th>3</th>\n      <td>technician</td>\n      <td>secondary</td>\n      <td>-3</td>\n      <td>1666</td>\n      <td>no</td>\n    </tr>\n    <tr>\n      <th>4</th>\n      <td>technician</td>\n      <td>secondary</td>\n      <td>-103</td>\n      <td>145</td>\n      <td>no</td>\n    </tr>\n  </tbody>\n</table>\n</div>"
     },
     "execution_count": 40,
     "metadata": {},
     "output_type": "execute_result"
    }
   ],
   "source": [
    "# 범주형 변수의 빈도분석 결과를 출력. 즉 어떤 컬럼의 unique value(고유값)들의 개수를 구함.\n",
    "\n",
    "bank = pd.read_csv('./input/bank.csv')\n",
    "bank.head()"
   ],
   "metadata": {
    "collapsed": false,
    "ExecuteTime": {
     "end_time": "2024-03-14T14:15:55.418915Z",
     "start_time": "2024-03-14T14:15:55.397612Z"
    }
   },
   "id": "6d58ab5ea1f8d4d4",
   "execution_count": 40
  },
  {
   "cell_type": "code",
   "outputs": [
    {
     "data": {
      "text/plain": "job\nmanagement       1560\nblue-collar      1499\ntechnician       1206\nadmin.            834\nservices          661\nretired           351\nself-employed     256\nentrepreneur      239\nunemployed        223\nhousemaid         208\nstudent           153\nName: count, dtype: int64"
     },
     "execution_count": 41,
     "metadata": {},
     "output_type": "execute_result"
    }
   ],
   "source": [
    "# 빈도 분석 출력하기\n",
    "bank['job'].value_counts()  # <- 범주형 변수일 경우 자주사용함.\n",
    "# e.g ) 동구에 사는 범좌자수\n",
    "# 순서는 빈도가 높은 순으로 출력함."
   ],
   "metadata": {
    "collapsed": false,
    "ExecuteTime": {
     "end_time": "2024-03-14T14:15:55.601267Z",
     "start_time": "2024-03-14T14:15:55.592329Z"
    }
   },
   "id": "36ff514b31773fe7",
   "execution_count": 41
  },
  {
   "cell_type": "code",
   "outputs": [
    {
     "data": {
      "text/plain": "education\nsecondary    3745\ntertiary     2178\nprimary      1038\nName: count, dtype: int64"
     },
     "execution_count": 42,
     "metadata": {},
     "output_type": "execute_result"
    }
   ],
   "source": [
    "bank['education'].value_counts()\n",
    "# 알 수 있는 점\n",
    "# 교육의 범주가 3개로 나뉘는 구나\n",
    "# 각 범주의 빈도가 이렇구나"
   ],
   "metadata": {
    "collapsed": false,
    "ExecuteTime": {
     "end_time": "2024-03-14T14:15:55.713455Z",
     "start_time": "2024-03-14T14:15:55.705145Z"
    }
   },
   "id": "4ec5e5215baef569",
   "execution_count": 42
  },
  {
   "cell_type": "code",
   "outputs": [
    {
     "data": {
      "text/plain": "job\nmanagement       0.216968\nblue-collar      0.208484\ntechnician       0.167733\nadmin.           0.115994\nservices         0.091933\nretired          0.048818\nself-employed    0.035605\nentrepreneur     0.033241\nunemployed       0.031015\nhousemaid        0.028929\nstudent          0.021280\nName: proportion, dtype: float64"
     },
     "execution_count": 43,
     "metadata": {},
     "output_type": "execute_result"
    }
   ],
   "source": [
    "bank['job'].value_counts(normalize=True)  # 내림차순\n",
    "# value_count의 경우 높은 빈도순이 더 중요하기 때문에 내림차순으로 바꿔서 사용한다."
   ],
   "metadata": {
    "collapsed": false,
    "ExecuteTime": {
     "end_time": "2024-03-14T14:15:55.901131Z",
     "start_time": "2024-03-14T14:15:55.889696Z"
    }
   },
   "id": "c85a8b2cf6d7e4e8",
   "execution_count": 43
  },
  {
   "cell_type": "markdown",
   "source": [
    "`pandas`에서 `Series`의 `value_counts` 메소드는 시리즈 내의 고유한 값들이 몇 번 나타나는지를 세어줍니다. `normalize=True` 파라미터를 사용하면, 각 고유 값의 \"빈도수\" 대신 \"비율\"을 계산하여 반환합니다. 즉, 전체 관측치 중에서 각 고유 값이 차지하는 비율을 보여줍니다.\n",
    "\n",
    "기본적으로, `value_counts` 메소드는 결과를 내림차순으로 정렬하여, 가장 빈도가 높은 값부터 낮은 값 순으로 표시합니다. `normalize=True` 옵션을 추가하면, 이 내림차순 정렬은 각 값의 비율에 기반합니다.\n",
    "\n",
    "예를 들어, 어떤 데이터프레임 `bank`의 열 `job`에 여러 직업이 명시되어 있고, 각 직업별 비율을 알고 싶다면, `bank['job'].value_counts(normalize=True)` 코드를 사용합니다. 이렇게 하면, 전체 `job` 열에서 각 직업이 차지하는 비율을 내림차순으로 정렬하여 보여줍니다. \n",
    "\n",
    "결과적으로, `normalize=True`는 전체 항목 수 대비 각 고유 값의 상대적 비율을 보여주는 유용한 방법입니다."
   ],
   "metadata": {
    "collapsed": false
   },
   "id": "f94d59e287862060"
  },
  {
   "cell_type": "markdown",
   "source": [
    "### 9) df.unique()"
   ],
   "metadata": {
    "collapsed": false
   },
   "id": "850b887bf907c3ab"
  },
  {
   "cell_type": "code",
   "outputs": [
    {
     "data": {
      "text/plain": "array(['management', 'technician', 'blue-collar', 'retired', 'services',\n       'admin.', 'entrepreneur', 'self-employed', 'unemployed', 'student',\n       nan, 'housemaid'], dtype=object)"
     },
     "execution_count": 44,
     "metadata": {},
     "output_type": "execute_result"
    }
   ],
   "source": [
    "# 데이터가 무엇으로 구성되어 있는지 보고 싶을때 사용. 열의 고유값을 볼 수 있음.\n",
    "\n",
    "# column의 고유값 출력하기\n",
    "bank['job'].unique()  # <-- value_count 로도 확인이 가능해서 잘 사용하지는 않음.ㄴ"
   ],
   "metadata": {
    "collapsed": false,
    "ExecuteTime": {
     "end_time": "2024-03-14T14:15:55.984582Z",
     "start_time": "2024-03-14T14:15:55.976859Z"
    }
   },
   "id": "a793251ced266dbe",
   "execution_count": 44
  }
 ],
 "metadata": {
  "kernelspec": {
   "display_name": "Python 3",
   "language": "python",
   "name": "python3"
  },
  "language_info": {
   "codemirror_mode": {
    "name": "ipython",
    "version": 2
   },
   "file_extension": ".py",
   "mimetype": "text/x-python",
   "name": "python",
   "nbconvert_exporter": "python",
   "pygments_lexer": "ipython2",
   "version": "2.7.6"
  }
 },
 "nbformat": 4,
 "nbformat_minor": 5
}
