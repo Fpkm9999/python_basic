{
 "cells": [
  {
   "cell_type": "markdown",
   "source": [
    "### 05. 판다스 결측 데이터 처리하기"
   ],
   "metadata": {
    "collapsed": false
   },
   "id": "a029c5143ffe9a82"
  },
  {
   "cell_type": "code",
   "execution_count": 29,
   "id": "initial_id",
   "metadata": {
    "collapsed": true,
    "ExecuteTime": {
     "end_time": "2024-03-12T06:52:24.281230Z",
     "start_time": "2024-03-12T06:52:24.269867Z"
    }
   },
   "outputs": [],
   "source": [
    "# Pandas 는 누락된 데이터를 표시할 때 NaN (Not a Number)으로 표기하며, 연산에는 포함되지 않음."
   ]
  },
  {
   "cell_type": "code",
   "outputs": [],
   "source": [
    "import pandas as pd"
   ],
   "metadata": {
    "collapsed": false,
    "ExecuteTime": {
     "end_time": "2024-03-12T06:52:24.409852Z",
     "start_time": "2024-03-12T06:52:24.395630Z"
    }
   },
   "id": "4c1e851f3446c966",
   "execution_count": 30
  },
  {
   "cell_type": "code",
   "outputs": [
    {
     "data": {
      "text/plain": "            temp  max_wind  mean_wind\ndate                                 \n2010-08-01  28.7       8.3        3.4\n2010-08-02  25.2       8.7        3.8\n2010-08-03  22.1       6.3        2.9\n2010-08-04  25.3       6.6        4.2\n2010-08-05  27.2       9.1        5.6",
      "text/html": "<div>\n<style scoped>\n    .dataframe tbody tr th:only-of-type {\n        vertical-align: middle;\n    }\n\n    .dataframe tbody tr th {\n        vertical-align: top;\n    }\n\n    .dataframe thead th {\n        text-align: right;\n    }\n</style>\n<table border=\"1\" class=\"dataframe\">\n  <thead>\n    <tr style=\"text-align: right;\">\n      <th></th>\n      <th>temp</th>\n      <th>max_wind</th>\n      <th>mean_wind</th>\n    </tr>\n    <tr>\n      <th>date</th>\n      <th></th>\n      <th></th>\n      <th></th>\n    </tr>\n  </thead>\n  <tbody>\n    <tr>\n      <th>2010-08-01</th>\n      <td>28.7</td>\n      <td>8.3</td>\n      <td>3.4</td>\n    </tr>\n    <tr>\n      <th>2010-08-02</th>\n      <td>25.2</td>\n      <td>8.7</td>\n      <td>3.8</td>\n    </tr>\n    <tr>\n      <th>2010-08-03</th>\n      <td>22.1</td>\n      <td>6.3</td>\n      <td>2.9</td>\n    </tr>\n    <tr>\n      <th>2010-08-04</th>\n      <td>25.3</td>\n      <td>6.6</td>\n      <td>4.2</td>\n    </tr>\n    <tr>\n      <th>2010-08-05</th>\n      <td>27.2</td>\n      <td>9.1</td>\n      <td>5.6</td>\n    </tr>\n  </tbody>\n</table>\n</div>"
     },
     "execution_count": 31,
     "metadata": {},
     "output_type": "execute_result"
    }
   ],
   "source": [
    "df = pd.read_csv('../input/weather.csv', index_col='date')\n",
    "df.head()"
   ],
   "metadata": {
    "collapsed": false,
    "ExecuteTime": {
     "end_time": "2024-03-12T06:52:24.450288Z",
     "start_time": "2024-03-12T06:52:24.422029Z"
    }
   },
   "id": "26b5f0a3baa54d0c",
   "execution_count": 31
  },
  {
   "cell_type": "code",
   "outputs": [
    {
     "name": "stdout",
     "output_type": "stream",
     "text": [
      "<class 'pandas.core.frame.DataFrame'>\n",
      "Index: 3653 entries, 2010-08-01 to 2020-07-31\n",
      "Data columns (total 3 columns):\n",
      " #   Column     Non-Null Count  Dtype  \n",
      "---  ------     --------------  -----  \n",
      " 0   temp       3653 non-null   float64\n",
      " 1   max_wind   3649 non-null   float64\n",
      " 2   mean_wind  3647 non-null   float64\n",
      "dtypes: float64(3)\n",
      "memory usage: 114.2+ KB\n"
     ]
    }
   ],
   "source": [
    "df.info()"
   ],
   "metadata": {
    "collapsed": false,
    "ExecuteTime": {
     "end_time": "2024-03-12T06:52:24.464169Z",
     "start_time": "2024-03-12T06:52:24.452396Z"
    }
   },
   "id": "ecd6b7be428fbb94",
   "execution_count": 32
  },
  {
   "cell_type": "markdown",
   "source": [
    "### 1) 결측 데이터 확인"
   ],
   "metadata": {
    "collapsed": false
   },
   "id": "a38ae8ec0497bd8e"
  },
  {
   "cell_type": "code",
   "outputs": [
    {
     "data": {
      "text/plain": "            temp  max_wind  mean_wind\ndate                                 \n2012-02-11  -0.7       NaN        NaN\n2012-02-12   0.4       NaN        NaN\n2012-02-13   4.0       NaN        NaN\n2019-04-19   7.8       NaN        2.3",
      "text/html": "<div>\n<style scoped>\n    .dataframe tbody tr th:only-of-type {\n        vertical-align: middle;\n    }\n\n    .dataframe tbody tr th {\n        vertical-align: top;\n    }\n\n    .dataframe thead th {\n        text-align: right;\n    }\n</style>\n<table border=\"1\" class=\"dataframe\">\n  <thead>\n    <tr style=\"text-align: right;\">\n      <th></th>\n      <th>temp</th>\n      <th>max_wind</th>\n      <th>mean_wind</th>\n    </tr>\n    <tr>\n      <th>date</th>\n      <th></th>\n      <th></th>\n      <th></th>\n    </tr>\n  </thead>\n  <tbody>\n    <tr>\n      <th>2012-02-11</th>\n      <td>-0.7</td>\n      <td>NaN</td>\n      <td>NaN</td>\n    </tr>\n    <tr>\n      <th>2012-02-12</th>\n      <td>0.4</td>\n      <td>NaN</td>\n      <td>NaN</td>\n    </tr>\n    <tr>\n      <th>2012-02-13</th>\n      <td>4.0</td>\n      <td>NaN</td>\n      <td>NaN</td>\n    </tr>\n    <tr>\n      <th>2019-04-19</th>\n      <td>7.8</td>\n      <td>NaN</td>\n      <td>2.3</td>\n    </tr>\n  </tbody>\n</table>\n</div>"
     },
     "execution_count": 33,
     "metadata": {},
     "output_type": "execute_result"
    }
   ],
   "source": [
    "# 최고풍속이 측정되지 않은 모든 데이터 출력\n",
    "# isna() 메서드는 값이 NaN일 떄 True, 아닌 경우엔 False 반환.\n",
    "df[df['max_wind'].isna()]   # <--  이것도 어떻게 보면 불인덱싱이나 다름없다. \n"
   ],
   "metadata": {
    "collapsed": false,
    "ExecuteTime": {
     "end_time": "2024-03-12T06:52:24.495154Z",
     "start_time": "2024-03-12T06:52:24.465269Z"
    }
   },
   "id": "db08a66df715bd50",
   "execution_count": 33
  },
  {
   "cell_type": "code",
   "outputs": [
    {
     "data": {
      "text/plain": "            temp  max_wind  mean_wind\ndate                                 \n2012-02-11  -0.7       NaN        NaN\n2012-02-12   0.4       NaN        NaN\n2012-02-13   4.0       NaN        NaN\n2019-04-19   7.8       NaN        2.3",
      "text/html": "<div>\n<style scoped>\n    .dataframe tbody tr th:only-of-type {\n        vertical-align: middle;\n    }\n\n    .dataframe tbody tr th {\n        vertical-align: top;\n    }\n\n    .dataframe thead th {\n        text-align: right;\n    }\n</style>\n<table border=\"1\" class=\"dataframe\">\n  <thead>\n    <tr style=\"text-align: right;\">\n      <th></th>\n      <th>temp</th>\n      <th>max_wind</th>\n      <th>mean_wind</th>\n    </tr>\n    <tr>\n      <th>date</th>\n      <th></th>\n      <th></th>\n      <th></th>\n    </tr>\n  </thead>\n  <tbody>\n    <tr>\n      <th>2012-02-11</th>\n      <td>-0.7</td>\n      <td>NaN</td>\n      <td>NaN</td>\n    </tr>\n    <tr>\n      <th>2012-02-12</th>\n      <td>0.4</td>\n      <td>NaN</td>\n      <td>NaN</td>\n    </tr>\n    <tr>\n      <th>2012-02-13</th>\n      <td>4.0</td>\n      <td>NaN</td>\n      <td>NaN</td>\n    </tr>\n    <tr>\n      <th>2019-04-19</th>\n      <td>7.8</td>\n      <td>NaN</td>\n      <td>2.3</td>\n    </tr>\n  </tbody>\n</table>\n</div>"
     },
     "execution_count": 34,
     "metadata": {},
     "output_type": "execute_result"
    }
   ],
   "source": [
    "df[df['max_wind'].isnull()]"
   ],
   "metadata": {
    "collapsed": false,
    "ExecuteTime": {
     "end_time": "2024-03-12T06:52:24.525863Z",
     "start_time": "2024-03-12T06:52:24.498477Z"
    }
   },
   "id": "4f2cbb254f301a58",
   "execution_count": 34
  },
  {
   "cell_type": "markdown",
   "source": [
    "- isnull() 은 결측 데이터이면 True 반환, 유효한 데이터가 존재하면 False 를 반환.\n",
    "- isna(), isnull() 은 기능적으로 동일."
   ],
   "metadata": {
    "collapsed": false
   },
   "id": "e34bb5766053f126"
  },
  {
   "cell_type": "code",
   "outputs": [
    {
     "data": {
      "text/plain": "temp         0\nmax_wind     4\nmean_wind    6\ndtype: int64"
     },
     "execution_count": 35,
     "metadata": {},
     "output_type": "execute_result"
    }
   ],
   "source": [
    "# 결측 데이터 개수 확인\n",
    "df.isnull().sum()"
   ],
   "metadata": {
    "collapsed": false,
    "ExecuteTime": {
     "end_time": "2024-03-12T06:52:24.541139Z",
     "start_time": "2024-03-12T06:52:24.529054Z"
    }
   },
   "id": "938087c51f40d6a7",
   "execution_count": 35
  },
  {
   "cell_type": "code",
   "outputs": [
    {
     "data": {
      "text/plain": "temp   max_wind  mean_wind\nFalse  False     False        3646\n                 True            3\n       True      True            3\n                 False           1\nName: count, dtype: int64"
     },
     "execution_count": 36,
     "metadata": {},
     "output_type": "execute_result"
    }
   ],
   "source": [
    "df.isnull().value_counts()  # <-- 이것도 결측 데이터 개수를 볼 수 있기는하다."
   ],
   "metadata": {
    "collapsed": false,
    "ExecuteTime": {
     "end_time": "2024-03-12T06:52:24.556986Z",
     "start_time": "2024-03-12T06:52:24.543329Z"
    }
   },
   "id": "db96aa6bc4055daf",
   "execution_count": 36
  },
  {
   "cell_type": "code",
   "outputs": [
    {
     "name": "stdout",
     "output_type": "stream",
     "text": [
      "<class 'pandas.core.frame.DataFrame'>\n",
      "Index: 3653 entries, 2010-08-01 to 2020-07-31\n",
      "Data columns (total 3 columns):\n",
      " #   Column     Non-Null Count  Dtype  \n",
      "---  ------     --------------  -----  \n",
      " 0   temp       3653 non-null   float64\n",
      " 1   max_wind   3649 non-null   float64\n",
      " 2   mean_wind  3647 non-null   float64\n",
      "dtypes: float64(3)\n",
      "memory usage: 243.2+ KB\n"
     ]
    }
   ],
   "source": [
    "df.info()"
   ],
   "metadata": {
    "collapsed": false,
    "ExecuteTime": {
     "end_time": "2024-03-12T06:52:24.588158Z",
     "start_time": "2024-03-12T06:52:24.564789Z"
    }
   },
   "id": "4f235ee533d30042",
   "execution_count": 37
  },
  {
   "cell_type": "code",
   "outputs": [
    {
     "data": {
      "text/plain": "temp         3653\nmax_wind     3649\nmean_wind    3647\ndtype: int64"
     },
     "execution_count": 38,
     "metadata": {},
     "output_type": "execute_result"
    }
   ],
   "source": [
    "# notnull() 은 유효한 데이터가 존재하면 True를 반환, 결측 데이터면 False 를 반환.\n",
    "df.notnull().sum() # 결측값이 "
   ],
   "metadata": {
    "collapsed": false,
    "ExecuteTime": {
     "end_time": "2024-03-12T06:52:24.618615Z",
     "start_time": "2024-03-12T06:52:24.603508Z"
    }
   },
   "id": "215c7bba6502a1e4",
   "execution_count": 38
  },
  {
   "cell_type": "markdown",
   "source": [
    "### 2) 결측 데이터 삭제하기"
   ],
   "metadata": {
    "collapsed": false
   },
   "id": "7aca508cffee9db"
  },
  {
   "cell_type": "code",
   "outputs": [],
   "source": [
    "# 결측 데이터를 다루는 가장 간단한 방법은 결측 데이터를 가진 행이나 열을 삭제.\n",
    "# 판다스에서 dropna() 를 이용하여 삭제 할 수 있음."
   ],
   "metadata": {
    "collapsed": false,
    "ExecuteTime": {
     "end_time": "2024-03-12T06:52:24.773924Z",
     "start_time": "2024-03-12T06:52:24.764505Z"
    }
   },
   "id": "a3fc3482eda2fc01",
   "execution_count": 39
  },
  {
   "cell_type": "code",
   "outputs": [],
   "source": [
    "# DataFrame.dropna(axis, how, thresh, subset, inplace)\n",
    "# axis : 축을 행 또는 열로 결정\n",
    "# 0 또는 'index'이면 누락된 값이 포함된 행을 삭제\n",
    "# 1 또는 'columns'이면 누락된 값이 포함된 열을 삭제\n",
    "# 기본적으로 값은 0\n",
    "# how : any는 null 값이 있는 경우 행 또는 열을 삭제\n",
    "# all은 모든 값이 누락된 경우 행 또는 열을 삭제\n",
    "# 기본값은 any\n",
    "# inplace : 데이터프레임에 나온 값을 저장할 것인지를 설정하는 변수로 기본적으로 값은 False"
   ],
   "metadata": {
    "collapsed": false,
    "ExecuteTime": {
     "end_time": "2024-03-12T06:52:24.868382Z",
     "start_time": "2024-03-12T06:52:24.860631Z"
    }
   },
   "id": "74b203e2042e34d8",
   "execution_count": 40
  },
  {
   "cell_type": "code",
   "outputs": [
    {
     "data": {
      "text/plain": "temp         0\nmax_wind     0\nmean_wind    0\ndtype: int64"
     },
     "execution_count": 41,
     "metadata": {},
     "output_type": "execute_result"
    }
   ],
   "source": [
    "# 결측 데이터가 있는 행 삭제 후 확인\n",
    "df2 = df.dropna()   # 옵션을 지정하지 않아서 행기준, NaN가 하나라도 있는 경우에 삭제. dropna()는 덮어쓰는건 아님 inplace가 기본적으로 False라서. 원본삭제를 하는 경우는 \n",
    "# 잘 없음. inplace=True를 하면 원본삭제가됨\n",
    "df2.isnull().sum()"
   ],
   "metadata": {
    "collapsed": false,
    "ExecuteTime": {
     "end_time": "2024-03-12T06:52:25.105473Z",
     "start_time": "2024-03-12T06:52:25.080049Z"
    }
   },
   "id": "5390391b29cb487f",
   "execution_count": 41
  },
  {
   "cell_type": "code",
   "outputs": [
    {
     "data": {
      "text/plain": "temp         0\nmax_wind     4\nmean_wind    6\ndtype: int64"
     },
     "execution_count": 42,
     "metadata": {},
     "output_type": "execute_result"
    }
   ],
   "source": [
    "# 행 데이터 중 어느 한 변수에도 결측치가 있는 경우 삭제되므로\n",
    "# 향 후 제거한 데이터프레임을 사용하려면 다른 이름으로 저장해야 함.\n",
    "df.isnull().sum()   #  <- 이걸 변수에 저장해서 결측치만 따로 사용할 수 있다."
   ],
   "metadata": {
    "collapsed": false,
    "ExecuteTime": {
     "end_time": "2024-03-12T06:52:25.136506Z",
     "start_time": "2024-03-12T06:52:25.124334Z"
    }
   },
   "id": "42cede1bbc36cbaa",
   "execution_count": 42
  },
  {
   "cell_type": "markdown",
   "source": [
    "### 3) 결측 데이터 대체하기"
   ],
   "metadata": {
    "collapsed": false
   },
   "id": "91679cf71021c4a4"
  },
  {
   "cell_type": "code",
   "outputs": [
    {
     "name": "stderr",
     "output_type": "stream",
     "text": [
      "C:\\Users\\Fpkm9\\AppData\\Local\\Temp\\ipykernel_21676\\1354390447.py:5: FutureWarning: A value is trying to be set on a copy of a DataFrame or Series through chained assignment using an inplace method.\n",
      "The behavior will change in pandas 3.0. This inplace method will never work because the intermediate object on which we are setting values always behaves as a copy.\n",
      "\n",
      "For example, when doing 'df[col].method(value, inplace=True)', try using 'df.method({col: value}, inplace=True)' or df[col] = df[col].method(value) instead, to perform the operation inplace on the original object.\n",
      "\n",
      "\n",
      "  df['mean_wind'].fillna(df['mean_wind'].mean(), inplace=True)\n"
     ]
    }
   ],
   "source": [
    "# 결측 데이터 대체하기 : 평균값으로 대체\n",
    "\n",
    "# df['max_wind'].fillna(df['max_wind'].mean(), inplace=True)\n",
    "# df.fillna({'max_wind' : df['max_wind'].mean()}, inplace=True)\n",
    "df['mean_wind'].fillna(df['mean_wind'].mean(), inplace=True)\n",
    "# fillna() 결측 데이터를 특정 값으로 채움. inplace를 True 로 설정해 원본 데이터를 수정."
   ],
   "metadata": {
    "collapsed": false,
    "ExecuteTime": {
     "end_time": "2024-03-12T07:06:40.110979Z",
     "start_time": "2024-03-12T07:06:40.101043Z"
    }
   },
   "id": "7b53a291ba0164f6",
   "execution_count": 46
  },
  {
   "cell_type": "code",
   "outputs": [
    {
     "data": {
      "text/plain": "temp         0\nmax_wind     0\nmean_wind    0\ndtype: int64"
     },
     "execution_count": 44,
     "metadata": {},
     "output_type": "execute_result"
    }
   ],
   "source": [
    "# 결측 데이터 대체 후 확인\n",
    "df.isna().sum()"
   ],
   "metadata": {
    "collapsed": false,
    "ExecuteTime": {
     "end_time": "2024-03-12T06:52:25.228544Z",
     "start_time": "2024-03-12T06:52:25.211149Z"
    }
   },
   "id": "1fe32d1e84a952cf",
   "execution_count": 44
  },
  {
   "cell_type": "markdown",
   "source": [],
   "metadata": {
    "collapsed": false
   },
   "id": "ed906a97a0ecfdc0"
  },
  {
   "cell_type": "code",
   "outputs": [],
   "source": [],
   "metadata": {
    "collapsed": false
   },
   "id": "dec4f4818b271a5c"
  }
 ],
 "metadata": {
  "kernelspec": {
   "display_name": "Python 3",
   "language": "python",
   "name": "python3"
  },
  "language_info": {
   "codemirror_mode": {
    "name": "ipython",
    "version": 2
   },
   "file_extension": ".py",
   "mimetype": "text/x-python",
   "name": "python",
   "nbconvert_exporter": "python",
   "pygments_lexer": "ipython2",
   "version": "2.7.6"
  }
 },
 "nbformat": 4,
 "nbformat_minor": 5
}
