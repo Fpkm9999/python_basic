{
 "cells": [
  {
   "cell_type": "markdown",
   "source": [
    "### 05. 데이터 파일을 읽고 쓰기.\n",
    "\n",
    "2) 표 형식의 데이터를 파일로 쓰기."
   ],
   "metadata": {
    "collapsed": false
   },
   "id": "1d6d2540f7e6a944"
  },
  {
   "cell_type": "code",
   "execution_count": 13,
   "id": "initial_id",
   "metadata": {
    "collapsed": true,
    "ExecuteTime": {
     "end_time": "2024-03-12T03:05:45.491444Z",
     "start_time": "2024-03-12T03:05:45.477065Z"
    }
   },
   "outputs": [],
   "source": [
    "import pandas as pd"
   ]
  },
  {
   "cell_type": "code",
   "outputs": [],
   "source": [
    "# to_csv()을 이용하면 DataFrame 형식의 데이터를 텍스트 파일로 저장\n",
    "# DataFrame_data.to_csv(file_name [, options] )\n",
    "# file_name 은 텍스트 파일 이르믕로 경로를 포함할 수 있음.\n",
    "# 선택사항인 options에는 구분자와 문자의 인크딩 방식 등을 지점ㅇ할 수 있고, 지정하지 않으면 구분자는 콤마가 되고, \n",
    "# 문자의 인코딩 방식은, 'utf-8' 이 됨."
   ],
   "metadata": {
    "collapsed": false,
    "ExecuteTime": {
     "end_time": "2024-03-12T03:05:45.522349Z",
     "start_time": "2024-03-12T03:05:45.510229Z"
    }
   },
   "id": "68497545642e3700",
   "execution_count": 14
  },
  {
   "cell_type": "code",
   "outputs": [
    {
     "data": {
      "text/plain": "      Weight  Height\nID_1      62     165\nID_2      67     177\nID_3      55     160\nID_4      74     180",
      "text/html": "<div>\n<style scoped>\n    .dataframe tbody tr th:only-of-type {\n        vertical-align: middle;\n    }\n\n    .dataframe tbody tr th {\n        vertical-align: top;\n    }\n\n    .dataframe thead th {\n        text-align: right;\n    }\n</style>\n<table border=\"1\" class=\"dataframe\">\n  <thead>\n    <tr style=\"text-align: right;\">\n      <th></th>\n      <th>Weight</th>\n      <th>Height</th>\n    </tr>\n  </thead>\n  <tbody>\n    <tr>\n      <th>ID_1</th>\n      <td>62</td>\n      <td>165</td>\n    </tr>\n    <tr>\n      <th>ID_2</th>\n      <td>67</td>\n      <td>177</td>\n    </tr>\n    <tr>\n      <th>ID_3</th>\n      <td>55</td>\n      <td>160</td>\n    </tr>\n    <tr>\n      <th>ID_4</th>\n      <td>74</td>\n      <td>180</td>\n    </tr>\n  </tbody>\n</table>\n</div>"
     },
     "execution_count": 15,
     "metadata": {},
     "output_type": "execute_result"
    }
   ],
   "source": [
    "# 네 명의 몸무게 Weight와 키 Height 데이터를 DataFrame 형식으로 생성.\n",
    "df_WH = pd.DataFrame({'Weight': [62, 67, 55, 74],\n",
    "                      'Height': [165, 177, 160, 180]},\n",
    "                     index=['ID_1', 'ID_2', 'ID_3', 'ID_4'])\n",
    "df_WH"
   ],
   "metadata": {
    "collapsed": false,
    "ExecuteTime": {
     "end_time": "2024-03-12T03:05:45.599278Z",
     "start_time": "2024-03-12T03:05:45.585851Z"
    }
   },
   "id": "fb84bac811fd6897",
   "execution_count": 15
  },
  {
   "cell_type": "code",
   "outputs": [
    {
     "data": {
      "text/plain": "      Weight  Height\nUser                \nID_1      62     165\nID_2      67     177\nID_3      55     160\nID_4      74     180",
      "text/html": "<div>\n<style scoped>\n    .dataframe tbody tr th:only-of-type {\n        vertical-align: middle;\n    }\n\n    .dataframe tbody tr th {\n        vertical-align: top;\n    }\n\n    .dataframe thead th {\n        text-align: right;\n    }\n</style>\n<table border=\"1\" class=\"dataframe\">\n  <thead>\n    <tr style=\"text-align: right;\">\n      <th></th>\n      <th>Weight</th>\n      <th>Height</th>\n    </tr>\n    <tr>\n      <th>User</th>\n      <th></th>\n      <th></th>\n    </tr>\n  </thead>\n  <tbody>\n    <tr>\n      <th>ID_1</th>\n      <td>62</td>\n      <td>165</td>\n    </tr>\n    <tr>\n      <th>ID_2</th>\n      <td>67</td>\n      <td>177</td>\n    </tr>\n    <tr>\n      <th>ID_3</th>\n      <td>55</td>\n      <td>160</td>\n    </tr>\n    <tr>\n      <th>ID_4</th>\n      <td>74</td>\n      <td>180</td>\n    </tr>\n  </tbody>\n</table>\n</div>"
     },
     "execution_count": 16,
     "metadata": {},
     "output_type": "execute_result"
    }
   ],
   "source": [
    "df_WH.index.name = 'User'\n",
    "df_WH"
   ],
   "metadata": {
    "collapsed": false,
    "ExecuteTime": {
     "end_time": "2024-03-12T03:05:45.629798Z",
     "start_time": "2024-03-12T03:05:45.618002Z"
    }
   },
   "id": "cd17848eac8646a4",
   "execution_count": 16
  },
  {
   "cell_type": "code",
   "outputs": [],
   "source": [
    "# 파일로 저장하기 전에 몸무게와 키를 이용해 체질량 지수 BMI 를 구해서 추가.\n",
    "# 체질량 지수 Body Mass Index 는 몸무게 Kg 과 키 m 를 이용해 측정.\n",
    "# BMI = W / H 제곱"
   ],
   "metadata": {
    "collapsed": false,
    "ExecuteTime": {
     "end_time": "2024-03-12T03:05:45.675518Z",
     "start_time": "2024-03-12T03:05:45.662111Z"
    }
   },
   "id": "b1b05f6a4efe7d0d",
   "execution_count": 17
  },
  {
   "cell_type": "code",
   "outputs": [
    {
     "data": {
      "text/plain": "User\nID_1    22.773186\nID_2    21.385936\nID_3    21.484375\nID_4    22.839506\ndtype: float64"
     },
     "execution_count": 18,
     "metadata": {},
     "output_type": "execute_result"
    }
   ],
   "source": [
    "# 키의 경우 데이터가 cm 단위에서 m 단위로 변경.\n",
    "bmi = df_WH['Weight'] / (df_WH['Height'] / 100) ** 2\n",
    "bmi"
   ],
   "metadata": {
    "collapsed": false,
    "ExecuteTime": {
     "end_time": "2024-03-12T03:05:45.721973Z",
     "start_time": "2024-03-12T03:05:45.707313Z"
    }
   },
   "id": "3855451475c70ee7",
   "execution_count": 18
  },
  {
   "cell_type": "code",
   "outputs": [
    {
     "data": {
      "text/plain": "      Weight  Height        BMI\nUser                           \nID_1      62     165  22.773186\nID_2      67     177  21.385936\nID_3      55     160  21.484375\nID_4      74     180  22.839506",
      "text/html": "<div>\n<style scoped>\n    .dataframe tbody tr th:only-of-type {\n        vertical-align: middle;\n    }\n\n    .dataframe tbody tr th {\n        vertical-align: top;\n    }\n\n    .dataframe thead th {\n        text-align: right;\n    }\n</style>\n<table border=\"1\" class=\"dataframe\">\n  <thead>\n    <tr style=\"text-align: right;\">\n      <th></th>\n      <th>Weight</th>\n      <th>Height</th>\n      <th>BMI</th>\n    </tr>\n    <tr>\n      <th>User</th>\n      <th></th>\n      <th></th>\n      <th></th>\n    </tr>\n  </thead>\n  <tbody>\n    <tr>\n      <th>ID_1</th>\n      <td>62</td>\n      <td>165</td>\n      <td>22.773186</td>\n    </tr>\n    <tr>\n      <th>ID_2</th>\n      <td>67</td>\n      <td>177</td>\n      <td>21.385936</td>\n    </tr>\n    <tr>\n      <th>ID_3</th>\n      <td>55</td>\n      <td>160</td>\n      <td>21.484375</td>\n    </tr>\n    <tr>\n      <th>ID_4</th>\n      <td>74</td>\n      <td>180</td>\n      <td>22.839506</td>\n    </tr>\n  </tbody>\n</table>\n</div>"
     },
     "execution_count": 19,
     "metadata": {},
     "output_type": "execute_result"
    }
   ],
   "source": [
    "# 체질량 지수를 df_WH에 추가\n",
    "df_WH['BMI'] = bmi\n",
    "df_WH"
   ],
   "metadata": {
    "collapsed": false,
    "ExecuteTime": {
     "end_time": "2024-03-12T03:05:45.938713Z",
     "start_time": "2024-03-12T03:05:45.918087Z"
    }
   },
   "id": "504e68a2f899fb3c",
   "execution_count": 19
  },
  {
   "cell_type": "code",
   "outputs": [],
   "source": [
    "df_WH.to_csv('../output/save_DataFrame.csv')\n",
    "# df_WH.to_csv('DDDD.csv')"
   ],
   "metadata": {
    "collapsed": false,
    "ExecuteTime": {
     "end_time": "2024-03-12T03:11:38.007451Z",
     "start_time": "2024-03-12T03:11:37.994911Z"
    }
   },
   "id": "68c8eda6c3823a56",
   "execution_count": 34
  },
  {
   "cell_type": "code",
   "outputs": [
    {
     "data": {
      "text/plain": "        판매가격  판매량\n제품번호             \nP1001   2000   32\nP1002   3000   53\nP1003   5000   40\nP1004  10000   25",
      "text/html": "<div>\n<style scoped>\n    .dataframe tbody tr th:only-of-type {\n        vertical-align: middle;\n    }\n\n    .dataframe tbody tr th {\n        vertical-align: top;\n    }\n\n    .dataframe thead th {\n        text-align: right;\n    }\n</style>\n<table border=\"1\" class=\"dataframe\">\n  <thead>\n    <tr style=\"text-align: right;\">\n      <th></th>\n      <th>판매가격</th>\n      <th>판매량</th>\n    </tr>\n    <tr>\n      <th>제품번호</th>\n      <th></th>\n      <th></th>\n    </tr>\n  </thead>\n  <tbody>\n    <tr>\n      <th>P1001</th>\n      <td>2000</td>\n      <td>32</td>\n    </tr>\n    <tr>\n      <th>P1002</th>\n      <td>3000</td>\n      <td>53</td>\n    </tr>\n    <tr>\n      <th>P1003</th>\n      <td>5000</td>\n      <td>40</td>\n    </tr>\n    <tr>\n      <th>P1004</th>\n      <td>10000</td>\n      <td>25</td>\n    </tr>\n  </tbody>\n</table>\n</div>"
     },
     "execution_count": 21,
     "metadata": {},
     "output_type": "execute_result"
    }
   ],
   "source": [
    "# DataFrame 데이터를 파일로 저장할 때 옵션응ㄹ 지정하는 예.\n",
    "# 한 회사의 제품별 판매 가격과 판매량 정보가 있는 DataFrame 데이터를 생성,\n",
    "df_pr = pd.DataFrame({'판매가격': [2000, 3000, 5000, 10000],\n",
    "                      '판매량': [32, 53, 40, 25]},\n",
    "                     index=['P1001', 'P1002', 'P1003', 'P1004'])\n",
    "df_pr.index.name = '제품번호'\n",
    "df_pr"
   ],
   "metadata": {
    "collapsed": false,
    "ExecuteTime": {
     "end_time": "2024-03-12T03:07:53.456839Z",
     "start_time": "2024-03-12T03:07:53.425425Z"
    }
   },
   "id": "7044c361d9d46ff3",
   "execution_count": 21
  },
  {
   "cell_type": "code",
   "outputs": [],
   "source": [
    "file_name = '../output/save_DataFrame_cp949.txt'\n",
    "df_pr.to_csv(file_name, sep=' ', encoding='cp949')"
   ],
   "metadata": {
    "collapsed": false,
    "ExecuteTime": {
     "end_time": "2024-03-12T03:11:43.903901Z",
     "start_time": "2024-03-12T03:11:43.891350Z"
    }
   },
   "id": "36433802f4f8bdc3",
   "execution_count": 35
  },
  {
   "cell_type": "code",
   "outputs": [],
   "source": [],
   "metadata": {
    "collapsed": false
   },
   "id": "207206a8eedd8c55"
  }
 ],
 "metadata": {
  "kernelspec": {
   "display_name": "Python 3",
   "language": "python",
   "name": "python3"
  },
  "language_info": {
   "codemirror_mode": {
    "name": "ipython",
    "version": 2
   },
   "file_extension": ".py",
   "mimetype": "text/x-python",
   "name": "python",
   "nbconvert_exporter": "python",
   "pygments_lexer": "ipython2",
   "version": "2.7.6"
  }
 },
 "nbformat": 4,
 "nbformat_minor": 5
}
