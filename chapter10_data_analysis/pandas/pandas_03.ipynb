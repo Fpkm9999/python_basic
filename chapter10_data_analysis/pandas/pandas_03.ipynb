{
 "cells": [
  {
   "cell_type": "code",
   "execution_count": 1,
   "id": "initial_id",
   "metadata": {
    "collapsed": true,
    "ExecuteTime": {
     "end_time": "2024-03-12T16:04:32.287515Z",
     "start_time": "2024-03-12T16:04:32.282470Z"
    }
   },
   "outputs": [],
   "source": [
    "# 3) DataFrame을 활용한 데이터 생성\n",
    "\n",
    "# 표 Table와 2차원 데이터 처리를 위해 DataFrame을 제공.\n",
    "# 데이터 Data를 담는 틀 Frame 이라는 뜻\n"
   ]
  },
  {
   "cell_type": "code",
   "outputs": [],
   "source": [
    "# DataFrame을 이용해 데이터를 생성하는 방법.\n",
    "# df = pd.DataFrame(data [, index = index_data, columns = columns_data])\n",
    "# data 인자에는 리스트와 형태가 유사한 데이터 타입은 모두 사용 가능.\n",
    "# 즉 리스트, 딕셔너리, numpy 의 배열 데이터, Series 나 DataFrame 타입의 데이터 입력 가능.\n",
    "# 세로축 라벨을 index 라 하고, 가로축 라벨을 columns 라고 함.\n",
    "# index 와 columns 를 제외한 부분을 values 라고 하고 values 가 관심있는 데이터"
   ],
   "metadata": {
    "collapsed": false,
    "ExecuteTime": {
     "end_time": "2024-03-12T16:04:32.299058Z",
     "start_time": "2024-03-12T16:04:32.289866Z"
    }
   },
   "id": "8552b09e1f4d8262",
   "execution_count": 2
  },
  {
   "cell_type": "code",
   "outputs": [
    {
     "data": {
      "text/plain": "   0    1    2\n0  1  2.0  3.0\n1  4  5.0  6.0\n2  7  8.0  9.0\n3  0  NaN  NaN",
      "text/html": "<div>\n<style scoped>\n    .dataframe tbody tr th:only-of-type {\n        vertical-align: middle;\n    }\n\n    .dataframe tbody tr th {\n        vertical-align: top;\n    }\n\n    .dataframe thead th {\n        text-align: right;\n    }\n</style>\n<table border=\"1\" class=\"dataframe\">\n  <thead>\n    <tr style=\"text-align: right;\">\n      <th></th>\n      <th>0</th>\n      <th>1</th>\n      <th>2</th>\n    </tr>\n  </thead>\n  <tbody>\n    <tr>\n      <th>0</th>\n      <td>1</td>\n      <td>2.0</td>\n      <td>3.0</td>\n    </tr>\n    <tr>\n      <th>1</th>\n      <td>4</td>\n      <td>5.0</td>\n      <td>6.0</td>\n    </tr>\n    <tr>\n      <th>2</th>\n      <td>7</td>\n      <td>8.0</td>\n      <td>9.0</td>\n    </tr>\n    <tr>\n      <th>3</th>\n      <td>0</td>\n      <td>NaN</td>\n      <td>NaN</td>\n    </tr>\n  </tbody>\n</table>\n</div>"
     },
     "execution_count": 3,
     "metadata": {},
     "output_type": "execute_result"
    }
   ],
   "source": [
    "import pandas as pd\n",
    "\n",
    "d1 = pd.DataFrame([[1, 2, 3], [4, 5, 6], [7, 8, 9], [0]])\n",
    "d1  # 좌측에는 자동으로 인덱스된 번호가 붙음"
   ],
   "metadata": {
    "collapsed": false,
    "ExecuteTime": {
     "end_time": "2024-03-12T16:04:33.290579Z",
     "start_time": "2024-03-12T16:04:32.301201Z"
    }
   },
   "id": "16ba83ff69dc5011",
   "execution_count": 3
  },
  {
   "cell_type": "markdown",
   "source": [
    "- values 부분에는 입력한 data가 순서대로 입력돼 있고\n",
    "- 가장 좌측의 열과 가장 윗줄의 행에는 각각 숫자가 자동으로 생성되어 index, columns를 구성.\n",
    "- 명시적으로 index와 columns를 입력하지 않더라도 자동으로 index, columns 가 생성."
   ],
   "metadata": {
    "collapsed": false
   },
   "id": "a20a863043433795"
  },
  {
   "cell_type": "code",
   "outputs": [
    {
     "name": "stdout",
     "output_type": "stream",
     "text": [
      "[[10 20 30]\n",
      " [40 50 60]\n",
      " [70 80 90]]\n"
     ]
    },
    {
     "data": {
      "text/plain": "array([[10, 20, 30],\n       [40, 50, 60],\n       [70, 80, 90]])"
     },
     "execution_count": 4,
     "metadata": {},
     "output_type": "execute_result"
    }
   ],
   "source": [
    "# numpy 의 배열 데이터를 입력해 생성한 DataFrame 데이터의 예\n",
    "import numpy as np\n",
    "\n",
    "data_list = np.array([[10, 20, 30], [40, 50, 60], [70, 80, 90]])\n",
    "print(data_list)\n",
    "data_list"
   ],
   "metadata": {
    "collapsed": false,
    "ExecuteTime": {
     "end_time": "2024-03-12T16:04:33.308727Z",
     "start_time": "2024-03-12T16:04:33.295237Z"
    }
   },
   "id": "a7af345c2311e23f",
   "execution_count": 4
  },
  {
   "cell_type": "code",
   "outputs": [
    {
     "data": {
      "text/plain": "    0   1   2\n0  10  20  30\n1  40  50  60\n2  70  80  90",
      "text/html": "<div>\n<style scoped>\n    .dataframe tbody tr th:only-of-type {\n        vertical-align: middle;\n    }\n\n    .dataframe tbody tr th {\n        vertical-align: top;\n    }\n\n    .dataframe thead th {\n        text-align: right;\n    }\n</style>\n<table border=\"1\" class=\"dataframe\">\n  <thead>\n    <tr style=\"text-align: right;\">\n      <th></th>\n      <th>0</th>\n      <th>1</th>\n      <th>2</th>\n    </tr>\n  </thead>\n  <tbody>\n    <tr>\n      <th>0</th>\n      <td>10</td>\n      <td>20</td>\n      <td>30</td>\n    </tr>\n    <tr>\n      <th>1</th>\n      <td>40</td>\n      <td>50</td>\n      <td>60</td>\n    </tr>\n    <tr>\n      <th>2</th>\n      <td>70</td>\n      <td>80</td>\n      <td>90</td>\n    </tr>\n  </tbody>\n</table>\n</div>"
     },
     "execution_count": 5,
     "metadata": {},
     "output_type": "execute_result"
    }
   ],
   "source": [
    "d2 = pd.DataFrame(data_list)\n",
    "d2"
   ],
   "metadata": {
    "collapsed": false,
    "ExecuteTime": {
     "end_time": "2024-03-12T16:04:33.327770Z",
     "start_time": "2024-03-12T16:04:33.312984Z"
    }
   },
   "id": "122da16f0f4327f1",
   "execution_count": 5
  },
  {
   "cell_type": "code",
   "outputs": [
    {
     "data": {
      "text/plain": "             A   B   C\n2019-09-01   1   2   3\n2019-09-02   4   5   6\n2019-09-03   7   8   9\n2019-09-04  10  11  12",
      "text/html": "<div>\n<style scoped>\n    .dataframe tbody tr th:only-of-type {\n        vertical-align: middle;\n    }\n\n    .dataframe tbody tr th {\n        vertical-align: top;\n    }\n\n    .dataframe thead th {\n        text-align: right;\n    }\n</style>\n<table border=\"1\" class=\"dataframe\">\n  <thead>\n    <tr style=\"text-align: right;\">\n      <th></th>\n      <th>A</th>\n      <th>B</th>\n      <th>C</th>\n    </tr>\n  </thead>\n  <tbody>\n    <tr>\n      <th>2019-09-01</th>\n      <td>1</td>\n      <td>2</td>\n      <td>3</td>\n    </tr>\n    <tr>\n      <th>2019-09-02</th>\n      <td>4</td>\n      <td>5</td>\n      <td>6</td>\n    </tr>\n    <tr>\n      <th>2019-09-03</th>\n      <td>7</td>\n      <td>8</td>\n      <td>9</td>\n    </tr>\n    <tr>\n      <th>2019-09-04</th>\n      <td>10</td>\n      <td>11</td>\n      <td>12</td>\n    </tr>\n  </tbody>\n</table>\n</div>"
     },
     "execution_count": 6,
     "metadata": {},
     "output_type": "execute_result"
    }
   ],
   "source": [
    "# data 뿐만 아니라 index와 columns 도 지정한 예\n",
    "data = np.array([[1, 2, 3], [4, 5, 6], [7, 8, 9], [10, 11, 12]])  # values   # 4행 3열\n",
    "index_data = pd.date_range(',2019-09-01', periods=4)\n",
    "column_list = ['A', 'B', 'C']\n",
    "d3 = pd.DataFrame(data=data, index=index_data, columns=column_list)\n",
    "d3"
   ],
   "metadata": {
    "collapsed": false,
    "ExecuteTime": {
     "end_time": "2024-03-12T16:04:33.353661Z",
     "start_time": "2024-03-12T16:04:33.330059Z"
    }
   },
   "id": "7a0cf5d181086d76",
   "execution_count": 6
  },
  {
   "cell_type": "code",
   "outputs": [
    {
     "data": {
      "text/plain": "     연도  지사  고객  수\n0  2015  한국    200\n1  2016  한국    250\n2  2016  미국    450\n3  2017  한국    300\n4  2017  미국    500",
      "text/html": "<div>\n<style scoped>\n    .dataframe tbody tr th:only-of-type {\n        vertical-align: middle;\n    }\n\n    .dataframe tbody tr th {\n        vertical-align: top;\n    }\n\n    .dataframe thead th {\n        text-align: right;\n    }\n</style>\n<table border=\"1\" class=\"dataframe\">\n  <thead>\n    <tr style=\"text-align: right;\">\n      <th></th>\n      <th>연도</th>\n      <th>지사</th>\n      <th>고객  수</th>\n    </tr>\n  </thead>\n  <tbody>\n    <tr>\n      <th>0</th>\n      <td>2015</td>\n      <td>한국</td>\n      <td>200</td>\n    </tr>\n    <tr>\n      <th>1</th>\n      <td>2016</td>\n      <td>한국</td>\n      <td>250</td>\n    </tr>\n    <tr>\n      <th>2</th>\n      <td>2016</td>\n      <td>미국</td>\n      <td>450</td>\n    </tr>\n    <tr>\n      <th>3</th>\n      <td>2017</td>\n      <td>한국</td>\n      <td>300</td>\n    </tr>\n    <tr>\n      <th>4</th>\n      <td>2017</td>\n      <td>미국</td>\n      <td>500</td>\n    </tr>\n  </tbody>\n</table>\n</div>"
     },
     "execution_count": 7,
     "metadata": {},
     "output_type": "execute_result"
    }
   ],
   "source": [
    "# 딕셔너리 타입으로 2차원 데이터를 입력한 예\n",
    "table_data = {'연도': [2015, 2016, 2016, 2017, 2017],\n",
    "              '지사': ['한국', '한국', '미국', '한국', '미국'],\n",
    "              '고객  수': [200, 250, 450, 300, 500]}\n",
    "d4 = pd.DataFrame(table_data)\n",
    "d4"
   ],
   "metadata": {
    "collapsed": false,
    "ExecuteTime": {
     "end_time": "2024-03-12T16:04:33.369034Z",
     "start_time": "2024-03-12T16:04:33.355728Z"
    }
   },
   "id": "4b3bf8340bd357e5",
   "execution_count": 7
  },
  {
   "cell_type": "code",
   "outputs": [],
   "source": [
    "#리스트나 넘파이 배열은 행 단위로 입력이 되고, 딕셔너리는 열 단위로 입력됨."
   ],
   "metadata": {
    "collapsed": false,
    "ExecuteTime": {
     "end_time": "2024-03-12T16:04:33.376761Z",
     "start_time": "2024-03-12T16:04:33.371102Z"
    }
   },
   "id": "b80382ba598693f7",
   "execution_count": 8
  },
  {
   "cell_type": "code",
   "outputs": [
    {
     "data": {
      "text/plain": "   지사 고객 수    연도\n0  한국  NaN  2015\n1  한국  NaN  2016\n2  미국  NaN  2016\n3  한국  NaN  2017\n4  미국  NaN  2017",
      "text/html": "<div>\n<style scoped>\n    .dataframe tbody tr th:only-of-type {\n        vertical-align: middle;\n    }\n\n    .dataframe tbody tr th {\n        vertical-align: top;\n    }\n\n    .dataframe thead th {\n        text-align: right;\n    }\n</style>\n<table border=\"1\" class=\"dataframe\">\n  <thead>\n    <tr style=\"text-align: right;\">\n      <th></th>\n      <th>지사</th>\n      <th>고객 수</th>\n      <th>연도</th>\n    </tr>\n  </thead>\n  <tbody>\n    <tr>\n      <th>0</th>\n      <td>한국</td>\n      <td>NaN</td>\n      <td>2015</td>\n    </tr>\n    <tr>\n      <th>1</th>\n      <td>한국</td>\n      <td>NaN</td>\n      <td>2016</td>\n    </tr>\n    <tr>\n      <th>2</th>\n      <td>미국</td>\n      <td>NaN</td>\n      <td>2016</td>\n    </tr>\n    <tr>\n      <th>3</th>\n      <td>한국</td>\n      <td>NaN</td>\n      <td>2017</td>\n    </tr>\n    <tr>\n      <th>4</th>\n      <td>미국</td>\n      <td>NaN</td>\n      <td>2017</td>\n    </tr>\n  </tbody>\n</table>\n</div>"
     },
     "execution_count": 9,
     "metadata": {},
     "output_type": "execute_result"
    }
   ],
   "source": [
    "# 입력시 키의 순서를 지정할 수도 있음(순서변경이 가능)\n",
    "d5 = pd.DataFrame(table_data, columns=['지사', '고객 수', '연도'])\n",
    "d5"
   ],
   "metadata": {
    "collapsed": false,
    "ExecuteTime": {
     "end_time": "2024-03-12T16:04:33.395365Z",
     "start_time": "2024-03-12T16:04:33.379955Z"
    }
   },
   "id": "701a970b896c0474",
   "execution_count": 9
  },
  {
   "cell_type": "code",
   "outputs": [
    {
     "data": {
      "text/plain": "RangeIndex(start=0, stop=5, step=1)"
     },
     "execution_count": 10,
     "metadata": {},
     "output_type": "execute_result"
    }
   ],
   "source": [
    "# DataFrame 데이터에서 index, columns, values 을 각각 구한 예\n",
    "d5.index"
   ],
   "metadata": {
    "collapsed": false,
    "ExecuteTime": {
     "end_time": "2024-03-12T16:04:33.404127Z",
     "start_time": "2024-03-12T16:04:33.397430Z"
    }
   },
   "id": "e391bd9c113eef87",
   "execution_count": 10
  },
  {
   "cell_type": "code",
   "outputs": [
    {
     "data": {
      "text/plain": "Index(['지사', '고객 수', '연도'], dtype='object')"
     },
     "execution_count": 11,
     "metadata": {},
     "output_type": "execute_result"
    }
   ],
   "source": [
    "d5.columns  # data타입이 섞여잇다면 object 타입으로 보면된다."
   ],
   "metadata": {
    "collapsed": false,
    "ExecuteTime": {
     "end_time": "2024-03-12T16:04:33.412850Z",
     "start_time": "2024-03-12T16:04:33.406300Z"
    }
   },
   "id": "a4c7f026db56ed5b",
   "execution_count": 11
  },
  {
   "cell_type": "code",
   "outputs": [
    {
     "data": {
      "text/plain": "array([['한국', nan, 2015],\n       ['한국', nan, 2016],\n       ['미국', nan, 2016],\n       ['한국', nan, 2017],\n       ['미국', nan, 2017]], dtype=object)"
     },
     "execution_count": 12,
     "metadata": {},
     "output_type": "execute_result"
    }
   ],
   "source": [
    "d5.values"
   ],
   "metadata": {
    "collapsed": false,
    "ExecuteTime": {
     "end_time": "2024-03-12T16:04:33.422759Z",
     "start_time": "2024-03-12T16:04:33.414958Z"
    }
   },
   "id": "517b7303465d690a",
   "execution_count": 12
  }
 ],
 "metadata": {
  "kernelspec": {
   "display_name": "Python 3",
   "language": "python",
   "name": "python3"
  },
  "language_info": {
   "codemirror_mode": {
    "name": "ipython",
    "version": 2
   },
   "file_extension": ".py",
   "mimetype": "text/x-python",
   "name": "python",
   "nbconvert_exporter": "python",
   "pygments_lexer": "ipython2",
   "version": "2.7.6"
  }
 },
 "nbformat": 4,
 "nbformat_minor": 5
}
