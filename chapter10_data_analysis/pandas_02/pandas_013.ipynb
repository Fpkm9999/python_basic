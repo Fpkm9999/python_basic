{
 "cells": [
  {
   "cell_type": "code",
   "execution_count": 34,
   "id": "initial_id",
   "metadata": {
    "collapsed": true,
    "ExecuteTime": {
     "end_time": "2024-03-13T02:11:37.730587Z",
     "start_time": "2024-03-13T02:11:37.723570Z"
    }
   },
   "outputs": [],
   "source": [
    "# 경산에 있는 커피 전문점(표준산업분류명 기준)을 동(법정동 기준)별로 몇개가 있는지 출력(\n",
    "# 출력 기준은 법정동 가나다 순)\n"
   ]
  },
  {
   "cell_type": "code",
   "outputs": [
    {
     "data": {
      "text/plain": "                 상가업소번호     상호명  지점명 상권업종대분류코드 상권업종대분류명 상권업종중분류코드 상권업종중분류명  \\\n0  MA010120220805431708    솔밭민박  NaN        I1       숙박      I101    일반 숙박   \n1  MA010120220805432237     의성탕  NaN        S2    수리·개인      S208  욕탕·신체관리   \n2  MA010120220805432258   머릿결사랑  NaN        S2    수리·개인      S207    이용·미용   \n3  MA010120220805432850     아지트  NaN        I2       음식      I211       주점   \n4  MA010120220805436067  백석탄골부리  NaN        R1   예술·스포츠      R104   유원지·오락   \n\n  상권업종소분류코드      상권업종소분류명 표준산업분류코드  ...                     건물관리번호  건물명  \\\n0    I10103            펜션   I55104  ...  4725042023105670001000001  NaN   \n1    S20801       목욕탕/사우나   S96121  ...  4773025022107490010004046  NaN   \n2    S20701           미용실   S96112  ...  4717012200102240005024992  NaN   \n3    I21104         요리 주점   I56219  ...  4713012400104380004025066  NaN   \n4    R10499  기타 오락관련 서비스업   R91299  ...  4775035040101090000000001  NaN   \n\n                      도로명주소   구우편번호  신우편번호  동정보  층정보  호정보          경도  \\\n0   경상북도 상주시 화북면 문장로 1502-9  742871  37102  NaN  NaN  NaN  127.922707   \n1       경상북도 의성군 의성읍 군청길 69  769803  37339  NaN  NaN  NaN  128.701183   \n2         경상북도 안동시 서경지5길 71  760904  36676  NaN    1  NaN  128.715714   \n3           경상북도 경주시 용담로 82  780954  38084  NaN    2  NaN  129.212801   \n4  경상북도 청송군 안덕면 백석탄로 541-21  763862  37449  NaN  NaN  NaN  128.995628   \n\n          위도  \n0  36.543640  \n1  36.352030  \n2  36.559903  \n3  35.863751  \n4  36.349543  \n\n[5 rows x 39 columns]",
      "text/html": "<div>\n<style scoped>\n    .dataframe tbody tr th:only-of-type {\n        vertical-align: middle;\n    }\n\n    .dataframe tbody tr th {\n        vertical-align: top;\n    }\n\n    .dataframe thead th {\n        text-align: right;\n    }\n</style>\n<table border=\"1\" class=\"dataframe\">\n  <thead>\n    <tr style=\"text-align: right;\">\n      <th></th>\n      <th>상가업소번호</th>\n      <th>상호명</th>\n      <th>지점명</th>\n      <th>상권업종대분류코드</th>\n      <th>상권업종대분류명</th>\n      <th>상권업종중분류코드</th>\n      <th>상권업종중분류명</th>\n      <th>상권업종소분류코드</th>\n      <th>상권업종소분류명</th>\n      <th>표준산업분류코드</th>\n      <th>...</th>\n      <th>건물관리번호</th>\n      <th>건물명</th>\n      <th>도로명주소</th>\n      <th>구우편번호</th>\n      <th>신우편번호</th>\n      <th>동정보</th>\n      <th>층정보</th>\n      <th>호정보</th>\n      <th>경도</th>\n      <th>위도</th>\n    </tr>\n  </thead>\n  <tbody>\n    <tr>\n      <th>0</th>\n      <td>MA010120220805431708</td>\n      <td>솔밭민박</td>\n      <td>NaN</td>\n      <td>I1</td>\n      <td>숙박</td>\n      <td>I101</td>\n      <td>일반 숙박</td>\n      <td>I10103</td>\n      <td>펜션</td>\n      <td>I55104</td>\n      <td>...</td>\n      <td>4725042023105670001000001</td>\n      <td>NaN</td>\n      <td>경상북도 상주시 화북면 문장로 1502-9</td>\n      <td>742871</td>\n      <td>37102</td>\n      <td>NaN</td>\n      <td>NaN</td>\n      <td>NaN</td>\n      <td>127.922707</td>\n      <td>36.543640</td>\n    </tr>\n    <tr>\n      <th>1</th>\n      <td>MA010120220805432237</td>\n      <td>의성탕</td>\n      <td>NaN</td>\n      <td>S2</td>\n      <td>수리·개인</td>\n      <td>S208</td>\n      <td>욕탕·신체관리</td>\n      <td>S20801</td>\n      <td>목욕탕/사우나</td>\n      <td>S96121</td>\n      <td>...</td>\n      <td>4773025022107490010004046</td>\n      <td>NaN</td>\n      <td>경상북도 의성군 의성읍 군청길 69</td>\n      <td>769803</td>\n      <td>37339</td>\n      <td>NaN</td>\n      <td>NaN</td>\n      <td>NaN</td>\n      <td>128.701183</td>\n      <td>36.352030</td>\n    </tr>\n    <tr>\n      <th>2</th>\n      <td>MA010120220805432258</td>\n      <td>머릿결사랑</td>\n      <td>NaN</td>\n      <td>S2</td>\n      <td>수리·개인</td>\n      <td>S207</td>\n      <td>이용·미용</td>\n      <td>S20701</td>\n      <td>미용실</td>\n      <td>S96112</td>\n      <td>...</td>\n      <td>4717012200102240005024992</td>\n      <td>NaN</td>\n      <td>경상북도 안동시 서경지5길 71</td>\n      <td>760904</td>\n      <td>36676</td>\n      <td>NaN</td>\n      <td>1</td>\n      <td>NaN</td>\n      <td>128.715714</td>\n      <td>36.559903</td>\n    </tr>\n    <tr>\n      <th>3</th>\n      <td>MA010120220805432850</td>\n      <td>아지트</td>\n      <td>NaN</td>\n      <td>I2</td>\n      <td>음식</td>\n      <td>I211</td>\n      <td>주점</td>\n      <td>I21104</td>\n      <td>요리 주점</td>\n      <td>I56219</td>\n      <td>...</td>\n      <td>4713012400104380004025066</td>\n      <td>NaN</td>\n      <td>경상북도 경주시 용담로 82</td>\n      <td>780954</td>\n      <td>38084</td>\n      <td>NaN</td>\n      <td>2</td>\n      <td>NaN</td>\n      <td>129.212801</td>\n      <td>35.863751</td>\n    </tr>\n    <tr>\n      <th>4</th>\n      <td>MA010120220805436067</td>\n      <td>백석탄골부리</td>\n      <td>NaN</td>\n      <td>R1</td>\n      <td>예술·스포츠</td>\n      <td>R104</td>\n      <td>유원지·오락</td>\n      <td>R10499</td>\n      <td>기타 오락관련 서비스업</td>\n      <td>R91299</td>\n      <td>...</td>\n      <td>4775035040101090000000001</td>\n      <td>NaN</td>\n      <td>경상북도 청송군 안덕면 백석탄로 541-21</td>\n      <td>763862</td>\n      <td>37449</td>\n      <td>NaN</td>\n      <td>NaN</td>\n      <td>NaN</td>\n      <td>128.995628</td>\n      <td>36.349543</td>\n    </tr>\n  </tbody>\n</table>\n<p>5 rows × 39 columns</p>\n</div>"
     },
     "execution_count": 35,
     "metadata": {},
     "output_type": "execute_result"
    }
   ],
   "source": [
    "import pandas as pd\n",
    "\n",
    "# CSV 파일 읽기\n",
    "df1 = pd.read_csv(\n",
    "    'C:\\dev\\projects\\PythonBasic\\chapter10_data_analysis\\input\\소상공인시장진흥공단_상가(상권)정보_20231231 (2)\\소상공인시장진흥공단_상가(상권)정보_경북_202312.csv')\n",
    "df1.head()"
   ],
   "metadata": {
    "collapsed": false,
    "ExecuteTime": {
     "end_time": "2024-03-13T02:11:39.011396Z",
     "start_time": "2024-03-13T02:11:37.732274Z"
    }
   },
   "id": "967bfa2bc80b008c",
   "execution_count": 35
  },
  {
   "cell_type": "code",
   "outputs": [
    {
     "data": {
      "text/plain": "                      상가업소번호                상호명  지점명 상권업종대분류코드 상권업종대분류명  \\\n8       MA010120220805437185             칼국수한그릇  NaN        I2       음식   \n10      MA010120220805439966              영할인마트  NaN        G2       소매   \n27      MA010120220805450515              우성돈까스  NaN        I2       음식   \n28      MA010120220805453773             피스풀테이블  NaN        G2       소매   \n30      MA010120220805455378             오케이세차장  NaN        S2    수리·개인   \n...                      ...                ...  ...       ...      ...   \n138453  MA010120220809558227  오일하우스/오일하우스태양광발전소  NaN        S2    수리·개인   \n138494  MA010120220809555618       사동희망공인중개사사무소  NaN        L1      부동산   \n138504  MA0101202310A0068773               봄당구장  NaN        R1   예술·스포츠   \n138515  MA010120220809881203            온채당갓바위점  NaN        I2       음식   \n138518  MA010120220806399786              왕가네찬팅  NaN        I2       음식   \n\n       상권업종중분류코드   상권업종중분류명 상권업종소분류코드      상권업종소분류명 표준산업분류코드  ...  \\\n8           I201         한식    I20105        국수/칼국수   I56112  ...   \n10          G204      종합 소매    G20404          슈퍼마켓   G47129  ...   \n27          I203         일식    I20302  일식 카레/돈가스/덮밥   I56123  ...   \n28          G205     식료품 소매    G20509    반찬/식료품 소매업   G47218  ...   \n30          S203  자동차 수리·세차    S20302       자동차 세차장   S95213  ...   \n...          ...        ...       ...           ...      ...  ...   \n138453      S203  자동차 수리·세차    S20301       자동차 정비소   S95212  ...   \n138494      L102    부동산 서비스    L10203    부동산 중개/대리업   L68221  ...   \n138504      R103    스포츠 서비스    R10310           당구장   R91135  ...   \n138515      I201         한식    I20101        백반/한정식   I56111  ...   \n138518      I202         중식    I20201           중국집   I56121  ...   \n\n                           건물관리번호         건물명                    도로명주소  \\\n8       4729012600106070005000001         NaN         경상북도 경산시 백양로 109   \n10      4729011400105210005011976         하준빌          경상북도 경산시 궁당로 58   \n27      4729025321103670008018794         NaN    경상북도 경산시 진량읍 공단2로7길 8   \n28      4729012100102400003062727  대구한의대오성캠퍼스     경상북도 경산시 어봉지길 285-10   \n30      4729025343103620000000001         NaN  경상북도 경산시 진량읍 황제1길 86-19   \n...                           ...         ...                      ...   \n138453  4729025021101590017032860         NaN     경상북도 경산시 하양읍 대경로 670   \n138494  4729012600106690001012634         NaN       경상북도 경산시 백양로35길 20   \n138504  4729012600105850008012047         NaN       경상북도 경산시 원효로40길 33   \n138515  4729031031100680001000001         NaN     경상북도 경산시 와촌면 갓바위로 62   \n138518  4729025326100400009021937         NaN    경상북도 경산시 진량읍 대학로 1408   \n\n         구우편번호  신우편번호  동정보  층정보  호정보          경도         위도  \n8       712190  38599  NaN  NaN  NaN  128.753874  35.813843  \n10      712150  38515  NaN  NaN  NaN  128.750477  35.844365  \n27      712837  38458  NaN  NaN  NaN  128.822719  35.872247  \n28      712220  38578  NaN  NaN  NaN  128.788316  35.786411  \n30      712837  38499  NaN  NaN  NaN  128.817967  35.859157  \n...        ...    ...  ...  ...  ...         ...        ...  \n138453  712902  38436  NaN  NaN  NaN  128.814826  35.908191  \n138494  712190  38597  NaN  NaN  NaN  128.760823  35.812583  \n138504  712190  38587  NaN    2  NaN  128.755824  35.816427  \n138515  712843  38400  NaN  NaN  NaN  128.791364  35.964003  \n138518  712837  38452  NaN  NaN  NaN  128.825033  35.904264  \n\n[12743 rows x 39 columns]",
      "text/html": "<div>\n<style scoped>\n    .dataframe tbody tr th:only-of-type {\n        vertical-align: middle;\n    }\n\n    .dataframe tbody tr th {\n        vertical-align: top;\n    }\n\n    .dataframe thead th {\n        text-align: right;\n    }\n</style>\n<table border=\"1\" class=\"dataframe\">\n  <thead>\n    <tr style=\"text-align: right;\">\n      <th></th>\n      <th>상가업소번호</th>\n      <th>상호명</th>\n      <th>지점명</th>\n      <th>상권업종대분류코드</th>\n      <th>상권업종대분류명</th>\n      <th>상권업종중분류코드</th>\n      <th>상권업종중분류명</th>\n      <th>상권업종소분류코드</th>\n      <th>상권업종소분류명</th>\n      <th>표준산업분류코드</th>\n      <th>...</th>\n      <th>건물관리번호</th>\n      <th>건물명</th>\n      <th>도로명주소</th>\n      <th>구우편번호</th>\n      <th>신우편번호</th>\n      <th>동정보</th>\n      <th>층정보</th>\n      <th>호정보</th>\n      <th>경도</th>\n      <th>위도</th>\n    </tr>\n  </thead>\n  <tbody>\n    <tr>\n      <th>8</th>\n      <td>MA010120220805437185</td>\n      <td>칼국수한그릇</td>\n      <td>NaN</td>\n      <td>I2</td>\n      <td>음식</td>\n      <td>I201</td>\n      <td>한식</td>\n      <td>I20105</td>\n      <td>국수/칼국수</td>\n      <td>I56112</td>\n      <td>...</td>\n      <td>4729012600106070005000001</td>\n      <td>NaN</td>\n      <td>경상북도 경산시 백양로 109</td>\n      <td>712190</td>\n      <td>38599</td>\n      <td>NaN</td>\n      <td>NaN</td>\n      <td>NaN</td>\n      <td>128.753874</td>\n      <td>35.813843</td>\n    </tr>\n    <tr>\n      <th>10</th>\n      <td>MA010120220805439966</td>\n      <td>영할인마트</td>\n      <td>NaN</td>\n      <td>G2</td>\n      <td>소매</td>\n      <td>G204</td>\n      <td>종합 소매</td>\n      <td>G20404</td>\n      <td>슈퍼마켓</td>\n      <td>G47129</td>\n      <td>...</td>\n      <td>4729011400105210005011976</td>\n      <td>하준빌</td>\n      <td>경상북도 경산시 궁당로 58</td>\n      <td>712150</td>\n      <td>38515</td>\n      <td>NaN</td>\n      <td>NaN</td>\n      <td>NaN</td>\n      <td>128.750477</td>\n      <td>35.844365</td>\n    </tr>\n    <tr>\n      <th>27</th>\n      <td>MA010120220805450515</td>\n      <td>우성돈까스</td>\n      <td>NaN</td>\n      <td>I2</td>\n      <td>음식</td>\n      <td>I203</td>\n      <td>일식</td>\n      <td>I20302</td>\n      <td>일식 카레/돈가스/덮밥</td>\n      <td>I56123</td>\n      <td>...</td>\n      <td>4729025321103670008018794</td>\n      <td>NaN</td>\n      <td>경상북도 경산시 진량읍 공단2로7길 8</td>\n      <td>712837</td>\n      <td>38458</td>\n      <td>NaN</td>\n      <td>NaN</td>\n      <td>NaN</td>\n      <td>128.822719</td>\n      <td>35.872247</td>\n    </tr>\n    <tr>\n      <th>28</th>\n      <td>MA010120220805453773</td>\n      <td>피스풀테이블</td>\n      <td>NaN</td>\n      <td>G2</td>\n      <td>소매</td>\n      <td>G205</td>\n      <td>식료품 소매</td>\n      <td>G20509</td>\n      <td>반찬/식료품 소매업</td>\n      <td>G47218</td>\n      <td>...</td>\n      <td>4729012100102400003062727</td>\n      <td>대구한의대오성캠퍼스</td>\n      <td>경상북도 경산시 어봉지길 285-10</td>\n      <td>712220</td>\n      <td>38578</td>\n      <td>NaN</td>\n      <td>NaN</td>\n      <td>NaN</td>\n      <td>128.788316</td>\n      <td>35.786411</td>\n    </tr>\n    <tr>\n      <th>30</th>\n      <td>MA010120220805455378</td>\n      <td>오케이세차장</td>\n      <td>NaN</td>\n      <td>S2</td>\n      <td>수리·개인</td>\n      <td>S203</td>\n      <td>자동차 수리·세차</td>\n      <td>S20302</td>\n      <td>자동차 세차장</td>\n      <td>S95213</td>\n      <td>...</td>\n      <td>4729025343103620000000001</td>\n      <td>NaN</td>\n      <td>경상북도 경산시 진량읍 황제1길 86-19</td>\n      <td>712837</td>\n      <td>38499</td>\n      <td>NaN</td>\n      <td>NaN</td>\n      <td>NaN</td>\n      <td>128.817967</td>\n      <td>35.859157</td>\n    </tr>\n    <tr>\n      <th>...</th>\n      <td>...</td>\n      <td>...</td>\n      <td>...</td>\n      <td>...</td>\n      <td>...</td>\n      <td>...</td>\n      <td>...</td>\n      <td>...</td>\n      <td>...</td>\n      <td>...</td>\n      <td>...</td>\n      <td>...</td>\n      <td>...</td>\n      <td>...</td>\n      <td>...</td>\n      <td>...</td>\n      <td>...</td>\n      <td>...</td>\n      <td>...</td>\n      <td>...</td>\n      <td>...</td>\n    </tr>\n    <tr>\n      <th>138453</th>\n      <td>MA010120220809558227</td>\n      <td>오일하우스/오일하우스태양광발전소</td>\n      <td>NaN</td>\n      <td>S2</td>\n      <td>수리·개인</td>\n      <td>S203</td>\n      <td>자동차 수리·세차</td>\n      <td>S20301</td>\n      <td>자동차 정비소</td>\n      <td>S95212</td>\n      <td>...</td>\n      <td>4729025021101590017032860</td>\n      <td>NaN</td>\n      <td>경상북도 경산시 하양읍 대경로 670</td>\n      <td>712902</td>\n      <td>38436</td>\n      <td>NaN</td>\n      <td>NaN</td>\n      <td>NaN</td>\n      <td>128.814826</td>\n      <td>35.908191</td>\n    </tr>\n    <tr>\n      <th>138494</th>\n      <td>MA010120220809555618</td>\n      <td>사동희망공인중개사사무소</td>\n      <td>NaN</td>\n      <td>L1</td>\n      <td>부동산</td>\n      <td>L102</td>\n      <td>부동산 서비스</td>\n      <td>L10203</td>\n      <td>부동산 중개/대리업</td>\n      <td>L68221</td>\n      <td>...</td>\n      <td>4729012600106690001012634</td>\n      <td>NaN</td>\n      <td>경상북도 경산시 백양로35길 20</td>\n      <td>712190</td>\n      <td>38597</td>\n      <td>NaN</td>\n      <td>NaN</td>\n      <td>NaN</td>\n      <td>128.760823</td>\n      <td>35.812583</td>\n    </tr>\n    <tr>\n      <th>138504</th>\n      <td>MA0101202310A0068773</td>\n      <td>봄당구장</td>\n      <td>NaN</td>\n      <td>R1</td>\n      <td>예술·스포츠</td>\n      <td>R103</td>\n      <td>스포츠 서비스</td>\n      <td>R10310</td>\n      <td>당구장</td>\n      <td>R91135</td>\n      <td>...</td>\n      <td>4729012600105850008012047</td>\n      <td>NaN</td>\n      <td>경상북도 경산시 원효로40길 33</td>\n      <td>712190</td>\n      <td>38587</td>\n      <td>NaN</td>\n      <td>2</td>\n      <td>NaN</td>\n      <td>128.755824</td>\n      <td>35.816427</td>\n    </tr>\n    <tr>\n      <th>138515</th>\n      <td>MA010120220809881203</td>\n      <td>온채당갓바위점</td>\n      <td>NaN</td>\n      <td>I2</td>\n      <td>음식</td>\n      <td>I201</td>\n      <td>한식</td>\n      <td>I20101</td>\n      <td>백반/한정식</td>\n      <td>I56111</td>\n      <td>...</td>\n      <td>4729031031100680001000001</td>\n      <td>NaN</td>\n      <td>경상북도 경산시 와촌면 갓바위로 62</td>\n      <td>712843</td>\n      <td>38400</td>\n      <td>NaN</td>\n      <td>NaN</td>\n      <td>NaN</td>\n      <td>128.791364</td>\n      <td>35.964003</td>\n    </tr>\n    <tr>\n      <th>138518</th>\n      <td>MA010120220806399786</td>\n      <td>왕가네찬팅</td>\n      <td>NaN</td>\n      <td>I2</td>\n      <td>음식</td>\n      <td>I202</td>\n      <td>중식</td>\n      <td>I20201</td>\n      <td>중국집</td>\n      <td>I56121</td>\n      <td>...</td>\n      <td>4729025326100400009021937</td>\n      <td>NaN</td>\n      <td>경상북도 경산시 진량읍 대학로 1408</td>\n      <td>712837</td>\n      <td>38452</td>\n      <td>NaN</td>\n      <td>NaN</td>\n      <td>NaN</td>\n      <td>128.825033</td>\n      <td>35.904264</td>\n    </tr>\n  </tbody>\n</table>\n<p>12743 rows × 39 columns</p>\n</div>"
     },
     "execution_count": 36,
     "metadata": {},
     "output_type": "execute_result"
    }
   ],
   "source": [
    "filter_1 = df1[df1['시군구명'] == '경산시']\n",
    "filter_1\n",
    "\n",
    "\n"
   ],
   "metadata": {
    "collapsed": false,
    "ExecuteTime": {
     "end_time": "2024-03-13T02:11:39.061779Z",
     "start_time": "2024-03-13T02:11:39.012505Z"
    }
   },
   "id": "8ddcbcf7cb0829fa",
   "execution_count": 36
  },
  {
   "cell_type": "code",
   "outputs": [
    {
     "data": {
      "text/plain": "                      상가업소번호         상호명  지점명 상권업종대분류코드 상권업종대분류명 상권업종중분류코드  \\\n435     MA010120220806439036    아틀리에빈진량점  NaN        I2       음식      I212   \n510     MA010120220806496029    더벤티경산중방점  NaN        I2       음식      I212   \n538     MA010120220806537000       너와나커피  NaN        I2       음식      I212   \n565     MA010120220806548381       눈꽃이피다  NaN        I2       음식      I212   \n931     MA010120220806907168         해르트  NaN        I2       음식      I212   \n...                      ...         ...  ...       ...      ...       ...   \n136391  MA0101202305A0073666        짹슨커피  영대점        I2       음식      I212   \n136967  MA010120220812059065  베러먼데이경산자인점  NaN        I2       음식      I212   \n137003  MA010120220803393167  베러먼데이펜타힐즈점  NaN        I2       음식      I212   \n137242  MA010120220805206962          꼬깜  NaN        I2       음식      I212   \n138275  MA0101202305A0077637        르솔커피  NaN        I2       음식      I212   \n\n       상권업종중분류명 상권업종소분류코드 상권업종소분류명 표준산업분류코드  ...                     건물관리번호  \\\n435       비알코올     I21201       카페   I56221  ...  4729025321112250004026475   \n510       비알코올     I21201       카페   I56221  ...  4729011700108630001001646   \n538       비알코올     I21201       카페   I56221  ...  4729012600106690004011708   \n565       비알코올     I21201       카페   I56221  ...  4729010800100710027009502   \n931       비알코올     I21201       카페   I56221  ...  4729025021101170005030583   \n...         ...       ...      ...      ...  ...                        ...   \n136391    비알코올     I21201       카페   I56221  ...  4729036022106540000040541   \n136967    비알코올     I21201       카페   I56221  ...  4729033023100810012000001   \n137003    비알코올     I21201       카페   I56221  ...  4729011000106370000000003   \n137242    비알코올     I21201       카페   I56221  ...  4729010600105480000000001   \n138275    비알코올     I21201       카페   I56221  ...  4729012600103620000000001   \n\n          건물명                   도로명주소   구우편번호  신우편번호  동정보  층정보  호정보  \\\n435       NaN     경상북도 경산시 진량읍 다문로 59  712837  38486  NaN  NaN  NaN   \n510       NaN      경상북도 경산시 경안로38길 17  712804  38619  NaN  NaN  NaN   \n538       NaN    경상북도 경산시 백자로20길 44-1  712190  38597  NaN  NaN  NaN   \n565       NaN      경상북도 경산시 경산로 105-1  712050  38684  NaN  NaN  NaN   \n931       NaN   경상북도 경산시 하양읍 문화로4길 35  712902  38431  NaN    1  NaN   \n...       ...                     ...     ...    ...  ...  ...  ...   \n136391  씨티하우스  경상북도 경산시 압량읍 압독4로1길 20  712822  38538  NaN    1  NaN   \n136967    NaN     경상북도 경산시 자인면 북사로 27  712852  38555  NaN  NaN  NaN   \n137003    NaN      경상북도 경산시 펜타힐즈2로 45  712280  38662  NaN  NaN  NaN   \n137242    NaN     경상북도 경산시 백천길 107-22  712100  38649  NaN    1  NaN   \n138275    NaN     경상북도 경산시 솔숲길12길 3-1  712190  38603  NaN  NaN  NaN   \n\n                경도         위도  \n435     128.817535  35.875275  \n510     128.737730  35.825841  \n538     128.761142  35.812436  \n565     128.729624  35.818094  \n931     128.816056  35.912464  \n...            ...        ...  \n136391  128.764731  35.838254  \n136967  128.823483  35.822976  \n137003  128.719311  35.828016  \n137242  128.739408  35.796790  \n138275  128.758032  35.806534  \n\n[604 rows x 39 columns]",
      "text/html": "<div>\n<style scoped>\n    .dataframe tbody tr th:only-of-type {\n        vertical-align: middle;\n    }\n\n    .dataframe tbody tr th {\n        vertical-align: top;\n    }\n\n    .dataframe thead th {\n        text-align: right;\n    }\n</style>\n<table border=\"1\" class=\"dataframe\">\n  <thead>\n    <tr style=\"text-align: right;\">\n      <th></th>\n      <th>상가업소번호</th>\n      <th>상호명</th>\n      <th>지점명</th>\n      <th>상권업종대분류코드</th>\n      <th>상권업종대분류명</th>\n      <th>상권업종중분류코드</th>\n      <th>상권업종중분류명</th>\n      <th>상권업종소분류코드</th>\n      <th>상권업종소분류명</th>\n      <th>표준산업분류코드</th>\n      <th>...</th>\n      <th>건물관리번호</th>\n      <th>건물명</th>\n      <th>도로명주소</th>\n      <th>구우편번호</th>\n      <th>신우편번호</th>\n      <th>동정보</th>\n      <th>층정보</th>\n      <th>호정보</th>\n      <th>경도</th>\n      <th>위도</th>\n    </tr>\n  </thead>\n  <tbody>\n    <tr>\n      <th>435</th>\n      <td>MA010120220806439036</td>\n      <td>아틀리에빈진량점</td>\n      <td>NaN</td>\n      <td>I2</td>\n      <td>음식</td>\n      <td>I212</td>\n      <td>비알코올</td>\n      <td>I21201</td>\n      <td>카페</td>\n      <td>I56221</td>\n      <td>...</td>\n      <td>4729025321112250004026475</td>\n      <td>NaN</td>\n      <td>경상북도 경산시 진량읍 다문로 59</td>\n      <td>712837</td>\n      <td>38486</td>\n      <td>NaN</td>\n      <td>NaN</td>\n      <td>NaN</td>\n      <td>128.817535</td>\n      <td>35.875275</td>\n    </tr>\n    <tr>\n      <th>510</th>\n      <td>MA010120220806496029</td>\n      <td>더벤티경산중방점</td>\n      <td>NaN</td>\n      <td>I2</td>\n      <td>음식</td>\n      <td>I212</td>\n      <td>비알코올</td>\n      <td>I21201</td>\n      <td>카페</td>\n      <td>I56221</td>\n      <td>...</td>\n      <td>4729011700108630001001646</td>\n      <td>NaN</td>\n      <td>경상북도 경산시 경안로38길 17</td>\n      <td>712804</td>\n      <td>38619</td>\n      <td>NaN</td>\n      <td>NaN</td>\n      <td>NaN</td>\n      <td>128.737730</td>\n      <td>35.825841</td>\n    </tr>\n    <tr>\n      <th>538</th>\n      <td>MA010120220806537000</td>\n      <td>너와나커피</td>\n      <td>NaN</td>\n      <td>I2</td>\n      <td>음식</td>\n      <td>I212</td>\n      <td>비알코올</td>\n      <td>I21201</td>\n      <td>카페</td>\n      <td>I56221</td>\n      <td>...</td>\n      <td>4729012600106690004011708</td>\n      <td>NaN</td>\n      <td>경상북도 경산시 백자로20길 44-1</td>\n      <td>712190</td>\n      <td>38597</td>\n      <td>NaN</td>\n      <td>NaN</td>\n      <td>NaN</td>\n      <td>128.761142</td>\n      <td>35.812436</td>\n    </tr>\n    <tr>\n      <th>565</th>\n      <td>MA010120220806548381</td>\n      <td>눈꽃이피다</td>\n      <td>NaN</td>\n      <td>I2</td>\n      <td>음식</td>\n      <td>I212</td>\n      <td>비알코올</td>\n      <td>I21201</td>\n      <td>카페</td>\n      <td>I56221</td>\n      <td>...</td>\n      <td>4729010800100710027009502</td>\n      <td>NaN</td>\n      <td>경상북도 경산시 경산로 105-1</td>\n      <td>712050</td>\n      <td>38684</td>\n      <td>NaN</td>\n      <td>NaN</td>\n      <td>NaN</td>\n      <td>128.729624</td>\n      <td>35.818094</td>\n    </tr>\n    <tr>\n      <th>931</th>\n      <td>MA010120220806907168</td>\n      <td>해르트</td>\n      <td>NaN</td>\n      <td>I2</td>\n      <td>음식</td>\n      <td>I212</td>\n      <td>비알코올</td>\n      <td>I21201</td>\n      <td>카페</td>\n      <td>I56221</td>\n      <td>...</td>\n      <td>4729025021101170005030583</td>\n      <td>NaN</td>\n      <td>경상북도 경산시 하양읍 문화로4길 35</td>\n      <td>712902</td>\n      <td>38431</td>\n      <td>NaN</td>\n      <td>1</td>\n      <td>NaN</td>\n      <td>128.816056</td>\n      <td>35.912464</td>\n    </tr>\n    <tr>\n      <th>...</th>\n      <td>...</td>\n      <td>...</td>\n      <td>...</td>\n      <td>...</td>\n      <td>...</td>\n      <td>...</td>\n      <td>...</td>\n      <td>...</td>\n      <td>...</td>\n      <td>...</td>\n      <td>...</td>\n      <td>...</td>\n      <td>...</td>\n      <td>...</td>\n      <td>...</td>\n      <td>...</td>\n      <td>...</td>\n      <td>...</td>\n      <td>...</td>\n      <td>...</td>\n      <td>...</td>\n    </tr>\n    <tr>\n      <th>136391</th>\n      <td>MA0101202305A0073666</td>\n      <td>짹슨커피</td>\n      <td>영대점</td>\n      <td>I2</td>\n      <td>음식</td>\n      <td>I212</td>\n      <td>비알코올</td>\n      <td>I21201</td>\n      <td>카페</td>\n      <td>I56221</td>\n      <td>...</td>\n      <td>4729036022106540000040541</td>\n      <td>씨티하우스</td>\n      <td>경상북도 경산시 압량읍 압독4로1길 20</td>\n      <td>712822</td>\n      <td>38538</td>\n      <td>NaN</td>\n      <td>1</td>\n      <td>NaN</td>\n      <td>128.764731</td>\n      <td>35.838254</td>\n    </tr>\n    <tr>\n      <th>136967</th>\n      <td>MA010120220812059065</td>\n      <td>베러먼데이경산자인점</td>\n      <td>NaN</td>\n      <td>I2</td>\n      <td>음식</td>\n      <td>I212</td>\n      <td>비알코올</td>\n      <td>I21201</td>\n      <td>카페</td>\n      <td>I56221</td>\n      <td>...</td>\n      <td>4729033023100810012000001</td>\n      <td>NaN</td>\n      <td>경상북도 경산시 자인면 북사로 27</td>\n      <td>712852</td>\n      <td>38555</td>\n      <td>NaN</td>\n      <td>NaN</td>\n      <td>NaN</td>\n      <td>128.823483</td>\n      <td>35.822976</td>\n    </tr>\n    <tr>\n      <th>137003</th>\n      <td>MA010120220803393167</td>\n      <td>베러먼데이펜타힐즈점</td>\n      <td>NaN</td>\n      <td>I2</td>\n      <td>음식</td>\n      <td>I212</td>\n      <td>비알코올</td>\n      <td>I21201</td>\n      <td>카페</td>\n      <td>I56221</td>\n      <td>...</td>\n      <td>4729011000106370000000003</td>\n      <td>NaN</td>\n      <td>경상북도 경산시 펜타힐즈2로 45</td>\n      <td>712280</td>\n      <td>38662</td>\n      <td>NaN</td>\n      <td>NaN</td>\n      <td>NaN</td>\n      <td>128.719311</td>\n      <td>35.828016</td>\n    </tr>\n    <tr>\n      <th>137242</th>\n      <td>MA010120220805206962</td>\n      <td>꼬깜</td>\n      <td>NaN</td>\n      <td>I2</td>\n      <td>음식</td>\n      <td>I212</td>\n      <td>비알코올</td>\n      <td>I21201</td>\n      <td>카페</td>\n      <td>I56221</td>\n      <td>...</td>\n      <td>4729010600105480000000001</td>\n      <td>NaN</td>\n      <td>경상북도 경산시 백천길 107-22</td>\n      <td>712100</td>\n      <td>38649</td>\n      <td>NaN</td>\n      <td>1</td>\n      <td>NaN</td>\n      <td>128.739408</td>\n      <td>35.796790</td>\n    </tr>\n    <tr>\n      <th>138275</th>\n      <td>MA0101202305A0077637</td>\n      <td>르솔커피</td>\n      <td>NaN</td>\n      <td>I2</td>\n      <td>음식</td>\n      <td>I212</td>\n      <td>비알코올</td>\n      <td>I21201</td>\n      <td>카페</td>\n      <td>I56221</td>\n      <td>...</td>\n      <td>4729012600103620000000001</td>\n      <td>NaN</td>\n      <td>경상북도 경산시 솔숲길12길 3-1</td>\n      <td>712190</td>\n      <td>38603</td>\n      <td>NaN</td>\n      <td>NaN</td>\n      <td>NaN</td>\n      <td>128.758032</td>\n      <td>35.806534</td>\n    </tr>\n  </tbody>\n</table>\n<p>604 rows × 39 columns</p>\n</div>"
     },
     "execution_count": 37,
     "metadata": {},
     "output_type": "execute_result"
    }
   ],
   "source": [
    "filter_2 = filter_1[filter_1['표준산업분류명'] == '커피 전문점']\n",
    "filter_2"
   ],
   "metadata": {
    "collapsed": false,
    "ExecuteTime": {
     "end_time": "2024-03-13T02:11:39.085973Z",
     "start_time": "2024-03-13T02:11:39.063974Z"
    }
   },
   "id": "257d864b94954c32",
   "execution_count": 37
  },
  {
   "cell_type": "code",
   "outputs": [
    {
     "data": {
      "text/plain": "법정동명\n갑제동     4\n계양동    26\n남산면    12\n남천면     5\n대동     30\n대평동     9\n백천동    17\n사동     48\n사정동    13\n삼남동     2\n삼북동    11\n삼풍동     8\n상방동     2\n서상동     9\n신교동     1\n압량읍    37\n여천동     3\n옥곡동    20\n옥산동    39\n와촌면    16\n용성면     2\n유곡동     4\n임당동     3\n자인면    18\n점촌동     4\n정평동    25\n조영동    24\n중방동    51\n중산동    26\n진량읍    55\n평산동     3\n하양읍    77\nName: count, dtype: int64"
     },
     "execution_count": 39,
     "metadata": {},
     "output_type": "execute_result"
    }
   ],
   "source": [
    "# case1\n",
    "# value_counts() 를 이용해서 법정동에 몇 개의 데이터가 있는지 반환 후 sort_index9) 를 이용하여 인덱스 값 기준으로 정렬.\n",
    "filter_2.value_counts('법정동명').sort_index()"
   ],
   "metadata": {
    "collapsed": false,
    "ExecuteTime": {
     "end_time": "2024-03-13T02:13:08.635277Z",
     "start_time": "2024-03-13T02:13:08.625335Z"
    }
   },
   "id": "78ebf7e1984241ef",
   "execution_count": 39
  },
  {
   "cell_type": "code",
   "outputs": [
    {
     "data": {
      "text/plain": "법정동명\n갑제동     4\n계양동    26\n남산면    12\n남천면     5\n대동     30\n대평동     9\n백천동    17\n사동     48\n사정동    13\n삼남동     2\n삼북동    11\n삼풍동     8\n상방동     2\n서상동     9\n신교동     1\n압량읍    37\n여천동     3\n옥곡동    20\n옥산동    39\n와촌면    16\n용성면     2\n유곡동     4\n임당동     3\n자인면    18\n점촌동     4\n정평동    25\n조영동    24\n중방동    51\n중산동    26\n진량읍    55\n평산동     3\n하양읍    77\nName: 상가업소번호, dtype: int64"
     },
     "execution_count": 40,
     "metadata": {},
     "output_type": "execute_result"
    }
   ],
   "source": [
    "# case2.\n",
    "# '법정동명'으로 그룹을 나눈 후, 데이터의 고유번호인 '상가업소번호'의 개수를 카운팅.\n",
    "filter_2.groupby('법정동명').count()['상가업소번호']"
   ],
   "metadata": {
    "collapsed": false,
    "ExecuteTime": {
     "end_time": "2024-03-13T02:14:54.352339Z",
     "start_time": "2024-03-13T02:14:54.334447Z"
    }
   },
   "id": "4a6e98e8b10e7552",
   "execution_count": 40
  }
 ],
 "metadata": {
  "kernelspec": {
   "display_name": "Python 3",
   "language": "python",
   "name": "python3"
  },
  "language_info": {
   "codemirror_mode": {
    "name": "ipython",
    "version": 2
   },
   "file_extension": ".py",
   "mimetype": "text/x-python",
   "name": "python",
   "nbconvert_exporter": "python",
   "pygments_lexer": "ipython2",
   "version": "2.7.6"
  }
 },
 "nbformat": 4,
 "nbformat_minor": 5
}
