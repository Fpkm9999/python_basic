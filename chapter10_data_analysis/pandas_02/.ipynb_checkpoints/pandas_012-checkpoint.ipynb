{
 "cells": [
  {
   "cell_type": "markdown",
   "source": [
    "### 07. 판다스 데이터 그룹핑 하기\n",
    "\n",
    "데이터 그룹핑은 데이터를 특정한 값에 기반해 묶는 기능으로 `groupby()` 를 사용해서 통계량을 요약할 수 있음.\n",
    "통계량에 관계된 메서드에는 mean(평균), std(표준편차), var(분산), max(최대값), min(최소값) 등이 있다"
   ],
   "metadata": {
    "collapsed": false
   },
   "id": "313028d21cfa25f0"
  },
  {
   "cell_type": "code",
   "execution_count": 36,
   "id": "initial_id",
   "metadata": {
    "collapsed": true,
    "ExecuteTime": {
     "end_time": "2024-03-13T00:38:39.904785Z",
     "start_time": "2024-03-13T00:38:39.901143Z"
    }
   },
   "outputs": [],
   "source": [
    "import pandas as pd"
   ]
  },
  {
   "cell_type": "code",
   "outputs": [
    {
     "data": {
      "text/plain": "  국적코드  성별    입국객수    증가수\n0  A01  남성  125000   8000\n1  A01  여성  130000  10000\n2  A05  남성     300     10\n3  A05  여성     200     50\n4  A06  남성  158912  24486\n5  A06  여성  325000  63466",
      "text/html": "<div>\n<style scoped>\n    .dataframe tbody tr th:only-of-type {\n        vertical-align: middle;\n    }\n\n    .dataframe tbody tr th {\n        vertical-align: top;\n    }\n\n    .dataframe thead th {\n        text-align: right;\n    }\n</style>\n<table border=\"1\" class=\"dataframe\">\n  <thead>\n    <tr style=\"text-align: right;\">\n      <th></th>\n      <th>국적코드</th>\n      <th>성별</th>\n      <th>입국객수</th>\n      <th>증가수</th>\n    </tr>\n  </thead>\n  <tbody>\n    <tr>\n      <th>0</th>\n      <td>A01</td>\n      <td>남성</td>\n      <td>125000</td>\n      <td>8000</td>\n    </tr>\n    <tr>\n      <th>1</th>\n      <td>A01</td>\n      <td>여성</td>\n      <td>130000</td>\n      <td>10000</td>\n    </tr>\n    <tr>\n      <th>2</th>\n      <td>A05</td>\n      <td>남성</td>\n      <td>300</td>\n      <td>10</td>\n    </tr>\n    <tr>\n      <th>3</th>\n      <td>A05</td>\n      <td>여성</td>\n      <td>200</td>\n      <td>50</td>\n    </tr>\n    <tr>\n      <th>4</th>\n      <td>A06</td>\n      <td>남성</td>\n      <td>158912</td>\n      <td>24486</td>\n    </tr>\n    <tr>\n      <th>5</th>\n      <td>A06</td>\n      <td>여성</td>\n      <td>325000</td>\n      <td>63466</td>\n    </tr>\n  </tbody>\n</table>\n</div>"
     },
     "execution_count": 37,
     "metadata": {},
     "output_type": "execute_result"
    }
   ],
   "source": [
    "# 한 열을 기준으로 그룹화하기\n",
    "s1 = pd.read_excel('../input/pandas_010/nation.xlsx')\n",
    "s1"
   ],
   "metadata": {
    "collapsed": false,
    "ExecuteTime": {
     "end_time": "2024-03-13T00:38:39.969725Z",
     "start_time": "2024-03-13T00:38:39.947545Z"
    }
   },
   "id": "ec3b2d0406cfa5bd",
   "execution_count": 37
  },
  {
   "cell_type": "code",
   "outputs": [
    {
     "data": {
      "text/plain": "        성별    입국객수    증가수\n국적코드                     \nA01   남성여성  255000  18000\nA05   남성여성     500     60\nA06   남성여성  483912  87952",
      "text/html": "<div>\n<style scoped>\n    .dataframe tbody tr th:only-of-type {\n        vertical-align: middle;\n    }\n\n    .dataframe tbody tr th {\n        vertical-align: top;\n    }\n\n    .dataframe thead th {\n        text-align: right;\n    }\n</style>\n<table border=\"1\" class=\"dataframe\">\n  <thead>\n    <tr style=\"text-align: right;\">\n      <th></th>\n      <th>성별</th>\n      <th>입국객수</th>\n      <th>증가수</th>\n    </tr>\n    <tr>\n      <th>국적코드</th>\n      <th></th>\n      <th></th>\n      <th></th>\n    </tr>\n  </thead>\n  <tbody>\n    <tr>\n      <th>A01</th>\n      <td>남성여성</td>\n      <td>255000</td>\n      <td>18000</td>\n    </tr>\n    <tr>\n      <th>A05</th>\n      <td>남성여성</td>\n      <td>500</td>\n      <td>60</td>\n    </tr>\n    <tr>\n      <th>A06</th>\n      <td>남성여성</td>\n      <td>483912</td>\n      <td>87952</td>\n    </tr>\n  </tbody>\n</table>\n</div>"
     },
     "execution_count": 38,
     "metadata": {},
     "output_type": "execute_result"
    }
   ],
   "source": [
    "s1.groupby('국적코드').sum()  # 국적코드라는 열을 그룹화 동일한 국적코드 3가지만 남기고(unique) 다 합쳐버림(sum), 숫자는 합산되고 문자는 나열됨"
   ],
   "metadata": {
    "collapsed": false,
    "ExecuteTime": {
     "end_time": "2024-03-13T00:38:39.985134Z",
     "start_time": "2024-03-13T00:38:39.974083Z"
    }
   },
   "id": "6b973b1e2051e4fc",
   "execution_count": 38
  },
  {
   "cell_type": "code",
   "outputs": [
    {
     "data": {
      "text/plain": "         국적코드    입국객수    증가수\n성별                          \n남성  A01A05A06  284212  32496\n여성  A01A05A06  455200  73516",
      "text/html": "<div>\n<style scoped>\n    .dataframe tbody tr th:only-of-type {\n        vertical-align: middle;\n    }\n\n    .dataframe tbody tr th {\n        vertical-align: top;\n    }\n\n    .dataframe thead th {\n        text-align: right;\n    }\n</style>\n<table border=\"1\" class=\"dataframe\">\n  <thead>\n    <tr style=\"text-align: right;\">\n      <th></th>\n      <th>국적코드</th>\n      <th>입국객수</th>\n      <th>증가수</th>\n    </tr>\n    <tr>\n      <th>성별</th>\n      <th></th>\n      <th></th>\n      <th></th>\n    </tr>\n  </thead>\n  <tbody>\n    <tr>\n      <th>남성</th>\n      <td>A01A05A06</td>\n      <td>284212</td>\n      <td>32496</td>\n    </tr>\n    <tr>\n      <th>여성</th>\n      <td>A01A05A06</td>\n      <td>455200</td>\n      <td>73516</td>\n    </tr>\n  </tbody>\n</table>\n</div>"
     },
     "execution_count": 39,
     "metadata": {},
     "output_type": "execute_result"
    }
   ],
   "source": [
    "s1.groupby('성별').sum()  # 성별을 기준으로 그룹화 \n",
    "# 여기까진 SQL이랑 크게 다르지 않음"
   ],
   "metadata": {
    "collapsed": false,
    "ExecuteTime": {
     "end_time": "2024-03-13T00:38:40.026341Z",
     "start_time": "2024-03-13T00:38:40.018388Z"
    }
   },
   "id": "4fed85b09b5f916a",
   "execution_count": 39
  },
  {
   "cell_type": "code",
   "outputs": [
    {
     "data": {
      "text/plain": "         국적코드    입국객수    증가수\n성별                          \n남성  A01A05A06  284212  32496\n여성  A01A05A06  455200  73516",
      "text/html": "<div>\n<style scoped>\n    .dataframe tbody tr th:only-of-type {\n        vertical-align: middle;\n    }\n\n    .dataframe tbody tr th {\n        vertical-align: top;\n    }\n\n    .dataframe thead th {\n        text-align: right;\n    }\n</style>\n<table border=\"1\" class=\"dataframe\">\n  <thead>\n    <tr style=\"text-align: right;\">\n      <th></th>\n      <th>국적코드</th>\n      <th>입국객수</th>\n      <th>증가수</th>\n    </tr>\n    <tr>\n      <th>성별</th>\n      <th></th>\n      <th></th>\n      <th></th>\n    </tr>\n  </thead>\n  <tbody>\n    <tr>\n      <th>남성</th>\n      <td>A01A05A06</td>\n      <td>284212</td>\n      <td>32496</td>\n    </tr>\n    <tr>\n      <th>여성</th>\n      <td>A01A05A06</td>\n      <td>455200</td>\n      <td>73516</td>\n    </tr>\n  </tbody>\n</table>\n</div>"
     },
     "execution_count": 40,
     "metadata": {},
     "output_type": "execute_result"
    }
   ],
   "source": [
    "s1.groupby(['성별']).sum()  # 성별을 기준으로 그룹화 \n"
   ],
   "metadata": {
    "collapsed": false,
    "ExecuteTime": {
     "end_time": "2024-03-13T00:38:40.052808Z",
     "start_time": "2024-03-13T00:38:40.043440Z"
    }
   },
   "id": "16c41588e95528d3",
   "execution_count": 40
  },
  {
   "cell_type": "code",
   "outputs": [
    {
     "data": {
      "text/plain": "<bound method GroupBy.sum of <pandas.core.groupby.generic.DataFrameGroupBy object at 0x000001943F128A50>>"
     },
     "execution_count": 41,
     "metadata": {},
     "output_type": "execute_result"
    }
   ],
   "source": [
    "# pandas 에는 또 다른 기능\n",
    "# 여러 열을 기준으로 그룹화하기\n",
    "s1.groupby(['국적코드', '성별']).sum"
   ],
   "metadata": {
    "collapsed": false,
    "ExecuteTime": {
     "end_time": "2024-03-13T00:38:40.076680Z",
     "start_time": "2024-03-13T00:38:40.071929Z"
    }
   },
   "id": "7b11711e5e065a8",
   "execution_count": 41
  },
  {
   "cell_type": "code",
   "outputs": [
    {
     "data": {
      "text/plain": "       항목  사례수    증가    감소  변화없음\n0    스마트폰  999  78.9   1.7  19.4\n1    텔레비전  965  68.5   3.9  27.6\n2  개인용 PC  973  65.7   3.7  30.6\n3  태블릿 PC  662  46.8   4.2  49.0\n4     라디오  687  35.5  12.5  52.0",
      "text/html": "<div>\n<style scoped>\n    .dataframe tbody tr th:only-of-type {\n        vertical-align: middle;\n    }\n\n    .dataframe tbody tr th {\n        vertical-align: top;\n    }\n\n    .dataframe thead th {\n        text-align: right;\n    }\n</style>\n<table border=\"1\" class=\"dataframe\">\n  <thead>\n    <tr style=\"text-align: right;\">\n      <th></th>\n      <th>항목</th>\n      <th>사례수</th>\n      <th>증가</th>\n      <th>감소</th>\n      <th>변화없음</th>\n    </tr>\n  </thead>\n  <tbody>\n    <tr>\n      <th>0</th>\n      <td>스마트폰</td>\n      <td>999</td>\n      <td>78.9</td>\n      <td>1.7</td>\n      <td>19.4</td>\n    </tr>\n    <tr>\n      <th>1</th>\n      <td>텔레비전</td>\n      <td>965</td>\n      <td>68.5</td>\n      <td>3.9</td>\n      <td>27.6</td>\n    </tr>\n    <tr>\n      <th>2</th>\n      <td>개인용 PC</td>\n      <td>973</td>\n      <td>65.7</td>\n      <td>3.7</td>\n      <td>30.6</td>\n    </tr>\n    <tr>\n      <th>3</th>\n      <td>태블릿 PC</td>\n      <td>662</td>\n      <td>46.8</td>\n      <td>4.2</td>\n      <td>49.0</td>\n    </tr>\n    <tr>\n      <th>4</th>\n      <td>라디오</td>\n      <td>687</td>\n      <td>35.5</td>\n      <td>12.5</td>\n      <td>52.0</td>\n    </tr>\n  </tbody>\n</table>\n</div>"
     },
     "execution_count": 42,
     "metadata": {},
     "output_type": "execute_result"
    }
   ],
   "source": [
    "# 문제 (2024-03-13, am 09:15)\n",
    "# covid.csv 파일을 읽고\n",
    "# '사례수'가 가장 높은 항목의 모든 정보를 출력해 보자.\n",
    "# '증가율'이 높은 3개의 항목을 출력해보자.\n",
    "covid = pd.read_csv('../input/pandas_02/covid.csv', encoding='cp949')\n",
    "covid.head()"
   ],
   "metadata": {
    "collapsed": false,
    "ExecuteTime": {
     "end_time": "2024-03-13T00:38:40.196963Z",
     "start_time": "2024-03-13T00:38:40.184650Z"
    }
   },
   "id": "6b17f6100ec7b747",
   "execution_count": 42
  },
  {
   "cell_type": "code",
   "outputs": [],
   "source": [
    "# 2. '사례수'가 가장 높은 항목의 모든 정보를 출력\n",
    "# 조건문과 불 인덱싱 사용\n",
    "# result = covid.groupby(['사례수']).sum()\n",
    "# result\n",
    "df_tmp = covid['사례수'] == covid['사례수'].max()"
   ],
   "metadata": {
    "collapsed": false,
    "ExecuteTime": {
     "end_time": "2024-03-13T00:38:40.471050Z",
     "start_time": "2024-03-13T00:38:40.464937Z"
    }
   },
   "id": "d400a75daae732b7",
   "execution_count": 43
  },
  {
   "cell_type": "code",
   "outputs": [
    {
     "data": {
      "text/plain": "     항목  사례수    증가   감소  변화없음\n0  스마트폰  999  78.9  1.7  19.4",
      "text/html": "<div>\n<style scoped>\n    .dataframe tbody tr th:only-of-type {\n        vertical-align: middle;\n    }\n\n    .dataframe tbody tr th {\n        vertical-align: top;\n    }\n\n    .dataframe thead th {\n        text-align: right;\n    }\n</style>\n<table border=\"1\" class=\"dataframe\">\n  <thead>\n    <tr style=\"text-align: right;\">\n      <th></th>\n      <th>항목</th>\n      <th>사례수</th>\n      <th>증가</th>\n      <th>감소</th>\n      <th>변화없음</th>\n    </tr>\n  </thead>\n  <tbody>\n    <tr>\n      <th>0</th>\n      <td>스마트폰</td>\n      <td>999</td>\n      <td>78.9</td>\n      <td>1.7</td>\n      <td>19.4</td>\n    </tr>\n  </tbody>\n</table>\n</div>"
     },
     "execution_count": 44,
     "metadata": {},
     "output_type": "execute_result"
    }
   ],
   "source": [
    "df1 = covid[df_tmp]  # <- 얘가 판다스에서 맛집기능임\n",
    "df1"
   ],
   "metadata": {
    "collapsed": false,
    "ExecuteTime": {
     "end_time": "2024-03-13T00:38:40.514637Z",
     "start_time": "2024-03-13T00:38:40.503908Z"
    }
   },
   "id": "ec04f74981676d60",
   "execution_count": 44
  },
  {
   "cell_type": "code",
   "outputs": [
    {
     "data": {
      "text/plain": "       항목  사례수    증가    감소  변화없음\n0    스마트폰  999  78.9   1.7  19.4\n1    텔레비전  965  68.5   3.9  27.6\n2  개인용 PC  973  65.7   3.7  30.6\n3  태블릿 PC  662  46.8   4.2  49.0\n4     라디오  687  35.5  12.5  52.0\n5    잡지·책  776  31.3  17.8  50.9\n6    종이신문  552  17.6  23.2  59.2",
      "text/html": "<div>\n<style scoped>\n    .dataframe tbody tr th:only-of-type {\n        vertical-align: middle;\n    }\n\n    .dataframe tbody tr th {\n        vertical-align: top;\n    }\n\n    .dataframe thead th {\n        text-align: right;\n    }\n</style>\n<table border=\"1\" class=\"dataframe\">\n  <thead>\n    <tr style=\"text-align: right;\">\n      <th></th>\n      <th>항목</th>\n      <th>사례수</th>\n      <th>증가</th>\n      <th>감소</th>\n      <th>변화없음</th>\n    </tr>\n  </thead>\n  <tbody>\n    <tr>\n      <th>0</th>\n      <td>스마트폰</td>\n      <td>999</td>\n      <td>78.9</td>\n      <td>1.7</td>\n      <td>19.4</td>\n    </tr>\n    <tr>\n      <th>1</th>\n      <td>텔레비전</td>\n      <td>965</td>\n      <td>68.5</td>\n      <td>3.9</td>\n      <td>27.6</td>\n    </tr>\n    <tr>\n      <th>2</th>\n      <td>개인용 PC</td>\n      <td>973</td>\n      <td>65.7</td>\n      <td>3.7</td>\n      <td>30.6</td>\n    </tr>\n    <tr>\n      <th>3</th>\n      <td>태블릿 PC</td>\n      <td>662</td>\n      <td>46.8</td>\n      <td>4.2</td>\n      <td>49.0</td>\n    </tr>\n    <tr>\n      <th>4</th>\n      <td>라디오</td>\n      <td>687</td>\n      <td>35.5</td>\n      <td>12.5</td>\n      <td>52.0</td>\n    </tr>\n    <tr>\n      <th>5</th>\n      <td>잡지·책</td>\n      <td>776</td>\n      <td>31.3</td>\n      <td>17.8</td>\n      <td>50.9</td>\n    </tr>\n    <tr>\n      <th>6</th>\n      <td>종이신문</td>\n      <td>552</td>\n      <td>17.6</td>\n      <td>23.2</td>\n      <td>59.2</td>\n    </tr>\n  </tbody>\n</table>\n</div>"
     },
     "execution_count": 46,
     "metadata": {},
     "output_type": "execute_result"
    }
   ],
   "source": [
    "# result2 = covid.groupby(['증가']).sum()\n",
    "# result2.head(3)\n",
    "# 3. 증가율'이 높은 3개의 항목을 출력해보자.\n",
    "df2 = covid.sort_values(['증가'], ascending=False)\n",
    "df2"
   ],
   "metadata": {
    "collapsed": false,
    "ExecuteTime": {
     "end_time": "2024-03-13T00:40:46.755817Z",
     "start_time": "2024-03-13T00:40:46.741406Z"
    }
   },
   "id": "8b81599ec20b7b5c",
   "execution_count": 46
  },
  {
   "cell_type": "code",
   "outputs": [
    {
     "data": {
      "text/plain": "       항목  사례수    증가   감소  변화없음\n0    스마트폰  999  78.9  1.7  19.4\n1    텔레비전  965  68.5  3.9  27.6\n2  개인용 PC  973  65.7  3.7  30.6",
      "text/html": "<div>\n<style scoped>\n    .dataframe tbody tr th:only-of-type {\n        vertical-align: middle;\n    }\n\n    .dataframe tbody tr th {\n        vertical-align: top;\n    }\n\n    .dataframe thead th {\n        text-align: right;\n    }\n</style>\n<table border=\"1\" class=\"dataframe\">\n  <thead>\n    <tr style=\"text-align: right;\">\n      <th></th>\n      <th>항목</th>\n      <th>사례수</th>\n      <th>증가</th>\n      <th>감소</th>\n      <th>변화없음</th>\n    </tr>\n  </thead>\n  <tbody>\n    <tr>\n      <th>0</th>\n      <td>스마트폰</td>\n      <td>999</td>\n      <td>78.9</td>\n      <td>1.7</td>\n      <td>19.4</td>\n    </tr>\n    <tr>\n      <th>1</th>\n      <td>텔레비전</td>\n      <td>965</td>\n      <td>68.5</td>\n      <td>3.9</td>\n      <td>27.6</td>\n    </tr>\n    <tr>\n      <th>2</th>\n      <td>개인용 PC</td>\n      <td>973</td>\n      <td>65.7</td>\n      <td>3.7</td>\n      <td>30.6</td>\n    </tr>\n  </tbody>\n</table>\n</div>"
     },
     "execution_count": 47,
     "metadata": {},
     "output_type": "execute_result"
    }
   ],
   "source": [
    "df3 = df2.iloc[:3]  #0,1,2번 인덱스 까지\n",
    "df3"
   ],
   "metadata": {
    "collapsed": false,
    "ExecuteTime": {
     "end_time": "2024-03-13T00:41:35.364297Z",
     "start_time": "2024-03-13T00:41:35.352930Z"
    }
   },
   "id": "52a9abfd27f08e6d",
   "execution_count": 47
  }
 ],
 "metadata": {
  "kernelspec": {
   "display_name": "Python 3",
   "language": "python",
   "name": "python3"
  },
  "language_info": {
   "codemirror_mode": {
    "name": "ipython",
    "version": 2
   },
   "file_extension": ".py",
   "mimetype": "text/x-python",
   "name": "python",
   "nbconvert_exporter": "python",
   "pygments_lexer": "ipython2",
   "version": "2.7.6"
  }
 },
 "nbformat": 4,
 "nbformat_minor": 5
}
