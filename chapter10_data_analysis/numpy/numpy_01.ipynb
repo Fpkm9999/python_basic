{
 "cells": [
  {
   "cell_type": "markdown",
   "source": [],
   "metadata": {
    "collapsed": false
   },
   "id": "e8d78bf2fc34a402"
  },
  {
   "cell_type": "code",
   "outputs": [],
   "source": [
    "# 1. 배열 생성하기\n",
    "# Numpy 는 파이썬의 내장 모듈이 아니라서 별도로 설치\n",
    "import numpy as np\n"
   ],
   "metadata": {
    "collapsed": false
   },
   "id": "2827ddbf8cbad2dc"
  },
  {
   "cell_type": "code",
   "execution_count": 3,
   "id": "initial_id",
   "metadata": {
    "collapsed": true,
    "ExecuteTime": {
     "end_time": "2024-03-11T13:09:33.230424Z",
     "start_time": "2024-03-11T13:09:33.201850Z"
    }
   },
   "outputs": [
    {
     "name": "stdout",
     "output_type": "stream",
     "text": [
      "[0, 1, 2, 3, 4, 5]\n",
      "[0 1 2 3 4 5]\n",
      "int32\n"
     ]
    }
   ],
   "source": [
    "import numpy as np\n",
    "\n",
    "# 정수 리스트로 배열 생성\n",
    "data1 = [0, 1, 2, 3, 4, 5]\n",
    "print(data1)  # [0, 1, 2, 3, 4, 5]  <-- 리스트\n",
    "\n",
    "# 1) 시퀀스 데이터로부터 배열 생성하기. array()\n",
    "# 시퀀스 데이터 seq_data 를 인자로 받아 Numpy 의 배열 객체 array object를 생성.\n",
    "# arr_obj = np.array(seq_data)\n",
    "\n",
    "\n",
    "a1 = np.array(data1)\n",
    "print(a1)  # [0 1 2 3 4 5]  <-- 콤마가 없음. NumPy는. 공백으로 구분함\n",
    "\n",
    "print(a1.dtype)  # data type 이 int32"
   ]
  },
  {
   "cell_type": "markdown",
   "source": [
    "\n",
    "# 배열 Array 이란 1) 순서가 있는 2) 같은 종류의 데이터가 저장된 집합.\n",
    "# Numpy 를 이용해 배열을 처리하기 위해서는 우선 NumPy 로 배열을 생성해야 함.\n"
   ],
   "metadata": {
    "collapsed": false
   },
   "id": "33b93d04f7ba982"
  },
  {
   "cell_type": "code",
   "outputs": [
    {
     "name": "stdout",
     "output_type": "stream",
     "text": [
      "[ 0.1  5.   4.  12.   0.5]\n",
      "float64\n"
     ]
    }
   ],
   "source": [
    "# 정수와 실수가 혼합된 경우\n",
    "\n",
    "data2 = [0.1, 5, 4, 12, 0.5]\n",
    "a2 = np.array(data2)\n",
    "print(a2)  # [ 0.1  5.   4.  12.   0.5]\n",
    "\n",
    "print(a2.dtype)  # float64  정수와 실수가 혼합 되어 있을 때 모두 실수로 변환된다.\n"
   ],
   "metadata": {
    "collapsed": false,
    "ExecuteTime": {
     "end_time": "2024-03-11T13:10:09.662378Z",
     "start_time": "2024-03-11T13:10:09.642341Z"
    }
   },
   "id": "e5b8d120a2a21f40",
   "execution_count": 4
  },
  {
   "cell_type": "code",
   "outputs": [
    {
     "name": "stdout",
     "output_type": "stream",
     "text": [
      "['0.1' '5' '4' '12' 'test']\n",
      "<U32\n"
     ]
    }
   ],
   "source": [
    "# 숫자와 문자가 있는 경우\n",
    "\n",
    "data3 = [0.1, 5, 4, 12, 'test']\n",
    "a3 = np.array(data3)\n",
    "print(a3)  # ['0.1' '5' '4' '12' 'test']\n",
    "\n",
    "print(a3.dtype)  # <U32  -> 길이가 32인 유니코드 문자열로 변환한다."
   ],
   "metadata": {
    "collapsed": false,
    "ExecuteTime": {
     "end_time": "2024-03-11T13:13:51.138453Z",
     "start_time": "2024-03-11T13:13:51.118295Z"
    }
   },
   "id": "f398a34efbac805f",
   "execution_count": 6
  },
  {
   "cell_type": "code",
   "outputs": [
    {
     "name": "stdout",
     "output_type": "stream",
     "text": [
      "[0.5  2.   0.01 8.  ]\n",
      "float64\n"
     ]
    }
   ],
   "source": [
    "# array() 에 직접 리스트를 넣어서 배열 객체도 생성 가능.\n",
    "a3 = np.array([0.5, 2, 0.01, 8])\n",
    "print(a3)  # [0.5  2.   0.01 8.  ]\n",
    "print(a3.dtype)  # float64"
   ],
   "metadata": {
    "collapsed": false,
    "ExecuteTime": {
     "end_time": "2024-03-11T13:14:43.289853Z",
     "start_time": "2024-03-11T13:14:43.274829Z"
    }
   },
   "id": "f83890d6f1d941a",
   "execution_count": 7
  },
  {
   "cell_type": "code",
   "outputs": [],
   "source": [
    "# 다차원 배열의 생성 예.\n",
    "a4 = np.array([[1, 2, 3, ], [4, 5, 6], [7, 8, 9]])\n",
    "print(a4)\n",
    "# [[1 2 3]\n",
    "#  [4 5 6]\n",
    "#  [7 8 9]]"
   ],
   "metadata": {
    "collapsed": false
   },
   "id": "92d1f0caf471e611"
  },
  {
   "cell_type": "code",
   "outputs": [
    {
     "name": "stdout",
     "output_type": "stream",
     "text": [
      "[0 2 4 6 8]\n",
      "[1 2 3 4 5 6 7 8 9]\n",
      "[0 1 2 3 4]\n"
     ]
    }
   ],
   "source": [
    "a1 = np.arange(0, 10, 2)\n",
    "print(a1)  # [0 2 4 6 8]\n",
    "\n",
    "a2 = np.arange(1, 10)\n",
    "print(a2)  # [1 2 3 4 5 6 7 8 9]\n",
    "\n",
    "a3 = np.arange(5)\n",
    "print(a3)  # [0 1 2 3 4]"
   ],
   "metadata": {
    "collapsed": false,
    "ExecuteTime": {
     "end_time": "2024-03-11T13:38:42.059549Z",
     "start_time": "2024-03-11T13:38:42.043994Z"
    }
   },
   "id": "1e68060e269c10c",
   "execution_count": 11
  },
  {
   "cell_type": "code",
   "outputs": [
    {
     "name": "stdout",
     "output_type": "stream",
     "text": [
      "[[ 0  1  2]\n",
      " [ 3  4  5]\n",
      " [ 6  7  8]\n",
      " [ 9 10 11]]\n"
     ]
    }
   ],
   "source": [
    "\n",
    "# NumPy 배열의 arange() 를 이용해 생성한 1차원 배열에 reshape(m, n) 을 추가하면 m * n 형태의 2차원 배열(행렬)로 변경.\n",
    "# 주의할 점은 arange()로 생성되는 배열의 원소 개수와 reshape(m, n)의 m * n의 개수가 같아야 함.\n",
    "a4 = np.arange(12).reshape(4, 3)  # 4행 3열 4행*3열 =12 , arange = 12 둘다 동일해야 가능하다\n",
    "print(a4)\n",
    "# [[ 0  1  2]\n",
    "#  [ 3  4  5]\n",
    "#  [ 6  7  8]\n",
    "#  [ 9 10 11]]"
   ],
   "metadata": {
    "collapsed": false,
    "ExecuteTime": {
     "end_time": "2024-03-11T13:39:36.014170Z",
     "start_time": "2024-03-11T13:39:35.996915Z"
    }
   },
   "id": "807e07137d2db918",
   "execution_count": 12
  },
  {
   "cell_type": "code",
   "outputs": [
    {
     "name": "stdout",
     "output_type": "stream",
     "text": [
      "(4, 3)\n",
      "(5,)\n"
     ]
    }
   ],
   "source": [
    "# NumPy 배열의 형태를 알기 위해서는 'ndarra.shape' 를 실행.\n",
    "print(a4.shape)  # (4,3)\n",
    "\n",
    "# 1차원 배열의 경우 '(n, )' 처럼 표시.\n",
    "print(a1.shape)  # (5,)"
   ],
   "metadata": {
    "collapsed": false,
    "ExecuteTime": {
     "end_time": "2024-03-11T13:40:28.955835Z",
     "start_time": "2024-03-11T13:40:28.935861Z"
    }
   },
   "id": "67f207d414d45f8c",
   "execution_count": 13
  },
  {
   "cell_type": "code",
   "outputs": [
    {
     "name": "stdout",
     "output_type": "stream",
     "text": [
      "[ 0.   2.5  5.   7.5 10. ]\n",
      "[0.         0.11111111 0.22222222 0.33333333 0.44444444 0.55555556\n",
      " 0.66666667 0.77777778 0.88888889 1.        ]\n",
      "[0.  0.1 0.2 0.3 0.4 0.5 0.6 0.7 0.8 0.9]\n",
      "[0.   0.25 0.5  0.75 1.  ]\n",
      "Step size: 0.25\n"
     ]
    }
   ],
   "source": [
    "import numpy as np\n",
    "\n",
    "# 0부터 10까지, 총 5개의 숫자 생성\n",
    "arr = np.linspace(0, 10, 5)\n",
    "print(arr)\n",
    "\n",
    "# 0부터 1까지, 총 10개의 숫자 생성, 끝값 포함\n",
    "arr = np.linspace(0, 1, 10)\n",
    "print(arr)\n",
    "\n",
    "# 0부터 1까지, 총 10개의 숫자 생성, 끝값 미포함\n",
    "arr = np.linspace(0, 1, 10, endpoint=False)\n",
    "print(arr)\n",
    "\n",
    "# 샘플 간의 간격도 함께 반환\n",
    "arr, step = np.linspace(0, 1, 5, retstep=True)\n",
    "print(arr)\n",
    "print(\"Step size:\", step)\n"
   ],
   "metadata": {
    "collapsed": false,
    "ExecuteTime": {
     "end_time": "2024-03-11T13:49:32.109101Z",
     "start_time": "2024-03-11T13:49:32.080097Z"
    }
   },
   "id": "ac12a811bcfae1aa",
   "execution_count": 14
  },
  {
   "cell_type": "code",
   "outputs": [
    {
     "name": "stdout",
     "output_type": "stream",
     "text": [
      "[ 1.  2.  3.  4.  5.  6.  7.  8.  9. 10.]\n",
      "float64\n",
      "[ 1.  4.  7. 10.]\n"
     ]
    }
   ],
   "source": [
    "a1 = np.linspace(1, 10, 10)\n",
    "print(a1)  # [ 1.  2.  3.  4.  5.  6.  7.  8.  9. 10.]\n",
    "print(a1.dtype) # float64\n",
    "\n",
    "a2 = np.linspace(1, 10, 4)\n",
    "print(a2)  # [ 1.  4.  7. 10.]"
   ],
   "metadata": {
    "collapsed": false,
    "ExecuteTime": {
     "end_time": "2024-03-11T13:54:36.892452Z",
     "start_time": "2024-03-11T13:54:36.870336Z"
    }
   },
   "id": "7f22b05c8c1454e8",
   "execution_count": 16
  },
  {
   "cell_type": "code",
   "outputs": [
    {
     "name": "stdout",
     "output_type": "stream",
     "text": [
      "[0.         0.16534698 0.33069396 0.49604095 0.66138793 0.82673491\n",
      " 0.99208189 1.15742887 1.32277585 1.48812284 1.65346982 1.8188168\n",
      " 1.98416378 2.14951076 2.31485774 2.48020473 2.64555171 2.81089869\n",
      " 2.97624567 3.14159265]\n",
      "3.141592653589793\n"
     ]
    }
   ],
   "source": [
    "# 0부터 파이까지 동일한 간격으로 20개를 나눈 배열 생성.\n",
    "a3 = np.linspace(0, np.pi, 20)\n",
    "print(a3)\n",
    "# [0.         0.16534698 0.33069396 0.49604095 0.66138793 0.82673491\n",
    "#  0.99208189 1.15742887 1.32277585 1.48812284 1.65346982 1.8188168\n",
    "#  1.98416378 2.14951076 2.31485774 2.48020473 2.64555171 2.81089869\n",
    "#  2.97624567 3.14159265]\n",
    "print(np.pi)  # 3.141592653589793"
   ],
   "metadata": {
    "collapsed": false,
    "ExecuteTime": {
     "end_time": "2024-03-11T13:55:04.358839Z",
     "start_time": "2024-03-11T13:55:04.347736Z"
    }
   },
   "id": "37d5a7d1ada0ffc1",
   "execution_count": 17
  },
  {
   "cell_type": "code",
   "outputs": [
    {
     "name": "stdout",
     "output_type": "stream",
     "text": [
      "[0 0 0 0 1]\n"
     ]
    }
   ],
   "source": [
    "arr = np.linspace(0, 1, 5, dtype=int)\n",
    "print(arr)  # 출력할 때 정수 형태로 변환된 값을 볼 수 있습니다.\n",
    "# [0 0 0 0 1]"
   ],
   "metadata": {
    "collapsed": false,
    "ExecuteTime": {
     "end_time": "2024-03-11T13:57:09.463790Z",
     "start_time": "2024-03-11T13:57:09.441197Z"
    }
   },
   "id": "d3e7833ba7a1fc2",
   "execution_count": 18
  },
  {
   "cell_type": "code",
   "outputs": [
    {
     "name": "stdout",
     "output_type": "stream",
     "text": [
      "[0. 0. 0. 0. 0. 0. 0. 0. 0. 0.]\n",
      "float64\n",
      "[[0. 0. 0. 0.]\n",
      " [0. 0. 0. 0.]\n",
      " [0. 0. 0. 0.]]\n",
      "[1. 1. 1. 1. 1.]\n",
      "float64\n"
     ]
    }
   ],
   "source": [
    "# 3) 특별한 형태의 배열 생성.\n",
    "\n",
    "# 원소가 0이고 개수가 10개인 1차원 배열 생성.\n",
    "a1 = np.zeros(10)\n",
    "print(a1)  # [0. 0. 0. 0. 0. 0. 0. 0. 0. 0.]\n",
    "print(a1.dtype)  # float64\n",
    "\n",
    "# 3 * 4 의 2차원 배열을 생성.\n",
    "a2 = np.zeros((3, 4))\n",
    "print(a2)\n",
    "# [[0. 0. 0. 0.]\n",
    "#  [0. 0. 0. 0.]\n",
    "#  [0. 0. 0. 0.]]\n",
    "\n",
    "a3 = np.ones(5)\n",
    "print(a3)  # [1. 1. 1. 1. 1.]\n",
    "print(a3.dtype)  # float64"
   ],
   "metadata": {
    "collapsed": false,
    "ExecuteTime": {
     "end_time": "2024-03-11T13:59:37.886349Z",
     "start_time": "2024-03-11T13:59:37.874817Z"
    }
   },
   "id": "c5582ce8db524714",
   "execution_count": 21
  },
  {
   "cell_type": "code",
   "outputs": [
    {
     "name": "stdout",
     "output_type": "stream",
     "text": [
      "['1.5' '0.62' '2' '3.14' '3.141592']\n",
      "<U8\n"
     ]
    }
   ],
   "source": [
    "# 4) 배열의 데이터 타입 변환.\n",
    "# 문자열이 원소인 배열 생성 예\n",
    "a1 = np.array(['1.5', '0.62', '2', '3.14', '3.141592'])\n",
    "print(a1)  # ['1.5' '0.62' '2' '3.14' '3.141592']\n",
    "\n",
    "print(a1.dtype)  # <U8\n",
    "\n",
    "# NumPy 데이터의 형식.\n",
    "# b : 불. bool\n",
    "# i : 기호가 있는 정수. (signed) integer\n",
    "# u : 기호가 없는 정수. unsigned integer\n",
    "# f : 실수. floating-point\n",
    "# c : 복소수. complex-floating point\n",
    "# M : 날짜. datetime\n",
    "# O : 파이썬 객체. (Python) objects\n",
    "# S or a : 바이트 문자열. (byte) string\n",
    "# U : 유니코드. Unicode"
   ],
   "metadata": {
    "collapsed": false,
    "ExecuteTime": {
     "end_time": "2024-03-11T14:02:40.825738Z",
     "start_time": "2024-03-11T14:02:40.803664Z"
    }
   },
   "id": "b9c67cdd158a71f1",
   "execution_count": 22
  },
  {
   "cell_type": "code",
   "outputs": [
    {
     "name": "stdout",
     "output_type": "stream",
     "text": [
      "[1.567 0.123 5.123 9.    8.   ]\n",
      "<U5\n",
      "float64\n",
      "[1 3 5 7 9]\n",
      "<U1\n",
      "int32\n"
     ]
    }
   ],
   "source": [
    "# 실수가 입력된 문자열을 원소로 갖는 배열을 실수 타입으로 변환하는 예\n",
    "str_a1 = np.array(['1.567', '0.123', '5.123', '9', '8'])\n",
    "\n",
    "num_a1 = str_a1.astype(float)\n",
    "print(num_a1)  # [1.567 0.123 5.123 9.    8.   ]\n",
    "print(str_a1.dtype)  # <U5\n",
    "print(num_a1.dtype)  # float64\n",
    "\n",
    "# 정수를 문자열 원소로 갖는 배열을 정수로 변환하는 예.\n",
    "str_a2 = np.array(['1', '3', '5', '7', '9'])\n",
    "num_a2 = str_a2.astype(int)\n",
    "\n",
    "print(num_a2)  # [1 3 5 7 9]\n",
    "print(str_a2.dtype)  # <U1\n",
    "print(num_a2.dtype)  # int32"
   ],
   "metadata": {
    "collapsed": false,
    "ExecuteTime": {
     "end_time": "2024-03-11T14:11:31.214530Z",
     "start_time": "2024-03-11T14:11:31.198715Z"
    }
   },
   "id": "300dc7df70921e0c",
   "execution_count": 23
  },
  {
   "cell_type": "code",
   "outputs": [],
   "source": [
    "# 5) 난수 배열의 생성.\n",
    "# Numpy 에서 난수를 발생시킬 수 있는 다양한 함수가 있음.\n",
    "# rand() 함수를 이용하여 실수 난수를 요소로 갖는 배열을 생성.\n",
    "# randint() 함수를 이용하면 정수 난수를 요소로 갖는 배열을 생성.\n",
    "# rand_num = np.random.rand([d0,d1, ... , dn])\n",
    "# rand_num = np.random.randint([low,] high [, size])"
   ],
   "metadata": {
    "collapsed": false
   },
   "id": "f11b7e5aa0554036"
  },
  {
   "cell_type": "code",
   "outputs": [
    {
     "name": "stdout",
     "output_type": "stream",
     "text": [
      "[0.06193261 0.61502617 0.79459541]\n",
      "[ 0.89185773  0.30711385  0.90915782 -0.38081043  0.77011072]\n",
      "[5 9 8]\n",
      "[4 8 6 5]\n",
      "[1.5601864  1.5599452  0.58083612 8.66176146 6.01115012]\n"
     ]
    }
   ],
   "source": [
    "import numpy as np\n",
    "\n",
    "# [0, 1) 범위에서 무작위로 세 개의 실수 생성\n",
    "print(np.random.rand(3))    # [0.06193261 0.61502617 0.79459541]\n",
    "\n",
    "\n",
    "# 평균이 0이고 표준편차가 1인 정규 분포에서 다섯 개의 실수 생성\n",
    "print(np.random.randn(5))   # [ 0.89185773  0.30711385  0.90915782 -0.38081043  0.77011072]\n",
    "\n",
    "\n",
    "# 1과 10 사이의 세 개의 정수 생성\n",
    "print(np.random.randint(1, 10, size=3)) # [5 9 8]\n",
    "\n",
    "\n",
    "# 시드 값 설정\n",
    "np.random.seed(42)\n",
    "\n",
    "# 이항 분포 예시\n",
    "print(np.random.binomial(n=10, p=0.5, size=4))  # [4 8 6 5]\n",
    "\n",
    "\n",
    "# 균일 분포 예시\n",
    "print(np.random.uniform(low=0, high=10, size=5))    # [1.5601864  1.5599452  0.58083612 8.66176146 6.01115012]\n"
   ],
   "metadata": {
    "collapsed": false,
    "ExecuteTime": {
     "end_time": "2024-03-11T14:17:41.618711Z",
     "start_time": "2024-03-11T14:17:41.595663Z"
    }
   },
   "id": "7954947e4dc66a79",
   "execution_count": 24
  },
  {
   "cell_type": "code",
   "outputs": [
    {
     "name": "stdout",
     "output_type": "stream",
     "text": [
      "[[0.70807258 0.02058449 0.96990985]\n",
      " [0.83244264 0.21233911 0.18182497]]\n",
      "0.18340450985343382\n",
      "[[[0.30424224 0.52475643 0.43194502 0.29122914]\n",
      "  [0.61185289 0.13949386 0.29214465 0.36636184]\n",
      "  [0.45606998 0.78517596 0.19967378 0.51423444]]\n",
      "\n",
      " [[0.59241457 0.04645041 0.60754485 0.17052412]\n",
      "  [0.06505159 0.94888554 0.96563203 0.80839735]\n",
      "  [0.30461377 0.09767211 0.68423303 0.44015249]]]\n",
      "[[6 7 2 0]\n",
      " [3 1 7 3]\n",
      " [1 5 5 9]]\n",
      "4\n",
      "[22 29 18]\n"
     ]
    }
   ],
   "source": [
    "a1 = np.random.rand(2, 3)  # 2행 3열\n",
    "print(a1)\n",
    "# [[0.57990916 0.55837668 0.81518476]\n",
    "#  [0.681181   0.13706035 0.94941191]]\n",
    "\n",
    "a2 = np.random.rand()\n",
    "print(a2)  # 923720085929832 <- 단 하나의 값만 뽑음\n",
    "\n",
    "a3 = np.random.rand(2, 3, 4)  # 3차원 배열 <- 된다는것만 보셈. 3차원까지는 잘 사용안함\n",
    "print(a3)\n",
    "# [[[0.5322846  0.56993197 0.8900606  0.26343003]\n",
    "#   [0.22479969 0.53165433 0.46174664 0.95116995]\n",
    "#   [0.13805994 0.55327013 0.67772248 0.24138498]]\n",
    "#\n",
    "#  [[0.30346752 0.65417356 0.04857577 0.24004361]\n",
    "#   [0.91189346 0.7484844  0.50599378 0.63969585]\n",
    "#   [0.48294087 0.1653     0.73069005 0.30250692]]]\n",
    "\n",
    "a4 = np.random.randint(10, size=(3, 4)) # 3행 4열의 배열이 나온다 <- size는 튜플형태로 줘야함.\n",
    "    # 0에서 9까지의 정수 난수를 요소로 가지는 3 * 4 배열을 생성.\n",
    "print(a4)\n",
    "# [[0 9 1 6]\n",
    "#  [9 7 2 3]\n",
    "#  [3 0 2 5]]\n",
    "\n",
    "a5 = np.random.randint(1,30)\n",
    "print(a5)   # 7\n",
    "\n",
    "a6 = np.random.randint(1,30,3)\n",
    "print(a6)   # [8 7 9]"
   ],
   "metadata": {
    "collapsed": false,
    "ExecuteTime": {
     "end_time": "2024-03-11T14:20:24.674289Z",
     "start_time": "2024-03-11T14:20:24.650858Z"
    }
   },
   "id": "54271417f9562be3",
   "execution_count": 25
  }
 ],
 "metadata": {
  "kernelspec": {
   "display_name": "Python 3",
   "language": "python",
   "name": "python3"
  },
  "language_info": {
   "codemirror_mode": {
    "name": "ipython",
    "version": 2
   },
   "file_extension": ".py",
   "mimetype": "text/x-python",
   "name": "python",
   "nbconvert_exporter": "python",
   "pygments_lexer": "ipython2",
   "version": "2.7.6"
  }
 },
 "nbformat": 4,
 "nbformat_minor": 5
}
