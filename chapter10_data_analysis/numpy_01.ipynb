{
 "cells": [
  {
   "cell_type": "markdown",
   "source": [],
   "metadata": {
    "collapsed": false
   },
   "id": "e8d78bf2fc34a402"
  },
  {
   "cell_type": "code",
   "outputs": [],
   "source": [
    "# 1. 배열 생성하기\n",
    "# Numpy 는 파이썬의 내장 모듈이 아니라서 별도로 설치\n"
   ],
   "metadata": {
    "collapsed": false
   },
   "id": "2827ddbf8cbad2dc"
  },
  {
   "cell_type": "code",
   "execution_count": null,
   "id": "initial_id",
   "metadata": {
    "collapsed": true
   },
   "outputs": [],
   "source": [
    "import numpy as np\n"
   ]
  }
 ],
 "metadata": {
  "kernelspec": {
   "display_name": "Python 3",
   "language": "python",
   "name": "python3"
  },
  "language_info": {
   "codemirror_mode": {
    "name": "ipython",
    "version": 2
   },
   "file_extension": ".py",
   "mimetype": "text/x-python",
   "name": "python",
   "nbconvert_exporter": "python",
   "pygments_lexer": "ipython2",
   "version": "2.7.6"
  }
 },
 "nbformat": 4,
 "nbformat_minor": 5
}
