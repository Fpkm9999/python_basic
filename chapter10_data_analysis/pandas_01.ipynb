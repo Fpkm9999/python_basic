{
 "cells": [
  {
   "cell_type": "markdown",
   "source": [
    "#### pandas 라이브러리 : 파이썬에서 데이터 분석과 처리를 쉽게 처리할 수 있게 도와줌.\n",
    "- pandas 는 numpy를 기반으로 만들어 졌지만 좀 더 복잡한 데이터 분석에 특화.\n",
    "- numpy가 같은 데이터 타입의 배열만 처리할 수 있는데 반해 pandas 는 데이터 타입이 다양하게 섞여 있을 떄도 처리 가능.\n",
    "\n",
    "> 공식 홈페이지 : https://pandas.pydata.org/"
   ],
   "metadata": {
    "collapsed": false
   },
   "id": "81b12a33eab3a579"
  },
  {
   "cell_type": "code",
   "execution_count": null,
   "id": "initial_id",
   "metadata": {
    "collapsed": true
   },
   "outputs": [],
   "source": [
    "# 1. 구조적 데이터 생성하기\n",
    "\n",
    "# 1) Series를 활용한 데이터 생성\n",
    "import pandas as pd\n",
    "# import numpy as np"
   ]
  },
  {
   "cell_type": "markdown",
   "source": [
    "- pandas 에서 데이터를 생성하는 가장 기본적인 방법은 Series() 를 이용하는 것임.\n",
    "- Series() 를 이용하면 Series 형식의 구조적 데이터(라벨을 갖는 1차원 데이터)를 생성할 수 있음.\n",
    "- 다음은 Series() 를 이용해 Series 형식의 데이터를 생성하는 방법.\n",
    "- s = pd.Series(seq_data)\n",
    "- Series() 의 인자로는 시퀀스 데이터가 들어감\n",
    "- 시퀀스 데이터로는 리스트와 튜플 타입의 데이터를 모두 사용할 수 있지만 주로 리스트 데이터를 이용."
   ],
   "metadata": {
    "collapsed": false
   },
   "id": "308d03c57f40a304"
  },
  {
   "cell_type": "code",
   "outputs": [
    {
     "name": "stdout",
     "output_type": "stream",
     "text": [
      "0    10\n",
      "1    20\n",
      "2    30\n",
      "3    40\n",
      "4    50\n",
      "dtype: int64\n"
     ]
    }
   ],
   "source": [
    "# 예시1\n",
    "import pandas as pd\n",
    "\n",
    "s1 = pd.Series([10, 20, 30, 40, 50])\n",
    "print(s1)\n",
    "#0    10\n",
    "# 1    20\n",
    "# 2    30\n",
    "# 3    40\n",
    "# 4    50\n",
    "# dtype: int64\n"
   ],
   "metadata": {
    "collapsed": false,
    "ExecuteTime": {
     "end_time": "2024-03-11T07:49:02.730656Z",
     "start_time": "2024-03-11T07:49:01.782986Z"
    }
   },
   "id": "aa31ac9f9fc674fc",
   "execution_count": 3
  },
  {
   "cell_type": "code",
   "outputs": [
    {
     "data": {
      "text/plain": "0    10\n1    20\n2    30\n3    40\n4    50\ndtype: int64"
     },
     "execution_count": 6,
     "metadata": {},
     "output_type": "execute_result"
    }
   ],
   "source": [
    "s1 = pd.Series([10, 20, 30, 40, 50])\n",
    "s1  #<-- 마지막에 print할려는 경우 생략하면 아래와 같이 출력이됨."
   ],
   "metadata": {
    "collapsed": false,
    "ExecuteTime": {
     "end_time": "2024-03-11T07:51:48.949615Z",
     "start_time": "2024-03-11T07:51:48.921304Z"
    }
   },
   "id": "57ccc6920f0237c6",
   "execution_count": 6
  }
 ],
 "metadata": {
  "kernelspec": {
   "display_name": "Python 3",
   "language": "python",
   "name": "python3"
  },
  "language_info": {
   "codemirror_mode": {
    "name": "ipython",
    "version": 2
   },
   "file_extension": ".py",
   "mimetype": "text/x-python",
   "name": "python",
   "nbconvert_exporter": "python",
   "pygments_lexer": "ipython2",
   "version": "2.7.6"
  }
 },
 "nbformat": 4,
 "nbformat_minor": 5
}
