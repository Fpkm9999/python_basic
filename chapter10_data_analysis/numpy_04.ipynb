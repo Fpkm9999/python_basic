{
 "cells": [
  {
   "cell_type": "code",
   "execution_count": 3,
   "id": "initial_id",
   "metadata": {
    "collapsed": true,
    "ExecuteTime": {
     "end_time": "2024-03-11T07:03:15.704214Z",
     "start_time": "2024-03-11T07:03:15.693186Z"
    }
   },
   "outputs": [
    {
     "name": "stdout",
     "output_type": "stream",
     "text": [
      "[4 5 6]\n",
      "[2 4 6]\n",
      "40\n"
     ]
    }
   ],
   "source": [
    "import numpy as np\n",
    "\n",
    "# 배열에 조건을 지정해 조건을 만족하는 배열을 선택(조건에 맞는 배열만 출력이 가능하다)\n",
    "# 배열명[whrjs]\n",
    "\n",
    "a = np.array([1, 2, 3, 4, 5, 6])\n",
    "print(a[a > 3])  # [4 5 6]\n",
    "\n",
    "# 짝수만 선택하는 예.\n",
    "print(a[a % 2 == 0])  # [2 4 6]\n",
    "# 통상적으로 반복문을 돌려야 했는데 numpy를 사용하면 그렇게 안해도 된다.\n",
    "a1 = np.array([0, 10, 20, 30, 40, 50])\n",
    "\n",
    "# -인덱스도 사용가능\n",
    "print(a1[-2])  # 40"
   ]
  },
  {
   "cell_type": "code",
   "outputs": [
    {
     "name": "stdout",
     "output_type": "stream",
     "text": [
      "[10 20 30]\n",
      "[ 0 10 20]\n",
      "[20 30 40 50]\n",
      "[ 0 10 20 30 40 50]\n",
      "[ 0 10 25 35 45 50]\n",
      "[ 0 10 25 60 60 60]\n"
     ]
    }
   ],
   "source": [
    "import numpy as np\n",
    "\n",
    "# 2) 배열의 슬라이싱.\n",
    "# 1차원 배열의 경우 슬라이싱은 배열의 시작과 끝 위치를 지정.\n",
    "# 배열[시작_위치:끝_위치]\n",
    "# 반환되는 원소의 범위는 '시작_위치 ~ 끝_위치 - 1'\n",
    "# 시작 위치를 지정하지 않으면 0.\n",
    "# 끝 위치를 지정하지 않으면 배열이 길이.\n",
    "\n",
    "b1 = np.array([0, 10, 20, 30, 40, 50])\n",
    "print(b1[1:4])  # [10 20 30]. 1 ~ 3\n",
    "\n",
    "# 1차원 배열에서 '시작_위치'와 '끝_위치'를 지정하지 않고 슬라이싱 하는 예.\n",
    "print(b1[:3])  #   [ 0 10 20]. 0 ~ 2\n",
    "\n",
    "print(b1[2:])  # [20 30 40 50]. 2~\n",
    "\n",
    "print(b1[:])  # [ 0 10 20 30 40 50]\n",
    "\n",
    "# 슬라이싱을 이용해 원소를 변경할 수 있음.\n",
    "b1[2:5] = np.array([25, 35, 45])\n",
    "print(b1)  # [ 0 10 25 35 45 50]   # 2 ~ 4 변경\n",
    "\n",
    "# 여러 원소의 값을 같은 값으로 변경하는 예.\n",
    "b1[3:6] = 60\n",
    "print(b1)  # [ 0 10 25 60 60 60] # 3 ~ 5 변경\n"
   ],
   "metadata": {
    "collapsed": false,
    "ExecuteTime": {
     "end_time": "2024-03-11T07:08:15.950245Z",
     "start_time": "2024-03-11T07:08:15.928721Z"
    }
   },
   "id": "11d2330eb345ec0",
   "execution_count": 10
  },
  {
   "cell_type": "code",
   "outputs": [
    {
     "name": "stdout",
     "output_type": "stream",
     "text": [
      "[ 1  2  3  4  5  6  7  8  9 10 11 12 13 14 15 16 17 18 19 20]\n",
      "마지막 원소 : 20\n",
      "마지막 원소 : 20\n",
      "모든 원소의 합 : 210\n",
      "모든 원소의 평균 : 10.5\n",
      "[[ 1  2  3  4  5]\n",
      " [ 6  7  8  9 10]\n",
      " [11 12 13 14 15]\n",
      " [16 17 18 19 20]]\n"
     ]
    }
   ],
   "source": [
    "# exam\n",
    "# 넘파이 배열을 사용하여 1부터 20까지의 연속된 정수값을 가지는 1차원 배열을 생성하여\n",
    "# 실행결과와 같이 출력되기 위해 알맞은 코드를 쓰시오.\n",
    "\n",
    "\n",
    "# 마지막 원소 : 20\n",
    "# 모든 원소의 합 : 210\n",
    "# 모든 원소의 평균 : 10.5\n",
    "# [[ 1  2  3  4  5]\n",
    "#  [ 6  7  8  9 10]\n",
    "#  [11 12 13 14 15]\n",
    "#  [16 17 18 19 20]]\n",
    "num_arr1 = np.arange(1, 21)\n",
    "print(num_arr1)\n",
    "\n",
    "print(f'마지막 원소 : {num_arr1[num_arr1.size - 1]}')\n",
    "print(f'마지막 원소 : {num_arr1[-1]}')\n",
    "print(f'모든 원소의 합 : {num_arr1.sum()}')\n",
    "print(f'모든 원소의 평균 : {num_arr1.mean()}')\n",
    "print(num_arr1.reshape(4, 5))"
   ],
   "metadata": {
    "collapsed": false,
    "ExecuteTime": {
     "end_time": "2024-03-11T07:22:40.634916Z",
     "start_time": "2024-03-11T07:22:40.611406Z"
    }
   },
   "id": "861771636c8a2ad4",
   "execution_count": 45
  },
  {
   "cell_type": "code",
   "outputs": [
    {
     "name": "stdout",
     "output_type": "stream",
     "text": [
      "인상된 금액 : [300. 225. 270. 330. 375.]\n",
      "평균 금액 : 300.0\n",
      "평균 이상인 원소 : [300. 330. 375.]\n",
      "평균이상인 원소의 개수 : 3\n"
     ]
    }
   ],
   "source": [
    "# 학생들의 근로 장학금이 넘파이 배열에 저장되어 있다.\n",
    "# 이번 학기 학생들의 근로장학금을 1.5배 올려주려고 한다.\n",
    "# 다음은 인상된 근로장학금을 출력하고 근로장학금이 평균 근로장학금보다 많은 학생들의 근로장학금을 출력하고\n",
    "# 원소의 수를 출력하는 프로그램이다.\n",
    "\n",
    "import numpy as np\n",
    "\n",
    "salary = [200, 150, 180, 220, 250]\n",
    "\n",
    "# 인상된 금액 : [300. 225. 270. 330. 375.]\n",
    "# 평균 금액 : 300.0\n",
    "# 평균이상인 원소 : [300. 330. 375.]\n",
    "# 평균이상인 원소의 개수 : 3\n",
    "\n",
    "salary = np.array(salary) * 1.5\n",
    "print(f'인상된 금액 : {salary}')\n",
    "print(f'평균 금액 : {salary.mean()}')\n",
    "print(f'평균 이상인 원소 : {salary[salary >= salary.mean()]}')\n",
    "print(f'평균이상인 원소의 개수 : {(salary[salary >= salary.mean()]).size}')"
   ],
   "metadata": {
    "collapsed": false,
    "ExecuteTime": {
     "end_time": "2024-03-11T07:34:57.973778Z",
     "start_time": "2024-03-11T07:34:57.962972Z"
    }
   },
   "id": "b57dca8bc16c2c5c",
   "execution_count": 78
  }
 ],
 "metadata": {
  "kernelspec": {
   "display_name": "Python 3",
   "language": "python",
   "name": "python3"
  },
  "language_info": {
   "codemirror_mode": {
    "name": "ipython",
    "version": 2
   },
   "file_extension": ".py",
   "mimetype": "text/x-python",
   "name": "python",
   "nbconvert_exporter": "python",
   "pygments_lexer": "ipython2",
   "version": "2.7.6"
  }
 },
 "nbformat": 4,
 "nbformat_minor": 5
}
