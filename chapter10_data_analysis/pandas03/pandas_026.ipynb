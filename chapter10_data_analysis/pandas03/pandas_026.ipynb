{
 "cells": [
  {
   "cell_type": "code",
   "execution_count": null,
   "metadata": {},
   "outputs": [],
   "source": [
    "# 공공 데이터 포탈에서 다운받은'소상공인시장진흥공단_상가(상권)정보_대구_202312'을 사용.\n",
    "\n",
    "# 1. 필요한 정보만데이터프레임으로 변경\n",
    "# 2. 남구, 달서구, 상권업종증분류명 : 이용. 미용 지도에 표시"
   ]
  },
  {
   "cell_type": "markdown",
   "metadata": {},
   "source": [
    "###### 문제 풀이 순서\n",
    "\n",
    "1. 데이터 불러오기\n",
    ": \"소상공인시장진흥공단_상가(상권)정보_대구_202312.csv\" 파일을 pandas 를 사용하여 데이터프레임으로 불러오기\n",
    ": 데이터 프레임을 살펴보고 어떤 정보가 필요한지 결정\n",
    "\n",
    "2. 필요한 정보 추출\n",
    ": 남구, 달서구에 해당하는 데이터와 상권업종분류명이 '이용' 또는 '미용' 에 해당하는 데이터만 추출\n",
    "\n",
    "3. 지도에 표시할 데이터 준비\n",
    ": 추출한 데이터를 기반으로 지도에 표시할 데이터 준비\n",
    ": 이 데이터에는 상가의 위치(위도와 경보) 포함\n",
    "\n",
    "4. folium 을 사용하여 지도에 표시\n",
    ": folium 을 사용하여 대구의 지도를 생성\n",
    ": 추출한 데이터를 지도에 마커로 표시\n",
    ": 상가의 위치를 표시하는 마커 생성\n",
    ": 각 마커에 적절한 팝업을 설정하여 표시\n",
    "\n",
    "5. 결과 확인\n",
    ": 생성한 지도를 출력하여 정상적으로 표시되는지 확인\n"
   ]
  },
  {
   "cell_type": "code",
   "execution_count": null,
   "metadata": {},
   "outputs": [],
   "source": [
    "import pandas as pd\n",
    "import matplotlib\n",
    "import folium"
   ]
  },
  {
   "cell_type": "code",
   "execution_count": null,
   "metadata": {},
   "outputs": [],
   "source": [
    "# 1. 데이터 불러오기\n",
    "\n",
    "df = pd.read_csv('./input/소상공인시장진흥공단_상가(상권)정보_대구_202312.csv')\n",
    "# df1.head()\n",
    "# 살려야 하는거\n",
    "# 위도, 경도,\n",
    "df.head(10)\n"
   ]
  },
  {
   "cell_type": "code",
   "execution_count": null,
   "metadata": {},
   "outputs": [],
   "source": [
    "# 2. 필요한 정보 추출\n",
    "# 남구, 달서구에 해당하는 데이터와 상권업종분류명이 '이용' 또는 '미용' 에 해당하는 데이터만 추출\n",
    "# for data in df1:\n",
    "#    data\n",
    "    \n",
    "# df1['도로명주소']\n",
    "df3 = df2[(df2['시군구명']=='남구')&  (df1['시군구명']=='달서구')]\n",
    "df3"
   ]
  },
  {
   "cell_type": "code",
   "execution_count": null,
   "metadata": {},
   "outputs": [],
   "source": [
    "df3.info()"
   ]
  },
  {
   "cell_type": "code",
   "execution_count": null,
   "metadata": {},
   "outputs": [],
   "source": []
  },
  {
   "cell_type": "code",
   "execution_count": null,
   "metadata": {},
   "outputs": [],
   "source": [
    "# 기본 지도 생성\n",
    "map = folium.Map(location=[37.5665, 126.9780], zoom_start=11)\n",
    "map"
   ]
  }
 ],
 "metadata": {
  "kernelspec": {
   "display_name": "PythonBasic",
   "language": "python",
   "name": "python3"
  },
  "language_info": {
   "codemirror_mode": {
    "name": "ipython",
    "version": 3
   },
   "file_extension": ".py",
   "mimetype": "text/x-python",
   "name": "python",
   "nbconvert_exporter": "python",
   "pygments_lexer": "ipython3",
   "version": "3.11.8"
  }
 },
 "nbformat": 4,
 "nbformat_minor": 2
}
