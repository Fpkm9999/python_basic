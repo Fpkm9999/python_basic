{
 "cells": [
  {
   "cell_type": "code",
   "outputs": [
    {
     "name": "stdout",
     "output_type": "stream",
     "text": [
      "[ 1  2  3  4  5  6  7  8  9 10 11 12 13 14 15 16 17 18 19 20]\n",
      "마지막 원소 : 20\n",
      "마지막 원소 : 20\n",
      "모든 원소의 합 : 210\n",
      "모든 원소의 평균 : 10.5\n",
      "[[ 1  2  3  4  5]\n",
      " [ 6  7  8  9 10]\n",
      " [11 12 13 14 15]\n",
      " [16 17 18 19 20]]\n"
     ]
    }
   ],
   "source": [
    "import numpy as np\n",
    "# exam\n",
    "# 넘파이 배열을 사용하여 1부터 20까지의 연속된 정수값을 가지는 1차원 배열을 생성하여\n",
    "# 실행결과와 같이 출력되기 위해 알맞은 코드를 쓰시오.\n",
    "\n",
    "\n",
    "# 마지막 원소 : 20\n",
    "# 모든 원소의 합 : 210\n",
    "# 모든 원소의 평균 : 10.5\n",
    "# [[ 1  2  3  4  5]\n",
    "#  [ 6  7  8  9 10]\n",
    "#  [11 12 13 14 15]\n",
    "#  [16 17 18 19 20]]\n",
    "num_arr1 = np.arange(1, 21)\n",
    "print(num_arr1)\n",
    "\n",
    "print(f'마지막 원소 : {num_arr1[num_arr1.size - 1]}')\n",
    "print(f'마지막 원소 : {num_arr1[-1]}')\n",
    "print(f'모든 원소의 합 : {num_arr1.sum()}')\n",
    "print(f'모든 원소의 평균 : {num_arr1.mean()}')\n",
    "print(num_arr1.reshape(4, 5))"
   ],
   "metadata": {
    "collapsed": false,
    "ExecuteTime": {
     "end_time": "2024-03-11T14:52:42.828676Z",
     "start_time": "2024-03-11T14:52:42.613021Z"
    }
   },
   "id": "e1e17f2005ef24f5",
   "execution_count": 2
  },
  {
   "cell_type": "code",
   "outputs": [
    {
     "name": "stdout",
     "output_type": "stream",
     "text": [
      "인상된 금액 : [300. 225. 270. 330. 375.]\n",
      "평균 금액 : 300.0\n",
      "평균 이상인 원소 : [300. 330. 375.]\n",
      "평균이상인 원소의 개수 : 3\n"
     ]
    }
   ],
   "source": [
    "# 학생들의 근로 장학금이 넘파이 배열에 저장되어 있다.\n",
    "# 이번 학기 학생들의 근로장학금을 1.5배 올려주려고 한다.\n",
    "# 다음은 인상된 근로장학금을 출력하고 근로장학금이 평균 근로장학금보다 많은 학생들의 근로장학금을 출력하고\n",
    "# 원소의 수를 출력하는 프로그램이다.\n",
    "\n",
    "import numpy as np\n",
    "\n",
    "salary = [200, 150, 180, 220, 250]\n",
    "\n",
    "# 인상된 금액 : [300. 225. 270. 330. 375.]\n",
    "# 평균 금액 : 300.0\n",
    "# 평균이상인 원소 : [300. 330. 375.]\n",
    "# 평균이상인 원소의 개수 : 3\n",
    "\n",
    "salary = np.array(salary) * 1.5\n",
    "print(f'인상된 금액 : {salary}')\n",
    "print(f'평균 금액 : {salary.mean()}')\n",
    "print(f'평균 이상인 원소 : {salary[salary >= salary.mean()]}')\n",
    "print(f'평균이상인 원소의 개수 : {(salary[salary >= salary.mean()]).size}')"
   ],
   "metadata": {
    "collapsed": false,
    "ExecuteTime": {
     "end_time": "2024-03-11T14:52:47.957404Z",
     "start_time": "2024-03-11T14:52:47.945497Z"
    }
   },
   "id": "38ebfd9070bc5211",
   "execution_count": 3
  }
 ],
 "metadata": {
  "kernelspec": {
   "display_name": "Python 3",
   "language": "python",
   "name": "python3"
  },
  "language_info": {
   "codemirror_mode": {
    "name": "ipython",
    "version": 2
   },
   "file_extension": ".py",
   "mimetype": "text/x-python",
   "name": "python",
   "nbconvert_exporter": "python",
   "pygments_lexer": "ipython2",
   "version": "2.7.6"
  }
 },
 "nbformat": 4,
 "nbformat_minor": 5
}
