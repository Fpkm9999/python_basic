{
 "cells": [
  {
   "cell_type": "markdown",
   "source": [
    "### 07. 판다스 데이터 그룹핑 하기\n",
    "\n",
    "데이터 그룹핑은 데이터를 특정한 값에 기반해 묶는 기능으로 `groupby()` 를 사용해서 통계량을 요약할 수 있음.\n",
    "통계량에 관계된 메서드에는 mean(평균), std(표준편차), var(분산), max(최대값), min(최소값) 등이 있다"
   ],
   "metadata": {
    "collapsed": false
   },
   "id": "313028d21cfa25f0"
  },
  {
   "cell_type": "code",
   "execution_count": 26,
   "id": "initial_id",
   "metadata": {
    "collapsed": true,
    "ExecuteTime": {
     "end_time": "2024-03-14T15:09:09.676298Z",
     "start_time": "2024-03-14T15:09:09.670229Z"
    }
   },
   "outputs": [],
   "source": [
    "import pandas as pd"
   ]
  },
  {
   "cell_type": "code",
   "outputs": [
    {
     "data": {
      "text/plain": "  국적코드  성별    입국객수    증가수\n0  A01  남성  125000   8000\n1  A01  여성  130000  10000\n2  A05  남성     300     10\n3  A05  여성     200     50\n4  A06  남성  158912  24486\n5  A06  여성  325000  63466",
      "text/html": "<div>\n<style scoped>\n    .dataframe tbody tr th:only-of-type {\n        vertical-align: middle;\n    }\n\n    .dataframe tbody tr th {\n        vertical-align: top;\n    }\n\n    .dataframe thead th {\n        text-align: right;\n    }\n</style>\n<table border=\"1\" class=\"dataframe\">\n  <thead>\n    <tr style=\"text-align: right;\">\n      <th></th>\n      <th>국적코드</th>\n      <th>성별</th>\n      <th>입국객수</th>\n      <th>증가수</th>\n    </tr>\n  </thead>\n  <tbody>\n    <tr>\n      <th>0</th>\n      <td>A01</td>\n      <td>남성</td>\n      <td>125000</td>\n      <td>8000</td>\n    </tr>\n    <tr>\n      <th>1</th>\n      <td>A01</td>\n      <td>여성</td>\n      <td>130000</td>\n      <td>10000</td>\n    </tr>\n    <tr>\n      <th>2</th>\n      <td>A05</td>\n      <td>남성</td>\n      <td>300</td>\n      <td>10</td>\n    </tr>\n    <tr>\n      <th>3</th>\n      <td>A05</td>\n      <td>여성</td>\n      <td>200</td>\n      <td>50</td>\n    </tr>\n    <tr>\n      <th>4</th>\n      <td>A06</td>\n      <td>남성</td>\n      <td>158912</td>\n      <td>24486</td>\n    </tr>\n    <tr>\n      <th>5</th>\n      <td>A06</td>\n      <td>여성</td>\n      <td>325000</td>\n      <td>63466</td>\n    </tr>\n  </tbody>\n</table>\n</div>"
     },
     "execution_count": 27,
     "metadata": {},
     "output_type": "execute_result"
    }
   ],
   "source": [
    "# 한 열을 기준으로 그룹화하기\n",
    "s1 = pd.read_excel('../input/pandas_010/nation.xlsx')\n",
    "s1"
   ],
   "metadata": {
    "collapsed": false,
    "ExecuteTime": {
     "end_time": "2024-03-14T15:09:09.812746Z",
     "start_time": "2024-03-14T15:09:09.777609Z"
    }
   },
   "id": "ec3b2d0406cfa5bd",
   "execution_count": 27
  },
  {
   "cell_type": "code",
   "outputs": [
    {
     "data": {
      "text/plain": "        성별    입국객수    증가수\n국적코드                     \nA01   남성여성  255000  18000\nA05   남성여성     500     60\nA06   남성여성  483912  87952",
      "text/html": "<div>\n<style scoped>\n    .dataframe tbody tr th:only-of-type {\n        vertical-align: middle;\n    }\n\n    .dataframe tbody tr th {\n        vertical-align: top;\n    }\n\n    .dataframe thead th {\n        text-align: right;\n    }\n</style>\n<table border=\"1\" class=\"dataframe\">\n  <thead>\n    <tr style=\"text-align: right;\">\n      <th></th>\n      <th>성별</th>\n      <th>입국객수</th>\n      <th>증가수</th>\n    </tr>\n    <tr>\n      <th>국적코드</th>\n      <th></th>\n      <th></th>\n      <th></th>\n    </tr>\n  </thead>\n  <tbody>\n    <tr>\n      <th>A01</th>\n      <td>남성여성</td>\n      <td>255000</td>\n      <td>18000</td>\n    </tr>\n    <tr>\n      <th>A05</th>\n      <td>남성여성</td>\n      <td>500</td>\n      <td>60</td>\n    </tr>\n    <tr>\n      <th>A06</th>\n      <td>남성여성</td>\n      <td>483912</td>\n      <td>87952</td>\n    </tr>\n  </tbody>\n</table>\n</div>"
     },
     "execution_count": 28,
     "metadata": {},
     "output_type": "execute_result"
    }
   ],
   "source": [
    "s1.groupby('국적코드').sum()  # 국적코드라는 열을 그룹화 동일한 국적코드 3가지만 남기고(unique) 다 합쳐버림(sum), 숫자는 합산되고 문자는 나열됨"
   ],
   "metadata": {
    "collapsed": false,
    "ExecuteTime": {
     "end_time": "2024-03-14T15:09:09.851234Z",
     "start_time": "2024-03-14T15:09:09.838389Z"
    }
   },
   "id": "6b973b1e2051e4fc",
   "execution_count": 28
  },
  {
   "cell_type": "code",
   "outputs": [
    {
     "data": {
      "text/plain": "         국적코드    입국객수    증가수\n성별                          \n남성  A01A05A06  284212  32496\n여성  A01A05A06  455200  73516",
      "text/html": "<div>\n<style scoped>\n    .dataframe tbody tr th:only-of-type {\n        vertical-align: middle;\n    }\n\n    .dataframe tbody tr th {\n        vertical-align: top;\n    }\n\n    .dataframe thead th {\n        text-align: right;\n    }\n</style>\n<table border=\"1\" class=\"dataframe\">\n  <thead>\n    <tr style=\"text-align: right;\">\n      <th></th>\n      <th>국적코드</th>\n      <th>입국객수</th>\n      <th>증가수</th>\n    </tr>\n    <tr>\n      <th>성별</th>\n      <th></th>\n      <th></th>\n      <th></th>\n    </tr>\n  </thead>\n  <tbody>\n    <tr>\n      <th>남성</th>\n      <td>A01A05A06</td>\n      <td>284212</td>\n      <td>32496</td>\n    </tr>\n    <tr>\n      <th>여성</th>\n      <td>A01A05A06</td>\n      <td>455200</td>\n      <td>73516</td>\n    </tr>\n  </tbody>\n</table>\n</div>"
     },
     "execution_count": 29,
     "metadata": {},
     "output_type": "execute_result"
    }
   ],
   "source": [
    "s1.groupby('성별').sum()  # 성별을 기준으로 그룹화 \n",
    "# 여기까진 SQL이랑 크게 다르지 않음"
   ],
   "metadata": {
    "collapsed": false,
    "ExecuteTime": {
     "end_time": "2024-03-14T15:09:09.890696Z",
     "start_time": "2024-03-14T15:09:09.877682Z"
    }
   },
   "id": "4fed85b09b5f916a",
   "execution_count": 29
  },
  {
   "cell_type": "code",
   "outputs": [
    {
     "data": {
      "text/plain": "         국적코드    입국객수    증가수\n성별                          \n남성  A01A05A06  284212  32496\n여성  A01A05A06  455200  73516",
      "text/html": "<div>\n<style scoped>\n    .dataframe tbody tr th:only-of-type {\n        vertical-align: middle;\n    }\n\n    .dataframe tbody tr th {\n        vertical-align: top;\n    }\n\n    .dataframe thead th {\n        text-align: right;\n    }\n</style>\n<table border=\"1\" class=\"dataframe\">\n  <thead>\n    <tr style=\"text-align: right;\">\n      <th></th>\n      <th>국적코드</th>\n      <th>입국객수</th>\n      <th>증가수</th>\n    </tr>\n    <tr>\n      <th>성별</th>\n      <th></th>\n      <th></th>\n      <th></th>\n    </tr>\n  </thead>\n  <tbody>\n    <tr>\n      <th>남성</th>\n      <td>A01A05A06</td>\n      <td>284212</td>\n      <td>32496</td>\n    </tr>\n    <tr>\n      <th>여성</th>\n      <td>A01A05A06</td>\n      <td>455200</td>\n      <td>73516</td>\n    </tr>\n  </tbody>\n</table>\n</div>"
     },
     "execution_count": 30,
     "metadata": {},
     "output_type": "execute_result"
    }
   ],
   "source": [
    "s1.groupby(['성별']).sum()  # 성별을 기준으로 그룹화 \n"
   ],
   "metadata": {
    "collapsed": false,
    "ExecuteTime": {
     "end_time": "2024-03-14T15:09:09.938049Z",
     "start_time": "2024-03-14T15:09:09.927334Z"
    }
   },
   "id": "16c41588e95528d3",
   "execution_count": 30
  },
  {
   "cell_type": "code",
   "outputs": [
    {
     "data": {
      "text/plain": "<bound method GroupBy.sum of <pandas.core.groupby.generic.DataFrameGroupBy object at 0x000002048C878BD0>>"
     },
     "execution_count": 31,
     "metadata": {},
     "output_type": "execute_result"
    }
   ],
   "source": [
    "# pandas 에는 또 다른 기능\n",
    "# 여러 열을 기준으로 그룹화하기\n",
    "s1.groupby(['국적코드', '성별']).sum\n"
   ],
   "metadata": {
    "collapsed": false,
    "ExecuteTime": {
     "end_time": "2024-03-14T15:09:09.988862Z",
     "start_time": "2024-03-14T15:09:09.981393Z"
    }
   },
   "id": "7b11711e5e065a8",
   "execution_count": 31
  },
  {
   "cell_type": "code",
   "outputs": [
    {
     "data": {
      "text/plain": "       항목  사례수    증가    감소  변화없음\n0    스마트폰  999  78.9   1.7  19.4\n1    텔레비전  965  68.5   3.9  27.6\n2  개인용 PC  973  65.7   3.7  30.6\n3  태블릿 PC  662  46.8   4.2  49.0\n4     라디오  687  35.5  12.5  52.0",
      "text/html": "<div>\n<style scoped>\n    .dataframe tbody tr th:only-of-type {\n        vertical-align: middle;\n    }\n\n    .dataframe tbody tr th {\n        vertical-align: top;\n    }\n\n    .dataframe thead th {\n        text-align: right;\n    }\n</style>\n<table border=\"1\" class=\"dataframe\">\n  <thead>\n    <tr style=\"text-align: right;\">\n      <th></th>\n      <th>항목</th>\n      <th>사례수</th>\n      <th>증가</th>\n      <th>감소</th>\n      <th>변화없음</th>\n    </tr>\n  </thead>\n  <tbody>\n    <tr>\n      <th>0</th>\n      <td>스마트폰</td>\n      <td>999</td>\n      <td>78.9</td>\n      <td>1.7</td>\n      <td>19.4</td>\n    </tr>\n    <tr>\n      <th>1</th>\n      <td>텔레비전</td>\n      <td>965</td>\n      <td>68.5</td>\n      <td>3.9</td>\n      <td>27.6</td>\n    </tr>\n    <tr>\n      <th>2</th>\n      <td>개인용 PC</td>\n      <td>973</td>\n      <td>65.7</td>\n      <td>3.7</td>\n      <td>30.6</td>\n    </tr>\n    <tr>\n      <th>3</th>\n      <td>태블릿 PC</td>\n      <td>662</td>\n      <td>46.8</td>\n      <td>4.2</td>\n      <td>49.0</td>\n    </tr>\n    <tr>\n      <th>4</th>\n      <td>라디오</td>\n      <td>687</td>\n      <td>35.5</td>\n      <td>12.5</td>\n      <td>52.0</td>\n    </tr>\n  </tbody>\n</table>\n</div>"
     },
     "execution_count": 32,
     "metadata": {},
     "output_type": "execute_result"
    }
   ],
   "source": [
    "# 문제 (2024-03-13, am 09:15)\n",
    "# covid.csv 파일을 읽고\n",
    "# '사례수'가 가장 높은 항목의 모든 정보를 출력해 보자.\n",
    "# '증가율'이 높은 3개의 항목을 출력해보자.\n",
    "covid = pd.read_csv('../input/pandas_02/covid.csv', encoding='cp949')\n",
    "covid.head()"
   ],
   "metadata": {
    "collapsed": false,
    "ExecuteTime": {
     "end_time": "2024-03-14T15:09:10.187210Z",
     "start_time": "2024-03-14T15:09:10.173053Z"
    }
   },
   "id": "6b17f6100ec7b747",
   "execution_count": 32
  },
  {
   "cell_type": "code",
   "outputs": [],
   "source": [
    "# 2. '사례수'가 가장 높은 항목의 모든 정보를 출력\n",
    "# 조건문과 불 인덱싱 사용\n",
    "# result = covid.groupby(['사례수']).sum()\n",
    "# result\n",
    "df_tmp = covid['사례수'] == covid['사례수'].max()"
   ],
   "metadata": {
    "collapsed": false,
    "ExecuteTime": {
     "end_time": "2024-03-14T15:12:00.899554Z",
     "start_time": "2024-03-14T15:12:00.889918Z"
    }
   },
   "id": "d400a75daae732b7",
   "execution_count": 51
  },
  {
   "cell_type": "code",
   "outputs": [
    {
     "data": {
      "text/plain": "     항목  사례수    증가   감소  변화없음\n0  스마트폰  999  78.9  1.7  19.4",
      "text/html": "<div>\n<style scoped>\n    .dataframe tbody tr th:only-of-type {\n        vertical-align: middle;\n    }\n\n    .dataframe tbody tr th {\n        vertical-align: top;\n    }\n\n    .dataframe thead th {\n        text-align: right;\n    }\n</style>\n<table border=\"1\" class=\"dataframe\">\n  <thead>\n    <tr style=\"text-align: right;\">\n      <th></th>\n      <th>항목</th>\n      <th>사례수</th>\n      <th>증가</th>\n      <th>감소</th>\n      <th>변화없음</th>\n    </tr>\n  </thead>\n  <tbody>\n    <tr>\n      <th>0</th>\n      <td>스마트폰</td>\n      <td>999</td>\n      <td>78.9</td>\n      <td>1.7</td>\n      <td>19.4</td>\n    </tr>\n  </tbody>\n</table>\n</div>"
     },
     "execution_count": 34,
     "metadata": {},
     "output_type": "execute_result"
    }
   ],
   "source": [
    "df1 = covid[df_tmp]  # <- 얘가 판다스에서 맛집기능임\n",
    "df1"
   ],
   "metadata": {
    "collapsed": false,
    "ExecuteTime": {
     "end_time": "2024-03-14T15:09:10.658245Z",
     "start_time": "2024-03-14T15:09:10.648580Z"
    }
   },
   "id": "ec04f74981676d60",
   "execution_count": 34
  },
  {
   "cell_type": "code",
   "outputs": [
    {
     "data": {
      "text/plain": "       항목  사례수    증가    감소  변화없음\n0    스마트폰  999  78.9   1.7  19.4\n1    텔레비전  965  68.5   3.9  27.6\n2  개인용 PC  973  65.7   3.7  30.6\n3  태블릿 PC  662  46.8   4.2  49.0\n4     라디오  687  35.5  12.5  52.0\n5    잡지·책  776  31.3  17.8  50.9\n6    종이신문  552  17.6  23.2  59.2",
      "text/html": "<div>\n<style scoped>\n    .dataframe tbody tr th:only-of-type {\n        vertical-align: middle;\n    }\n\n    .dataframe tbody tr th {\n        vertical-align: top;\n    }\n\n    .dataframe thead th {\n        text-align: right;\n    }\n</style>\n<table border=\"1\" class=\"dataframe\">\n  <thead>\n    <tr style=\"text-align: right;\">\n      <th></th>\n      <th>항목</th>\n      <th>사례수</th>\n      <th>증가</th>\n      <th>감소</th>\n      <th>변화없음</th>\n    </tr>\n  </thead>\n  <tbody>\n    <tr>\n      <th>0</th>\n      <td>스마트폰</td>\n      <td>999</td>\n      <td>78.9</td>\n      <td>1.7</td>\n      <td>19.4</td>\n    </tr>\n    <tr>\n      <th>1</th>\n      <td>텔레비전</td>\n      <td>965</td>\n      <td>68.5</td>\n      <td>3.9</td>\n      <td>27.6</td>\n    </tr>\n    <tr>\n      <th>2</th>\n      <td>개인용 PC</td>\n      <td>973</td>\n      <td>65.7</td>\n      <td>3.7</td>\n      <td>30.6</td>\n    </tr>\n    <tr>\n      <th>3</th>\n      <td>태블릿 PC</td>\n      <td>662</td>\n      <td>46.8</td>\n      <td>4.2</td>\n      <td>49.0</td>\n    </tr>\n    <tr>\n      <th>4</th>\n      <td>라디오</td>\n      <td>687</td>\n      <td>35.5</td>\n      <td>12.5</td>\n      <td>52.0</td>\n    </tr>\n    <tr>\n      <th>5</th>\n      <td>잡지·책</td>\n      <td>776</td>\n      <td>31.3</td>\n      <td>17.8</td>\n      <td>50.9</td>\n    </tr>\n    <tr>\n      <th>6</th>\n      <td>종이신문</td>\n      <td>552</td>\n      <td>17.6</td>\n      <td>23.2</td>\n      <td>59.2</td>\n    </tr>\n  </tbody>\n</table>\n</div>"
     },
     "execution_count": 53,
     "metadata": {},
     "output_type": "execute_result"
    }
   ],
   "source": [
    "# result2 = covid.groupby(['증가']).sum()\n",
    "# result2.head(3)\n",
    "# 3. 증가율'이 높은 3개의 항목을 출력해보자.\n",
    "df2 = covid.sort_values(['증가'], ascending=False)\n",
    "df2"
   ],
   "metadata": {
    "collapsed": false,
    "ExecuteTime": {
     "end_time": "2024-03-14T15:13:24.190097Z",
     "start_time": "2024-03-14T15:13:24.177562Z"
    }
   },
   "id": "8b81599ec20b7b5c",
   "execution_count": 53
  },
  {
   "cell_type": "code",
   "outputs": [
    {
     "data": {
      "text/plain": "       항목  사례수    증가   감소  변화없음\n0    스마트폰  999  78.9  1.7  19.4\n1    텔레비전  965  68.5  3.9  27.6\n2  개인용 PC  973  65.7  3.7  30.6",
      "text/html": "<div>\n<style scoped>\n    .dataframe tbody tr th:only-of-type {\n        vertical-align: middle;\n    }\n\n    .dataframe tbody tr th {\n        vertical-align: top;\n    }\n\n    .dataframe thead th {\n        text-align: right;\n    }\n</style>\n<table border=\"1\" class=\"dataframe\">\n  <thead>\n    <tr style=\"text-align: right;\">\n      <th></th>\n      <th>항목</th>\n      <th>사례수</th>\n      <th>증가</th>\n      <th>감소</th>\n      <th>변화없음</th>\n    </tr>\n  </thead>\n  <tbody>\n    <tr>\n      <th>0</th>\n      <td>스마트폰</td>\n      <td>999</td>\n      <td>78.9</td>\n      <td>1.7</td>\n      <td>19.4</td>\n    </tr>\n    <tr>\n      <th>1</th>\n      <td>텔레비전</td>\n      <td>965</td>\n      <td>68.5</td>\n      <td>3.9</td>\n      <td>27.6</td>\n    </tr>\n    <tr>\n      <th>2</th>\n      <td>개인용 PC</td>\n      <td>973</td>\n      <td>65.7</td>\n      <td>3.7</td>\n      <td>30.6</td>\n    </tr>\n  </tbody>\n</table>\n</div>"
     },
     "execution_count": 36,
     "metadata": {},
     "output_type": "execute_result"
    }
   ],
   "source": [
    "df3 = df2.iloc[:3]  #0,1,2번 인덱스 까지\n",
    "df3"
   ],
   "metadata": {
    "collapsed": false,
    "ExecuteTime": {
     "end_time": "2024-03-14T15:09:10.971076Z",
     "start_time": "2024-03-14T15:09:10.957891Z"
    }
   },
   "id": "52a9abfd27f08e6d",
   "execution_count": 36
  },
  {
   "cell_type": "code",
   "outputs": [
    {
     "data": {
      "text/plain": "       항목  사례수    증가   감소  변화없음\n0    스마트폰  999  78.9  1.7  19.4\n1    텔레비전  965  68.5  3.9  27.6\n2  개인용 PC  973  65.7  3.7  30.6",
      "text/html": "<div>\n<style scoped>\n    .dataframe tbody tr th:only-of-type {\n        vertical-align: middle;\n    }\n\n    .dataframe tbody tr th {\n        vertical-align: top;\n    }\n\n    .dataframe thead th {\n        text-align: right;\n    }\n</style>\n<table border=\"1\" class=\"dataframe\">\n  <thead>\n    <tr style=\"text-align: right;\">\n      <th></th>\n      <th>항목</th>\n      <th>사례수</th>\n      <th>증가</th>\n      <th>감소</th>\n      <th>변화없음</th>\n    </tr>\n  </thead>\n  <tbody>\n    <tr>\n      <th>0</th>\n      <td>스마트폰</td>\n      <td>999</td>\n      <td>78.9</td>\n      <td>1.7</td>\n      <td>19.4</td>\n    </tr>\n    <tr>\n      <th>1</th>\n      <td>텔레비전</td>\n      <td>965</td>\n      <td>68.5</td>\n      <td>3.9</td>\n      <td>27.6</td>\n    </tr>\n    <tr>\n      <th>2</th>\n      <td>개인용 PC</td>\n      <td>973</td>\n      <td>65.7</td>\n      <td>3.7</td>\n      <td>30.6</td>\n    </tr>\n  </tbody>\n</table>\n</div>"
     },
     "execution_count": 55,
     "metadata": {},
     "output_type": "execute_result"
    }
   ],
   "source": [
    "df4 = df2.loc[:2]\n",
    "df4"
   ],
   "metadata": {
    "collapsed": false,
    "ExecuteTime": {
     "end_time": "2024-03-14T15:14:07.516438Z",
     "start_time": "2024-03-14T15:14:07.506290Z"
    }
   },
   "id": "d0114aed75055b90",
   "execution_count": 55
  },
  {
   "cell_type": "code",
   "outputs": [],
   "source": [
    "# 문제\n",
    "# 수강과 교수 데이터파일을 이용하여 다음 문제를 해결하세요.\n",
    "# 수강 테이블 : signup.csv\n",
    "# 교수 테이블 : professor.csv\n",
    "\n",
    "# 1) 두 데이터프레임을 merge()을 사용해서 결합해서 출력하세요.\n",
    "\n",
    "# 2) 교수 테이블에서 학과별 인원 수를 출력하세요. (count() 사용)"
   ],
   "metadata": {
    "collapsed": false,
    "ExecuteTime": {
     "end_time": "2024-03-14T15:09:11.076230Z",
     "start_time": "2024-03-14T15:09:11.072296Z"
    }
   },
   "id": "14b170a35f1541a",
   "execution_count": 37
  },
  {
   "cell_type": "code",
   "outputs": [
    {
     "data": {
      "text/plain": "   수강코드    과목명 담당교수\n0   111    파이썬  양숙희\n1   222  데이터분석  오경선\n2   333   인공지능  장은실\n3   444   선형대수  황복동\n4   555   이산수학  정명식\n5   666  컴퓨터개론  최봉수\n6   777   자료구조  김진영\n7   888   정보통신  김진호",
      "text/html": "<div>\n<style scoped>\n    .dataframe tbody tr th:only-of-type {\n        vertical-align: middle;\n    }\n\n    .dataframe tbody tr th {\n        vertical-align: top;\n    }\n\n    .dataframe thead th {\n        text-align: right;\n    }\n</style>\n<table border=\"1\" class=\"dataframe\">\n  <thead>\n    <tr style=\"text-align: right;\">\n      <th></th>\n      <th>수강코드</th>\n      <th>과목명</th>\n      <th>담당교수</th>\n    </tr>\n  </thead>\n  <tbody>\n    <tr>\n      <th>0</th>\n      <td>111</td>\n      <td>파이썬</td>\n      <td>양숙희</td>\n    </tr>\n    <tr>\n      <th>1</th>\n      <td>222</td>\n      <td>데이터분석</td>\n      <td>오경선</td>\n    </tr>\n    <tr>\n      <th>2</th>\n      <td>333</td>\n      <td>인공지능</td>\n      <td>장은실</td>\n    </tr>\n    <tr>\n      <th>3</th>\n      <td>444</td>\n      <td>선형대수</td>\n      <td>황복동</td>\n    </tr>\n    <tr>\n      <th>4</th>\n      <td>555</td>\n      <td>이산수학</td>\n      <td>정명식</td>\n    </tr>\n    <tr>\n      <th>5</th>\n      <td>666</td>\n      <td>컴퓨터개론</td>\n      <td>최봉수</td>\n    </tr>\n    <tr>\n      <th>6</th>\n      <td>777</td>\n      <td>자료구조</td>\n      <td>김진영</td>\n    </tr>\n    <tr>\n      <th>7</th>\n      <td>888</td>\n      <td>정보통신</td>\n      <td>김진호</td>\n    </tr>\n  </tbody>\n</table>\n</div>"
     },
     "execution_count": 38,
     "metadata": {},
     "output_type": "execute_result"
    }
   ],
   "source": [
    "s1 = pd.read_csv('../input/pandas_02/signup.csv', encoding='cp949')\n",
    "s1"
   ],
   "metadata": {
    "collapsed": false,
    "ExecuteTime": {
     "end_time": "2024-03-14T15:09:11.330342Z",
     "start_time": "2024-03-14T15:09:11.316280Z"
    }
   },
   "id": "3f60ca47546bec81",
   "execution_count": 38
  },
  {
   "cell_type": "code",
   "outputs": [
    {
     "data": {
      "text/plain": "  담당교수     학과\n0  양숙희  컴퓨터공학\n1  장은실   정보통신\n2  오경선   인공지능\n3  황복동  컴퓨터공학\n4  정명식   인공지능",
      "text/html": "<div>\n<style scoped>\n    .dataframe tbody tr th:only-of-type {\n        vertical-align: middle;\n    }\n\n    .dataframe tbody tr th {\n        vertical-align: top;\n    }\n\n    .dataframe thead th {\n        text-align: right;\n    }\n</style>\n<table border=\"1\" class=\"dataframe\">\n  <thead>\n    <tr style=\"text-align: right;\">\n      <th></th>\n      <th>담당교수</th>\n      <th>학과</th>\n    </tr>\n  </thead>\n  <tbody>\n    <tr>\n      <th>0</th>\n      <td>양숙희</td>\n      <td>컴퓨터공학</td>\n    </tr>\n    <tr>\n      <th>1</th>\n      <td>장은실</td>\n      <td>정보통신</td>\n    </tr>\n    <tr>\n      <th>2</th>\n      <td>오경선</td>\n      <td>인공지능</td>\n    </tr>\n    <tr>\n      <th>3</th>\n      <td>황복동</td>\n      <td>컴퓨터공학</td>\n    </tr>\n    <tr>\n      <th>4</th>\n      <td>정명식</td>\n      <td>인공지능</td>\n    </tr>\n  </tbody>\n</table>\n</div>"
     },
     "execution_count": 39,
     "metadata": {},
     "output_type": "execute_result"
    }
   ],
   "source": [
    "s2 = pd.read_csv('../input/pandas_02/professor.csv', encoding='cp949')\n",
    "s2"
   ],
   "metadata": {
    "collapsed": false,
    "ExecuteTime": {
     "end_time": "2024-03-14T15:09:11.470277Z",
     "start_time": "2024-03-14T15:09:11.456794Z"
    }
   },
   "id": "5ffce39a7a913a5f",
   "execution_count": 39
  },
  {
   "cell_type": "code",
   "outputs": [
    {
     "data": {
      "text/plain": "   수강코드    과목명 담당교수     학과\n0   111    파이썬  양숙희  컴퓨터공학\n1   222  데이터분석  오경선   인공지능\n2   333   인공지능  장은실   정보통신\n3   444   선형대수  황복동  컴퓨터공학\n4   555   이산수학  정명식   인공지능",
      "text/html": "<div>\n<style scoped>\n    .dataframe tbody tr th:only-of-type {\n        vertical-align: middle;\n    }\n\n    .dataframe tbody tr th {\n        vertical-align: top;\n    }\n\n    .dataframe thead th {\n        text-align: right;\n    }\n</style>\n<table border=\"1\" class=\"dataframe\">\n  <thead>\n    <tr style=\"text-align: right;\">\n      <th></th>\n      <th>수강코드</th>\n      <th>과목명</th>\n      <th>담당교수</th>\n      <th>학과</th>\n    </tr>\n  </thead>\n  <tbody>\n    <tr>\n      <th>0</th>\n      <td>111</td>\n      <td>파이썬</td>\n      <td>양숙희</td>\n      <td>컴퓨터공학</td>\n    </tr>\n    <tr>\n      <th>1</th>\n      <td>222</td>\n      <td>데이터분석</td>\n      <td>오경선</td>\n      <td>인공지능</td>\n    </tr>\n    <tr>\n      <th>2</th>\n      <td>333</td>\n      <td>인공지능</td>\n      <td>장은실</td>\n      <td>정보통신</td>\n    </tr>\n    <tr>\n      <th>3</th>\n      <td>444</td>\n      <td>선형대수</td>\n      <td>황복동</td>\n      <td>컴퓨터공학</td>\n    </tr>\n    <tr>\n      <th>4</th>\n      <td>555</td>\n      <td>이산수학</td>\n      <td>정명식</td>\n      <td>인공지능</td>\n    </tr>\n  </tbody>\n</table>\n</div>"
     },
     "execution_count": 40,
     "metadata": {},
     "output_type": "execute_result"
    }
   ],
   "source": [
    "# 1) 두 데이터프레임을 merge()을 사용해서 결합해서 출력하세요.\n",
    "\n",
    "s1_s2 = pd.merge(s1, s2, on='담당교수', how='inner')\n",
    "s1_s2"
   ],
   "metadata": {
    "collapsed": false,
    "ExecuteTime": {
     "end_time": "2024-03-14T15:09:11.645457Z",
     "start_time": "2024-03-14T15:09:11.629575Z"
    }
   },
   "id": "9a42fa0464e3906f",
   "execution_count": 40
  },
  {
   "cell_type": "code",
   "outputs": [
    {
     "data": {
      "text/plain": "   수강코드    과목명 담당교수     학과\n0   111    파이썬  양숙희  컴퓨터공학\n1   222  데이터분석  오경선   인공지능\n2   333   인공지능  장은실   정보통신\n3   444   선형대수  황복동  컴퓨터공학\n4   555   이산수학  정명식   인공지능\n5   666  컴퓨터개론  최봉수    NaN\n6   777   자료구조  김진영    NaN\n7   888   정보통신  김진호    NaN",
      "text/html": "<div>\n<style scoped>\n    .dataframe tbody tr th:only-of-type {\n        vertical-align: middle;\n    }\n\n    .dataframe tbody tr th {\n        vertical-align: top;\n    }\n\n    .dataframe thead th {\n        text-align: right;\n    }\n</style>\n<table border=\"1\" class=\"dataframe\">\n  <thead>\n    <tr style=\"text-align: right;\">\n      <th></th>\n      <th>수강코드</th>\n      <th>과목명</th>\n      <th>담당교수</th>\n      <th>학과</th>\n    </tr>\n  </thead>\n  <tbody>\n    <tr>\n      <th>0</th>\n      <td>111</td>\n      <td>파이썬</td>\n      <td>양숙희</td>\n      <td>컴퓨터공학</td>\n    </tr>\n    <tr>\n      <th>1</th>\n      <td>222</td>\n      <td>데이터분석</td>\n      <td>오경선</td>\n      <td>인공지능</td>\n    </tr>\n    <tr>\n      <th>2</th>\n      <td>333</td>\n      <td>인공지능</td>\n      <td>장은실</td>\n      <td>정보통신</td>\n    </tr>\n    <tr>\n      <th>3</th>\n      <td>444</td>\n      <td>선형대수</td>\n      <td>황복동</td>\n      <td>컴퓨터공학</td>\n    </tr>\n    <tr>\n      <th>4</th>\n      <td>555</td>\n      <td>이산수학</td>\n      <td>정명식</td>\n      <td>인공지능</td>\n    </tr>\n    <tr>\n      <th>5</th>\n      <td>666</td>\n      <td>컴퓨터개론</td>\n      <td>최봉수</td>\n      <td>NaN</td>\n    </tr>\n    <tr>\n      <th>6</th>\n      <td>777</td>\n      <td>자료구조</td>\n      <td>김진영</td>\n      <td>NaN</td>\n    </tr>\n    <tr>\n      <th>7</th>\n      <td>888</td>\n      <td>정보통신</td>\n      <td>김진호</td>\n      <td>NaN</td>\n    </tr>\n  </tbody>\n</table>\n</div>"
     },
     "execution_count": 41,
     "metadata": {},
     "output_type": "execute_result"
    }
   ],
   "source": [
    "df4 = pd.merge(s1, s2, on='담당교수', how='outer')\n",
    "df4"
   ],
   "metadata": {
    "collapsed": false,
    "ExecuteTime": {
     "end_time": "2024-03-14T15:09:11.874832Z",
     "start_time": "2024-03-14T15:09:11.859388Z"
    }
   },
   "id": "a86b562d59c848ae",
   "execution_count": 41
  },
  {
   "cell_type": "code",
   "outputs": [
    {
     "data": {
      "text/plain": "       담당교수\n학과         \n인공지능      2\n정보통신      1\n컴퓨터공학     2",
      "text/html": "<div>\n<style scoped>\n    .dataframe tbody tr th:only-of-type {\n        vertical-align: middle;\n    }\n\n    .dataframe tbody tr th {\n        vertical-align: top;\n    }\n\n    .dataframe thead th {\n        text-align: right;\n    }\n</style>\n<table border=\"1\" class=\"dataframe\">\n  <thead>\n    <tr style=\"text-align: right;\">\n      <th></th>\n      <th>담당교수</th>\n    </tr>\n    <tr>\n      <th>학과</th>\n      <th></th>\n    </tr>\n  </thead>\n  <tbody>\n    <tr>\n      <th>인공지능</th>\n      <td>2</td>\n    </tr>\n    <tr>\n      <th>정보통신</th>\n      <td>1</td>\n    </tr>\n    <tr>\n      <th>컴퓨터공학</th>\n      <td>2</td>\n    </tr>\n  </tbody>\n</table>\n</div>"
     },
     "execution_count": 42,
     "metadata": {},
     "output_type": "execute_result"
    }
   ],
   "source": [
    "# 2) 교수 테이블에서 학과별 인원 수를 출력하세요. (count() 사용)\n",
    "result3 = s2.groupby(['학과']).count()\n",
    "result3"
   ],
   "metadata": {
    "collapsed": false,
    "ExecuteTime": {
     "end_time": "2024-03-14T15:09:12.045635Z",
     "start_time": "2024-03-14T15:09:12.034302Z"
    }
   },
   "id": "73d2b322292b6a8",
   "execution_count": 42
  },
  {
   "cell_type": "code",
   "outputs": [],
   "source": [
    "#'서울특별시 코로나19 백신 예방접종현황'에 대한 정보를 가지고 있는 데이터 파일 (vaccine.csv)을 이용하여 모든 문제를 차례대로 수행하세요.\n",
    "\n",
    "# 필드명 : 설명\n",
    "# date : 접종일\n",
    "# subject : 접종대상자\n",
    "# day1num : 당일 1차 접종자 수\n",
    "# day1sum : 1차 접종 누계\n",
    "# day1rate : 1차 접종률\n",
    "# day2num : 당일 2차 접종자 수\n",
    "# day2sum : 2차 접종 누계\n",
    "# day2rate : 2차 접종률\n",
    "\n",
    "# 1) csv파일을 불러와서 하위 5행의 데이터를 확인.\n",
    "# 2) 필요없는 열을 삭제한 후 출력\n",
    "# 삭제할 열 : day1sum, day1rate, day2sum, day2rate\n",
    "# 3) 데이터프레임의 기초통계량을 확인\n",
    "# 4) 새로운열(\"월\")을 생성한 후 데이터 날짜의 월을 입력\n",
    "#  5) 월별 평균을 출력 "
   ],
   "metadata": {
    "collapsed": false,
    "ExecuteTime": {
     "end_time": "2024-03-14T15:09:12.242082Z",
     "start_time": "2024-03-14T15:09:12.236966Z"
    }
   },
   "id": "da293e35bb009f15",
   "execution_count": 43
  },
  {
   "cell_type": "code",
   "outputs": [
    {
     "data": {
      "text/plain": "           date  subject  day1num  day1sum  day1rate  day2num  day2sum  \\\n174  2021.04.25  1023346    23323   350631      34.2     3411    18513   \n175  2021.04.24  1023346      200   350427      34.2        0    18513   \n176  2021.04.23  1027740    10195   345764      33.6      119    18376   \n177  2021.04.22  1023538    27074   317386      31.0     2479    15901   \n178  2021.04.21  1019322    22501   291857      28.6     2358    13543   \n\n     day2rate  \n174       1.8  \n175       1.8  \n176       1.8  \n177       1.6  \n178       1.3  ",
      "text/html": "<div>\n<style scoped>\n    .dataframe tbody tr th:only-of-type {\n        vertical-align: middle;\n    }\n\n    .dataframe tbody tr th {\n        vertical-align: top;\n    }\n\n    .dataframe thead th {\n        text-align: right;\n    }\n</style>\n<table border=\"1\" class=\"dataframe\">\n  <thead>\n    <tr style=\"text-align: right;\">\n      <th></th>\n      <th>date</th>\n      <th>subject</th>\n      <th>day1num</th>\n      <th>day1sum</th>\n      <th>day1rate</th>\n      <th>day2num</th>\n      <th>day2sum</th>\n      <th>day2rate</th>\n    </tr>\n  </thead>\n  <tbody>\n    <tr>\n      <th>174</th>\n      <td>2021.04.25</td>\n      <td>1023346</td>\n      <td>23323</td>\n      <td>350631</td>\n      <td>34.2</td>\n      <td>3411</td>\n      <td>18513</td>\n      <td>1.8</td>\n    </tr>\n    <tr>\n      <th>175</th>\n      <td>2021.04.24</td>\n      <td>1023346</td>\n      <td>200</td>\n      <td>350427</td>\n      <td>34.2</td>\n      <td>0</td>\n      <td>18513</td>\n      <td>1.8</td>\n    </tr>\n    <tr>\n      <th>176</th>\n      <td>2021.04.23</td>\n      <td>1027740</td>\n      <td>10195</td>\n      <td>345764</td>\n      <td>33.6</td>\n      <td>119</td>\n      <td>18376</td>\n      <td>1.8</td>\n    </tr>\n    <tr>\n      <th>177</th>\n      <td>2021.04.22</td>\n      <td>1023538</td>\n      <td>27074</td>\n      <td>317386</td>\n      <td>31.0</td>\n      <td>2479</td>\n      <td>15901</td>\n      <td>1.6</td>\n    </tr>\n    <tr>\n      <th>178</th>\n      <td>2021.04.21</td>\n      <td>1019322</td>\n      <td>22501</td>\n      <td>291857</td>\n      <td>28.6</td>\n      <td>2358</td>\n      <td>13543</td>\n      <td>1.3</td>\n    </tr>\n  </tbody>\n</table>\n</div>"
     },
     "execution_count": 57,
     "metadata": {},
     "output_type": "execute_result"
    }
   ],
   "source": [
    "df5 = pd.read_csv('../input/pandas_02/vaccine.csv')\n",
    "df5.tail()"
   ],
   "metadata": {
    "collapsed": false,
    "ExecuteTime": {
     "end_time": "2024-03-14T15:15:52.149734Z",
     "start_time": "2024-03-14T15:15:52.134347Z"
    }
   },
   "id": "401b50decdfe72d",
   "execution_count": 57
  },
  {
   "cell_type": "code",
   "outputs": [
    {
     "data": {
      "text/plain": "           date  subject  day1num  day2sum\n0    2021.10.16  9505868    10673  6191341\n1    2021.10.15  9505868    14556  6124432\n2    2021.10.14  9505868     9609  5989111\n3    2021.10.13  9505868     9804  5893191\n4    2021.10.12  9505868    17274  5814018\n..          ...      ...      ...      ...\n174  2021.04.25  1023346    23323    18513\n175  2021.04.24  1023346      200    18513\n176  2021.04.23  1027740    10195    18376\n177  2021.04.22  1023538    27074    15901\n178  2021.04.21  1019322    22501    13543\n\n[179 rows x 4 columns]",
      "text/html": "<div>\n<style scoped>\n    .dataframe tbody tr th:only-of-type {\n        vertical-align: middle;\n    }\n\n    .dataframe tbody tr th {\n        vertical-align: top;\n    }\n\n    .dataframe thead th {\n        text-align: right;\n    }\n</style>\n<table border=\"1\" class=\"dataframe\">\n  <thead>\n    <tr style=\"text-align: right;\">\n      <th></th>\n      <th>date</th>\n      <th>subject</th>\n      <th>day1num</th>\n      <th>day2sum</th>\n    </tr>\n  </thead>\n  <tbody>\n    <tr>\n      <th>0</th>\n      <td>2021.10.16</td>\n      <td>9505868</td>\n      <td>10673</td>\n      <td>6191341</td>\n    </tr>\n    <tr>\n      <th>1</th>\n      <td>2021.10.15</td>\n      <td>9505868</td>\n      <td>14556</td>\n      <td>6124432</td>\n    </tr>\n    <tr>\n      <th>2</th>\n      <td>2021.10.14</td>\n      <td>9505868</td>\n      <td>9609</td>\n      <td>5989111</td>\n    </tr>\n    <tr>\n      <th>3</th>\n      <td>2021.10.13</td>\n      <td>9505868</td>\n      <td>9804</td>\n      <td>5893191</td>\n    </tr>\n    <tr>\n      <th>4</th>\n      <td>2021.10.12</td>\n      <td>9505868</td>\n      <td>17274</td>\n      <td>5814018</td>\n    </tr>\n    <tr>\n      <th>...</th>\n      <td>...</td>\n      <td>...</td>\n      <td>...</td>\n      <td>...</td>\n    </tr>\n    <tr>\n      <th>174</th>\n      <td>2021.04.25</td>\n      <td>1023346</td>\n      <td>23323</td>\n      <td>18513</td>\n    </tr>\n    <tr>\n      <th>175</th>\n      <td>2021.04.24</td>\n      <td>1023346</td>\n      <td>200</td>\n      <td>18513</td>\n    </tr>\n    <tr>\n      <th>176</th>\n      <td>2021.04.23</td>\n      <td>1027740</td>\n      <td>10195</td>\n      <td>18376</td>\n    </tr>\n    <tr>\n      <th>177</th>\n      <td>2021.04.22</td>\n      <td>1023538</td>\n      <td>27074</td>\n      <td>15901</td>\n    </tr>\n    <tr>\n      <th>178</th>\n      <td>2021.04.21</td>\n      <td>1019322</td>\n      <td>22501</td>\n      <td>13543</td>\n    </tr>\n  </tbody>\n</table>\n<p>179 rows × 4 columns</p>\n</div>"
     },
     "execution_count": 45,
     "metadata": {},
     "output_type": "execute_result"
    }
   ],
   "source": [
    "\n",
    "df5.drop(['day1sum', 'day1rate', 'day2num', 'day2rate'], axis=1, inplace=True)\n",
    "df5\n"
   ],
   "metadata": {
    "collapsed": false,
    "ExecuteTime": {
     "end_time": "2024-03-14T15:09:12.732497Z",
     "start_time": "2024-03-14T15:09:12.715936Z"
    }
   },
   "id": "4feb6bf169ac8b13",
   "execution_count": 45
  },
  {
   "cell_type": "code",
   "outputs": [
    {
     "data": {
      "text/plain": "            subject        day1num       day2sum\ncount  1.790000e+02     179.000000  1.790000e+02\nmean   5.086644e+06   40078.150838  1.827141e+06\nstd    3.324235e+06   44231.469656  1.746153e+06\nmin    1.019322e+06       0.000000  1.354300e+04\n25%    2.279241e+06    4385.000000  3.663575e+05\n50%    3.943320e+06   23323.000000  1.226600e+06\n75%    9.505868e+06   71634.500000  3.098630e+06\nmax    9.795426e+06  169036.000000  6.191341e+06",
      "text/html": "<div>\n<style scoped>\n    .dataframe tbody tr th:only-of-type {\n        vertical-align: middle;\n    }\n\n    .dataframe tbody tr th {\n        vertical-align: top;\n    }\n\n    .dataframe thead th {\n        text-align: right;\n    }\n</style>\n<table border=\"1\" class=\"dataframe\">\n  <thead>\n    <tr style=\"text-align: right;\">\n      <th></th>\n      <th>subject</th>\n      <th>day1num</th>\n      <th>day2sum</th>\n    </tr>\n  </thead>\n  <tbody>\n    <tr>\n      <th>count</th>\n      <td>1.790000e+02</td>\n      <td>179.000000</td>\n      <td>1.790000e+02</td>\n    </tr>\n    <tr>\n      <th>mean</th>\n      <td>5.086644e+06</td>\n      <td>40078.150838</td>\n      <td>1.827141e+06</td>\n    </tr>\n    <tr>\n      <th>std</th>\n      <td>3.324235e+06</td>\n      <td>44231.469656</td>\n      <td>1.746153e+06</td>\n    </tr>\n    <tr>\n      <th>min</th>\n      <td>1.019322e+06</td>\n      <td>0.000000</td>\n      <td>1.354300e+04</td>\n    </tr>\n    <tr>\n      <th>25%</th>\n      <td>2.279241e+06</td>\n      <td>4385.000000</td>\n      <td>3.663575e+05</td>\n    </tr>\n    <tr>\n      <th>50%</th>\n      <td>3.943320e+06</td>\n      <td>23323.000000</td>\n      <td>1.226600e+06</td>\n    </tr>\n    <tr>\n      <th>75%</th>\n      <td>9.505868e+06</td>\n      <td>71634.500000</td>\n      <td>3.098630e+06</td>\n    </tr>\n    <tr>\n      <th>max</th>\n      <td>9.795426e+06</td>\n      <td>169036.000000</td>\n      <td>6.191341e+06</td>\n    </tr>\n  </tbody>\n</table>\n</div>"
     },
     "execution_count": 46,
     "metadata": {},
     "output_type": "execute_result"
    }
   ],
   "source": [
    "# 3) 데이터프레임의 기초통계량을 확인\n",
    "\n",
    "df5.describe()"
   ],
   "metadata": {
    "collapsed": false,
    "ExecuteTime": {
     "end_time": "2024-03-14T15:09:12.862858Z",
     "start_time": "2024-03-14T15:09:12.843393Z"
    }
   },
   "id": "bb1dffdebc2347bc",
   "execution_count": 46
  },
  {
   "cell_type": "code",
   "outputs": [
    {
     "data": {
      "text/plain": "           date  subject  day1num  day2sum   월\n0    2021.10.16  9505868    10673  6191341  10\n1    2021.10.15  9505868    14556  6124432  10\n2    2021.10.14  9505868     9609  5989111  10\n3    2021.10.13  9505868     9804  5893191  10\n4    2021.10.12  9505868    17274  5814018  10\n..          ...      ...      ...      ...  ..\n174  2021.04.25  1023346    23323    18513  04\n175  2021.04.24  1023346      200    18513  04\n176  2021.04.23  1027740    10195    18376  04\n177  2021.04.22  1023538    27074    15901  04\n178  2021.04.21  1019322    22501    13543  04\n\n[179 rows x 5 columns]",
      "text/html": "<div>\n<style scoped>\n    .dataframe tbody tr th:only-of-type {\n        vertical-align: middle;\n    }\n\n    .dataframe tbody tr th {\n        vertical-align: top;\n    }\n\n    .dataframe thead th {\n        text-align: right;\n    }\n</style>\n<table border=\"1\" class=\"dataframe\">\n  <thead>\n    <tr style=\"text-align: right;\">\n      <th></th>\n      <th>date</th>\n      <th>subject</th>\n      <th>day1num</th>\n      <th>day2sum</th>\n      <th>월</th>\n    </tr>\n  </thead>\n  <tbody>\n    <tr>\n      <th>0</th>\n      <td>2021.10.16</td>\n      <td>9505868</td>\n      <td>10673</td>\n      <td>6191341</td>\n      <td>10</td>\n    </tr>\n    <tr>\n      <th>1</th>\n      <td>2021.10.15</td>\n      <td>9505868</td>\n      <td>14556</td>\n      <td>6124432</td>\n      <td>10</td>\n    </tr>\n    <tr>\n      <th>2</th>\n      <td>2021.10.14</td>\n      <td>9505868</td>\n      <td>9609</td>\n      <td>5989111</td>\n      <td>10</td>\n    </tr>\n    <tr>\n      <th>3</th>\n      <td>2021.10.13</td>\n      <td>9505868</td>\n      <td>9804</td>\n      <td>5893191</td>\n      <td>10</td>\n    </tr>\n    <tr>\n      <th>4</th>\n      <td>2021.10.12</td>\n      <td>9505868</td>\n      <td>17274</td>\n      <td>5814018</td>\n      <td>10</td>\n    </tr>\n    <tr>\n      <th>...</th>\n      <td>...</td>\n      <td>...</td>\n      <td>...</td>\n      <td>...</td>\n      <td>...</td>\n    </tr>\n    <tr>\n      <th>174</th>\n      <td>2021.04.25</td>\n      <td>1023346</td>\n      <td>23323</td>\n      <td>18513</td>\n      <td>04</td>\n    </tr>\n    <tr>\n      <th>175</th>\n      <td>2021.04.24</td>\n      <td>1023346</td>\n      <td>200</td>\n      <td>18513</td>\n      <td>04</td>\n    </tr>\n    <tr>\n      <th>176</th>\n      <td>2021.04.23</td>\n      <td>1027740</td>\n      <td>10195</td>\n      <td>18376</td>\n      <td>04</td>\n    </tr>\n    <tr>\n      <th>177</th>\n      <td>2021.04.22</td>\n      <td>1023538</td>\n      <td>27074</td>\n      <td>15901</td>\n      <td>04</td>\n    </tr>\n    <tr>\n      <th>178</th>\n      <td>2021.04.21</td>\n      <td>1019322</td>\n      <td>22501</td>\n      <td>13543</td>\n      <td>04</td>\n    </tr>\n  </tbody>\n</table>\n<p>179 rows × 5 columns</p>\n</div>"
     },
     "execution_count": 47,
     "metadata": {},
     "output_type": "execute_result"
    }
   ],
   "source": [
    "df5['월'] = 'month'\n",
    "# df5['월'] = df5['월'].dt.month\n",
    "# df5.dtypes\n",
    "# 타입볼때는\n",
    "# df5.info()\n",
    "df5['월'] = df5.date.astype(str).str.slice(5, 7)\n",
    "# df5['월'] = pd.to_datetime(df5['date'])\n",
    "# df5.dtypes\n",
    "# df5['월'] = df5['date'].dt.month\n",
    "# df5['월'] = df5['월'].dt.month\n",
    "df5"
   ],
   "metadata": {
    "collapsed": false,
    "ExecuteTime": {
     "end_time": "2024-03-14T15:09:13.115744Z",
     "start_time": "2024-03-14T15:09:13.095774Z"
    }
   },
   "id": "d367683935454fe5",
   "execution_count": 47
  },
  {
   "cell_type": "code",
   "outputs": [
    {
     "data": {
      "text/plain": "           date  subject  day1num  day2sum   월\n0    2021.10.16  9505868    10673  6191341  10\n1    2021.10.15  9505868    14556  6124432  10\n2    2021.10.14  9505868     9609  5989111  10\n3    2021.10.13  9505868     9804  5893191  10\n4    2021.10.12  9505868    17274  5814018  10\n..          ...      ...      ...      ...  ..\n174  2021.04.25  1023346    23323    18513  04\n175  2021.04.24  1023346      200    18513  04\n176  2021.04.23  1027740    10195    18376  04\n177  2021.04.22  1023538    27074    15901  04\n178  2021.04.21  1019322    22501    13543  04\n\n[179 rows x 5 columns]",
      "text/html": "<div>\n<style scoped>\n    .dataframe tbody tr th:only-of-type {\n        vertical-align: middle;\n    }\n\n    .dataframe tbody tr th {\n        vertical-align: top;\n    }\n\n    .dataframe thead th {\n        text-align: right;\n    }\n</style>\n<table border=\"1\" class=\"dataframe\">\n  <thead>\n    <tr style=\"text-align: right;\">\n      <th></th>\n      <th>date</th>\n      <th>subject</th>\n      <th>day1num</th>\n      <th>day2sum</th>\n      <th>월</th>\n    </tr>\n  </thead>\n  <tbody>\n    <tr>\n      <th>0</th>\n      <td>2021.10.16</td>\n      <td>9505868</td>\n      <td>10673</td>\n      <td>6191341</td>\n      <td>10</td>\n    </tr>\n    <tr>\n      <th>1</th>\n      <td>2021.10.15</td>\n      <td>9505868</td>\n      <td>14556</td>\n      <td>6124432</td>\n      <td>10</td>\n    </tr>\n    <tr>\n      <th>2</th>\n      <td>2021.10.14</td>\n      <td>9505868</td>\n      <td>9609</td>\n      <td>5989111</td>\n      <td>10</td>\n    </tr>\n    <tr>\n      <th>3</th>\n      <td>2021.10.13</td>\n      <td>9505868</td>\n      <td>9804</td>\n      <td>5893191</td>\n      <td>10</td>\n    </tr>\n    <tr>\n      <th>4</th>\n      <td>2021.10.12</td>\n      <td>9505868</td>\n      <td>17274</td>\n      <td>5814018</td>\n      <td>10</td>\n    </tr>\n    <tr>\n      <th>...</th>\n      <td>...</td>\n      <td>...</td>\n      <td>...</td>\n      <td>...</td>\n      <td>...</td>\n    </tr>\n    <tr>\n      <th>174</th>\n      <td>2021.04.25</td>\n      <td>1023346</td>\n      <td>23323</td>\n      <td>18513</td>\n      <td>04</td>\n    </tr>\n    <tr>\n      <th>175</th>\n      <td>2021.04.24</td>\n      <td>1023346</td>\n      <td>200</td>\n      <td>18513</td>\n      <td>04</td>\n    </tr>\n    <tr>\n      <th>176</th>\n      <td>2021.04.23</td>\n      <td>1027740</td>\n      <td>10195</td>\n      <td>18376</td>\n      <td>04</td>\n    </tr>\n    <tr>\n      <th>177</th>\n      <td>2021.04.22</td>\n      <td>1023538</td>\n      <td>27074</td>\n      <td>15901</td>\n      <td>04</td>\n    </tr>\n    <tr>\n      <th>178</th>\n      <td>2021.04.21</td>\n      <td>1019322</td>\n      <td>22501</td>\n      <td>13543</td>\n      <td>04</td>\n    </tr>\n  </tbody>\n</table>\n<p>179 rows × 5 columns</p>\n</div>"
     },
     "execution_count": 48,
     "metadata": {},
     "output_type": "execute_result"
    }
   ],
   "source": [
    "df5"
   ],
   "metadata": {
    "collapsed": false,
    "ExecuteTime": {
     "end_time": "2024-03-14T15:09:13.491115Z",
     "start_time": "2024-03-14T15:09:13.474497Z"
    }
   },
   "id": "f3c5983fece75cc6",
   "execution_count": 48
  },
  {
   "cell_type": "code",
   "outputs": [
    {
     "name": "stdout",
     "output_type": "stream",
     "text": [
      "<class 'pandas.core.frame.DataFrame'>\n",
      "RangeIndex: 179 entries, 0 to 178\n",
      "Data columns (total 5 columns):\n",
      " #   Column   Non-Null Count  Dtype \n",
      "---  ------   --------------  ----- \n",
      " 0   date     179 non-null    object\n",
      " 1   subject  179 non-null    int64 \n",
      " 2   day1num  179 non-null    int64 \n",
      " 3   day2sum  179 non-null    int64 \n",
      " 4   월        179 non-null    object\n",
      "dtypes: int64(3), object(2)\n",
      "memory usage: 7.1+ KB\n"
     ]
    },
    {
     "data": {
      "text/plain": "         day1num       day2sum\n월                             \n04  22060.100000  2.276060e+04\n05  18225.548387  1.661513e+05\n06  55957.200000  6.229332e+05\n07  25807.870968  1.167138e+06\n08  57667.258065  1.984530e+06\n09  65715.000000  3.887544e+06\n10   9406.312500  5.541498e+06",
      "text/html": "<div>\n<style scoped>\n    .dataframe tbody tr th:only-of-type {\n        vertical-align: middle;\n    }\n\n    .dataframe tbody tr th {\n        vertical-align: top;\n    }\n\n    .dataframe thead th {\n        text-align: right;\n    }\n</style>\n<table border=\"1\" class=\"dataframe\">\n  <thead>\n    <tr style=\"text-align: right;\">\n      <th></th>\n      <th>day1num</th>\n      <th>day2sum</th>\n    </tr>\n    <tr>\n      <th>월</th>\n      <th></th>\n      <th></th>\n    </tr>\n  </thead>\n  <tbody>\n    <tr>\n      <th>04</th>\n      <td>22060.100000</td>\n      <td>2.276060e+04</td>\n    </tr>\n    <tr>\n      <th>05</th>\n      <td>18225.548387</td>\n      <td>1.661513e+05</td>\n    </tr>\n    <tr>\n      <th>06</th>\n      <td>55957.200000</td>\n      <td>6.229332e+05</td>\n    </tr>\n    <tr>\n      <th>07</th>\n      <td>25807.870968</td>\n      <td>1.167138e+06</td>\n    </tr>\n    <tr>\n      <th>08</th>\n      <td>57667.258065</td>\n      <td>1.984530e+06</td>\n    </tr>\n    <tr>\n      <th>09</th>\n      <td>65715.000000</td>\n      <td>3.887544e+06</td>\n    </tr>\n    <tr>\n      <th>10</th>\n      <td>9406.312500</td>\n      <td>5.541498e+06</td>\n    </tr>\n  </tbody>\n</table>\n</div>"
     },
     "execution_count": 49,
     "metadata": {},
     "output_type": "execute_result"
    }
   ],
   "source": [
    "# 5) 월별 평균을 출력\n",
    "df5.info()\n",
    "df6 = df5[['day1num','day2sum','월']].groupby('월').mean()\n",
    "df6\n",
    "# 평균을 출력할 수 있는 열(접종일과 접종대상자는 평균을 구할 필요가 없음)만 선택 후 평균."
   ],
   "metadata": {
    "collapsed": false,
    "ExecuteTime": {
     "end_time": "2024-03-14T15:09:13.735294Z",
     "start_time": "2024-03-14T15:09:13.709253Z"
    }
   },
   "id": "1aec84c95e149de",
   "execution_count": 49
  }
 ],
 "metadata": {
  "kernelspec": {
   "display_name": "Python 3",
   "language": "python",
   "name": "python3"
  },
  "language_info": {
   "codemirror_mode": {
    "name": "ipython",
    "version": 2
   },
   "file_extension": ".py",
   "mimetype": "text/x-python",
   "name": "python",
   "nbconvert_exporter": "python",
   "pygments_lexer": "ipython2",
   "version": "2.7.6"
  }
 },
 "nbformat": 4,
 "nbformat_minor": 5
}
