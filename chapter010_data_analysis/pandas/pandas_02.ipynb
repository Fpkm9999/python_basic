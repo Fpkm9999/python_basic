{
 "cells": [
  {
   "cell_type": "code",
   "execution_count": 1,
   "id": "initial_id",
   "metadata": {
    "collapsed": true,
    "ExecuteTime": {
     "end_time": "2024-03-12T00:43:56.556920Z",
     "start_time": "2024-03-12T00:43:56.534473Z"
    }
   },
   "outputs": [],
   "source": [
    "# 2) 날짜 자동 생성 : date_range <-- 중요하지 않는건 아니지만 우리가 배우는 파트에서는 상대적으로 덜 사용함"
   ]
  },
  {
   "cell_type": "markdown",
   "source": [
    "- 입력해야 할 날씨가 많으면 pandas 에서 날짜를 자동생성하는 date_range() 사용.\n",
    "- 몇 가지 설정만 하면 원하는 날짜를 자동으로 생성하므로 날짜 데이터를 입력할 때 **편리**."
   ],
   "metadata": {
    "collapsed": false
   },
   "id": "7f48c13b00fdedaf"
  },
  {
   "cell_type": "code",
   "outputs": [],
   "source": [
    "import pandas as pd\n",
    "\n",
    "# pd.date_range(start=None, end=None,periods=None, freq='D')\n",
    "\n",
    "# start는 시작날짜\n",
    "# end는 끝날짜\n",
    "# periods는 날짜 데이터 생성 기간 -> 생성 갯수\n",
    "# freq는 날짜 데이터 생성 주기\n",
    "# start는 필수이고, end나 periods는 둘 중 하나만 있어도 됨.\n",
    "# freq는 입력하지 않으면 'D' 옵션이 설정돼 달력날짜 기준으로 하루씩 증가."
   ],
   "metadata": {
    "collapsed": false,
    "ExecuteTime": {
     "end_time": "2024-03-12T00:43:57.103433Z",
     "start_time": "2024-03-12T00:43:56.560119Z"
    }
   },
   "id": "c53e7983c84ea44b",
   "execution_count": 2
  },
  {
   "cell_type": "code",
   "outputs": [
    {
     "data": {
      "text/plain": "DatetimeIndex(['2019-01-01', '2019-01-02', '2019-01-03', '2019-01-04',\n               '2019-01-05', '2019-01-06', '2019-01-07'],\n              dtype='datetime64[ns]', freq='D')"
     },
     "execution_count": 3,
     "metadata": {},
     "output_type": "execute_result"
    }
   ],
   "source": [
    "# 시작 날짜와 끝 날짜를 지정해 날짜 데이터를 생성. 하루씩 증가한 날짜 데이터가 생성.\n",
    "pd.date_range(start='2019-01-01', end='2019-01-07')"
   ],
   "metadata": {
    "collapsed": false,
    "ExecuteTime": {
     "end_time": "2024-03-12T00:43:57.118353Z",
     "start_time": "2024-03-12T00:43:57.105575Z"
    }
   },
   "id": "4d574184e893685f",
   "execution_count": 3
  },
  {
   "cell_type": "code",
   "outputs": [],
   "source": [
    "# 날짜 데이터를 입력할 때 yyyy-mm-dd 형식이 아니라\n",
    "# yyyy/mm/dd, yyyy.mm.dd, mm-dd-yyyy, mm/dd/yyyy, mm.dd.yyyy 같은 형식도 사용가능하고\n",
    "# 대신 출력은 yyyy-mm-dd 형식으로 생성"
   ],
   "metadata": {
    "collapsed": false,
    "ExecuteTime": {
     "end_time": "2024-03-12T00:43:57.128703Z",
     "start_time": "2024-03-12T00:43:57.121621Z"
    }
   },
   "id": "c0977375468ff5d8",
   "execution_count": 4
  },
  {
   "cell_type": "code",
   "outputs": [
    {
     "data": {
      "text/plain": "DatetimeIndex(['2019-01-01', '2019-01-02', '2019-01-03', '2019-01-04',\n               '2019-01-05', '2019-01-06', '2019-01-07'],\n              dtype='datetime64[ns]', freq='D')"
     },
     "execution_count": 5,
     "metadata": {},
     "output_type": "execute_result"
    }
   ],
   "source": [
    "pd.date_range(start='2019/01/01', end='2019.01.07')"
   ],
   "metadata": {
    "collapsed": false,
    "ExecuteTime": {
     "end_time": "2024-03-12T00:43:57.144867Z",
     "start_time": "2024-03-12T00:43:57.134069Z"
    }
   },
   "id": "69f28d0d2ff21a25",
   "execution_count": 5
  },
  {
   "cell_type": "code",
   "outputs": [
    {
     "data": {
      "text/plain": "DatetimeIndex(['2019-01-01', '2019-01-02', '2019-01-03', '2019-01-04',\n               '2019-01-05', '2019-01-06', '2019-01-07'],\n              dtype='datetime64[ns]', freq='D')"
     },
     "execution_count": 6,
     "metadata": {},
     "output_type": "execute_result"
    }
   ],
   "source": [
    "pd.date_range(start='01-01-2019', end='01/07/2019')"
   ],
   "metadata": {
    "collapsed": false,
    "ExecuteTime": {
     "end_time": "2024-03-12T00:43:57.159921Z",
     "start_time": "2024-03-12T00:43:57.148104Z"
    }
   },
   "id": "898e436d6d6c0175",
   "execution_count": 6
  },
  {
   "cell_type": "code",
   "outputs": [
    {
     "data": {
      "text/plain": "DatetimeIndex(['2019-01-01', '2019-01-02', '2019-01-03', '2019-01-04',\n               '2019-01-05', '2019-01-06', '2019-01-07'],\n              dtype='datetime64[ns]', freq='D')"
     },
     "execution_count": 7,
     "metadata": {},
     "output_type": "execute_result"
    }
   ],
   "source": [
    "pd.date_range(start='2019-01-01', end='01.07.2019')"
   ],
   "metadata": {
    "collapsed": false,
    "ExecuteTime": {
     "end_time": "2024-03-12T00:43:57.175398Z",
     "start_time": "2024-03-12T00:43:57.162073Z"
    }
   },
   "id": "b9398241d41fe61d",
   "execution_count": 7
  },
  {
   "cell_type": "code",
   "outputs": [
    {
     "data": {
      "text/plain": "DatetimeIndex(['2019-01-01', '2019-01-02', '2019-01-03', '2019-01-04',\n               '2019-01-05', '2019-01-06', '2019-01-07'],\n              dtype='datetime64[ns]', freq='D')"
     },
     "execution_count": 8,
     "metadata": {},
     "output_type": "execute_result"
    }
   ],
   "source": [
    "# 끝날짜를 지정하지 않고 periods만 입력해서 날짜 생성\n",
    "pd.date_range(start='2019-01-01', periods=7)  # 1일부터 시작해 7일의 기간 생성도 가능하다."
   ],
   "metadata": {
    "collapsed": false,
    "ExecuteTime": {
     "end_time": "2024-03-12T00:43:57.190539Z",
     "start_time": "2024-03-12T00:43:57.177594Z"
    }
   },
   "id": "32f14fc13f13cae4",
   "execution_count": 8
  },
  {
   "cell_type": "code",
   "outputs": [],
   "source": [
    "# * pandas date_range() 함수의 freq 옵션.\n",
    "# 약어\t설명\t사용 예\n",
    "# D\t: 달력 날짜 기준 하루 주기 ex) 하루 주기: freq = 'D', 이틀 주기: freq = '2D'\n",
    "# B\t: 업무 날짜 기준 하루 주기 ex) 업무일(월~금) 기준으로 생성, freq = 'B', freq = '3B'\n",
    "# W\t: 일요일 시작 기준 일주일 주기 ex) 월요일: W-MON, 화요일: W-TUE, freq = 'W', freq = 'W-MON'\n",
    "# M\t: 월말 날짜 기준 주기 ex) 한 달 주기: freq = 'M', 네 달 주기: freq = '4M'\n",
    "# BM : 업무 월말 날짜 기준 주기\tex) freq = 'BM' , freq = '2BM'\n",
    "# MS : 월초 날짜 기준 주기 ex) freq = 'MS' , freq = '2MS'\n",
    "# BMS :\t업무 월초 날짜 기준 주기\t ex) freq = 'BMS' , freq = '2BMS'\n",
    "# Q\t: 분기 끝 날짜 기준 주기\t ex) freq = 'Q' , freq = '2Q'\n",
    "# BQ : 업무 분기 끝 날짜 기준 주기 ex) freq = 'BQ' , freq = '2BQ'\n",
    "# QS : 분기 시작 날짜 기준 주기\tex) freq = 'QS' , freq = '2QS'\n",
    "# BQS : 업무 분기 시작 날짜 기준 주기 ex) freq = 'BQS' , freq = '2BQS'\n",
    "# A\t: 일년 끝 날짜 기준 주기\tex) freq = 'A' , freq = '2A'\n",
    "# BA : 업무 일년 끝 날짜 기준 주기 ex) freq = 'BA' , freq = '2BA'\n",
    "# AS : 일년 시작 날짜 기준 주기 ex) freq = 'AS' , freq = '2AS'\n",
    "# BAS : 업무 일년 시작 날짜 기준 주기 ex) freq = 'BAS' , freq = '2BAS'\n",
    "# H\t: 시간 기준 주기 ex) 1시간 주기: freq = 'H' , 2시간 주기: freq = '2H'\n",
    "# BH : 업무 시간 기준 주기 ex) 업무 시간(09:00 ~ 17:00) 기준으로 생성\n",
    "# T, min : 분 주기\tex) 10분 주기: freq = '10T' , 30분 주기: freq = '30min'\n",
    "# S\t: 초 주기 ex) 1초 주기: freq = 'S' , 10초 주기: freq = '10S'"
   ],
   "metadata": {
    "collapsed": false,
    "ExecuteTime": {
     "end_time": "2024-03-12T00:43:57.206558Z",
     "start_time": "2024-03-12T00:43:57.192671Z"
    }
   },
   "id": "63ff66c964983e15",
   "execution_count": 9
  },
  {
   "cell_type": "code",
   "outputs": [
    {
     "data": {
      "text/plain": "DatetimeIndex(['2019-01-01', '2019-01-03', '2019-01-05', '2019-01-07'], dtype='datetime64[ns]', freq='2D')"
     },
     "execution_count": 10,
     "metadata": {},
     "output_type": "execute_result"
    }
   ],
   "source": [
    "# ex) 2일씩 증가하는 날짜를 생성.\n",
    "pd.date_range(start='2019-01-01', periods=4, freq='2D')  # 1월1일 부터 해서 4개를 생성하는데 2일간격으로"
   ],
   "metadata": {
    "collapsed": false,
    "ExecuteTime": {
     "end_time": "2024-03-12T00:43:57.222550Z",
     "start_time": "2024-03-12T00:43:57.208651Z"
    }
   },
   "id": "abe0d648fb4cee17",
   "execution_count": 10
  },
  {
   "cell_type": "code",
   "outputs": [
    {
     "data": {
      "text/plain": "DatetimeIndex(['2019-01-06', '2019-01-13', '2019-01-20', '2019-01-27'], dtype='datetime64[ns]', freq='W-SUN')"
     },
     "execution_count": 11,
     "metadata": {},
     "output_type": "execute_result"
    }
   ],
   "source": [
    "# 달력의 요일을 기준으로 일주일씩 증가하는 날짜를 생성\n",
    "pd.date_range(start='2019-01-01', periods=4, freq='W')"
   ],
   "metadata": {
    "collapsed": false,
    "ExecuteTime": {
     "end_time": "2024-03-12T00:43:57.238628Z",
     "start_time": "2024-03-12T00:43:57.224690Z"
    }
   },
   "id": "d756cfb0a62a9436",
   "execution_count": 11
  },
  {
   "cell_type": "code",
   "outputs": [
    {
     "data": {
      "text/plain": "DatetimeIndex(['2019-01-31', '2019-03-29', '2019-05-31', '2019-07-31',\n               '2019-09-30', '2019-11-29', '2020-01-31', '2020-03-31',\n               '2020-05-29', '2020-07-31', '2020-09-30', '2020-11-30'],\n              dtype='datetime64[ns]', freq='2BME')"
     },
     "execution_count": 14,
     "metadata": {},
     "output_type": "execute_result"
    }
   ],
   "source": [
    "# 업무일 기준 2개월 월말 주기로 12개 날짜를 생성.\n",
    "pd.date_range(start='2019-01-01', periods=12, freq='2BME')  # 2BM -> 2BME"
   ],
   "metadata": {
    "collapsed": false,
    "ExecuteTime": {
     "end_time": "2024-03-12T00:44:35.753046Z",
     "start_time": "2024-03-12T00:44:35.735695Z"
    }
   },
   "id": "451fdd9003976437",
   "execution_count": 14
  },
  {
   "cell_type": "code",
   "outputs": [
    {
     "data": {
      "text/plain": "DatetimeIndex(['2019-01-01', '2019-04-01', '2019-07-01', '2019-10-01'], dtype='datetime64[ns]', freq='QS-JAN')"
     },
     "execution_count": 13,
     "metadata": {},
     "output_type": "execute_result"
    }
   ],
   "source": [
    "# 분기 시작일을 기준으로 4개의 날짜를 생성\n",
    "pd.date_range(start='2019-01-01', periods=4, freq='QS')"
   ],
   "metadata": {
    "collapsed": false,
    "ExecuteTime": {
     "end_time": "2024-03-12T00:43:57.270192Z",
     "start_time": "2024-03-12T00:43:57.256870Z"
    }
   },
   "id": "13b92a0ca08ea88a",
   "execution_count": 13
  },
  {
   "cell_type": "code",
   "outputs": [
    {
     "data": {
      "text/plain": "DatetimeIndex(['2019-01-01 08:00:00', '2019-01-01 09:00:00',\n               '2019-01-01 10:00:00', '2019-01-01 11:00:00',\n               '2019-01-01 12:00:00', '2019-01-01 13:00:00',\n               '2019-01-01 14:00:00', '2019-01-01 15:00:00',\n               '2019-01-01 16:00:00', '2019-01-01 17:00:00'],\n              dtype='datetime64[ns]', freq='h')"
     },
     "execution_count": 32,
     "metadata": {},
     "output_type": "execute_result"
    }
   ],
   "source": [
    "# 1시간 주기로 10개의 시간을 생성한 예\n",
    "pd.date_range(start='2019-01-01 08:00', periods=10, freq='h')   # H -> h"
   ],
   "metadata": {
    "collapsed": false,
    "ExecuteTime": {
     "end_time": "2024-03-12T00:52:10.198508Z",
     "start_time": "2024-03-12T00:52:10.179533Z"
    }
   },
   "id": "5cb1425ac3acaad7",
   "execution_count": 32
  },
  {
   "cell_type": "code",
   "outputs": [
    {
     "name": "stderr",
     "output_type": "stream",
     "text": [
      "C:\\Users\\Fpkm9\\AppData\\Local\\Temp\\ipykernel_9904\\3751760833.py:2: FutureWarning: 'BH' is deprecated and will be removed in a future version, please use 'bh' instead.\n",
      "  pd.date_range(start='2019-01-01 08:00', periods=10, freq='BH') # BH -> BME\n"
     ]
    },
    {
     "data": {
      "text/plain": "DatetimeIndex(['2019-01-01 09:00:00', '2019-01-01 10:00:00',\n               '2019-01-01 11:00:00', '2019-01-01 12:00:00',\n               '2019-01-01 13:00:00', '2019-01-01 14:00:00',\n               '2019-01-01 15:00:00', '2019-01-01 16:00:00',\n               '2019-01-02 09:00:00', '2019-01-02 10:00:00'],\n              dtype='datetime64[ns]', freq='bh')"
     },
     "execution_count": 28,
     "metadata": {},
     "output_type": "execute_result"
    }
   ],
   "source": [
    "# 업무 시간을 기준으로 1시간 주기로 10개의 시간을 생성하는 예\n",
    "pd.date_range(start='2019-01-01 08:00', periods=10, freq='BH') # BH -> BME"
   ],
   "metadata": {
    "collapsed": false,
    "ExecuteTime": {
     "end_time": "2024-03-12T00:47:34.393935Z",
     "start_time": "2024-03-12T00:47:34.371097Z"
    }
   },
   "id": "421658e8543931dc",
   "execution_count": 28
  },
  {
   "cell_type": "code",
   "outputs": [
    {
     "data": {
      "text/plain": "2019-03-01    51\n2019-03-02    62\n2019-03-03    55\n2019-03-04    49\n2019-03-05    58\nFreq: D, dtype: int64"
     },
     "execution_count": 31,
     "metadata": {},
     "output_type": "execute_result"
    }
   ],
   "source": [
    "# date_range() 를 이용해 Series의 index를 지정한 예.\n",
    "index_date = pd.date_range(start='2019-03-01',periods=5,freq='D')\n",
    "s = pd.Series([51,62,55,49,58],index=index_date)\n",
    "s"
   ],
   "metadata": {
    "collapsed": false,
    "ExecuteTime": {
     "end_time": "2024-03-12T00:48:54.271985Z",
     "start_time": "2024-03-12T00:48:54.258460Z"
    }
   },
   "id": "34dbf9714ce7bbea",
   "execution_count": 31
  }
 ],
 "metadata": {
  "kernelspec": {
   "display_name": "Python 3",
   "language": "python",
   "name": "python3"
  },
  "language_info": {
   "codemirror_mode": {
    "name": "ipython",
    "version": 2
   },
   "file_extension": ".py",
   "mimetype": "text/x-python",
   "name": "python",
   "nbconvert_exporter": "python",
   "pygments_lexer": "ipython2",
   "version": "2.7.6"
  }
 },
 "nbformat": 4,
 "nbformat_minor": 5
}
