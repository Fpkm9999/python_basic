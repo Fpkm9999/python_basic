{
 "cells": [
  {
   "cell_type": "code",
   "execution_count": 46,
   "id": "initial_id",
   "metadata": {
    "collapsed": true,
    "ExecuteTime": {
     "end_time": "2024-03-14T14:38:28.582708Z",
     "start_time": "2024-03-14T14:38:28.566363Z"
    }
   },
   "outputs": [
    {
     "name": "stdout",
     "output_type": "stream",
     "text": [
      "<class 'pandas.core.frame.DataFrame'>\n",
      "RangeIndex: 477 entries, 0 to 476\n",
      "Data columns (total 3 columns):\n",
      " #   Column  Non-Null Count  Dtype \n",
      "---  ------  --------------  ----- \n",
      " 0   음식골목명   477 non-null    object\n",
      " 1   음식점 상호  477 non-null    object\n",
      " 2   음식점 주소  477 non-null    object\n",
      "dtypes: object(3)\n",
      "memory usage: 11.3+ KB\n"
     ]
    }
   ],
   "source": [
    "import pandas as pd\n",
    "\n",
    "food = pd.read_csv('./input/daegufood_street.csv')\n",
    "food.head()\n",
    "food.info()"
   ]
  },
  {
   "cell_type": "code",
   "outputs": [
    {
     "data": {
      "text/plain": "음식골목명\n(동구)동대구역터미널 먹거리골목    110\n(동구)서촌먹거리촌           107\n(동구)동촌유원지명물먹거리촌       83\n(동구)혁신도시 중앙상가연합회      62\n(동구)동화사먹거리촌           37\n(동구)동막골               28\n(동구)평화시장닭똥집골목         21\n(동구)갓바위먹거리촌           18\n(동구)파계사먹거리촌           11\nName: count, dtype: int64"
     },
     "execution_count": 47,
     "metadata": {},
     "output_type": "execute_result"
    }
   ],
   "source": [
    "# daegufood_street.csv 파일을 읽어서 음식점이 많은 음식골목명을 순서대로 출력.\n",
    "# 결과값을 daegufood_street_summary.csv로 저장\n",
    "\n",
    "daegufood_street_summary = food['음식골목명'].value_counts()\n",
    "daegufood_street_summary"
   ],
   "metadata": {
    "collapsed": false,
    "ExecuteTime": {
     "end_time": "2024-03-14T14:38:28.592415Z",
     "start_time": "2024-03-14T14:38:28.584717Z"
    }
   },
   "id": "e0d2ba3530d81a23",
   "execution_count": 47
  },
  {
   "cell_type": "code",
   "outputs": [],
   "source": [
    "daegufood_street_summary.to_csv('../output/daegufood_street_summary.csv')"
   ],
   "metadata": {
    "collapsed": false,
    "ExecuteTime": {
     "end_time": "2024-03-14T14:38:28.601457Z",
     "start_time": "2024-03-14T14:38:28.595424Z"
    }
   },
   "id": "a945f6d621bb3ceb",
   "execution_count": 48
  },
  {
   "cell_type": "code",
   "outputs": [
    {
     "data": {
      "text/plain": "시군구명\n구미시       19909\n경주시       16852\n포항시 북구    14240\n포항시 남구    12904\n경산시       12743\n안동시        9001\n김천시        6371\n영주시        6152\n칠곡군        5889\n영천시        4812\n상주시        4756\n문경시        4162\n울진군        3032\n영덕군        2738\n청도군        2447\n예천군        2287\n의성군        2187\n성주군        2169\n고령군        1451\n청송군        1451\n봉화군        1437\n울릉군         863\n영양군         692\nName: count, dtype: int64"
     },
     "execution_count": 49,
     "metadata": {},
     "output_type": "execute_result"
    }
   ],
   "source": [
    "# '소상공인시장진흥공단_상가(상권)정보_경북)_202312.csv' 파일을 읽은 후\n",
    "# 시군구별로 상점수가 많은 순서대로 저장 후 파일 저장 : 파일명 : gk_store_01.csv\n",
    "# 상점수가 적은 시군구 5개를 파일 저장 : 파일명 : gk_store_02.csv\n",
    "# 업종 대분류를 이용해서 상점수가 적은 업종 3개를 파일 저장 : 파일명 : gk_store_03.csv\n",
    "\n",
    "df = pd.read_csv('../input/소상공인시장진흥공단_상가(상권)정보_20231231 (2)/소상공인시장진흥공단_상가(상권)정보_경북_202312.csv')\n",
    "df.head()\n",
    "df_result = df['시군구명'].value_counts()\n",
    "df_result"
   ],
   "metadata": {
    "collapsed": false,
    "ExecuteTime": {
     "end_time": "2024-03-14T14:38:30.122369Z",
     "start_time": "2024-03-14T14:38:28.664159Z"
    }
   },
   "id": "ce4f89cc7a9f8cf2",
   "execution_count": 49
  },
  {
   "cell_type": "code",
   "outputs": [],
   "source": [
    "df_result.to_csv('../output/gk_store_01.csv')\n"
   ],
   "metadata": {
    "collapsed": false,
    "ExecuteTime": {
     "end_time": "2024-03-14T14:38:30.133552Z",
     "start_time": "2024-03-14T14:38:30.125376Z"
    }
   },
   "id": "7eda3a4e67d28907",
   "execution_count": 50
  },
  {
   "cell_type": "code",
   "outputs": [
    {
     "data": {
      "text/plain": "                 상가업소번호     상호명  지점명 상권업종대분류코드 상권업종대분류명 상권업종중분류코드 상권업종중분류명  \\\n0  MA010120220805431708    솔밭민박  NaN        I1       숙박      I101    일반 숙박   \n1  MA010120220805432237     의성탕  NaN        S2    수리·개인      S208  욕탕·신체관리   \n2  MA010120220805432258   머릿결사랑  NaN        S2    수리·개인      S207    이용·미용   \n3  MA010120220805432850     아지트  NaN        I2       음식      I211       주점   \n4  MA010120220805436067  백석탄골부리  NaN        R1   예술·스포츠      R104   유원지·오락   \n\n  상권업종소분류코드      상권업종소분류명 표준산업분류코드  ...                     건물관리번호  건물명  \\\n0    I10103            펜션   I55104  ...  4725042023105670001000001  NaN   \n1    S20801       목욕탕/사우나   S96121  ...  4773025022107490010004046  NaN   \n2    S20701           미용실   S96112  ...  4717012200102240005024992  NaN   \n3    I21104         요리 주점   I56219  ...  4713012400104380004025066  NaN   \n4    R10499  기타 오락관련 서비스업   R91299  ...  4775035040101090000000001  NaN   \n\n                      도로명주소   구우편번호  신우편번호  동정보  층정보  호정보          경도  \\\n0   경상북도 상주시 화북면 문장로 1502-9  742871  37102  NaN  NaN  NaN  127.922707   \n1       경상북도 의성군 의성읍 군청길 69  769803  37339  NaN  NaN  NaN  128.701183   \n2         경상북도 안동시 서경지5길 71  760904  36676  NaN    1  NaN  128.715714   \n3           경상북도 경주시 용담로 82  780954  38084  NaN    2  NaN  129.212801   \n4  경상북도 청송군 안덕면 백석탄로 541-21  763862  37449  NaN  NaN  NaN  128.995628   \n\n          위도  \n0  36.543640  \n1  36.352030  \n2  36.559903  \n3  35.863751  \n4  36.349543  \n\n[5 rows x 39 columns]",
      "text/html": "<div>\n<style scoped>\n    .dataframe tbody tr th:only-of-type {\n        vertical-align: middle;\n    }\n\n    .dataframe tbody tr th {\n        vertical-align: top;\n    }\n\n    .dataframe thead th {\n        text-align: right;\n    }\n</style>\n<table border=\"1\" class=\"dataframe\">\n  <thead>\n    <tr style=\"text-align: right;\">\n      <th></th>\n      <th>상가업소번호</th>\n      <th>상호명</th>\n      <th>지점명</th>\n      <th>상권업종대분류코드</th>\n      <th>상권업종대분류명</th>\n      <th>상권업종중분류코드</th>\n      <th>상권업종중분류명</th>\n      <th>상권업종소분류코드</th>\n      <th>상권업종소분류명</th>\n      <th>표준산업분류코드</th>\n      <th>...</th>\n      <th>건물관리번호</th>\n      <th>건물명</th>\n      <th>도로명주소</th>\n      <th>구우편번호</th>\n      <th>신우편번호</th>\n      <th>동정보</th>\n      <th>층정보</th>\n      <th>호정보</th>\n      <th>경도</th>\n      <th>위도</th>\n    </tr>\n  </thead>\n  <tbody>\n    <tr>\n      <th>0</th>\n      <td>MA010120220805431708</td>\n      <td>솔밭민박</td>\n      <td>NaN</td>\n      <td>I1</td>\n      <td>숙박</td>\n      <td>I101</td>\n      <td>일반 숙박</td>\n      <td>I10103</td>\n      <td>펜션</td>\n      <td>I55104</td>\n      <td>...</td>\n      <td>4725042023105670001000001</td>\n      <td>NaN</td>\n      <td>경상북도 상주시 화북면 문장로 1502-9</td>\n      <td>742871</td>\n      <td>37102</td>\n      <td>NaN</td>\n      <td>NaN</td>\n      <td>NaN</td>\n      <td>127.922707</td>\n      <td>36.543640</td>\n    </tr>\n    <tr>\n      <th>1</th>\n      <td>MA010120220805432237</td>\n      <td>의성탕</td>\n      <td>NaN</td>\n      <td>S2</td>\n      <td>수리·개인</td>\n      <td>S208</td>\n      <td>욕탕·신체관리</td>\n      <td>S20801</td>\n      <td>목욕탕/사우나</td>\n      <td>S96121</td>\n      <td>...</td>\n      <td>4773025022107490010004046</td>\n      <td>NaN</td>\n      <td>경상북도 의성군 의성읍 군청길 69</td>\n      <td>769803</td>\n      <td>37339</td>\n      <td>NaN</td>\n      <td>NaN</td>\n      <td>NaN</td>\n      <td>128.701183</td>\n      <td>36.352030</td>\n    </tr>\n    <tr>\n      <th>2</th>\n      <td>MA010120220805432258</td>\n      <td>머릿결사랑</td>\n      <td>NaN</td>\n      <td>S2</td>\n      <td>수리·개인</td>\n      <td>S207</td>\n      <td>이용·미용</td>\n      <td>S20701</td>\n      <td>미용실</td>\n      <td>S96112</td>\n      <td>...</td>\n      <td>4717012200102240005024992</td>\n      <td>NaN</td>\n      <td>경상북도 안동시 서경지5길 71</td>\n      <td>760904</td>\n      <td>36676</td>\n      <td>NaN</td>\n      <td>1</td>\n      <td>NaN</td>\n      <td>128.715714</td>\n      <td>36.559903</td>\n    </tr>\n    <tr>\n      <th>3</th>\n      <td>MA010120220805432850</td>\n      <td>아지트</td>\n      <td>NaN</td>\n      <td>I2</td>\n      <td>음식</td>\n      <td>I211</td>\n      <td>주점</td>\n      <td>I21104</td>\n      <td>요리 주점</td>\n      <td>I56219</td>\n      <td>...</td>\n      <td>4713012400104380004025066</td>\n      <td>NaN</td>\n      <td>경상북도 경주시 용담로 82</td>\n      <td>780954</td>\n      <td>38084</td>\n      <td>NaN</td>\n      <td>2</td>\n      <td>NaN</td>\n      <td>129.212801</td>\n      <td>35.863751</td>\n    </tr>\n    <tr>\n      <th>4</th>\n      <td>MA010120220805436067</td>\n      <td>백석탄골부리</td>\n      <td>NaN</td>\n      <td>R1</td>\n      <td>예술·스포츠</td>\n      <td>R104</td>\n      <td>유원지·오락</td>\n      <td>R10499</td>\n      <td>기타 오락관련 서비스업</td>\n      <td>R91299</td>\n      <td>...</td>\n      <td>4775035040101090000000001</td>\n      <td>NaN</td>\n      <td>경상북도 청송군 안덕면 백석탄로 541-21</td>\n      <td>763862</td>\n      <td>37449</td>\n      <td>NaN</td>\n      <td>NaN</td>\n      <td>NaN</td>\n      <td>128.995628</td>\n      <td>36.349543</td>\n    </tr>\n  </tbody>\n</table>\n<p>5 rows × 39 columns</p>\n</div>"
     },
     "execution_count": 51,
     "metadata": {},
     "output_type": "execute_result"
    }
   ],
   "source": [
    "df.head()"
   ],
   "metadata": {
    "collapsed": false,
    "ExecuteTime": {
     "end_time": "2024-03-14T14:38:30.153594Z",
     "start_time": "2024-03-14T14:38:30.136559Z"
    }
   },
   "id": "adf6576f98c6bbd0",
   "execution_count": 51
  },
  {
   "cell_type": "code",
   "outputs": [],
   "source": [
    "df2 = df.value_counts(['시군구명'], ascending=True)\n",
    "df2_result = df2.head(5)"
   ],
   "metadata": {
    "collapsed": false,
    "ExecuteTime": {
     "end_time": "2024-03-14T14:38:30.171355Z",
     "start_time": "2024-03-14T14:38:30.156603Z"
    }
   },
   "id": "bced39ebd440ac49",
   "execution_count": 52
  },
  {
   "cell_type": "code",
   "outputs": [],
   "source": [
    "df2_result.to_csv('../output/gk_store_02.csv')"
   ],
   "metadata": {
    "collapsed": false,
    "ExecuteTime": {
     "end_time": "2024-03-14T14:38:30.182106Z",
     "start_time": "2024-03-14T14:38:30.174368Z"
    }
   },
   "id": "b69d485d93f58e1d",
   "execution_count": 53
  },
  {
   "cell_type": "code",
   "outputs": [
    {
     "data": {
      "text/plain": "상권업종대분류명\n음식         51603\n소매         37384\n수리·개인      16827\n과학·기술       7260\n숙박          5770\n예술·스포츠      5475\n교육          4745\n시설관리·임대     4714\n부동산         3933\n보건의료         834\nName: count, dtype: int64"
     },
     "execution_count": 60,
     "metadata": {},
     "output_type": "execute_result"
    }
   ],
   "source": [
    "df3 = df['상권업종대분류명'].value_counts()\n",
    "df3"
   ],
   "metadata": {
    "collapsed": false,
    "ExecuteTime": {
     "end_time": "2024-03-14T14:39:50.918541Z",
     "start_time": "2024-03-14T14:39:50.896628Z"
    }
   },
   "id": "7d040e19c6080cff",
   "execution_count": 60
  },
  {
   "cell_type": "code",
   "outputs": [
    {
     "name": "stdout",
     "output_type": "stream",
     "text": [
      "<class 'pandas.core.series.Series'>\n",
      "Index: 3 entries, 보건의료 to 시설관리·임대\n",
      "Series name: count\n",
      "Non-Null Count  Dtype\n",
      "--------------  -----\n",
      "3 non-null      int64\n",
      "dtypes: int64(1)\n",
      "memory usage: 48.0+ bytes\n"
     ]
    }
   ],
   "source": [
    "df3 = df['상권업종대분류명'].value_counts()\n",
    "# df3_result = df3.sort_values(['상권업종대분류명'])\n",
    "df_result3 = df3.tail(3).sort_values(ascending=True)\n",
    "df_result3\n",
    "\n",
    "df_result3.info()\n",
    "df_result3.to_csv('../output/gk_store_03.csv')"
   ],
   "metadata": {
    "collapsed": false,
    "ExecuteTime": {
     "end_time": "2024-03-14T14:38:58.789906Z",
     "start_time": "2024-03-14T14:38:58.771429Z"
    }
   },
   "id": "d4202a5713cd3ea2",
   "execution_count": 59
  }
 ],
 "metadata": {
  "kernelspec": {
   "display_name": "Python 3",
   "language": "python",
   "name": "python3"
  },
  "language_info": {
   "codemirror_mode": {
    "name": "ipython",
    "version": 2
   },
   "file_extension": ".py",
   "mimetype": "text/x-python",
   "name": "python",
   "nbconvert_exporter": "python",
   "pygments_lexer": "ipython2",
   "version": "2.7.6"
  }
 },
 "nbformat": 4,
 "nbformat_minor": 5
}
