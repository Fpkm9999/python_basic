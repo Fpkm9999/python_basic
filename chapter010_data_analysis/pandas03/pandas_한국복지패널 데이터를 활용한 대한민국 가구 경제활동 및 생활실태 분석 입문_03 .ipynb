{
 "cells": [
  {
   "cell_type": "markdown",
   "metadata": {},
   "source": [
    "## 2. 월급 변수 검토 및 전처리하기"
   ]
  },
  {
   "cell_type": "code",
   "execution_count": 11,
   "metadata": {
    "ExecuteTime": {
     "end_time": "2024-03-16T13:35:05.554242Z",
     "start_time": "2024-03-16T13:35:05.549989Z"
    }
   },
   "outputs": [],
   "source": [
    "import pandas as pd\n",
    "import numpy as np\n",
    "import seaborn as sns\n",
    "import matplotlib\n",
    "import matplotlib.pyplot as plt"
   ]
  },
  {
   "cell_type": "code",
   "execution_count": 12,
   "metadata": {
    "ExecuteTime": {
     "end_time": "2024-03-16T13:35:06.572183Z",
     "start_time": "2024-03-16T13:35:05.639011Z"
    }
   },
   "outputs": [
    {
     "data": {
      "text/plain": "0    female\n1      male\n2      male\n3      male\n4    female\nName: sex, dtype: object"
     },
     "execution_count": 12,
     "metadata": {},
     "output_type": "execute_result"
    }
   ],
   "source": [
    "welfare = pd.read_csv('./data/Koweps_hpwc14_2019_beta2_step_02.csv')\n",
    "# chapter10_data_analysis\\pandas03\\data\\Koweps_hpwc14_2019_beta2_step_02.csv\n",
    "welfare['sex'].head()"
   ]
  },
  {
   "cell_type": "code",
   "execution_count": 13,
   "metadata": {
    "ExecuteTime": {
     "end_time": "2024-03-16T13:35:06.583250Z",
     "start_time": "2024-03-16T13:35:06.574744Z"
    }
   },
   "outputs": [
    {
     "data": {
      "text/plain": "dtype('float64')"
     },
     "execution_count": 13,
     "metadata": {},
     "output_type": "execute_result"
    }
   ],
   "source": [
    "# 1) 변수 검토하기\n",
    "# 코드북을 보면 월급은 '일한 달의 평균 임금'을 의미하며 1만원 단위로 기록.\n",
    "# 변수 이름은 income.\n",
    "# 성별은 범주 변수이므로 df.value_counts() 를 이용해 범주별 빈도를 확인하면 특징을 파악할 수 잇음.\n",
    "# 하지만 월급은 연속 변수이므로 df.value_account() 를 이용하면 너무 많은 항목이 출력되어 알아보기 어려움.\n",
    "# 연속 변수는 df.describe()로 요약 통계량을 확인해야 특징을 파악할 수 잇음.\n",
    "\n",
    "welfare['income'].dtype"
   ]
  },
  {
   "cell_type": "code",
   "execution_count": 14,
   "metadata": {
    "ExecuteTime": {
     "end_time": "2024-03-16T13:35:06.597867Z",
     "start_time": "2024-03-16T13:35:06.585429Z"
    }
   },
   "outputs": [
    {
     "data": {
      "text/plain": "count    4534.000000\nmean      268.455007\nstd       198.021206\nmin         0.000000\n25%       150.000000\n50%       220.000000\n75%       345.750000\nmax      1892.000000\nName: income, dtype: float64"
     },
     "execution_count": 14,
     "metadata": {},
     "output_type": "execute_result"
    }
   ],
   "source": [
    "welfare['income'].describe()"
   ]
  },
  {
   "cell_type": "code",
   "execution_count": 15,
   "metadata": {
    "ExecuteTime": {
     "end_time": "2024-03-16T13:35:06.856611Z",
     "start_time": "2024-03-16T13:35:06.599875Z"
    }
   },
   "outputs": [
    {
     "name": "stderr",
     "output_type": "stream",
     "text": [
      "C:\\Users\\fpkm9\\.conda\\envs\\Python_Basic\\Lib\\site-packages\\seaborn\\_oldcore.py:1119: FutureWarning: use_inf_as_na option is deprecated and will be removed in a future version. Convert inf values to NaN before operating instead.\n",
      "  with pd.option_context('mode.use_inf_as_na', True):\n"
     ]
    },
    {
     "data": {
      "text/plain": "<Figure size 640x480 with 1 Axes>",
      "image/png": "[encoded data removed]"
     },
     "metadata": {},
     "output_type": "display_data"
    }
   ],
   "source": [
    "# 출력결과를 보면 float64, 타입이고, 0 ~ 1892 만원의 값을 지님.\n",
    "# 150 ~ 345 만원에 가장 많이 분포하고 평균은 268만원, 중앙값은 평균보다 작은 220만원이므로\n",
    "# 전반적으로 낮은 쪽에 치우침. -> 월급이 평균값보다 낮은 사람이 50% 이상\n",
    "\n",
    "# 히스토그램을 만들어 분포를 확인\n",
    "sns.histplot(data=welfare,x='income')   # 히스토그램 만들기\n",
    "plt.grid()\n",
    "plt.show()"
   ]
  },
  {
   "cell_type": "code",
   "execution_count": 16,
   "metadata": {
    "ExecuteTime": {
     "end_time": "2024-03-16T13:35:06.873134Z",
     "start_time": "2024-03-16T13:35:06.861040Z"
    }
   },
   "outputs": [
    {
     "data": {
      "text/plain": "count    4534.000000\nmean      268.455007\nstd       198.021206\nmin         0.000000\n25%       150.000000\n50%       220.000000\n75%       345.750000\nmax      1892.000000\nName: income, dtype: float64"
     },
     "execution_count": 16,
     "metadata": {},
     "output_type": "execute_result"
    }
   ],
   "source": [
    "# 2) 전처리 하기\n",
    "# 코드북을 보면 월급은 만원 단위로 되어 있고, '모름/무응답'은 9999.\n",
    "\n",
    "welfare['income'].describe()    # 이상치 확인\n",
    "# max 값을 보니 9999라는 이상치는 없다. 현재."
   ]
  },
  {
   "cell_type": "code",
   "execution_count": 17,
   "metadata": {
    "ExecuteTime": {
     "end_time": "2024-03-16T13:35:06.886011Z",
     "start_time": "2024-03-16T13:35:06.876333Z"
    }
   },
   "outputs": [
    {
     "data": {
      "text/plain": "9884"
     },
     "execution_count": 17,
     "metadata": {},
     "output_type": "execute_result"
    }
   ],
   "source": [
    "welfare['income'].isna().sum()  # 결측치 확인 14418"
   ]
  },
  {
   "cell_type": "code",
   "execution_count": 18,
   "metadata": {
    "ExecuteTime": {
     "end_time": "2024-03-16T13:35:06.896245Z",
     "start_time": "2024-03-16T13:35:06.888179Z"
    }
   },
   "outputs": [],
   "source": [
    "# 출력 결과를 보면 최소값은 0 ~ 1,892 이고 결측치 9,884 개가 있음.\n",
    "# 즉 9999 가 입력된 데이터는 없음.\n",
    "# 이상치를 결측 처리하는 절차를 건너 뛰어도 됨.\n",
    "\n",
    "# 만약 9999인 항목이 있다면 아래와 같이 이상치를 결측 처리하는 절차를 거쳐야 함.\n",
    "# 이상치 결측 처리\n",
    "welfare['income'] = np.where(welfare['income'] == 9999, np.nan, welfare['income'])"
   ]
  },
  {
   "cell_type": "code",
   "execution_count": 19,
   "metadata": {
    "ExecuteTime": {
     "end_time": "2024-03-16T13:35:06.905566Z",
     "start_time": "2024-03-16T13:35:06.899254Z"
    }
   },
   "outputs": [
    {
     "name": "stdout",
     "output_type": "stream",
     "text": [
      "9884\n"
     ]
    }
   ],
   "source": [
    "# 결측치 확인\n",
    "print(welfare['income'].isna().sum())"
   ]
  }
 ],
 "metadata": {
  "kernelspec": {
   "display_name": "PythonBasic",
   "language": "python",
   "name": "python3"
  },
  "language_info": {
   "codemirror_mode": {
    "name": "ipython",
    "version": 3
   },
   "file_extension": ".py",
   "mimetype": "text/x-python",
   "name": "python",
   "nbconvert_exporter": "python",
   "pygments_lexer": "ipython3",
   "version": "3.11.8"
  }
 },
 "nbformat": 4,
 "nbformat_minor": 2
}
