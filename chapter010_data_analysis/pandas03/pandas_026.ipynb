{
 "cells": [
  {
   "cell_type": "markdown",
   "metadata": {},
   "source": [
    "    \"# 공공 데이터 포탈에서 다운받은'소상공인시장진흥공단_상가(상권)정보_대구_202312'을 사용.\\n\",\n",
    "    \"\\n\",\n",
    "    \"# 1. 필요한 정보만데이터프레임으로 변경\\n\",\n",
    "    \"# 2. 남구, 달서구, 상권업종증분류명 : 이용. 미용 지도에 표시\""
   ]
  },
  {
   "cell_type": "markdown",
   "metadata": {},
   "source": [
    "###### 문제 풀이 순서\n",
    "\n",
    "    1. 데이터 불러오기\n",
    "    소상공인시장진흥공단_상가(상권)정보_대구_202312.csv\\\" 파일을 pandas 를 사용하여 데이터프레임으로 불러오기\n",
    "    \": 데이터 프레임을 살펴보고 어떤 정보가 필요한지 결정\\n\",\n",
    "    \"\\n\",\n",
    "    \"2. 필요한 정보 추출\\n\",\n",
    "    \": 남구, 달서구에 해당하는 데이터와 상권업종분류명이 '이용' 또는 '미용' 에 해당하는 데이터만 추출\\n\",\n",
    "    \"\\n\",\n",
    "    \"3. 지도에 표시할 데이터 준비\\n\",\n",
    "    \": 추출한 데이터를 기반으로 지도에 표시할 데이터 준비\\n\",\n",
    "    \": 이 데이터에는 상가의 위치(위도와 경보) 포함\\n\",\n",
    "    \"\\n\",\n",
    "    \"4. folium 을 사용하여 지도에 표시\\n\",\n",
    "    \": folium 을 사용하여 대구의 지도를 생성\\n\",\n",
    "    \": 추출한 데이터를 지도에 마커로 표시\\n\",\n",
    "    \": 상가의 위치를 표시하는 마커 생성\\n\",\n",
    "    \": 각 마커에 적절한 팝업을 설정하여 표시\\n\",\n",
    "    \"\\n\",\n",
    "    \"5. 결과 확인\\n\",\n",
    "    \": 생성한 지도를 출력하여 정상적으로 표시되는지 확인\\n\"\n",
    "   "
   ]
  },
  {
   "cell_type": "code",
   "execution_count": 1,
   "metadata": {
    "ExecuteTime": {
     "end_time": "2024-03-15T08:29:52.324930Z",
     "start_time": "2024-03-15T08:29:47.949220Z"
    }
   },
   "outputs": [],
   "source": [
    "import pandas as pd\n",
    "import matplotlib\n",
    "import folium"
   ]
  },
  {
   "cell_type": "code",
   "execution_count": 2,
   "metadata": {
    "ExecuteTime": {
     "end_time": "2024-03-15T08:29:53.540086Z",
     "start_time": "2024-03-15T08:29:52.327938Z"
    }
   },
   "outputs": [],
   "source": [
    "# 1. 데이터 불러오기\n",
    "df = pd.read_csv('./input/소상공인시장진흥공단_상가(상권)정보_대구_202312.csv')\n",
    "# df.head()\n"
   ]
  },
  {
   "cell_type": "code",
   "execution_count": 3,
   "metadata": {
    "ExecuteTime": {
     "end_time": "2024-03-15T08:29:53.657522Z",
     "start_time": "2024-03-15T08:29:53.541094Z"
    }
   },
   "outputs": [
    {
     "name": "stdout",
     "output_type": "stream",
     "text": [
      "<class 'pandas.core.frame.DataFrame'>\n",
      "RangeIndex: 113639 entries, 0 to 113638\n",
      "Data columns (total 39 columns):\n",
      " #   Column     Non-Null Count   Dtype  \n",
      "---  ------     --------------   -----  \n",
      " 0   상가업소번호     113639 non-null  object \n",
      " 1   상호명        113639 non-null  object \n",
      " 2   지점명        1932 non-null    object \n",
      " 3   상권업종대분류코드  113639 non-null  object \n",
      " 4   상권업종대분류명   113639 non-null  object \n",
      " 5   상권업종중분류코드  113639 non-null  object \n",
      " 6   상권업종중분류명   113639 non-null  object \n",
      " 7   상권업종소분류코드  113639 non-null  object \n",
      " 8   상권업종소분류명   113639 non-null  object \n",
      " 9   표준산업분류코드   113622 non-null  object \n",
      " 10  표준산업분류명    113622 non-null  object \n",
      " 11  시도코드       113639 non-null  int64  \n",
      " 12  시도명        113639 non-null  object \n",
      " 13  시군구코드      113639 non-null  int64  \n",
      " 14  시군구명       113639 non-null  object \n",
      " 15  행정동코드      113639 non-null  int64  \n",
      " 16  행정동명       113639 non-null  object \n",
      " 17  법정동코드      113639 non-null  int64  \n",
      " 18  법정동명       113639 non-null  object \n",
      " 19  지번코드       113639 non-null  int64  \n",
      " 20  대지구분코드     113639 non-null  int64  \n",
      " 21  대지구분명      113639 non-null  object \n",
      " 22  지번본번지      113629 non-null  float64\n",
      " 23  지번부번지      92859 non-null   float64\n",
      " 24  지번주소       113639 non-null  object \n",
      " 25  도로명코드      113634 non-null  float64\n",
      " 26  도로명        113639 non-null  object \n",
      " 27  건물본번지      113634 non-null  float64\n",
      " 28  건물부번지      21647 non-null   float64\n",
      " 29  건물관리번호     113624 non-null  object \n",
      " 30  건물명        20541 non-null   object \n",
      " 31  도로명주소      113639 non-null  object \n",
      " 32  구우편번호      113639 non-null  int64  \n",
      " 33  신우편번호      113639 non-null  int64  \n",
      " 34  동정보        0 non-null       float64\n",
      " 35  층정보        61062 non-null   object \n",
      " 36  호정보        0 non-null       float64\n",
      " 37  경도         113639 non-null  float64\n",
      " 38  위도         113639 non-null  float64\n",
      "dtypes: float64(9), int64(8), object(22)\n",
      "memory usage: 33.8+ MB\n"
     ]
    }
   ],
   "source": [
    "df.info()"
   ]
  },
  {
   "cell_type": "code",
   "execution_count": 4,
   "metadata": {
    "ExecuteTime": {
     "end_time": "2024-03-15T08:29:53.665814Z",
     "start_time": "2024-03-15T08:29:53.660530Z"
    }
   },
   "outputs": [],
   "source": [
    "matplotlib.rcParams['font.family'] = 'Malgun Gothic' #맑은 고딕으로 지정\n",
    "matplotlib.rcParams['axes.linewidth'] = False"
   ]
  },
  {
   "cell_type": "code",
   "execution_count": 5,
   "metadata": {
    "ExecuteTime": {
     "end_time": "2024-03-15T08:29:53.694611Z",
     "start_time": "2024-03-15T08:29:53.669821Z"
    }
   },
   "outputs": [
    {
     "data": {
      "text/plain": "  상권업종중분류명          경도         위도 시군구명\n0       일식  128.549749  35.795445  달서구\n1    일반 숙박  128.639751  35.992577   동구\n2    이용·미용  128.602432  35.916799   북구\n3    비알코올   128.721839  35.877366   동구\n4    비알코올   128.631047  35.868657   동구",
      "text/html": "<div>\n<style scoped>\n    .dataframe tbody tr th:only-of-type {\n        vertical-align: middle;\n    }\n\n    .dataframe tbody tr th {\n        vertical-align: top;\n    }\n\n    .dataframe thead th {\n        text-align: right;\n    }\n</style>\n<table border=\"1\" class=\"dataframe\">\n  <thead>\n    <tr style=\"text-align: right;\">\n      <th></th>\n      <th>상권업종중분류명</th>\n      <th>경도</th>\n      <th>위도</th>\n      <th>시군구명</th>\n    </tr>\n  </thead>\n  <tbody>\n    <tr>\n      <th>0</th>\n      <td>일식</td>\n      <td>128.549749</td>\n      <td>35.795445</td>\n      <td>달서구</td>\n    </tr>\n    <tr>\n      <th>1</th>\n      <td>일반 숙박</td>\n      <td>128.639751</td>\n      <td>35.992577</td>\n      <td>동구</td>\n    </tr>\n    <tr>\n      <th>2</th>\n      <td>이용·미용</td>\n      <td>128.602432</td>\n      <td>35.916799</td>\n      <td>북구</td>\n    </tr>\n    <tr>\n      <th>3</th>\n      <td>비알코올</td>\n      <td>128.721839</td>\n      <td>35.877366</td>\n      <td>동구</td>\n    </tr>\n    <tr>\n      <th>4</th>\n      <td>비알코올</td>\n      <td>128.631047</td>\n      <td>35.868657</td>\n      <td>동구</td>\n    </tr>\n  </tbody>\n</table>\n</div>"
     },
     "execution_count": 5,
     "metadata": {},
     "output_type": "execute_result"
    }
   ],
   "source": [
    "df6= df[['상권업종중분류명','경도','위도','시군구명']]\n",
    "df6.head()"
   ]
  },
  {
   "cell_type": "code",
   "execution_count": 6,
   "metadata": {
    "ExecuteTime": {
     "end_time": "2024-03-15T08:29:53.706472Z",
     "start_time": "2024-03-15T08:29:53.697619Z"
    }
   },
   "outputs": [
    {
     "data": {
      "text/plain": "Index(['상가업소번호', '상호명', '지점명', '상권업종대분류코드', '상권업종대분류명', '상권업종중분류코드',\n       '상권업종중분류명', '상권업종소분류코드', '상권업종소분류명', '표준산업분류코드', '표준산업분류명', '시도코드',\n       '시도명', '시군구코드', '시군구명', '행정동코드', '행정동명', '법정동코드', '법정동명', '지번코드',\n       '대지구분코드', '대지구분명', '지번본번지', '지번부번지', '지번주소', '도로명코드', '도로명', '건물본번지',\n       '건물부번지', '건물관리번호', '건물명', '도로명주소', '구우편번호', '신우편번호', '동정보', '층정보',\n       '호정보', '경도', '위도'],\n      dtype='object')"
     },
     "execution_count": 6,
     "metadata": {},
     "output_type": "execute_result"
    }
   ],
   "source": [
    "# 2. 필요한 정보 추출\n",
    "# 남구, 달서구에 해당하는 데이터와 상권업종분류명이 '이용' 또는 '미용' 에 해당하는 데이터만 추출\n",
    "df.columns = df.columns.map(str)\n",
    "df.columns"
   ]
  },
  {
   "cell_type": "code",
   "execution_count": 7,
   "metadata": {
    "ExecuteTime": {
     "end_time": "2024-03-15T08:29:53.742719Z",
     "start_time": "2024-03-15T08:29:53.709481Z"
    }
   },
   "outputs": [
    {
     "data": {
      "text/plain": "           상권업종중분류명          경도         위도 시군구명\n0                일식  128.549749  35.795445  달서구\n5         의약·화장품 소매  128.573055  35.851705  달서구\n6            기술 서비스  128.598704  35.854293   남구\n8                한식  128.527333  35.823586  달서구\n11            일반 숙박  128.580293  35.846831   남구\n...             ...         ...        ...  ...\n113630           한식  128.496595  35.860113  달서구\n113631        이용·미용  128.553157  35.854476  달서구\n113634           한식  128.549018  35.822606  달서구\n113637  섬유·의복·신발 소매  128.516825  35.815970  달서구\n113638        비알코올   128.549426  35.828769  달서구\n\n[30244 rows x 4 columns]",
      "text/html": "<div>\n<style scoped>\n    .dataframe tbody tr th:only-of-type {\n        vertical-align: middle;\n    }\n\n    .dataframe tbody tr th {\n        vertical-align: top;\n    }\n\n    .dataframe thead th {\n        text-align: right;\n    }\n</style>\n<table border=\"1\" class=\"dataframe\">\n  <thead>\n    <tr style=\"text-align: right;\">\n      <th></th>\n      <th>상권업종중분류명</th>\n      <th>경도</th>\n      <th>위도</th>\n      <th>시군구명</th>\n    </tr>\n  </thead>\n  <tbody>\n    <tr>\n      <th>0</th>\n      <td>일식</td>\n      <td>128.549749</td>\n      <td>35.795445</td>\n      <td>달서구</td>\n    </tr>\n    <tr>\n      <th>5</th>\n      <td>의약·화장품 소매</td>\n      <td>128.573055</td>\n      <td>35.851705</td>\n      <td>달서구</td>\n    </tr>\n    <tr>\n      <th>6</th>\n      <td>기술 서비스</td>\n      <td>128.598704</td>\n      <td>35.854293</td>\n      <td>남구</td>\n    </tr>\n    <tr>\n      <th>8</th>\n      <td>한식</td>\n      <td>128.527333</td>\n      <td>35.823586</td>\n      <td>달서구</td>\n    </tr>\n    <tr>\n      <th>11</th>\n      <td>일반 숙박</td>\n      <td>128.580293</td>\n      <td>35.846831</td>\n      <td>남구</td>\n    </tr>\n    <tr>\n      <th>...</th>\n      <td>...</td>\n      <td>...</td>\n      <td>...</td>\n      <td>...</td>\n    </tr>\n    <tr>\n      <th>113630</th>\n      <td>한식</td>\n      <td>128.496595</td>\n      <td>35.860113</td>\n      <td>달서구</td>\n    </tr>\n    <tr>\n      <th>113631</th>\n      <td>이용·미용</td>\n      <td>128.553157</td>\n      <td>35.854476</td>\n      <td>달서구</td>\n    </tr>\n    <tr>\n      <th>113634</th>\n      <td>한식</td>\n      <td>128.549018</td>\n      <td>35.822606</td>\n      <td>달서구</td>\n    </tr>\n    <tr>\n      <th>113637</th>\n      <td>섬유·의복·신발 소매</td>\n      <td>128.516825</td>\n      <td>35.815970</td>\n      <td>달서구</td>\n    </tr>\n    <tr>\n      <th>113638</th>\n      <td>비알코올</td>\n      <td>128.549426</td>\n      <td>35.828769</td>\n      <td>달서구</td>\n    </tr>\n  </tbody>\n</table>\n<p>30244 rows × 4 columns</p>\n</div>"
     },
     "execution_count": 7,
     "metadata": {},
     "output_type": "execute_result"
    }
   ],
   "source": [
    "#2. 남구, 달서구, 상권업종중분류명 : 이용, 미용 지도에 표시\n",
    "df2 = df6[(df6['시군구명'] == '남구') | (df6['시군구명'] == '달서구')]\n",
    "# df2.head(10)\n",
    "# df7.head()\n",
    "# df2[df2['상권업종중분류명'] == '이용·미용']\n",
    "df2"
   ]
  },
  {
   "cell_type": "code",
   "execution_count": 8,
   "metadata": {
    "ExecuteTime": {
     "end_time": "2024-03-15T08:29:53.754858Z",
     "start_time": "2024-03-15T08:29:53.745233Z"
    }
   },
   "outputs": [
    {
     "data": {
      "text/plain": "0         달서구\n5         달서구\n6          남구\n8         달서구\n11         남구\n         ... \n113630    달서구\n113631    달서구\n113634    달서구\n113637    달서구\n113638    달서구\nName: 시군구명, Length: 30244, dtype: object"
     },
     "execution_count": 8,
     "metadata": {},
     "output_type": "execute_result"
    }
   ],
   "source": [
    "df2['시군구명']"
   ]
  },
  {
   "cell_type": "code",
   "execution_count": 9,
   "metadata": {
    "ExecuteTime": {
     "end_time": "2024-03-15T08:29:53.772270Z",
     "start_time": "2024-03-15T08:29:53.756867Z"
    }
   },
   "outputs": [
    {
     "name": "stdout",
     "output_type": "stream",
     "text": [
      "<class 'pandas.core.frame.DataFrame'>\n",
      "Index: 30244 entries, 0 to 113638\n",
      "Data columns (total 4 columns):\n",
      " #   Column    Non-Null Count  Dtype  \n",
      "---  ------    --------------  -----  \n",
      " 0   상권업종중분류명  30244 non-null  object \n",
      " 1   경도        30244 non-null  float64\n",
      " 2   위도        30244 non-null  float64\n",
      " 3   시군구명      30244 non-null  object \n",
      "dtypes: float64(2), object(2)\n",
      "memory usage: 1.2+ MB\n"
     ]
    }
   ],
   "source": [
    "df2.info()"
   ]
  },
  {
   "cell_type": "code",
   "execution_count": 10,
   "metadata": {
    "ExecuteTime": {
     "end_time": "2024-03-15T08:29:53.829784Z",
     "start_time": "2024-03-15T08:29:53.775385Z"
    }
   },
   "outputs": [
    {
     "data": {
      "text/plain": "<folium.folium.Map at 0x1f903ff2010>",
      "text/html": "<div style=\"width:100%;\"><div style=\"position:relative;width:100%;height:0;padding-bottom:60%;\"><span style=\"color:#565656\">Make this Notebook Trusted to load map: File -> Trust Notebook</span><iframe srcdoc=\"&lt;!DOCTYPE html&gt;\n&lt;html&gt;\n&lt;head&gt;\n    \n    &lt;meta http-equiv=&quot;content-type&quot; content=&quot;text/html; charset=UTF-8&quot; /&gt;\n    \n        &lt;script&gt;\n            L_NO_TOUCH = false;\n            L_DISABLE_3D = false;\n        &lt;/script&gt;\n    \n    &lt;style&gt;html, body {width: 100%;height: 100%;margin: 0;padding: 0;}&lt;/style&gt;\n    &lt;style&gt;#map {position:absolute;top:0;bottom:0;right:0;left:0;}&lt;/style&gt;\n    &lt;script src=&quot;https://cdn.jsdelivr.net/npm/leaflet@1.9.3/dist/leaflet.js&quot;&gt;&lt;/script&gt;\n    &lt;script src=&quot;https://code.jquery.com/jquery-3.7.1.min.js&quot;&gt;&lt;/script&gt;\n    &lt;script src=&quot;https://cdn.jsdelivr.net/npm/bootstrap@5.2.2/dist/js/bootstrap.bundle.min.js&quot;&gt;&lt;/script&gt;\n    &lt;script src=&quot;https://cdnjs.cloudflare.com/ajax/libs/Leaflet.awesome-markers/2.0.2/leaflet.awesome-markers.js&quot;&gt;&lt;/script&gt;\n    &lt;link rel=&quot;stylesheet&quot; href=&quot;https://cdn.jsdelivr.net/npm/leaflet@1.9.3/dist/leaflet.css&quot;/&gt;\n    &lt;link rel=&quot;stylesheet&quot; href=&quot;https://cdn.jsdelivr.net/npm/bootstrap@5.2.2/dist/css/bootstrap.min.css&quot;/&gt;\n    &lt;link rel=&quot;stylesheet&quot; href=&quot;https://netdna.bootstrapcdn.com/bootstrap/3.0.0/css/bootstrap.min.css&quot;/&gt;\n    &lt;link rel=&quot;stylesheet&quot; href=&quot;https://cdn.jsdelivr.net/npm/@fortawesome/fontawesome-free@6.2.0/css/all.min.css&quot;/&gt;\n    &lt;link rel=&quot;stylesheet&quot; href=&quot;https://cdnjs.cloudflare.com/ajax/libs/Leaflet.awesome-markers/2.0.2/leaflet.awesome-markers.css&quot;/&gt;\n    &lt;link rel=&quot;stylesheet&quot; href=&quot;https://cdn.jsdelivr.net/gh/python-visualization/folium/folium/templates/leaflet.awesome.rotate.min.css&quot;/&gt;\n    \n            &lt;meta name=&quot;viewport&quot; content=&quot;width=device-width,\n                initial-scale=1.0, maximum-scale=1.0, user-scalable=no&quot; /&gt;\n            &lt;style&gt;\n                #map_e0e60ac950ce22841a6aa4f0e553afb4 {\n                    position: relative;\n                    width: 100.0%;\n                    height: 100.0%;\n                    left: 0.0%;\n                    top: 0.0%;\n                }\n                .leaflet-container { font-size: 1rem; }\n            &lt;/style&gt;\n        \n&lt;/head&gt;\n&lt;body&gt;\n    \n    \n            &lt;div class=&quot;folium-map&quot; id=&quot;map_e0e60ac950ce22841a6aa4f0e553afb4&quot; &gt;&lt;/div&gt;\n        \n&lt;/body&gt;\n&lt;script&gt;\n    \n    \n            var map_e0e60ac950ce22841a6aa4f0e553afb4 = L.map(\n                &quot;map_e0e60ac950ce22841a6aa4f0e553afb4&quot;,\n                {\n                    center: [35.84621351, 128.597702],\n                    crs: L.CRS.EPSG3857,\n                    zoom: 10,\n                    zoomControl: true,\n                    preferCanvas: false,\n                    zoomStar: 15,\n                }\n            );\n\n            \n\n        \n    \n            var tile_layer_2e9863fc629f1154c0f4d400527b3380 = L.tileLayer(\n                &quot;https://{s}.basemaps.cartocdn.com/light_all/{z}/{x}/{y}{r}.png&quot;,\n                {&quot;attribution&quot;: &quot;\\u0026copy; \\u003ca href=\\&quot;https://www.openstreetmap.org/copyright\\&quot;\\u003eOpenStreetMap\\u003c/a\\u003e contributors \\u0026copy; \\u003ca href=\\&quot;https://carto.com/attributions\\&quot;\\u003eCARTO\\u003c/a\\u003e&quot;, &quot;detectRetina&quot;: false, &quot;maxNativeZoom&quot;: 20, &quot;maxZoom&quot;: 20, &quot;minZoom&quot;: 0, &quot;noWrap&quot;: false, &quot;opacity&quot;: 1, &quot;subdomains&quot;: &quot;abcd&quot;, &quot;tms&quot;: false}\n            );\n        \n    \n            tile_layer_2e9863fc629f1154c0f4d400527b3380.addTo(map_e0e60ac950ce22841a6aa4f0e553afb4);\n        \n&lt;/script&gt;\n&lt;/html&gt;\" style=\"position:absolute;width:100%;height:100%;left:0;top:0;border:none !important;\" allowfullscreen webkitallowfullscreen mozallowfullscreen></iframe></div></div>"
     },
     "execution_count": 10,
     "metadata": {},
     "output_type": "execute_result"
    }
   ],
   "source": [
    "daegu_map = folium.Map(location=[35.84621351, 128.597702], zoom_star=15, tiles='Cartodb Positron')\n",
    "daegu_map"
   ]
  },
  {
   "cell_type": "code",
   "execution_count": 11,
   "metadata": {
    "ExecuteTime": {
     "end_time": "2024-03-15T08:29:56.609470Z",
     "start_time": "2024-03-15T08:29:53.830791Z"
    }
   },
   "outputs": [
    {
     "ename": "KeyError",
     "evalue": "'상호명'",
     "output_type": "error",
     "traceback": [
      "\u001B[1;31m---------------------------------------------------------------------------\u001B[0m",
      "\u001B[1;31mKeyError\u001B[0m                                  Traceback (most recent call last)",
      "File \u001B[1;32m~\\.conda\\envs\\Python_Basic\\Lib\\site-packages\\pandas\\core\\indexes\\base.py:3805\u001B[0m, in \u001B[0;36mIndex.get_loc\u001B[1;34m(self, key)\u001B[0m\n\u001B[0;32m   3804\u001B[0m \u001B[38;5;28;01mtry\u001B[39;00m:\n\u001B[1;32m-> 3805\u001B[0m     \u001B[38;5;28;01mreturn\u001B[39;00m \u001B[38;5;28mself\u001B[39m\u001B[38;5;241m.\u001B[39m_engine\u001B[38;5;241m.\u001B[39mget_loc(casted_key)\n\u001B[0;32m   3806\u001B[0m \u001B[38;5;28;01mexcept\u001B[39;00m \u001B[38;5;167;01mKeyError\u001B[39;00m \u001B[38;5;28;01mas\u001B[39;00m err:\n",
      "File \u001B[1;32mindex.pyx:167\u001B[0m, in \u001B[0;36mpandas._libs.index.IndexEngine.get_loc\u001B[1;34m()\u001B[0m\n",
      "File \u001B[1;32mindex.pyx:196\u001B[0m, in \u001B[0;36mpandas._libs.index.IndexEngine.get_loc\u001B[1;34m()\u001B[0m\n",
      "File \u001B[1;32mpandas\\\\_libs\\\\hashtable_class_helper.pxi:7081\u001B[0m, in \u001B[0;36mpandas._libs.hashtable.PyObjectHashTable.get_item\u001B[1;34m()\u001B[0m\n",
      "File \u001B[1;32mpandas\\\\_libs\\\\hashtable_class_helper.pxi:7089\u001B[0m, in \u001B[0;36mpandas._libs.hashtable.PyObjectHashTable.get_item\u001B[1;34m()\u001B[0m\n",
      "\u001B[1;31mKeyError\u001B[0m: '상호명'",
      "\nThe above exception was the direct cause of the following exception:\n",
      "\u001B[1;31mKeyError\u001B[0m                                  Traceback (most recent call last)",
      "Cell \u001B[1;32mIn[11], line 1\u001B[0m\n\u001B[1;32m----> 1\u001B[0m \u001B[38;5;28;01mfor\u001B[39;00m name, lat, lng \u001B[38;5;129;01min\u001B[39;00m \u001B[38;5;28mzip\u001B[39m(df2[\u001B[38;5;124m'\u001B[39m\u001B[38;5;124m상호명\u001B[39m\u001B[38;5;124m'\u001B[39m], df2[\u001B[38;5;124m'\u001B[39m\u001B[38;5;124m위도\u001B[39m\u001B[38;5;124m'\u001B[39m], df2[\u001B[38;5;124m'\u001B[39m\u001B[38;5;124m경도\u001B[39m\u001B[38;5;124m'\u001B[39m]):\n\u001B[0;32m      2\u001B[0m     folium\u001B[38;5;241m.\u001B[39mMarker(location\u001B[38;5;241m=\u001B[39m[lat,lng], popup\u001B[38;5;241m=\u001B[39mname)\u001B[38;5;241m.\u001B[39madd_to(daegu_map)\n\u001B[0;32m      3\u001B[0m daegu_map\n",
      "File \u001B[1;32m~\\.conda\\envs\\Python_Basic\\Lib\\site-packages\\pandas\\core\\frame.py:4090\u001B[0m, in \u001B[0;36mDataFrame.__getitem__\u001B[1;34m(self, key)\u001B[0m\n\u001B[0;32m   4088\u001B[0m \u001B[38;5;28;01mif\u001B[39;00m \u001B[38;5;28mself\u001B[39m\u001B[38;5;241m.\u001B[39mcolumns\u001B[38;5;241m.\u001B[39mnlevels \u001B[38;5;241m>\u001B[39m \u001B[38;5;241m1\u001B[39m:\n\u001B[0;32m   4089\u001B[0m     \u001B[38;5;28;01mreturn\u001B[39;00m \u001B[38;5;28mself\u001B[39m\u001B[38;5;241m.\u001B[39m_getitem_multilevel(key)\n\u001B[1;32m-> 4090\u001B[0m indexer \u001B[38;5;241m=\u001B[39m \u001B[38;5;28mself\u001B[39m\u001B[38;5;241m.\u001B[39mcolumns\u001B[38;5;241m.\u001B[39mget_loc(key)\n\u001B[0;32m   4091\u001B[0m \u001B[38;5;28;01mif\u001B[39;00m is_integer(indexer):\n\u001B[0;32m   4092\u001B[0m     indexer \u001B[38;5;241m=\u001B[39m [indexer]\n",
      "File \u001B[1;32m~\\.conda\\envs\\Python_Basic\\Lib\\site-packages\\pandas\\core\\indexes\\base.py:3812\u001B[0m, in \u001B[0;36mIndex.get_loc\u001B[1;34m(self, key)\u001B[0m\n\u001B[0;32m   3807\u001B[0m     \u001B[38;5;28;01mif\u001B[39;00m \u001B[38;5;28misinstance\u001B[39m(casted_key, \u001B[38;5;28mslice\u001B[39m) \u001B[38;5;129;01mor\u001B[39;00m (\n\u001B[0;32m   3808\u001B[0m         \u001B[38;5;28misinstance\u001B[39m(casted_key, abc\u001B[38;5;241m.\u001B[39mIterable)\n\u001B[0;32m   3809\u001B[0m         \u001B[38;5;129;01mand\u001B[39;00m \u001B[38;5;28many\u001B[39m(\u001B[38;5;28misinstance\u001B[39m(x, \u001B[38;5;28mslice\u001B[39m) \u001B[38;5;28;01mfor\u001B[39;00m x \u001B[38;5;129;01min\u001B[39;00m casted_key)\n\u001B[0;32m   3810\u001B[0m     ):\n\u001B[0;32m   3811\u001B[0m         \u001B[38;5;28;01mraise\u001B[39;00m InvalidIndexError(key)\n\u001B[1;32m-> 3812\u001B[0m     \u001B[38;5;28;01mraise\u001B[39;00m \u001B[38;5;167;01mKeyError\u001B[39;00m(key) \u001B[38;5;28;01mfrom\u001B[39;00m \u001B[38;5;21;01merr\u001B[39;00m\n\u001B[0;32m   3813\u001B[0m \u001B[38;5;28;01mexcept\u001B[39;00m \u001B[38;5;167;01mTypeError\u001B[39;00m:\n\u001B[0;32m   3814\u001B[0m     \u001B[38;5;66;03m# If we have a listlike key, _check_indexing_error will raise\u001B[39;00m\n\u001B[0;32m   3815\u001B[0m     \u001B[38;5;66;03m#  InvalidIndexError. Otherwise we fall through and re-raise\u001B[39;00m\n\u001B[0;32m   3816\u001B[0m     \u001B[38;5;66;03m#  the TypeError.\u001B[39;00m\n\u001B[0;32m   3817\u001B[0m     \u001B[38;5;28mself\u001B[39m\u001B[38;5;241m.\u001B[39m_check_indexing_error(key)\n",
      "\u001B[1;31mKeyError\u001B[0m: '상호명'"
     ]
    }
   ],
   "source": [
    "for name, lat, lng in zip(df2['상호명'], df2['위도'], df2['경도']):\n",
    "    folium.Marker(location=[lat,lng], popup=name).add_to(daegu_map)\n",
    "daegu_map"
   ]
  },
  {
   "cell_type": "code",
   "execution_count": null,
   "metadata": {
    "ExecuteTime": {
     "end_time": "2024-03-15T08:29:56.612477Z",
     "start_time": "2024-03-15T08:29:56.611477Z"
    }
   },
   "outputs": [],
   "source": [
    "daegu_map.save('./output/daegu_map.html')"
   ]
  }
 ],
 "metadata": {
  "kernelspec": {
   "display_name": "PythonBasic",
   "language": "python",
   "name": "python3"
  },
  "language_info": {
   "codemirror_mode": {
    "name": "ipython",
    "version": 3
   },
   "file_extension": ".py",
   "mimetype": "text/x-python",
   "name": "python",
   "nbconvert_exporter": "python",
   "pygments_lexer": "ipython3",
   "version": "3.11.8"
  }
 },
 "nbformat": 4,
 "nbformat_minor": 2
}
