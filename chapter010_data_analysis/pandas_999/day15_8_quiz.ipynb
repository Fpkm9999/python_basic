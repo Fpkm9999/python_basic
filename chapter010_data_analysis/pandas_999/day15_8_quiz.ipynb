{
 "cells": [
  {
   "cell_type": "code",
   "execution_count": null,
   "id": "initial_id",
   "metadata": {
    "collapsed": true
   },
   "outputs": [],
   "source": [
    "# 공공 데이터 포털에서 다운받은 '소상공인시장진흥공단_상가(상권)정보_대구_202312' 사용\n",
    "# 1. 필요한 정보만 데이터 프레임으로 변경\n",
    "# 2. 남구, 달서구, 상권업종중분류명 : 이용, 미용 지도에 표시"
   ]
  },
  {
   "cell_type": "markdown",
   "source": [
    "###### 문제 풀이 순서\n",
    "\n",
    "1. 데이터 불러오기\n",
    ": \"소상공인시장진흥공단_상가(상권)정보_대구_202312.csv\" 파일을 pandas 를 사용하여 데이터프레임으로 불러오기\n",
    ": 데이터 프레임을 살펴보고 어떤 정보가 필요한지 결정\n",
    "\n",
    "2. 필요한 정보 추출\n",
    ": 남구, 달서구에 해당하는 데이터와 상권업종분류명이 '이용' 또는 '미용' 에 해당하는 데이터만 추출\n",
    "\n",
    "3. 지도에 표시할 데이터 준비\n",
    ": 추출한 데이터를 기반으로 지도에 표시할 데이터 준비\n",
    ": 이 데이터에는 상가의 위치(위도와 경보) 포함\n",
    "\n",
    "4. folium 을 사용하여 지도에 표시\n",
    ": folium 을 사용하여 대구의 지도를 생성\n",
    ": 추출한 데이터를 지도에 마커로 표시\n",
    ": 상가의 위치를 표시하는 마커 생성\n",
    ": 각 마커에 적절한 팝업을 설정하여 표시\n",
    "\n",
    "5. 결과 확인\n",
    ": 생성한 지도를 출력하여 정상적으로 표시되는지 확인\n"
   ],
   "metadata": {
    "collapsed": false
   },
   "id": "cead431ab26e1e11"
  },
  {
   "cell_type": "code",
   "outputs": [],
   "source": [],
   "metadata": {
    "collapsed": false
   },
   "id": "d5cc40e915456f51"
  },
  {
   "cell_type": "code",
   "outputs": [],
   "source": [],
   "metadata": {
    "collapsed": false
   },
   "id": "cf278c323ff21323"
  },
  {
   "cell_type": "code",
   "outputs": [],
   "source": [],
   "metadata": {
    "collapsed": false
   },
   "id": "4f82f7bec15013f6"
  },
  {
   "cell_type": "code",
   "outputs": [],
   "source": [],
   "metadata": {
    "collapsed": false
   },
   "id": "519705731602c02e"
  },
  {
   "cell_type": "code",
   "outputs": [],
   "source": [],
   "metadata": {
    "collapsed": false
   },
   "id": "7537c6a4e2d225ef"
  },
  {
   "cell_type": "code",
   "outputs": [],
   "source": [],
   "metadata": {
    "collapsed": false
   },
   "id": "d60f559a7a5e1f8e"
  },
  {
   "cell_type": "code",
   "outputs": [],
   "source": [],
   "metadata": {
    "collapsed": false
   },
   "id": "a67e89e96d1002f6"
  },
  {
   "cell_type": "code",
   "outputs": [],
   "source": [],
   "metadata": {
    "collapsed": false
   },
   "id": "c40e6549939a732a"
  },
  {
   "cell_type": "code",
   "outputs": [],
   "source": [],
   "metadata": {
    "collapsed": false
   },
   "id": "d7b76dacb53fb0bb"
  },
  {
   "cell_type": "code",
   "outputs": [],
   "source": [],
   "metadata": {
    "collapsed": false
   },
   "id": "648175f7ab110cb1"
  },
  {
   "cell_type": "code",
   "outputs": [],
   "source": [],
   "metadata": {
    "collapsed": false
   },
   "id": "33906fd417fe6bb6"
  },
  {
   "cell_type": "code",
   "outputs": [],
   "source": [],
   "metadata": {
    "collapsed": false
   },
   "id": "1d6f234740c75ed4"
  },
  {
   "cell_type": "code",
   "outputs": [],
   "source": [],
   "metadata": {
    "collapsed": false
   },
   "id": "ed700c2b105b872e"
  },
  {
   "cell_type": "code",
   "outputs": [],
   "source": [],
   "metadata": {
    "collapsed": false
   },
   "id": "95a4e7d0cf1ba0fb"
  },
  {
   "cell_type": "code",
   "outputs": [],
   "source": [],
   "metadata": {
    "collapsed": false
   },
   "id": "ed0b093e7b629f3"
  },
  {
   "cell_type": "code",
   "outputs": [],
   "source": [],
   "metadata": {
    "collapsed": false
   },
   "id": "7c956d6acf4fb60a"
  },
  {
   "cell_type": "code",
   "outputs": [],
   "source": [],
   "metadata": {
    "collapsed": false
   },
   "id": "af8d535066264ed3"
  }
 ],
 "metadata": {
  "kernelspec": {
   "display_name": "Python 3",
   "language": "python",
   "name": "python3"
  },
  "language_info": {
   "codemirror_mode": {
    "name": "ipython",
    "version": 2
   },
   "file_extension": ".py",
   "mimetype": "text/x-python",
   "name": "python",
   "nbconvert_exporter": "python",
   "pygments_lexer": "ipython2",
   "version": "2.7.6"
  }
 },
 "nbformat": 4,
 "nbformat_minor": 5
}
