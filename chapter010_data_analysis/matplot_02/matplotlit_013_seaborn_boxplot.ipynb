{
 "cells": [
  {
   "cell_type": "markdown",
   "source": [
    "### 4. 상자 그림 - 집단 간 분포 차이 표현하기"
   ],
   "metadata": {
    "collapsed": false
   },
   "id": "46bb8e1e75bca34e"
  },
  {
   "cell_type": "code",
   "outputs": [],
   "source": [
    "# 상자그림 box plot 은 데이터의 분포 또는 퍼져 있는 형태를 직사각형 상자 모양으로 표현한 그래프\n",
    "# 상자 그림을 보면 데이터가 어떻게 분포하고 있는지 알 수 있기 때문에 평균값만 볼 때 보다\n",
    "# 데이터의 특징을 더 자세히 이해할 수 있음. \n",
    "\n",
    "import matplotlib.pyplot as plt\n",
    "import seaborn as sns\n",
    "import pandas as pd"
   ],
   "metadata": {
    "collapsed": false,
    "ExecuteTime": {
     "end_time": "2024-03-14T17:18:59.295612Z",
     "start_time": "2024-03-14T17:18:59.288638Z"
    }
   },
   "id": "6a4271b34010a64c",
   "execution_count": 1
  },
  {
   "cell_type": "code",
   "outputs": [],
   "source": [
    "# 01. 상자 그림 만들기\n",
    "# sns. boxplot() 을 이용하면 상자 그림을 만들 수있음\n",
    "# mpg 데이터를 이용해서 x축을 drv, y축을 hwy 로 지정하고 '구동 방식별 고속도로 연비'를 상자 그림으로 표현\n"
   ],
   "metadata": {
    "collapsed": false,
    "ExecuteTime": {
     "end_time": "2024-03-14T17:18:59.308313Z",
     "start_time": "2024-03-14T17:18:59.298623Z"
    }
   },
   "id": "96429324b39fb40b",
   "execution_count": 2
  },
  {
   "cell_type": "code",
   "outputs": [
    {
     "data": {
      "text/plain": "<Figure size 640x480 with 1 Axes>",
      "image/png": "[encoded data removed]"
     },
     "metadata": {},
     "output_type": "display_data"
    }
   ],
   "source": [
    "mpg = pd.read_csv('./input/mpg.csv')\n",
    "mpg.head()\n",
    "# mpg.csv : '구동 방식별 고속도로 연비 평균'\n",
    "# displ(배기량)\n",
    "# hwy(고속도로 연비)\n",
    "# drv(구동방식)\n",
    "\n",
    "sns.boxplot(data=mpg, x='drv', y='hwy')\n",
    "plt.show()"
   ],
   "metadata": {
    "collapsed": false,
    "ExecuteTime": {
     "end_time": "2024-03-14T17:18:59.493222Z",
     "start_time": "2024-03-14T17:18:59.310465Z"
    }
   },
   "id": "40a5488f7f85dd3c",
   "execution_count": 3
  },
  {
   "cell_type": "markdown",
   "source": [],
   "metadata": {
    "collapsed": false
   },
   "id": "7dee4755e143c633"
  },
  {
   "cell_type": "code",
   "outputs": [],
   "source": [
    "# 상자 그림은 값을 크기순으로 나열해 4등분했을 때 위치하는 값인 '사분위수'를 이용해 만듬.\n",
    "\n",
    "# 다음은 상자 그림의 요소가 나타내는 값\n",
    "# 상자 그림             값       설명\n",
    "# 상자 아래 세로선     아랫수염        하위 0 ~ 25% 내에 해당하는 값\n",
    "# 상자 밑면           1사분위수(Q1)   하위 25% 위치 값\n",
    "# 상자 내 굵은 선      2사분위수(Q2)   하위 50% 위치 값 (중앙값)\n",
    "# 상자 윗면           3사분위수(Q3)   하위 75% 위치 값\n",
    "# 상자 위 세로선       윗수염          하위 75 ~ 100% 내에 해당하는 값\n",
    "# 상자 밖 가로선       극단치 경계      Q1, Q3 밖 1.5 IQR 내 최대값\n",
    "# 상자 밖 점 표식      극단치          Q1, Q3 밖 1.5 IQR을 벗어난 값\n",
    "# * IQR(사분위 범위)은 1사분위수와 3사분위수의 거리(직사각형의 높이)를 뜻하고,\n",
    "# '1.5 IQR'은 IQR의 1.5배을 뜻함.\n",
    "\n",
    "# 출력된 그래프를 보면 각 구동방식의 고속도로 연비 분포를 알수 있음.\n",
    "# * 전륜구동(f)은 26 ~ 29 사이의 좁은 범위에 자동차가 모여 있는 뾰족한 형태의 분포.\n",
    "#   수염의 위아래에 점 표식이 있는 것을 보면 연비가 극단적으로 높거나 낮은 자동차들이 있음.\n",
    "# * 4륜구동(4)은 17 ~ 22 사이에 자동차 대부분이 모여 있음.\n",
    "#   중앙값이 상자 밑면에 가까운 것을 보면 낮은 값 쪽으로 치우친 형태의 분포\n",
    "# * 후륜구동(r)은 17 ~ 24 사이의 넓은 범위에 자동차가 분포.\n",
    "#   수염이 짧고 극단치가 없는 것을 보면 자동차 대부분이 사분위 범위에 해당한다는 것을 알수 있음."
   ],
   "metadata": {
    "collapsed": false,
    "ExecuteTime": {
     "end_time": "2024-03-14T17:18:59.505806Z",
     "start_time": "2024-03-14T17:18:59.496242Z"
    }
   },
   "id": "1c8bad6b58db4b47",
   "execution_count": 4
  }
 ],
 "metadata": {
  "kernelspec": {
   "display_name": "Python 3",
   "language": "python",
   "name": "python3"
  },
  "language_info": {
   "codemirror_mode": {
    "name": "ipython",
    "version": 2
   },
   "file_extension": ".py",
   "mimetype": "text/x-python",
   "name": "python",
   "nbconvert_exporter": "python",
   "pygments_lexer": "ipython2",
   "version": "2.7.6"
  }
 },
 "nbformat": 4,
 "nbformat_minor": 5
}
