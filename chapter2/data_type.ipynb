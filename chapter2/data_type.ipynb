{
 "cells": [
  {
   "cell_type": "code",
   "execution_count": 1,
   "id": "initial_id",
   "metadata": {
    "collapsed": true,
    "ExecuteTime": {
     "end_time": "2024-02-26T14:46:48.237221900Z",
     "start_time": "2024-02-26T14:46:48.216661100Z"
    }
   },
   "outputs": [
    {
     "name": "stdout",
     "output_type": "stream",
     "text": [
      "Alice\n",
      "25\n",
      "우편번호 12345\n",
      "서울시 영등포구 여의도동\n",
      "서울빌딩 501호\n",
      "None\n",
      "168.5\n"
     ]
    }
   ],
   "source": [
    "name = 'Alice'  # singleline 문자열 저장\n",
    "age = 25  # 정수를 저장\n",
    "address = '''우편번호 12345\n",
    "서울시 영등포구 여의도동\n",
    "서울빌딩 501호'''  # multiple line 문자열 저장\n",
    "boyfriend = None  # 아무 값도 저장하지 않음 #자바의 null과 같음\n",
    "height = 168.5  # 실수를 저장\n",
    "\n",
    "print(name)\n",
    "print(age)\n",
    "print(address)\n",
    "print(boyfriend)\n",
    "print(height)"
   ]
  },
  {
   "cell_type": "markdown",
   "source": [
    "# 기본 데이터 타입\n",
    "1. 정수(int): 숫자 데이터 유형 중 하나로, 소수점이 없는 숫자를 나타냅니다. 예를 들어, age = 25에서 25는 정수입니다.\n",
    "2. 실수(float): 소수점을 포함하는 숫자를 나타냅니다. 예를 들어, height = 168.5에서 168.5는 실수입니다.\n",
    "3. 논리(bool): 참(True) 또는 거짓(False)의 두 가지 값만 가질 수 있는 데이터 유형입니다.\n",
    "4. 문자열(str): 텍스트 데이터를 나타내며, 작은따옴표(') 또는 큰따옴표(\")로 둘러싸입니다. 여러 줄의 문자열을 저장할 때는 삼중 따옴표(''' 또는 \"\"\")를 사용합니다.\n",
    "\n",
    "핵심\n",
    "- 파이썬의 기본 데이터 타입 4 가지 : 정수, 실수, 불, 문자열\n",
    "- 파이썬의 컬렉션 데이터 타입 4가지 : list, tuple, set, dict\n",
    " - 파이썬에 컬렉션은 기본 데이터 타입처럼 사용함\n",
    "\n",
    ">파이썬은 8가지 데이터 타입만 외우면 된다."
   ],
   "metadata": {
    "collapsed": false
   },
   "id": "8f140e51cc245ade"
  },
  {
   "cell_type": "code",
   "outputs": [
    {
     "name": "stdout",
     "output_type": "stream",
     "text": [
      "1\n",
      "1\n",
      "0\n",
      "100\n",
      "<class 'int'>\n",
      "\n",
      "<class 'int'>\n"
     ]
    }
   ],
   "source": [
    "#1. 정수 (int)\n",
    "\n",
    "# 정수 int\n",
    "# int() 함수를 이용하면 다른 자료형의 값을 정수형 데이터로 변환할 수 있음.\n",
    "print(int(1.9))  # 1 / 1.9 의 소수점 (.9) 이하를 제거하여 정수 1로 변환\n",
    "print(int(True))  # 1 / True 는 1로 변환\n",
    "print(int(False))  # 1 / False 는 0으로 변환\n",
    "print(int('100'))  # 100 / 문자열 '100' 을 정수 100 으로 변환\n",
    "print(type(100))  # <class 'int'>\n",
    "\n",
    "# 10 진수를 2진수, 8진수, 16 진수로 변환 하는 방법\n",
    "print()\n",
    "n = 95\n",
    "print(type(n))  # <class 'int'>\n",
    "# print(bin(n)) # 0b1011111 | 2진수로 변환\n",
    "# print(oct(n)) # 0o137     | 8진수로 변환\n",
    "# print(hex(n)) # 0x5f      | 16진수로 변환"
   ],
   "metadata": {
    "collapsed": false,
    "ExecuteTime": {
     "end_time": "2024-02-26T14:48:57.104336300Z",
     "start_time": "2024-02-26T14:48:57.043203900Z"
    }
   },
   "id": "a44e270a59922203",
   "execution_count": 2
  },
  {
   "cell_type": "code",
   "outputs": [
    {
     "name": "stdout",
     "output_type": "stream",
     "text": [
      "1.0\n",
      "1.0\n",
      "0.0\n",
      "3.14\n",
      "100.0\n",
      "<class 'float'>\n"
     ]
    }
   ],
   "source": [
    "# 실수 float\n",
    "# 소수점이 있는 숫자를 실수 (floating point number) 라고 함\n",
    "\n",
    "# float() 함수를 이용하면 다른 자료형의 값을 실수형 데이터로 변환 할 수 있음\n",
    "print(float(1))  # 1.0 / 정수 1을 실수 1.0 으로 변환\n",
    "print(float(True))  # 1.0 / True 는 1.0 으로 변환\n",
    "print(float(False))  # 0.0 / False 는 0.0 으로 변환\n",
    "print(float('3.14'))  # 3.14 / 문자열 '3.14' 를 실수 3.14로 변환\n",
    "print(float('100'))  # 100.0 / 문자열 '100' 을 실수 100.0 으로 변환\n",
    "print((type(3.14)))  # <class 'float'>"
   ],
   "metadata": {
    "collapsed": false,
    "ExecuteTime": {
     "end_time": "2024-02-26T14:49:44.409898800Z",
     "start_time": "2024-02-26T14:49:44.387223700Z"
    }
   },
   "id": "aa72164bcfefcdae",
   "execution_count": 3
  },
  {
   "cell_type": "code",
   "outputs": [
    {
     "name": "stdout",
     "output_type": "stream",
     "text": [
      "0.30000000000000004\n",
      "False\n"
     ]
    }
   ],
   "source": [
    "# 실수 주의할 점\n",
    "# 실수의 연산은 부정확\n",
    "print(0.1 + 0.2)\n",
    "print(0.1 + 0.2 == 0.3)\n",
    "# sol)\n",
    "# 정수를 형변환 후 계산하고 그 값을 실수로 다시 형 변환함"
   ],
   "metadata": {
    "collapsed": false,
    "ExecuteTime": {
     "end_time": "2024-02-26T14:50:59.509701400Z",
     "start_time": "2024-02-26T14:50:59.497609900Z"
    }
   },
   "id": "3036fc1e6c0e97e6",
   "execution_count": 4
  },
  {
   "cell_type": "code",
   "outputs": [
    {
     "name": "stdout",
     "output_type": "stream",
     "text": [
      "False\n",
      "False\n",
      "False\n",
      "True\n",
      "<class 'bool'>\n",
      "<class 'bool'>\n",
      "False\n",
      "True\n"
     ]
    }
   ],
   "source": [
    "# 논리 bool\n",
    "# 논리 자료형. 참과 거짓을 의미하는 True 와 False 값을 가질 수 있음\n",
    "# True 나 False 모두 첫 글자는 반드시 대문자로 작성\n",
    "\n",
    "# 파이썬에는 False 는 값이 없는 모든 경우를 의미. 숫자0, 빈 문자열'', 빈 리스트[] 등은 모두 False 로 인식한다\n",
    "print(bool(0))  # False\n",
    "print(bool(''))  # False\n",
    "print(bool([]))  # False\n",
    "print(bool(1))  # True\n",
    "print(type(True))  # <class 'bool'>\n",
    "print(type(False))  # <class 'bool'>\n",
    "\n",
    "print(3 > 4)  # False\n",
    "print(3 < 4)  # True\n",
    "\n",
    "# bool은 조건문을 사용할 떄 사용한다."
   ],
   "metadata": {
    "collapsed": false,
    "ExecuteTime": {
     "end_time": "2024-02-26T14:51:48.052509100Z",
     "start_time": "2024-02-26T14:51:48.030450200Z"
    }
   },
   "id": "2527d387dfc5d047",
   "execution_count": 6
  },
  {
   "cell_type": "markdown",
   "source": [
    "### 문자열 str\n",
    "- 문자열 자료형. 기본적으로 따옴표로 묶어서 데이터를 표현\n",
    "- 문자열을 한 글자이거나 여러 글자여도 작은 따옴표(')와 큰 따옴표(\")를 모두 사용할 수 있음\n",
    "- 각 따옴표을 3개씩 사용하는 삼중 따옴표(''' ''', \"\"\" \"\"\") 도 사용할 수 있음\n",
    "- single line : 한 줄의 문자열 : 작은 따옴표(')와 큰 따옴표(\")\n",
    "- mulitple line : 여러 줄의 문자열 : 삼중 따옴표(''' ''', \"\"\" \"\"\")"
   ],
   "metadata": {
    "collapsed": false
   },
   "id": "3fd373c62a588773"
  },
  {
   "cell_type": "code",
   "outputs": [
    {
     "name": "stdout",
     "output_type": "stream",
     "text": [
      "100\n",
      "True\n",
      "False\n",
      "<class 'str'>\n",
      "<class 'str'>\n",
      "17\n",
      "e\n",
      "o\n",
      "e\n",
      "h\n",
      "h\n",
      "True\n",
      "True\n"
     ]
    }
   ],
   "source": [
    "# 문자열 변환\n",
    "# str() 함수를 사용하면 다른 자료형의 값을 문자열 데이터로 변환 할 수 있음\n",
    "print(str(100))  # '100' / 정수 100을 문자열 '100'으로 변환\n",
    "print(str(True))  # 'True' / 논리 True를 문자열 'True'로 변환\n",
    "print(str(False))  # 'False' / 논리 False 를 문자열 'False' 로 변환\n",
    "print(type(str(3.14)))  # <class 'str'> '3.14' / 실수 3.14 를 문자열 '3.14' 로 변환\n",
    "\n",
    "# 문자열 길이\n",
    "a = \"Life is too short\"\n",
    "print(type(a))\n",
    "print(len(a))  # 17  # 문자열 길이 구하기 : len 함수 | 파이썬의 내장 함수\n",
    "# 길이계산에는 공백도 포함된다.\n",
    "\n",
    "# 문자열 인덱싱 indexing\n",
    "# 0번 부터 시작\n",
    "# 한글자씩 뽑아낼 때 사용\n",
    "s = 'hello'\n",
    "print(s[1])  # e\n",
    "# 마이너스(-)인덱스는 문자열 뒤에서 부터 부여, 마지막 인덱스는 -1이 됨 #0은 사용하고 있으니 -1부터 시작함\n",
    "\n",
    "print(s[-1])  # o # 뒤에서 세어 첫 번째가 되는 문자.\n",
    "print(s[-4])  # e\n",
    "\n",
    "print(s[-0])\n",
    "print(s[0])\n",
    "\n",
    "print(s[0] == s[-0])  # True # 0과 -0은 같다.\n",
    "print(s[1] == s[-4])  # True\n",
    "# 주의 : 파이썬은 0 부터 숫자를 센다"
   ],
   "metadata": {
    "collapsed": false,
    "ExecuteTime": {
     "end_time": "2024-02-26T14:58:14.751050700Z",
     "start_time": "2024-02-26T14:58:14.731010Z"
    }
   },
   "id": "872f48f6f7385a57",
   "execution_count": 12
  },
  {
   "cell_type": "code",
   "outputs": [
    {
     "name": "stdout",
     "output_type": "stream",
     "text": [
      "ban\n",
      "bnn\n",
      "bnn\n",
      "banana\n",
      "nn\n",
      "hello world\n",
      "Lif\n",
      "hon\n",
      "You need Python\n",
      "Life is too short, You need Python\n",
      "You need\n"
     ]
    }
   ],
   "source": [
    "# 문자열 슬라이싱 slicing\n",
    "# 문자열 인덱스를 활용하여 한 문자 이상으로 구성된 단어나 문장을 추출할 때 사용\n",
    "# s[start:stop:step]\n",
    "# start : 시작 인덱스를 지정. 생략하면 처음부터 추출\n",
    "# stop : 종료 인덱스를 지정. 생략하면 끝까지 추출\n",
    "# step : 인덱스의 증감값, 생략하면 1씩 변화\n",
    "\n",
    "s = 'banana'\n",
    "print(s[0:3])  # 0번 시작, 3번째 앞에서 스탐\n",
    "print(s[0:6:2])  # 0번 시작, 6번째 앞에서 스탑. 2씩 증가\n",
    "# 파이썬 특징\n",
    "# 종료 인덱스 앞에서 끝남.\n",
    "print(s[:6:2])  # bnn\n",
    "print(s[::])  # banana\n",
    "print(s[2::2])  # nn\n",
    "\n",
    "s2 = 'hello world'\n",
    "print(s2[:])\n",
    "\n",
    "s3 = 'Life is too short, You need Python'\n",
    "print(s3[:3])\n",
    "# 수식으로 나타내면\n",
    "# 0 <= s3 <= 3\n",
    "# 이 수식을 만족하는 것은 s3[0], s3[1], s3[2]\n",
    "print(s3[-3:])  # hon\n",
    "print(s3[19:])  # 끝 번호 부분을 생략하면 시작 번호부터 그 문자열의 끝까지 뽑아준다.\n",
    "print(s3[:])  # 시작 번호와 끝 번호 둘다 생략하면 문자열의 처음부터 끝까지 뽑아낸다.\n",
    "\n",
    "print(s3[19:-7])  # You need | a[19] 에서 a[-8] 까지를 의미.\n",
    "\n",
    "# 인덱싱과 슬라이싱 개념"
   ],
   "metadata": {
    "collapsed": false,
    "ExecuteTime": {
     "end_time": "2024-02-26T15:15:27.654649700Z",
     "start_time": "2024-02-26T15:15:27.639612500Z"
    }
   },
   "id": "a0f0a53b414d67ee",
   "execution_count": 19
  },
  {
   "cell_type": "code",
   "outputs": [
    {
     "name": "stdout",
     "output_type": "stream",
     "text": [
      "3 학년 10 반 25 번\n",
      "0\n"
     ]
    }
   ],
   "source": [
    "# 문제\n",
    "student = '31025'\n",
    "grade_no = student[0]\n",
    "class_no = student[1:3]\n",
    "# stu_no = student[3:] # stu_no = student[-2:] 도 가능\n",
    "stu_no = student[-2:]  # stu_no = student[-2:] 도 가능\n",
    "\n",
    "print(grade_no, '학년', class_no, '반', stu_no, '번')\n",
    "# 3 학년 10 반 25 번\n",
    "\n",
    "# 마이너스 인덱싱도 가능하다.\n",
    "print(student[-3])"
   ],
   "metadata": {
    "collapsed": false,
    "ExecuteTime": {
     "end_time": "2024-02-26T15:22:52.771170200Z",
     "start_time": "2024-02-26T15:22:52.750620Z"
    }
   },
   "id": "266a601efe2bca59",
   "execution_count": 22
  },
  {
   "cell_type": "code",
   "outputs": [
    {
     "name": "stdout",
     "output_type": "stream",
     "text": [
      "서울2가1234 의 차량번호는 4자리는 1234 입니다.\n",
      "10가1234 의 차량번호는 4자리는 1234 입니다.\n",
      "288가1234 의 차량번호는 4자리는 1234 입니다.\n"
     ]
    }
   ],
   "source": [
    "# 문제 2\n",
    "# 전체 차량번호에서 뒤에 숫자 4자리만 출력하는 프로그램을 구현하세요.\n",
    "# 전체 차량번호는 '서울2가 1234', '10가 1234', '288가 1234'와 같이 다르지만, 모두 차량번호 4자리는 '1234'입니다.\n",
    "# 실행 예)\n",
    "# 서울2가 1234의 차량번호 4자리는 1234입니다.\n",
    "\n",
    "car1 = '서울2가1234'\n",
    "car2 = '10가1234'\n",
    "car3 = '288가1234'\n",
    "\n",
    "car_no1 = car1[-4:]\n",
    "car_no2 = car2[-4:]\n",
    "car_no3 = car3[-4:]\n",
    "print(car1, '의 차량번호는 4자리는', car_no1, '입니다.')\n",
    "print(car2, '의 차량번호는 4자리는', car_no2, '입니다.')\n",
    "print(car3, '의 차량번호는 4자리는', car_no3, '입니다.')"
   ],
   "metadata": {
    "collapsed": false,
    "ExecuteTime": {
     "end_time": "2024-02-26T15:24:22.412850600Z",
     "start_time": "2024-02-26T15:24:22.385533400Z"
    }
   },
   "id": "1bfac112d5d62613",
   "execution_count": 23
  },
  {
   "cell_type": "code",
   "outputs": [
    {
     "name": "stdout",
     "output_type": "stream",
     "text": [
      "i\n"
     ]
    },
    {
     "ename": "TypeError",
     "evalue": "'str' object does not support item assignment",
     "output_type": "error",
     "traceback": [
      "\u001B[1;31m---------------------------------------------------------------------------\u001B[0m",
      "\u001B[1;31mTypeError\u001B[0m                                 Traceback (most recent call last)",
      "Cell \u001B[1;32mIn[29], line 5\u001B[0m\n\u001B[0;32m      2\u001B[0m a \u001B[38;5;241m=\u001B[39m \u001B[38;5;124m'\u001B[39m\u001B[38;5;124mPithon\u001B[39m\u001B[38;5;124m'\u001B[39m\n\u001B[0;32m      3\u001B[0m \u001B[38;5;28mprint\u001B[39m(a[\u001B[38;5;241m1\u001B[39m])\n\u001B[1;32m----> 5\u001B[0m a[\u001B[38;5;241m1\u001B[39m] \u001B[38;5;241m=\u001B[39m \u001B[38;5;124m'\u001B[39m\u001B[38;5;124my\u001B[39m\u001B[38;5;124m'\u001B[39m\n",
      "\u001B[1;31mTypeError\u001B[0m: 'str' object does not support item assignment"
     ]
    }
   ],
   "source": [
    "# Pithon 문자열을 Python 으로 바꾸기\n",
    "a = 'Pithon'\n",
    "print(a[1])\n",
    "\n",
    "a[1] = 'y'\n",
    "# 이건 불가능하다\n",
    "# 문자열을 변경 불가능한 immutable 자료형이라고 불린다."
   ],
   "metadata": {
    "collapsed": false,
    "ExecuteTime": {
     "end_time": "2024-02-26T15:25:54.368461500Z",
     "start_time": "2024-02-26T15:25:54.336891100Z"
    }
   },
   "id": "5b994cf8fb8aceed",
   "execution_count": 29
  },
  {
   "cell_type": "code",
   "outputs": [
    {
     "name": "stdout",
     "output_type": "stream",
     "text": [
      "[100, 3.14, 'hello']\n",
      "<class 'list'>\n"
     ]
    }
   ],
   "source": [
    "# 리스트 list\n",
    "# 여러 값을 저장할 때 가장 많이 사용하는 자료형\n",
    "# 저장 하고자 하는 값들의 자료형(type)이 서로 다르더라도 하나의 리스트에 저장\n",
    "\n",
    "# 대괄호([]) 또는 list() 함수를 이용해서 생성\n",
    "# 정수, 실수, 문자열을 각 1개씩 저장하고 잇는 리스트 생성\n",
    "li = [100, 3.14, 'hello']\n",
    "print(li) # [100, 3.14, 'hello']\n",
    "print(type(li)) # <class 'list'> # li의 데이터타입을 알 수 없을때 대괄호에 콤마를\n",
    "# 썼다면 일단 리스트임.\n"
   ],
   "metadata": {
    "collapsed": false,
    "ExecuteTime": {
     "end_time": "2024-02-26T15:27:30.131982600Z",
     "start_time": "2024-02-26T15:27:30.099927300Z"
    }
   },
   "id": "5efde0147472a",
   "execution_count": 30
  },
  {
   "cell_type": "code",
   "outputs": [
    {
     "name": "stdout",
     "output_type": "stream",
     "text": [
      "\n",
      "100\n",
      "3.14\n",
      "hello\n"
     ]
    }
   ],
   "source": [
    "# 리스트 인덱싱\n",
    "# 문자열과 동일한 방식으로 인덱싱을 지원\n",
    "# 저장된 요소들마다 고유 번호인 인덱스를 부여하여 순서대로 관리\n",
    "print()\n",
    "print(li[0]) # 100\n",
    "print(li[1]) # 3.14\n",
    "print(li[2]) # 'hello'"
   ],
   "metadata": {
    "collapsed": false,
    "ExecuteTime": {
     "end_time": "2024-02-26T15:28:14.011423300Z",
     "start_time": "2024-02-26T15:28:13.990741300Z"
    }
   },
   "id": "ffd3c60a633d23",
   "execution_count": 31
  },
  {
   "cell_type": "code",
   "outputs": [
    {
     "name": "stdout",
     "output_type": "stream",
     "text": [
      "[10, 20, 30]\n",
      "[10, 20]\n",
      "[10, 30]\n",
      "[30, 40]\n",
      "[10, 20, 30, 40]\n"
     ]
    }
   ],
   "source": [
    "# 리스트 슬라이싱\n",
    "li = [10, 20, 30, 40]\n",
    "print(li[0:3]) # [10, 20, 30]\n",
    "print(li[:2]) # [10, 20]\n",
    "print(li[::2]) # [10, 30]\n",
    "print(li[-2::]) # [30, 40]\n",
    "print(li[::])"
   ],
   "metadata": {
    "collapsed": false,
    "ExecuteTime": {
     "end_time": "2024-02-26T15:29:15.498442700Z",
     "start_time": "2024-02-26T15:29:15.474957700Z"
    }
   },
   "id": "2cb4c67d735ace8c",
   "execution_count": 33
  }
 ],
 "metadata": {
  "kernelspec": {
   "display_name": "Python 3",
   "language": "python",
   "name": "python3"
  },
  "language_info": {
   "codemirror_mode": {
    "name": "ipython",
    "version": 2
   },
   "file_extension": ".py",
   "mimetype": "text/x-python",
   "name": "python",
   "nbconvert_exporter": "python",
   "pygments_lexer": "ipython2",
   "version": "2.7.6"
  }
 },
 "nbformat": 4,
 "nbformat_minor": 5
}
