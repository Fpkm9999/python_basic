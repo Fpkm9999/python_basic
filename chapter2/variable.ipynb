{
 "cells": [
  {
   "cell_type": "markdown",
   "source": [
    "파이썬에서 변수는 데이터를 저장하는 공간을 의미하며, 변수명은 그 공간을 식별하기 위한 이름입니다. 변수를 사용하면 코드의 가독성과 재사용성이 향상되며, 데이터 관리가 용이해집니다. 변수를 정의하고 사용할 때는 다음의 규칙과 작명법을 따라야 합니다.\n",
    "\n",
    "### 변수 정의 규칙:\n",
    "1. **변수명은 문자(letter), 숫자(digit), 밑줄(underscore)로 구성될 수 있지만, 숫자로 시작할 수는 없습니다.**\n",
    "   - 올바른 예: `my_variable`, `_my_variable`, `variable1`\n",
    "   - 잘못된 예: `1variable`, `!variable`\n",
    "   \n",
    "2. **대소문자는 구별됩니다.**\n",
    "   - `myVariable`과 `myvariable`은 서로 다른 변수입니다.\n",
    "   \n",
    "3. **예약어(reserved words)나 내장 함수명을 변수명으로 사용할 수 없습니다.**\n",
    "   - 예: `False`, `True`, `if`, `for`, `print` 등\n",
    "\n",
    "### 변수명 작명법 (Naming Conventions):\n",
    "작명법은 코드의 의도를 명확하게 전달하고, 일관성을 유지하는 데 도움을 줍니다.\n",
    "\n",
    "1. **카멜 케이스(Camel Case):** 각 단어의 첫 글자를 대문자로 시작합니다(첫 단어 제외). 예: `myVariableName`\n",
    "   \n",
    "2. **파스칼 케이스(Pascal Case):** 각 단어의 첫 글자를 대문자로 시작합니다. 예: `MyVariableName`\n",
    "   \n",
    "3. **스네이크 케이스(Snake Case):** 단어를 밑줄로 구분하고 모두 소문자로 작성합니다. 파이썬에서 가장 일반적인 작명법입니다. 예: `my_variable_name`\n",
    "\n",
    "4. **헝가리안 케이스(Hungarian Notation) 및 기타:** 변수의 타입이나 목적을 앞에 붙여서 나타내는 방식. 파이썬에서는 일반적으로 사용되지 않습니다.\n",
    "\n",
    "### 좋은 변수명 선택 기준:\n",
    "- **명확성:** 변수명은 저장된 데이터를 명확하게 설명할 수 있어야 합니다.\n",
    "- **간결성:** 너무 긴 변수명은 피하되, 축약어 사용을 지나치게 남발하지 않아야 합니다.\n",
    "- **의미 있는 이름:** 변수의 용도를 쉽게 이해할 수 있는 이름을 선택합니다."
   ],
   "metadata": {
    "collapsed": false
   },
   "id": "d48dcf478534f54b"
  },
  {
   "cell_type": "code",
   "outputs": [],
   "source": [
    "# 좋은 예\n",
    "user_age = 25\n",
    "total_price = 199.99\n",
    "is_active = True\n",
    "\n",
    "# 나쁜 예\n",
    "a = 25  # 무엇을 의미하는지 명확하지 않음\n",
    "tp = 199.99  # 너무 축약됨\n",
    "flg = True  # 의미를 알기 어려움"
   ],
   "metadata": {
    "collapsed": false,
    "ExecuteTime": {
     "end_time": "2024-02-26T15:59:42.531020500Z",
     "start_time": "2024-02-26T15:59:42.517515100Z"
    }
   },
   "id": "e8189a6c1a3e8f8",
   "execution_count": 1
  },
  {
   "cell_type": "markdown",
   "source": [
    "\"\"\"\n",
    "변수 variable : 어떤 데이터를 저장하고자 할 때 사용하는 메모리 저장소\n",
    "\n",
    "변수명 생성 규칙\n",
    "1. 영문\n",
    "\n",
    "\n",
    "권장하는 변수명\n",
    "1. 가급적 영문 소문자로 작성\n",
    "2. 한글을 사용하지 않고 영어 변수만 사용\n",
    "3. 카멜법보다는 스네이크기법\n",
    "\"\"\""
   ],
   "metadata": {
    "collapsed": false
   },
   "id": "852b75c92d44707"
  }
 ],
 "metadata": {
  "kernelspec": {
   "display_name": "Python 3",
   "language": "python",
   "name": "python3"
  },
  "language_info": {
   "codemirror_mode": {
    "name": "ipython",
    "version": 2
   },
   "file_extension": ".py",
   "mimetype": "text/x-python",
   "name": "python",
   "nbconvert_exporter": "python",
   "pygments_lexer": "ipython2",
   "version": "2.7.6"
  }
 },
 "nbformat": 4,
 "nbformat_minor": 5
}
