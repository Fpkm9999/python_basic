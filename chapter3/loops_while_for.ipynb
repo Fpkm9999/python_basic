{
 "cells": [
  {
   "cell_type": "markdown",
   "source": [
    "# 반복문\n",
    "1. do while 문이 없음\n",
    "2. while은 간단\n",
    "3. for 문은 삼항을 이용하는 for문은 없는 대신, 자바에 비해 새로운 기능이 있음\n",
    "개선된 for문은 2000년대 이후에 만들어졌거나(코틀린), 성능이 개선된 언어(자바 스크립트)의 공통적인 특징."
   ],
   "metadata": {
    "collapsed": false
   },
   "id": "56458949398906ca"
  },
  {
   "cell_type": "markdown",
   "source": [
    "### while 문\n",
    "- 특정 조건을 만족하는 동안 반복해서 수행해야 하는 코드를 작성할 때 사용\n",
    "\n",
    "while 조건식 :\n",
    "    반복 실행문"
   ],
   "metadata": {
    "collapsed": false
   },
   "id": "50d195ca527f5e02"
  },
  {
   "cell_type": "code",
   "outputs": [],
   "source": [
    "n = 1\n",
    "while n <= 10:\n",
    "    print(n)\n",
    "    n += 1  # n = n + 1\n",
    "print(n)"
   ],
   "metadata": {
    "collapsed": false
   },
   "id": "d92031854dd34a72",
   "execution_count": null
  },
  {
   "cell_type": "code",
   "outputs": [],
   "source": [
    "n = 10\n",
    "while n >= 1:\n",
    "    print(n)\n",
    "    n -= 1  # n = n - 1\n",
    "print(n)"
   ],
   "metadata": {
    "collapsed": false
   },
   "id": "560905732f5b4192",
   "execution_count": null
  },
  {
   "cell_type": "code",
   "outputs": [],
   "source": [
    "### 1 부터 10 사이의 모든 정수를 역순으로 출력\n",
    "n = 10\n",
    "while n >= 1:\n",
    "    print(n)\n",
    "    n -= 1"
   ],
   "metadata": {
    "collapsed": false
   },
   "id": "14f9f4c95bdcd4e5",
   "execution_count": null
  },
  {
   "cell_type": "code",
   "outputs": [],
   "source": [
    "\n",
    "# 100 부터 50 사이의 짝수를 출력\n",
    "n = 100\n",
    "while n >= 50:\n",
    "    if n % 2 == 0:\n",
    "        print(n)\n",
    "    n -= 1\n",
    "\n"
   ],
   "metadata": {
    "collapsed": false
   },
   "id": "c09d3e216f5ba65b",
   "execution_count": null
  },
  {
   "cell_type": "code",
   "outputs": [],
   "source": [
    "n = 100\n",
    "while n >= 50:\n",
    "    print(n)\n",
    "    n -= 2"
   ],
   "metadata": {
    "collapsed": false
   },
   "id": "80041e6b6b457f90",
   "execution_count": null
  },
  {
   "cell_type": "code",
   "outputs": [],
   "source": [
    "# 사용자로 부터 임의의 정수를 입력받아 모두 리스트에 보관\n",
    "# 단 사용자가 0을 입력하면 프로그램을 종료. 이 떄 입력받은 0은 리스트에 보관하지 않음\n",
    "\n",
    "my_list = []  # 빈 리스트 생성\n",
    "\n",
    "n = int(input('정수를 입력하세요(종료는 0입니다.) >>> '))  # 한번만 실행\n",
    "\n",
    "while n != 0:  # n이 0이 아니면  계속 실행\n",
    "    my_list.append(n)\n",
    "    n = int(input('정수를 입력하세요(종료는 0입니다. >>> '))\n",
    "\n",
    "print(my_list)\n",
    "\n"
   ],
   "metadata": {
    "collapsed": false
   },
   "id": "b1dc475456007f4b",
   "execution_count": null
  },
  {
   "cell_type": "code",
   "outputs": [],
   "source": [
    "my_list = []  # 빈 리스트 생성\n",
    "\n",
    "n = 1  # 0 이 아닌 초깃값을 주면 반복문이 실행 된다.\n",
    "\n",
    "while n != 0:  # n이 0이 아니면  계속 실행\n",
    "    n = int(input('정수를 입력하세요(종료는 0입니다. >>> '))\n",
    "    my_list.append(n)\n",
    "\n",
    "my_list.pop()  # my_list의 마지막 요소는 언제나 0이므로 제거합니다.\n",
    "print(my_list)"
   ],
   "metadata": {
    "collapsed": false
   },
   "id": "51d26595c6a99cc4",
   "execution_count": null
  },
  {
   "cell_type": "code",
   "outputs": [],
   "source": [
    "# 구구단 2단 부터 9단 까지 출력\n",
    "# 단 앞에 제목, 마지막에 구분선을 넣어 볼것\n",
    "# 8 * 9 = 72\n",
    "# ==========\n",
    "# 9단\n",
    "# 9 * 1 = 9\n",
    "\n",
    "dan = 2  # 구구단의 단을 의미\n",
    "while dan <= 9:  # 9단 까지 반복해서 처리\n",
    "    n = 1\n",
    "    while n <= 9:  # 모든 dan 은 변수 1~9 까지 사ㅛㅇㅇ\n",
    "        print(f'{dan} * {n} = {dan * n}')\n",
    "        n += 1\n",
    "    dan += 1\n"
   ],
   "metadata": {
    "collapsed": false
   },
   "id": "4c275e151d26215e",
   "execution_count": null
  },
  {
   "cell_type": "code",
   "outputs": [],
   "source": [
    "dan = 2  # 구구단의 단을 의미\n",
    "while dan <= 9:  # 9단 까지 반복해서 처리\n",
    "    n = 1\n",
    "    print(f'{dan} 단')\n",
    "    while n <= 9:  # 모든 dan 은 변수 1~9 까지 사용\n",
    "        print(f'{dan} * {n} = {dan * n}')\n",
    "        n += 1\n",
    "    print('=' * 10)\n",
    "    dan += 1"
   ],
   "metadata": {
    "collapsed": false
   },
   "id": "8de1a0ddb467369b",
   "execution_count": null
  },
  {
   "cell_type": "markdown",
   "source": [
    "# 문제\n",
    "1. 정수를 입력받아서 그 횟수만큼 'Hello'를 출력하는 프로그램을 구현하세요.\n",
    "0 이하의 값이 입력되면 '잘못된 입력입니다.'라는 오류 메시지를 출력하세요.\n",
    "\n",
    "실행 예)\n",
    "정수를 입력하세요 >>> 5\n",
    "1번째 Hello\n",
    "2번째 Hello\n",
    "3번째 Hello\n",
    "4번째 Hello\n",
    "5번째 Hello\n",
    "\n",
    "----------------\n",
    "\n",
    "정수를 입력하세요 >>> -5\n",
    "잘못된 입력입니다.\n",
    "\n",
    "3. 커피 1잔을 300원에 판매하는 커피자판기가 있습니다. \n",
    "이 커피자판기에 돈을 넣으면 자판기에서 뽑을 수 있는 커피가 몇 잔이며 잔돈은 얼마인지를 함께 출력하는 프로그램을 구현하세요.\n",
    "\n",
    "실행 예)\n",
    "자판기에 얼마를 넣을까요? >>> 1400\n",
    "커피 1잔, 잔돈 1100원\n",
    "커피 2잔, 잔돈 800원\n",
    "커피 3잔, 잔돈 500원\n",
    "커피 4잔, 잔돈 200원\n",
    "\n",
    "4. 사용자에게 0부터 9사이의 정수를 입력받습니다. \n",
    "이 때 입력된 정수가 5개가 될 때까지 입력받는 프로그램을 구현하세요.\n",
    "이 때 중복된 값이 입력되면 해당 입력은 무시하세요.\n",
    "\n",
    "실행 예)\n",
    "0 ~ 9 사이 정수를 입력하세요 >>> 0\n",
    "0 ~ 9 사이 정수를 입력하세요 >>> 0\n",
    "0 ~ 9 사이 정수를 입력하세요 >>> 0\n",
    "0 ~ 9 사이 정수를 입력하세요 >>> 1\n",
    "0 ~ 9 사이 정수를 입력하세요 >>> 2\n",
    "0 ~ 9 사이 정수를 입력하세요 >>> 5\n",
    "0 ~ 9 사이 정수를 입력하세요 >>> 3\n",
    "모두 입력되었습니다.\n",
    "입력된 값은 {0, 1, 2, 3, 5}입니다."
   ],
   "metadata": {
    "collapsed": false
   },
   "id": "ee89c5803f751abc"
  },
  {
   "cell_type": "code",
   "outputs": [],
   "source": [
    "# 문제 1\n",
    "inputUser = int(input('정수를 입력하세요 >>> '))\n",
    "\n",
    "if inputUser <= 0:\n",
    "    print('잘못된 입력입니다.')\n",
    "else:\n",
    "    n = 1\n",
    "    while n <= inputUser:\n",
    "        print(f'{n}번째 Hello')\n",
    "        n += 1\n",
    "        # inputUser -= 1\n"
   ],
   "metadata": {
    "collapsed": false
   },
   "id": "2fbe825b238ac26d",
   "execution_count": null
  },
  {
   "cell_type": "code",
   "outputs": [],
   "source": [
    "# 문제 3\n",
    "inputUser2 = int(input('자판기에 얼마를 넣을까요? >>> '))\n",
    "print(inputUser2)\n",
    "n = 0\n",
    "coffee_price = 300\n",
    "count = inputUser2 // 300  # 4   # 테스트 코드\n",
    "result = inputUser2 % 300  # 200 # 테스트 코드\n",
    "print(result)  # 테스트 코드\n",
    "\n",
    "while count > 0:\n",
    "    n += 1\n",
    "    count -= 1\n",
    "    print(f'커피{n}잔, 잔돈 {inputUser2 - coffee_price * n}원')\n",
    "\n",
    "    ###############\n",
    "# case 2\n",
    "money = int(input('자판기에 얼마를 넣을까요? >>> '))\n",
    "coffee = 0\n",
    "price = 300\n",
    "while money >= price:\n",
    "    coffee += 1\n",
    "    money -= price\n",
    "    print(f'커피{coffee}잔, 잔동 {money}원')"
   ],
   "metadata": {
    "collapsed": false
   },
   "id": "bdaa407fd8fe4c2",
   "execution_count": null
  },
  {
   "cell_type": "code",
   "outputs": [],
   "source": [
    "# 문제 4\n",
    "numbers = set()\n",
    "while len(numbers) < 5:  # numbers에 저장된 요소의 개수\n",
    "    n = int(input('0 ~ 9 사이 정수를 입력하세요 >>> '))\n",
    "    numbers.add(n)  # n이 중복된 값은 등록이 안됨\n",
    "print('모두 입력되었습니다.')\n",
    "print(f'입력된 값은 {numbers}')"
   ],
   "metadata": {
    "collapsed": false
   },
   "id": "57127a2ed4ca44c5",
   "execution_count": null
  },
  {
   "cell_type": "code",
   "outputs": [],
   "source": [
    "# 문제 4\n",
    "numbers = []\n",
    "while len(numbers) < 5:  # numbers에 저장된 요소의 개수\n",
    "    n = int(input('0 ~ 9 사이 정수를 입력하세요 >>> '))\n",
    "    if not n in numbers:\n",
    "        numbers.append(n)  # n이 중복된 값은 등록이 안됨\n",
    "print('모두 입력되었습니다.')\n",
    "print(f'입력된 값은 {numbers}')"
   ],
   "metadata": {
    "collapsed": false
   },
   "id": "e3857463b445ab31",
   "execution_count": null
  },
  {
   "cell_type": "markdown",
   "source": [
    "### for 문\n",
    "- 값의 범위나 횟수가 정해져 있을 때 사용하면 편리한 반복문\n",
    "1. 특정 횟수 반복\n",
    "2. 데이터 순회\n",
    "\n",
    "#### 기본 구조\n",
    "for 변수 in 반복가능객체 :\n",
    "    반복실행문\n",
    "    \n",
    "- 반복가능 객체 순서대로 변수에 저장됨. 리스트의 갯수만 큼 반복됨"
   ],
   "metadata": {
    "collapsed": false
   },
   "id": "3b32f9ad9e4bc0a"
  },
  {
   "cell_type": "code",
   "outputs": [],
   "source": [
    "for n in [2, 4, 6]:  # 반복될 떄마다 순서대로 전달\n",
    "    print(n)"
   ],
   "metadata": {
    "collapsed": false
   },
   "id": "38c528beb33be966",
   "execution_count": null
  },
  {
   "cell_type": "code",
   "outputs": [],
   "source": [
    "# 반복 가능한 객체 \n",
    "# 1. 시퀀스 sequence 자료형 : 순서를 가지고 있는 자료형\n",
    "#  문자열, 리스트, 튜플, range\n",
    "# 2. 비시퀀스 non-sequence 자료형 : 순서를 가지고 있지 않은 자료형\n",
    "#  세트, 딕셔너리"
   ],
   "metadata": {
    "collapsed": false
   },
   "id": "ba894a55ed62c452"
  },
  {
   "cell_type": "code",
   "outputs": [],
   "source": [
    "# 1. 문자열\n",
    "# for 문자 in 문자열 :\n",
    "#    반복실행문\n",
    "\n",
    "for ch in 'Hello':  # 문자열 내부의 문자를 하나씩 꺼내서 사용할 수 있슴\n",
    "    print(ch)\n",
    "\n",
    "for item in ['가위', '바위', '보']:\n",
    "    print(item)\n",
    "# 만약 인덱스 번호를 같이 출력 해야 한다면? 어떻게 해야 될까?\n",
    "\n",
    "\n",
    "# 인덱스 번호 사용 1) 변수 생성. 비추천\n",
    "n = 0\n",
    "for item in ['가위', '바위', '보']:\n",
    "    print(f'{n} {item}')\n",
    "    n += 1\n",
    "\n",
    "# 인덱스 번호 사용 2) enumerate() 사용. 추천\n",
    "# 파이썬에서는 이넘레이트를 지원하니까 이거 쓰면됨\n",
    "li = ['가위', '바위', '보']\n",
    "for i, v in enumerate(li):  # i:index, v: 요소의 값 value\n",
    "    print(f'{i} {v}')"
   ],
   "metadata": {
    "collapsed": false
   },
   "id": "73256cb2e7a6d322",
   "execution_count": null
  },
  {
   "cell_type": "code",
   "outputs": [],
   "source": [
    "# 리스트 내포\n",
    "# 리스트 생성할 때 for 문을 유용하게 사용할 수 있음\n",
    "# 기본 형식\n",
    "# 리스트 = [표현식 for 변수 in 반복가능객체]\n",
    "li = [n * 2 for n in [1, 2, 3]]\n",
    "\n",
    "print(li)  # [2, 4, 6]\n",
    "\n",
    "# 이런식으로도 가능하다\n",
    "li = [n * 2 for n in [1, 2, 3, 4, 5] if n % 2 == 1]  # 1, 3, 5 만 추출\n",
    "\n",
    "print(li)  # [2, 6, 10]\n",
    "\n",
    "# 리스트 내포를 사용하지 않으면\n",
    "list = []\n",
    "for n in [1, 2, 3, 4, 5]:\n",
    "    if n % 2 == 1:\n",
    "        li.append(n * 2)\n",
    "print(li)"
   ],
   "metadata": {
    "collapsed": false
   },
   "id": "40dd74cc9e2b116c",
   "execution_count": null
  },
  {
   "cell_type": "code",
   "outputs": [],
   "source": [
    "# 3. 튜플\n",
    "# 기본 형식\n",
    "# for 요소 in (튜플) :\n",
    "#   반복실행문\n",
    "\n",
    "four_seasons = ('Spring', 'Summer', 'Autumn', 'Winter')\n",
    "for season in four_seasons:\n",
    "    print(season)"
   ],
   "metadata": {
    "collapsed": false
   },
   "id": "cfe9cc2042cce976",
   "execution_count": null
  },
  {
   "cell_type": "code",
   "outputs": [],
   "source": [
    "# 4. range() 함수\n",
    "# '정수 범위' 를 만들어 낼 때 유용한 함수. 일정 횟수 반복 시에 많이 사용\n",
    "# 기본 구조\n",
    "# range(초깃값, 종료값, 증감값)\n",
    "\n",
    "# 특징\n",
    "# 1. 초깃값부터 종료값 전까지 숫자(n)들의 컬렉션을 만듬 (초깃값 <= n < 종료값) e.g ) 슬라이싱\n",
    "# 2. 초깃값을 생략하면 0부터 시작\n",
    "# 3. 종료값은 생략할 수 없슴 # 종료값을 알 수 없기 때문에 필요함\n",
    "# 4. 증감값을 생략하면 1씩 증가\n",
    "\n",
    "# 예\n",
    "# range(5) : 0,1,2,3,4  종료값으로 인식한다(0부터 시작해서 4까지)\n",
    "# range(1,11) : 1,2,3,4,5,6,7,8,9,10 (증감값이 생략된 형태로 본다 1부터 10까지)\n",
    "# range(1,10,2) : 1, 3, 5, 7, 9 (초깃값,종료값,증감값)\n",
    "\n",
    "# 지금까지 배웠던 조건식-> 종료값으로 바뀐거나 다름없다\n",
    "# 초깃값,증감값은 생략이 가능함\n"
   ],
   "metadata": {
    "collapsed": false
   },
   "id": "378cc52a8ce7f89e"
  },
  {
   "cell_type": "code",
   "outputs": [
    {
     "name": "stdout",
     "output_type": "stream",
     "text": [
      "(1, 2, 3, 4, 5)\n"
     ]
    },
    {
     "ename": "TypeError",
     "evalue": "'range' object is not callable",
     "output_type": "error",
     "traceback": [
      "\u001B[1;31m---------------------------------------------------------------------------\u001B[0m",
      "\u001B[1;31mTypeError\u001B[0m                                 Traceback (most recent call last)",
      "Cell \u001B[1;32mIn[270], line 2\u001B[0m\n\u001B[0;32m      1\u001B[0m \u001B[38;5;28mprint\u001B[39m(\u001B[38;5;28mtuple\u001B[39m(\u001B[38;5;28mrange\u001B[39m(\u001B[38;5;241m1\u001B[39m, \u001B[38;5;241m6\u001B[39m)))  \u001B[38;5;66;03m# (1,2,3,4,5)\u001B[39;00m\n\u001B[1;32m----> 2\u001B[0m \u001B[38;5;28mprint\u001B[39m(\u001B[38;5;28;43mlist\u001B[39;49m\u001B[43m(\u001B[49m\u001B[38;5;28;43mrange\u001B[39;49m\u001B[43m(\u001B[49m\u001B[38;5;241;43m1\u001B[39;49m\u001B[43m,\u001B[49m\u001B[43m \u001B[49m\u001B[38;5;241;43m6\u001B[39;49m\u001B[43m)\u001B[49m\u001B[43m)\u001B[49m)\n",
      "\u001B[1;31mTypeError\u001B[0m: 'range' object is not callable"
     ]
    }
   ],
   "source": [
    "print(tuple(range(1, 6)))  # (1,2,3,4,5)\n",
    "print(list(range(1, 6)))  #[1,2,3,4,5]"
   ],
   "metadata": {
    "collapsed": false,
    "ExecuteTime": {
     "end_time": "2024-02-27T05:50:40.096213300Z",
     "start_time": "2024-02-27T05:50:40.034172800Z"
    }
   },
   "id": "f876c7410641243e",
   "execution_count": 270
  },
  {
   "cell_type": "code",
   "outputs": [],
   "source": [
    "print()\n",
    "for n in [1, 2, 3, 4, 5, 6, 7, 8, 9, 10]:\n",
    "    print(n)\n",
    "\n",
    "# 아래와 같이 변경 가능\n",
    "for n in range(1, 11):\n",
    "    print(n)\n",
    "\n",
    "# range() 함수를 이용해 생성한 값을 사용하지 않는 경우\n",
    "for n in range(10):  # 10번 반복 0,1,2,3,4,5,6,8,9\n",
    "    print('Hello')"
   ],
   "metadata": {
    "collapsed": false
   },
   "id": "cb22baf82d033d88",
   "execution_count": null
  },
  {
   "cell_type": "code",
   "outputs": [],
   "source": [
    "# 문제\n",
    "# 문자열로 비밀번호를 입력 받아 숫자와 문자가 모두 포함이 되었는지 확인\n",
    "\n",
    "pwd = input('비밀번호를 입력하세요 >>> ')\n",
    "ch_count = 0  # 문자의 개수 저장\n",
    "num_count = 0  # 숫자의 개수 저장\n",
    "\n",
    "for ch in pwd:  # 반복 가능 객체가 문자열이니까 한 글자씩 반복\n",
    "    if ch.isalpha():  # ch가 문자인 경우 True 를 반환\n",
    "        ch_count += 1  #is로 시작하는 함수 특징 : 반환값이 불린이다. is뒤 문자의 상태가 맞으면 true/ 틀리면 false\n",
    "    elif ch.isnumeric():  # ch가 숫자인 경우 True 를 반환\n",
    "        num_count += 1  # 숫자가 포함된 횟수만큼 더함\n",
    "\n",
    "if ch_count > 0 and num_count > 0:  # 문자와 숫자를 모두 포함한 경우\n",
    "    print('가능한 비밀번호 입니다.')\n",
    "else:\n",
    "    print('불가능한 비밀번호 입니다.')\n",
    "\n",
    "print(ch_count, num_count)  # 테스트 코드\n"
   ],
   "metadata": {
    "collapsed": false
   },
   "id": "55ef7fa5fd0f9ee0",
   "execution_count": null
  },
  {
   "cell_type": "code",
   "outputs": [],
   "source": [
    "# 출력하고자 하는 구구단을 입력받아 구구단을 출력\n",
    "dan = int(input('출력할 구구단을 입력하세요 >>> '))\n",
    "for n in range(1, 10):\n",
    "    print('{} x {} = {}'.format(dan, n, dan * n))"
   ],
   "metadata": {
    "collapsed": false
   },
   "id": "7c237a719f7dc4f4",
   "execution_count": null
  },
  {
   "cell_type": "code",
   "outputs": [],
   "source": [
    "dan = 2  # 구구단의 단을 의미\n",
    "# while dan <= 9:  # 9단 까지 반복해서 처리\n",
    "#     n = 1\n",
    "#         n += 1\n",
    "#     dan += 1\n",
    "#     \n",
    "# dan =2\n",
    "for dan in range(1, 10):\n",
    "    print(f'{dan}단')\n",
    "    for n in range(1, 10):  # 모든 dan 은 변수 1~9 까지 사용 가능\n",
    "        print(f'{dan} X {n} = {dan * n}')\n",
    "    print('=' * 10)"
   ],
   "metadata": {
    "collapsed": false
   },
   "id": "768b0276d8390fa8",
   "execution_count": null
  },
  {
   "cell_type": "markdown",
   "source": [
    "1. 1부터 5사이에 존재하는 모든 정수를 역순으로 출력하는 프로그램을 구현하세요.\n",
    "\n",
    "실행 예)\n",
    "5\n",
    "4\n",
    "3\n",
    "2\n",
    "1\n",
    "\n",
    "\n",
    "2. 사용자로부터 임의의 양의 정수를 하나 입력받은 뒤 1부터 입력받은 정수까지 모든 정수의 합계를 출력하는 프로그램을 구현하세요.\n",
    "\n",
    "실행 예)\n",
    "임의의 양수를 입력하세요 >>> 5\n",
    "1부터 5사이의 모든 정수의 합계는 15입니다.\n",
    "\n",
    "\n",
    "3. 사용자로부터 임의의 양의 정수를 하나 입력 받은 뒤 그 숫자만큼 '과일 이름'을 입력받아 'basket' 리스트에\n",
    "저장하는 프로그램을 구현하세요.\n",
    "\n",
    "실행 예)\n",
    "몇 개의 과일을 보관할까요? >>> 5\n",
    "1번째 과일을 입력하세요 >>> 사과\n",
    "2번째 과일을 입력하세요 >>> 바나나\n",
    "3번째 과일을 입력하세요 >>> 체리\n",
    "4번째 과일을 입력하세요 >>> 오렌지\n",
    "5번째 과일을 입력하세요 >>> 망고\n",
    "입력 받은 과일들은 ['사과', '바나나', '체리', '오렌지', '망고']입니다."
   ],
   "metadata": {
    "collapsed": false
   },
   "id": "587165cfcb8ca06d"
  },
  {
   "cell_type": "code",
   "outputs": [],
   "source": [
    "# 1번\n",
    "for n in range(5, 0, -1):\n",
    "    print(n)"
   ],
   "metadata": {
    "collapsed": false
   },
   "id": "546480e367353952",
   "execution_count": null
  },
  {
   "cell_type": "code",
   "outputs": [],
   "source": [
    "# 2번\n",
    "inputuser3 = int(input('임의의 양수를 입력하세요 >>> '))\n",
    "sum = 0\n",
    "\n",
    "for n in range(1, inputuser3 + 1):\n",
    "    sum += n\n",
    "\n",
    "print(f'1부터 {inputuser3}까지 모든 정수의 합계는 {sum}입니다.')"
   ],
   "metadata": {
    "collapsed": false
   },
   "id": "37655dcdc0877e85",
   "execution_count": null
  },
  {
   "cell_type": "code",
   "outputs": [],
   "source": [
    "# 3번\n",
    "basket = []\n",
    "count = int(input('몇 개의 과일을 보관할까요? >>> '))\n",
    "for n in range(1, count + 1):\n",
    "    basket.append(input(f'{n}번째 과일을 입력하세요 >>> '))\n",
    "print(f'입력 받은 과일들은 {basket}입니다.')\n",
    "\n",
    "# 다른 경우\n",
    "for n in range(count):\n",
    "    fruit = input(f'{n + 1}번째 과일을 입력하세요 >>> ')\n",
    "    basket.append(fruit)\n",
    "print(f'입력 받은 과일들은 {basket}입니다.')\n"
   ],
   "metadata": {
    "collapsed": false
   },
   "id": "87e0f00e40c98223",
   "execution_count": null
  },
  {
   "cell_type": "code",
   "outputs": [],
   "source": [
    "# 비시퀀스 - 반복 가능 객체"
   ],
   "metadata": {
    "collapsed": false
   },
   "id": "70fac90a27f4aca5"
  },
  {
   "cell_type": "code",
   "outputs": [],
   "source": [
    "# 1. 세트 set\n",
    "# 비시퀀스 자료형이기 때문에 저장된 요소들 사이에 순서가 없음\n",
    "\n",
    "# 기본형식\n",
    "# for 요소 in {세트}:\n",
    "#    반복실행문\n",
    "\n",
    "for item in {'가위', '바위', '보'}:  # 순서가 지켜지지 않음\n",
    "    print(item)"
   ],
   "metadata": {
    "collapsed": false
   },
   "id": "4e1e0bff7b2870e4",
   "execution_count": null
  },
  {
   "cell_type": "code",
   "outputs": [],
   "source": [
    "# 2. 딕셔너리\n",
    "# key와 value 의 조합이라 다른 자료형과 다른 방식으로 사용을 함\n",
    "# 키만 출력\n",
    "person = {'name': '에밀리', 'age': 20}\n",
    "for item in person:\n",
    "    print(item)  # name age\n",
    "# 딕셔너리 특징\n",
    "# 키만 출력이 된다.\n",
    "\n",
    "# value 출력 방법 3가지\n",
    "for key, value in person.items():\n",
    "    print(f'{key} : {value}')\n",
    "\n",
    "for key in person:\n",
    "    print(person[key])  # 에밀리 20\n",
    "\n",
    "for key in person:  # get() 메소드를 이용해서 해당 key에 해당하는 value 값을 가져옴\n",
    "    print(person.get(key))  # 에밀리 20\n"
   ],
   "metadata": {
    "collapsed": false
   },
   "id": "837f8352293944c1",
   "execution_count": null
  },
  {
   "cell_type": "code",
   "outputs": [],
   "source": [
    "# 영어 사전을 딕셔너리 자료형으로 구현하고\n",
    "# 영어 사전에 등록된 모든 단어와 그 단어의 의미를 출력\n",
    "eng_dict = {\n",
    "    'sun': '태양',\n",
    "    'moon': '달',\n",
    "    'star': '별',\n",
    "    'space': '우주'\n",
    "}\n",
    "for word in eng_dict:\n",
    "    print(f'{word}의 뜻: {eng_dict.get(word)}')\n",
    "    print(f'{word}의 뜻: {eng_dict[word]}')"
   ],
   "metadata": {
    "collapsed": false
   },
   "id": "41e22a819cc4b3b0",
   "execution_count": null
  },
  {
   "cell_type": "code",
   "outputs": [],
   "source": [
    "# break 문\n",
    "# while 문이나 for 문과 같은 반복문을 강제로 종료하고자 할 때 사용하는 제어문\n",
    "# 반복문 내에 break 문이 나타나면 곧바로 break 문이 포함된 반복문은 종료\n",
    "\n",
    "n = 1\n",
    "while n <= 10:\n",
    "    print(n)\n",
    "    n += 1\n",
    "print(n)  # 11\n",
    "\n",
    "n = 1\n",
    "while True:  # while문을 무한루프\n",
    "    print(n)\n",
    "    if n == 10:\n",
    "        break  # if 문에서 break 문을 작성 했지만 실제로 종료 되는 것은 while 문\n",
    "    n += 1\n",
    "print(n)  # 10   "
   ],
   "metadata": {
    "collapsed": false
   },
   "id": "d6b4e94b2678c785",
   "execution_count": null
  },
  {
   "cell_type": "code",
   "outputs": [],
   "source": [
    "while True:  # 무한 루프\n",
    "    city = input('대한민국의 수도는 어디인가요? >>> ')\n",
    "    city = city.strip()  # 문자열의 양쪽끝에서 공백을 없앰\n",
    "    if city == '서울' or city == 'seoul' or city == 'SEOUL':  # 대소문자 모두 정답처리\n",
    "        print('정답입니다')\n",
    "        break  # 정답을 맞춰야 종료\n",
    "    else:\n",
    "        print('오답입니다. 다시 시도하세요.')"
   ],
   "metadata": {
    "collapsed": false
   },
   "id": "463ca20b0b6a3b0c",
   "execution_count": null
  },
  {
   "cell_type": "code",
   "outputs": [],
   "source": [
    "# 종료 조건이 2가지인 경우 : 5개 까지 입력이 가능 혹은 그전에 그만 두려면 q 입력.\n",
    "hobbies = []  # 빈 리스트 생성\n",
    "while True:  # 무한루프\n",
    "    if len(hobbies) >= 5:\n",
    "        print('5개 입력!')\n",
    "        break\n",
    "    hobby = input('취미를 입력하세요(종료는 그냥 q) >>> ')\n",
    "    if hobby == 'q':\n",
    "        print('입력된 취미가 모두 저장되었습니다.')\n",
    "        break\n",
    "    else:\n",
    "        hobbies.append(hobby)\n",
    "\n",
    "print(hobbies)  # 전체 요소 출력\n"
   ],
   "metadata": {
    "collapsed": false
   },
   "id": "ef8e389027a190fd",
   "execution_count": null
  },
  {
   "cell_type": "code",
   "outputs": [],
   "source": [
    "# continue 문\n",
    "# 반복문의 시작 지점으로 제어의 흐름을 옮기는 역할\n",
    "# 반복에서 제외하거나 생략하고 싶은 코드가 존재할 때 사용\n",
    "\n",
    "# 1에서 100 사이의 모든 정수를 합치는데 3의 배수는 제외\n",
    "total = 0\n",
    "for a in range(1, 101):  # 1에서 100까지\n",
    "    if a % 3 == 0:  # 3의 배수인지 검사한다.\n",
    "        continue  # 3의 배수라면 넘어가기.\n",
    "    total += a\n",
    "print(total)  # 3367"
   ],
   "metadata": {
    "collapsed": false
   },
   "id": "aa3ddb0ee5d52971",
   "execution_count": null
  },
  {
   "cell_type": "code",
   "outputs": [],
   "source": [
    "# 과일 이름 5개를 fruits 리스트에 저장.\n",
    "# 2개는 미리 저장됨.\n",
    "# 중복된 과일 이름은 저장이 안됨.\n",
    "fruits = ['사과', '감귤']\n",
    "count = 3  # 입력 가능한 횟수\n",
    "\n",
    "while count > 0:\n",
    "    fruit = input('어떤 과일을 저장할까요? >>> ')\n",
    "\n",
    "    if fruit in fruits:  # fruits 리스트에 fruit 변수에 있는 값이 있다면\n",
    "        print('동일한 과일이 있습니다.')\n",
    "        continue  # while 문의 시작 지점으로 돌아가서 다시 과일 이름을 입력\n",
    "\n",
    "    fruits.append(fruit)  # 입력된 과일 이름을 리스트에 저장\n",
    "    count -= 1  # 입력 가능한 횟수가 줄어듬\n",
    "    print(f'입력이 {count}번 남았습니다.')\n",
    "\n",
    "print(f'5개 과일은 {fruits}입니다')"
   ],
   "metadata": {
    "collapsed": false
   },
   "id": "a3eb62d4b515a12a",
   "execution_count": null
  },
  {
   "cell_type": "markdown",
   "source": [
    "1. 현재 10000원을 가지고 있습니다.\n",
    "얼마를 사용할 것인지 반복해서 입력받아 10000원을 모두 사용하세요.\n",
    "0 이하의 금액은 사용할 수 없으며, 현재 가지고 있는 돈보다 더 큰 금액도 사용할 수 없습니다.\n",
    "\n",
    "실행 예) \n",
    "현재 10000원이 있습니다.\n",
    "사용할 금액 입력 >>> 5000\n",
    "현재 5000원이 있습니다.\n",
    "사용할 금액 입력 >>> -5000\n",
    "0 이하의 금액은 사용할 수 없습니다.\n",
    "현재 5000원이 있습니다.\n",
    "사용할 금액 입력 >>> 6000\n",
    "1000원이 부족합니다.\n",
    "현재 5000원이 있습니다.\n",
    "사용할 금액 입력 >>> 4000\n",
    "현재 1000원이 있습니다.\n",
    "사용할 금액 입력 >>> 1000\n",
    "현재 0원이 있습니다.\n",
    "\n",
    "2. 영화 평점을 1부터 5 사이의 정수로 입력받아서 해당 평점만큼 *을 표시하는 프로그램을 구현하세요.\n",
    "표시할 수 있는 평점의 범위를 벗어나면 재입력을 요구하세요.\n",
    "\n",
    "실행 예)\n",
    "이번 영화의 평점을 입력하세요 >>> 10\n",
    "평점은 1~5 사이만 입력할 수 있습니다.\n",
    "이번 영화의 평점을 입력하세요 >>> -2\n",
    "평점은 1~5 사이만 입력할 수 있습니다.\n",
    "이번 영화의 평점을 입력하세요 >>> 5\n",
    "평점: *****\n",
    "\n",
    "\n",
    "3. 저장된 비밀번호를 맞히는 프로그램을 구현하세요.\n",
    "저장된 비밀번호는 'qwerty'이며 최대 5번 시도할 수 있습니다.\n",
    "5번 이내에 비밀번호를 맞히면 '비밀번호를 맞혔습니다.'를 출력하고 그렇지 않으면 '비밀번호 입력 횟수를 초과했습니다.'\n",
    "를 출력하세요.\n",
    "\n",
    "실행 예) \n",
    "비밀번호를 입력하세요 >>> 123456\n",
    "비밀번호를 입력하세요 >>> asdfgh\n",
    "비밀번호를 입력하세요 >>> qwerty\n",
    "비밀번호를 맞혔습니다.\n",
    "\n",
    "----------------------------\n",
    "\n",
    "비밀번호를 입력하세요 >>> 123456\n",
    "비밀번호를 입력하세요 >>> asdfgh\n",
    "비밀번호를 입력하세요 >>> zxcvbn\n",
    "비밀번호를 입력하세요 >>> 098765\n",
    "비밀번호를 입력하세요 >>> poiuyt\n",
    "비밀번호 입력 횟수를 초과했습니다."
   ],
   "metadata": {
    "collapsed": false
   },
   "id": "2dfec8a32fbf3928"
  },
  {
   "cell_type": "code",
   "outputs": [
    {
     "name": "stdout",
     "output_type": "stream",
     "text": [
      "현재 10000원이 있습니다.\n",
      "현재 5000원이 있습니다.\n",
      "현재 2000원이 있습니다.\n",
      "현재 0원이 있습니다.\n"
     ]
    }
   ],
   "source": [
    "money = 10000\n",
    "\n",
    "while money != 0:  # money!= 0으로 할 수 도 있다.\n",
    "    # if money == 0:\n",
    "    #     break\n",
    "    print(f'현재 {money}원이 있습니다.')\n",
    "\n",
    "    spend_money = int(input('사용할 금액 입력 >>> '))\n",
    "    # 출금 조건 확인\n",
    "    if spend_money <= 0:\n",
    "        print('0 이하의 금액은 사용할 수 없습니다.')\n",
    "        continue\n",
    "    elif spend_money > money:\n",
    "        print(f'{spend_money - money}원이 부족합니다.')\n",
    "        continue\n",
    "    money -= spend_money\n",
    "print('현재 0원이 있습니다.')"
   ],
   "metadata": {
    "collapsed": false,
    "ExecuteTime": {
     "end_time": "2024-02-27T06:09:16.429263600Z",
     "start_time": "2024-02-27T06:09:12.352466400Z"
    }
   },
   "id": "93a03bd5006d4674",
   "execution_count": 271
  },
  {
   "cell_type": "code",
   "outputs": [
    {
     "name": "stdout",
     "output_type": "stream",
     "text": [
      "평점 ***\n",
      "평점: *****\n",
      "평점: ****\n"
     ]
    }
   ],
   "source": [
    "# 내가 한거\n",
    "movie_star = int(input('이번 영화의 평점을 입력하세요 >>> '))\n",
    "star = '*'\n",
    "while True:\n",
    "    if movie_star < 1 or movie_star > 5:\n",
    "        print('평점은 1~5 사이만 입력할 수 있습니다.')\n",
    "        continue\n",
    "    else:\n",
    "        print('평점: {}'.format(star * movie_star))\n",
    "        break\n",
    "\n",
    "# break를 사용하는 경우\n",
    "while True:\n",
    "    grade = int(input('이번 영화의 평점을 입력하세요 >>> '))\n",
    "    if 1 <= grade <= 5:  # 평점의 정상 범위. 종료 조건\n",
    "        print(f'평점: {\"*\" * grade}')\n",
    "        break\n",
    "    print('평점은 1~5 사이만 입력할 수 있습니다.')\n",
    "\n",
    "# 종료 조건을 while에 쓰는 경우\n",
    "score = int(input('이번 영화의 평점을 입력하세요 >>> '))\n",
    "while movie_star < 1 or movie_star > 5:\n",
    "    print('평점은 1~5 사이만 입력할 수 있습니다.')\n",
    "    score = int(input('이번 영화의 평점을 입력하세요 >>> '))\n",
    "print(f'평점: {\"*\" * score}')"
   ],
   "metadata": {
    "collapsed": false,
    "ExecuteTime": {
     "end_time": "2024-02-27T06:14:38.049409Z",
     "start_time": "2024-02-27T06:14:35.700154200Z"
    }
   },
   "id": "acfa5c8a10f5398c",
   "execution_count": 272
  },
  {
   "cell_type": "code",
   "outputs": [
    {
     "name": "stdout",
     "output_type": "stream",
     "text": [
      "비밀번호 입력 횟수를 초과했습니다.\n"
     ]
    }
   ],
   "source": [
    "count = 0\n",
    "password = 'qwerty'\n",
    "while True:\n",
    "    intput_user = input('비밀번호를 입력하세요 >>> ')\n",
    "    count += 1\n",
    "    # if len(intput_user) >=5:\n",
    "    if intput_user == password:\n",
    "        print('비밀번호를 맞혔습니다.')\n",
    "        break\n",
    "\n",
    "    if count == 5:\n",
    "        print('비밀번호 입력 횟수를 초과했습니다.')\n",
    "        break\n",
    "\n",
    "# 다른 경우 # 이경우가 가독성이 조금 더 좋음\n",
    "answer = 'qwerty'\n",
    "count = 5\n",
    "while True:\n",
    "    pw = input('비밀번호를 입력하세요 >>> ')\n",
    "    count -= 1\n",
    "    # if len(intput_user) >=5:\n",
    "    # 종료 조건이 2개인 경우에는 같이 적어주는 것이 가독성에 좋음\n",
    "    if pw == password:\n",
    "        print('비밀번호를 맞혔습니다.')\n",
    "        break\n",
    "\n",
    "    if count == 0:\n",
    "        print('비밀번호 입력 횟수를 초과했습니다.')\n",
    "        break\n"
   ],
   "metadata": {
    "collapsed": false,
    "ExecuteTime": {
     "end_time": "2024-02-27T05:48:04.478462200Z",
     "start_time": "2024-02-27T05:47:53.654040400Z"
    }
   },
   "id": "743856c968a69331",
   "execution_count": 264
  }
 ],
 "metadata": {
  "kernelspec": {
   "display_name": "Python 3",
   "language": "python",
   "name": "python3"
  },
  "language_info": {
   "codemirror_mode": {
    "name": "ipython",
    "version": 2
   },
   "file_extension": ".py",
   "mimetype": "text/x-python",
   "name": "python",
   "nbconvert_exporter": "python",
   "pygments_lexer": "ipython2",
   "version": "2.7.6"
  }
 },
 "nbformat": 4,
 "nbformat_minor": 5
}
