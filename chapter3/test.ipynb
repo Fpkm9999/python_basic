{
 "cells": [
  {
   "cell_type": "code",
   "execution_count": 3,
   "id": "initial_id",
   "metadata": {
    "collapsed": true,
    "ExecuteTime": {
     "end_time": "2024-02-27T12:39:04.087716600Z",
     "start_time": "2024-02-27T12:39:02.083026300Z"
    }
   },
   "outputs": [
    {
     "name": "stdout",
     "output_type": "stream",
     "text": [
      "커피1잔, 잔액 1100원\n",
      "커피2잔, 잔액 800원\n",
      "커피3잔, 잔액 500원\n",
      "커피4잔, 잔액 200원\n"
     ]
    }
   ],
   "source": [
    "money = int(input(\"Enter a number: \"))\n",
    "\n",
    "coffee = 0\n",
    "price = 300\n",
    "while money >= price:\n",
    "    coffee += 1\n",
    "    money -= price\n",
    "    print(f'커피{coffee}잔, 잔액 {money}원')"
   ]
  },
  {
   "cell_type": "code",
   "outputs": [
    {
     "name": "stdout",
     "output_type": "stream",
     "text": [
      "0~9사이의 정수를 입력해주세요.\n",
      "0~9사이의 정수를 입력해주세요.\n",
      "0~9사이의 정수를 입력해주세요.\n",
      "모두 입력이 완료되었습니다.\n",
      "입력된 값은 {2, 3, 5, 7, 8} 입니다.\n"
     ]
    }
   ],
   "source": [
    "numbers = set()\n",
    "while len(numbers) < 5:\n",
    "    n = int(input('0 ~ 9 사이의 정수를 입력하세요 ... '))\n",
    "    if n > 9 or n < 0:\n",
    "        print('0~9사이의 정수를 입력해주세요.')\n",
    "        continue\n",
    "    numbers.add(n)\n",
    "\n",
    "print('모두 입력이 완료되었습니다.')\n",
    "print(f'입력된 값은 {numbers} 입니다.')"
   ],
   "metadata": {
    "collapsed": false,
    "ExecuteTime": {
     "end_time": "2024-02-27T12:44:45.245117100Z",
     "start_time": "2024-02-27T12:44:32.340628200Z"
    }
   },
   "id": "e4790bf039a2f308",
   "execution_count": 8
  },
  {
   "cell_type": "code",
   "outputs": [
    {
     "name": "stdout",
     "output_type": "stream",
     "text": [
      "모두 입력이 완료되었습니다\n",
      "입력된 값은 [1, 2, 3, 4, 10]입니다.\n"
     ]
    }
   ],
   "source": [
    "numbers = []\n",
    "while len(numbers) < 5:\n",
    "    n = int(input('0~9 사이 정수를 입력하세요 >>> '))\n",
    "    if not n in numbers:\n",
    "        numbers.append(n)\n",
    "print('모두 입력이 완료되었습니다')\n",
    "print(f'입력된 값은 {numbers}입니다.')"
   ],
   "metadata": {
    "collapsed": false,
    "ExecuteTime": {
     "end_time": "2024-02-27T12:48:34.375905Z",
     "start_time": "2024-02-27T12:48:31.023194900Z"
    }
   },
   "id": "325b14c98c306cc5",
   "execution_count": 9
  },
  {
   "cell_type": "code",
   "outputs": [
    {
     "name": "stdout",
     "output_type": "stream",
     "text": [
      "1\n",
      "2\n",
      "3\n"
     ]
    }
   ],
   "source": [
    "my_list = [1, 2, 3]\n",
    "for item in my_list:\n",
    "    print(item)\n"
   ],
   "metadata": {
    "collapsed": false,
    "ExecuteTime": {
     "end_time": "2024-02-27T12:54:04.084762600Z",
     "start_time": "2024-02-27T12:54:04.063777800Z"
    }
   },
   "id": "a533b7c9643fdf64",
   "execution_count": 10
  },
  {
   "cell_type": "code",
   "outputs": [
    {
     "name": "stdout",
     "output_type": "stream",
     "text": [
      "1\n",
      "2\n",
      "3\n"
     ]
    }
   ],
   "source": [
    "my_tuple = (1, 2, 3)\n",
    "for item in my_tuple:\n",
    "    print(item)"
   ],
   "metadata": {
    "collapsed": false,
    "ExecuteTime": {
     "end_time": "2024-02-27T12:56:03.239657200Z",
     "start_time": "2024-02-27T12:56:03.212099100Z"
    }
   },
   "id": "abb68b0a1123b6d",
   "execution_count": 11
  },
  {
   "cell_type": "code",
   "outputs": [
    {
     "name": "stdout",
     "output_type": "stream",
     "text": [
      "h\n",
      "e\n",
      "l\n",
      "l\n",
      "o\n"
     ]
    }
   ],
   "source": [
    "my_string = \"hello\"\n",
    "for char in my_string:\n",
    "    print(char)\n"
   ],
   "metadata": {
    "collapsed": false,
    "ExecuteTime": {
     "end_time": "2024-02-27T12:56:29.601613600Z",
     "start_time": "2024-02-27T12:56:29.575295700Z"
    }
   },
   "id": "8f43583c567f6e69",
   "execution_count": 12
  },
  {
   "cell_type": "code",
   "outputs": [
    {
     "name": "stdout",
     "output_type": "stream",
     "text": [
      "a\n",
      "b\n",
      "c\n",
      "a\n",
      "b\n",
      "c\n"
     ]
    }
   ],
   "source": [
    "my_dict = {'a': 1, 'b': 2, 'c': 3}\n",
    "for key in my_dict:\n",
    "    print(key)  # 딕셔너리의 키를 출력\n",
    "\n",
    "for value in my_dict:\n",
    "    print(value)"
   ],
   "metadata": {
    "collapsed": false,
    "ExecuteTime": {
     "end_time": "2024-02-27T12:57:42.857246300Z",
     "start_time": "2024-02-27T12:57:42.846123100Z"
    }
   },
   "id": "7b04d08d03975df0",
   "execution_count": 14
  },
  {
   "cell_type": "code",
   "outputs": [
    {
     "name": "stdout",
     "output_type": "stream",
     "text": [
      "1\n",
      "2\n",
      "3\n"
     ]
    }
   ],
   "source": [
    "my_set = {1, 2, 3}\n",
    "for item in my_set:\n",
    "    print(item)\n"
   ],
   "metadata": {
    "collapsed": false,
    "ExecuteTime": {
     "end_time": "2024-02-27T12:57:57.431761Z",
     "start_time": "2024-02-27T12:57:57.416225200Z"
    }
   },
   "id": "41bd65a3347c4b7e",
   "execution_count": 15
  },
  {
   "cell_type": "code",
   "outputs": [
    {
     "name": "stdout",
     "output_type": "stream",
     "text": [
      "apple\n",
      "banana\n",
      "cherry\n"
     ]
    }
   ],
   "source": [
    "fruits = [\"apple\", \"banana\", \"cherry\"]\n",
    "for fruit in fruits:\n",
    "    print(fruit)\n"
   ],
   "metadata": {
    "collapsed": false,
    "ExecuteTime": {
     "end_time": "2024-02-27T13:23:53.178393700Z",
     "start_time": "2024-02-27T13:23:53.150389600Z"
    }
   },
   "id": "fd78cdf3dbdcf352",
   "execution_count": 16
  },
  {
   "cell_type": "code",
   "outputs": [
    {
     "name": "stdout",
     "output_type": "stream",
     "text": [
      "0\n",
      "1\n",
      "2\n",
      "3\n",
      "4\n"
     ]
    }
   ],
   "source": [
    "for i in range(5):  # 0부터 4까지\n",
    "    print(i)\n"
   ],
   "metadata": {
    "collapsed": false,
    "ExecuteTime": {
     "end_time": "2024-02-27T13:24:10.378136200Z",
     "start_time": "2024-02-27T13:24:10.349118Z"
    }
   },
   "id": "b644535ca3f59143",
   "execution_count": 17
  },
  {
   "cell_type": "code",
   "outputs": [
    {
     "name": "stdout",
     "output_type": "stream",
     "text": [
      "a\n",
      "b\n",
      "c\n"
     ]
    }
   ],
   "source": [
    "d = {'a': 1, 'b': 2, 'c': 3}\n",
    "for key in d:\n",
    "    print(key)  # 키 출력\n"
   ],
   "metadata": {
    "collapsed": false,
    "ExecuteTime": {
     "end_time": "2024-02-27T13:24:56.429800300Z",
     "start_time": "2024-02-27T13:24:56.411283800Z"
    }
   },
   "id": "7310ab81b2d2ec62",
   "execution_count": 18
  },
  {
   "cell_type": "code",
   "outputs": [
    {
     "name": "stdout",
     "output_type": "stream",
     "text": [
      "1\n",
      "2\n",
      "3\n"
     ]
    }
   ],
   "source": [
    "for value in d.values():\n",
    "    print(value)  # 값 출력\n"
   ],
   "metadata": {
    "collapsed": false,
    "ExecuteTime": {
     "end_time": "2024-02-27T13:25:22.852043600Z",
     "start_time": "2024-02-27T13:25:22.822452900Z"
    }
   },
   "id": "32240fdc72b57890",
   "execution_count": 19
  },
  {
   "cell_type": "code",
   "outputs": [
    {
     "name": "stdout",
     "output_type": "stream",
     "text": [
      "a 1\n",
      "b 2\n",
      "c 3\n"
     ]
    }
   ],
   "source": [
    "for key, value in d.items():\n",
    "    print(key, value)  # 키와 값 출력\n"
   ],
   "metadata": {
    "collapsed": false,
    "ExecuteTime": {
     "end_time": "2024-02-27T13:25:56.207412300Z",
     "start_time": "2024-02-27T13:25:56.184856800Z"
    }
   },
   "id": "d32832802454a9f6",
   "execution_count": 20
  },
  {
   "cell_type": "code",
   "outputs": [
    {
     "name": "stdout",
     "output_type": "stream",
     "text": [
      "a = 1\n",
      "b = 2\n",
      "c = 3\n"
     ]
    }
   ],
   "source": [
    "e = {'a': 1, 'b': 2, 'c': 3}\n",
    "for key, value in e.items():\n",
    "    print(f'{key} = {value}')"
   ],
   "metadata": {
    "collapsed": false,
    "ExecuteTime": {
     "end_time": "2024-02-27T13:26:55.709336800Z",
     "start_time": "2024-02-27T13:26:55.676410100Z"
    }
   },
   "id": "a130d1cf9d7731fd",
   "execution_count": 21
  },
  {
   "cell_type": "code",
   "outputs": [
    {
     "name": "stdout",
     "output_type": "stream",
     "text": [
      "가능한 비밀번호 입니다.\n",
      "2\n",
      "2\n",
      "8 X 1 = 8\n",
      "8 X 2 = 16\n",
      "8 X 3 = 24\n",
      "8 X 4 = 32\n",
      "8 X 5 = 40\n",
      "8 X 6 = 48\n",
      "8 X 7 = 56\n",
      "8 X 8 = 64\n",
      "8 X 9 = 72\n"
     ]
    }
   ],
   "source": [
    "pwd = input('비밀번호를 입력하세요 >>> ')\n",
    "ch_count = 0  # 문자의 개수 저장\n",
    "num_count = 0  # 숫자의 개수 저장\n",
    "\n",
    "for ch in pwd:\n",
    "    if ch.isalpha():\n",
    "        ch_count += 1\n",
    "    elif ch.isnumeric():\n",
    "        num_count += 1\n",
    "if ch_count > 0 and num_count > 0:\n",
    "    print('가능한 비밀번호 입니다.')\n",
    "else:\n",
    "    print('불가능한 비밀번호 입니다.')\n",
    "print(ch_count)\n",
    "print(num_count)\n",
    "\n",
    "dan = int(input('출력할 구구단을 입력하세요 >>> '))\n",
    "for n in range(1, 10):\n",
    "    print(f'{dan} X {n} = {dan * n}')"
   ],
   "metadata": {
    "collapsed": false,
    "ExecuteTime": {
     "end_time": "2024-02-27T13:52:12.605636200Z",
     "start_time": "2024-02-27T13:52:09.252882Z"
    }
   },
   "id": "9377c9031d6db96e",
   "execution_count": 29
  },
  {
   "cell_type": "code",
   "outputs": [
    {
     "name": "stdout",
     "output_type": "stream",
     "text": [
      "('name', '오세빈')\n",
      "('age', 25)\n",
      "('money', 0)\n"
     ]
    }
   ],
   "source": [
    "person = {'name': '오세빈', 'age': 25, 'money': 0}\n",
    "for key in person.items():\n",
    "    print(f'{key}')\n"
   ],
   "metadata": {
    "collapsed": false,
    "ExecuteTime": {
     "end_time": "2024-02-27T14:36:03.181135900Z",
     "start_time": "2024-02-27T14:36:03.144035900Z"
    }
   },
   "id": "62df16623dfabc48",
   "execution_count": 32
  },
  {
   "cell_type": "code",
   "outputs": [
    {
     "name": "stdout",
     "output_type": "stream",
     "text": [
      "('moon', '달')\n",
      "('sum', '태양')\n",
      "('mars', '목성')\n"
     ]
    }
   ],
   "source": [
    "space = {'moon': '달', 'sum': '태양', 'mars': '목성'}\n",
    "for key in space.items():\n",
    "    print(key)"
   ],
   "metadata": {
    "collapsed": false,
    "ExecuteTime": {
     "end_time": "2024-02-27T14:38:37.196420600Z",
     "start_time": "2024-02-27T14:38:37.183908500Z"
    }
   },
   "id": "57167824262694da",
   "execution_count": 39
  },
  {
   "cell_type": "code",
   "outputs": [
    {
     "name": "stdout",
     "output_type": "stream",
     "text": [
      "오답입니다. 다시 입력해 주세요;.\n",
      "정답입니다.\n"
     ]
    }
   ],
   "source": [
    "while True:  # 무한 루프\n",
    "    city = input('대한민국의 수도는 어디인가요? >>> ')\n",
    "    city = city.strip().lower()  #문자열의 양쪽 끝에서 공백을 없앰\n",
    "    if city == '서울' or city == 'seoul' or city == 'SEOUL':\n",
    "        print('정답입니다.')\n",
    "        break\n",
    "    else:\n",
    "        print('오답입니다. 다시 입력해 주세요;.')"
   ],
   "metadata": {
    "collapsed": false,
    "ExecuteTime": {
     "end_time": "2024-02-27T14:43:43.214820100Z",
     "start_time": "2024-02-27T14:43:35.446754100Z"
    }
   },
   "id": "8672083bba09e148",
   "execution_count": 42
  },
  {
   "cell_type": "code",
   "outputs": [
    {
     "name": "stdout",
     "output_type": "stream",
     "text": [
      "비밀번호를 맞혔습니다.\n"
     ]
    }
   ],
   "source": [
    "answer = 'qwerty'\n",
    "count = 5\n",
    "while True:\n",
    "    pw = input('비밀번호를 입력하세요 >>> ')\n",
    "    count -= 1\n",
    "    if pw == answer:\n",
    "        print('비밀번호를 맞혔습니다.')\n",
    "        break\n",
    "\n",
    "    if count == 0:\n",
    "        print('비밀번호 입력 횟수를 초과했습니다.')\n",
    "        break"
   ],
   "metadata": {
    "collapsed": false,
    "ExecuteTime": {
     "end_time": "2024-02-27T15:08:50.410272200Z",
     "start_time": "2024-02-27T15:08:48.120995600Z"
    }
   },
   "id": "a26b616adb91daca",
   "execution_count": 46
  },
  {
   "cell_type": "code",
   "outputs": [
    {
     "name": "stdout",
     "output_type": "stream",
     "text": [
      "dict_keys(['name', 'age', 'city'])\n",
      "dict_values(['John', 30, 'New York'])\n",
      "dict_items([('name', 'John'), ('age', 30), ('city', 'New York')])\n"
     ]
    }
   ],
   "source": [
    "my_dict = {'name': 'John', 'age': 30, 'city': 'New York'}\n",
    "keys = my_dict.keys()\n",
    "print(keys)\n",
    "\n",
    "print(my_dict.values())\n",
    "print(my_dict.items())"
   ],
   "metadata": {
    "collapsed": false,
    "ExecuteTime": {
     "end_time": "2024-02-27T15:14:26.568404600Z",
     "start_time": "2024-02-27T15:14:26.500323100Z"
    }
   },
   "id": "77eee7c06d56f794",
   "execution_count": 3
  }
 ],
 "metadata": {
  "kernelspec": {
   "display_name": "Python 3",
   "language": "python",
   "name": "python3"
  },
  "language_info": {
   "codemirror_mode": {
    "name": "ipython",
    "version": 2
   },
   "file_extension": ".py",
   "mimetype": "text/x-python",
   "name": "python",
   "nbconvert_exporter": "python",
   "pygments_lexer": "ipython2",
   "version": "2.7.6"
  }
 },
 "nbformat": 4,
 "nbformat_minor": 5
}
