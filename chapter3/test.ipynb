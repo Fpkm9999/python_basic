{
 "cells": [
  {
   "cell_type": "code",
   "outputs": [],
   "source": [
    "# 여기는 연습장."
   ],
   "metadata": {
    "collapsed": false
   },
   "id": "31a58d75a3a8ac32"
  },
  {
   "cell_type": "code",
   "execution_count": 3,
   "id": "initial_id",
   "metadata": {
    "collapsed": true,
    "ExecuteTime": {
     "end_time": "2024-02-27T12:39:04.087716600Z",
     "start_time": "2024-02-27T12:39:02.083026300Z"
    }
   },
   "outputs": [
    {
     "name": "stdout",
     "output_type": "stream",
     "text": [
      "커피1잔, 잔액 1100원\n",
      "커피2잔, 잔액 800원\n",
      "커피3잔, 잔액 500원\n",
      "커피4잔, 잔액 200원\n"
     ]
    }
   ],
   "source": [
    "money = int(input(\"Enter a number: \"))\n",
    "\n",
    "coffee = 0\n",
    "price = 300\n",
    "while money >= price:\n",
    "    coffee += 1\n",
    "    money -= price\n",
    "    print(f'커피{coffee}잔, 잔액 {money}원')"
   ]
  },
  {
   "cell_type": "code",
   "outputs": [
    {
     "name": "stdout",
     "output_type": "stream",
     "text": [
      "0~9사이의 정수를 입력해주세요.\n",
      "0~9사이의 정수를 입력해주세요.\n",
      "0~9사이의 정수를 입력해주세요.\n",
      "모두 입력이 완료되었습니다.\n",
      "입력된 값은 {2, 3, 5, 7, 8} 입니다.\n"
     ]
    }
   ],
   "source": [
    "numbers = set()\n",
    "while len(numbers) < 5:\n",
    "    n = int(input('0 ~ 9 사이의 정수를 입력하세요 ... '))\n",
    "    if n > 9 or n < 0:\n",
    "        print('0~9사이의 정수를 입력해주세요.')\n",
    "        continue\n",
    "    numbers.add(n)\n",
    "\n",
    "print('모두 입력이 완료되었습니다.')\n",
    "print(f'입력된 값은 {numbers} 입니다.')"
   ],
   "metadata": {
    "collapsed": false,
    "ExecuteTime": {
     "end_time": "2024-02-27T12:44:45.245117100Z",
     "start_time": "2024-02-27T12:44:32.340628200Z"
    }
   },
   "id": "e4790bf039a2f308",
   "execution_count": 8
  },
  {
   "cell_type": "code",
   "outputs": [
    {
     "name": "stdout",
     "output_type": "stream",
     "text": [
      "모두 입력이 완료되었습니다\n",
      "입력된 값은 [1, 2, 3, 4, 10]입니다.\n"
     ]
    }
   ],
   "source": [
    "numbers = []\n",
    "while len(numbers) < 5:\n",
    "    n = int(input('0~9 사이 정수를 입력하세요 >>> '))\n",
    "    if not n in numbers:\n",
    "        numbers.append(n)\n",
    "print('모두 입력이 완료되었습니다')\n",
    "print(f'입력된 값은 {numbers}입니다.')"
   ],
   "metadata": {
    "collapsed": false,
    "ExecuteTime": {
     "end_time": "2024-02-27T12:48:34.375905Z",
     "start_time": "2024-02-27T12:48:31.023194900Z"
    }
   },
   "id": "325b14c98c306cc5",
   "execution_count": 9
  },
  {
   "cell_type": "code",
   "outputs": [
    {
     "name": "stdout",
     "output_type": "stream",
     "text": [
      "1\n",
      "2\n",
      "3\n"
     ]
    }
   ],
   "source": [
    "my_list = [1, 2, 3]\n",
    "for item in my_list:\n",
    "    print(item)\n"
   ],
   "metadata": {
    "collapsed": false,
    "ExecuteTime": {
     "end_time": "2024-02-27T12:54:04.084762600Z",
     "start_time": "2024-02-27T12:54:04.063777800Z"
    }
   },
   "id": "a533b7c9643fdf64",
   "execution_count": 10
  },
  {
   "cell_type": "code",
   "outputs": [
    {
     "name": "stdout",
     "output_type": "stream",
     "text": [
      "1\n",
      "2\n",
      "3\n"
     ]
    }
   ],
   "source": [
    "my_tuple = (1, 2, 3)\n",
    "for item in my_tuple:\n",
    "    print(item)"
   ],
   "metadata": {
    "collapsed": false,
    "ExecuteTime": {
     "end_time": "2024-02-27T12:56:03.239657200Z",
     "start_time": "2024-02-27T12:56:03.212099100Z"
    }
   },
   "id": "abb68b0a1123b6d",
   "execution_count": 11
  },
  {
   "cell_type": "code",
   "outputs": [
    {
     "name": "stdout",
     "output_type": "stream",
     "text": [
      "h\n",
      "e\n",
      "l\n",
      "l\n",
      "o\n"
     ]
    }
   ],
   "source": [
    "my_string = \"hello\"\n",
    "for char in my_string:\n",
    "    print(char)\n"
   ],
   "metadata": {
    "collapsed": false,
    "ExecuteTime": {
     "end_time": "2024-02-27T12:56:29.601613600Z",
     "start_time": "2024-02-27T12:56:29.575295700Z"
    }
   },
   "id": "8f43583c567f6e69",
   "execution_count": 12
  },
  {
   "cell_type": "code",
   "outputs": [
    {
     "name": "stdout",
     "output_type": "stream",
     "text": [
      "a\n",
      "b\n",
      "c\n",
      "a\n",
      "b\n",
      "c\n"
     ]
    }
   ],
   "source": [
    "my_dict = {'a': 1, 'b': 2, 'c': 3}\n",
    "for key in my_dict:\n",
    "    print(key)  # 딕셔너리의 키를 출력\n",
    "\n",
    "for value in my_dict:\n",
    "    print(value)"
   ],
   "metadata": {
    "collapsed": false,
    "ExecuteTime": {
     "end_time": "2024-02-27T12:57:42.857246300Z",
     "start_time": "2024-02-27T12:57:42.846123100Z"
    }
   },
   "id": "7b04d08d03975df0",
   "execution_count": 14
  },
  {
   "cell_type": "code",
   "outputs": [
    {
     "name": "stdout",
     "output_type": "stream",
     "text": [
      "1\n",
      "2\n",
      "3\n"
     ]
    }
   ],
   "source": [
    "my_set = {1, 2, 3}\n",
    "for item in my_set:\n",
    "    print(item)\n"
   ],
   "metadata": {
    "collapsed": false,
    "ExecuteTime": {
     "end_time": "2024-02-27T12:57:57.431761Z",
     "start_time": "2024-02-27T12:57:57.416225200Z"
    }
   },
   "id": "41bd65a3347c4b7e",
   "execution_count": 15
  },
  {
   "cell_type": "code",
   "outputs": [
    {
     "name": "stdout",
     "output_type": "stream",
     "text": [
      "apple\n",
      "banana\n",
      "cherry\n"
     ]
    }
   ],
   "source": [
    "fruits = [\"apple\", \"banana\", \"cherry\"]\n",
    "for fruit in fruits:\n",
    "    print(fruit)\n"
   ],
   "metadata": {
    "collapsed": false,
    "ExecuteTime": {
     "end_time": "2024-02-27T13:23:53.178393700Z",
     "start_time": "2024-02-27T13:23:53.150389600Z"
    }
   },
   "id": "fd78cdf3dbdcf352",
   "execution_count": 16
  },
  {
   "cell_type": "code",
   "outputs": [
    {
     "name": "stdout",
     "output_type": "stream",
     "text": [
      "0\n",
      "1\n",
      "2\n",
      "3\n",
      "4\n"
     ]
    }
   ],
   "source": [
    "for i in range(5):  # 0부터 4까지\n",
    "    print(i)\n"
   ],
   "metadata": {
    "collapsed": false,
    "ExecuteTime": {
     "end_time": "2024-02-27T13:24:10.378136200Z",
     "start_time": "2024-02-27T13:24:10.349118Z"
    }
   },
   "id": "b644535ca3f59143",
   "execution_count": 17
  },
  {
   "cell_type": "code",
   "outputs": [
    {
     "name": "stdout",
     "output_type": "stream",
     "text": [
      "a\n",
      "b\n",
      "c\n"
     ]
    }
   ],
   "source": [
    "d = {'a': 1, 'b': 2, 'c': 3}\n",
    "for key in d:\n",
    "    print(key)  # 키 출력\n"
   ],
   "metadata": {
    "collapsed": false,
    "ExecuteTime": {
     "end_time": "2024-02-27T13:24:56.429800300Z",
     "start_time": "2024-02-27T13:24:56.411283800Z"
    }
   },
   "id": "7310ab81b2d2ec62",
   "execution_count": 18
  },
  {
   "cell_type": "code",
   "outputs": [
    {
     "name": "stdout",
     "output_type": "stream",
     "text": [
      "1\n",
      "2\n",
      "3\n"
     ]
    }
   ],
   "source": [
    "for value in d.values():\n",
    "    print(value)  # 값 출력\n"
   ],
   "metadata": {
    "collapsed": false,
    "ExecuteTime": {
     "end_time": "2024-02-27T13:25:22.852043600Z",
     "start_time": "2024-02-27T13:25:22.822452900Z"
    }
   },
   "id": "32240fdc72b57890",
   "execution_count": 19
  },
  {
   "cell_type": "code",
   "outputs": [
    {
     "name": "stdout",
     "output_type": "stream",
     "text": [
      "a 1\n",
      "b 2\n",
      "c 3\n"
     ]
    }
   ],
   "source": [
    "for key, value in d.items():\n",
    "    print(key, value)  # 키와 값 출력\n"
   ],
   "metadata": {
    "collapsed": false,
    "ExecuteTime": {
     "end_time": "2024-02-27T13:25:56.207412300Z",
     "start_time": "2024-02-27T13:25:56.184856800Z"
    }
   },
   "id": "d32832802454a9f6",
   "execution_count": 20
  },
  {
   "cell_type": "code",
   "outputs": [
    {
     "name": "stdout",
     "output_type": "stream",
     "text": [
      "a = 1\n",
      "b = 2\n",
      "c = 3\n"
     ]
    }
   ],
   "source": [
    "e = {'a': 1, 'b': 2, 'c': 3}\n",
    "for key, value in e.items():\n",
    "    print(f'{key} = {value}')"
   ],
   "metadata": {
    "collapsed": false,
    "ExecuteTime": {
     "end_time": "2024-02-27T13:26:55.709336800Z",
     "start_time": "2024-02-27T13:26:55.676410100Z"
    }
   },
   "id": "a130d1cf9d7731fd",
   "execution_count": 21
  },
  {
   "cell_type": "code",
   "outputs": [
    {
     "name": "stdout",
     "output_type": "stream",
     "text": [
      "가능한 비밀번호 입니다.\n",
      "2\n",
      "2\n",
      "8 X 1 = 8\n",
      "8 X 2 = 16\n",
      "8 X 3 = 24\n",
      "8 X 4 = 32\n",
      "8 X 5 = 40\n",
      "8 X 6 = 48\n",
      "8 X 7 = 56\n",
      "8 X 8 = 64\n",
      "8 X 9 = 72\n"
     ]
    }
   ],
   "source": [
    "pwd = input('비밀번호를 입력하세요 >>> ')\n",
    "ch_count = 0  # 문자의 개수 저장\n",
    "num_count = 0  # 숫자의 개수 저장\n",
    "\n",
    "for ch in pwd:\n",
    "    if ch.isalpha():\n",
    "        ch_count += 1\n",
    "    elif ch.isnumeric():\n",
    "        num_count += 1\n",
    "if ch_count > 0 and num_count > 0:\n",
    "    print('가능한 비밀번호 입니다.')\n",
    "else:\n",
    "    print('불가능한 비밀번호 입니다.')\n",
    "print(ch_count)\n",
    "print(num_count)\n",
    "\n",
    "dan = int(input('출력할 구구단을 입력하세요 >>> '))\n",
    "for n in range(1, 10):\n",
    "    print(f'{dan} X {n} = {dan * n}')"
   ],
   "metadata": {
    "collapsed": false,
    "ExecuteTime": {
     "end_time": "2024-02-27T13:52:12.605636200Z",
     "start_time": "2024-02-27T13:52:09.252882Z"
    }
   },
   "id": "9377c9031d6db96e",
   "execution_count": 29
  },
  {
   "cell_type": "code",
   "outputs": [
    {
     "name": "stdout",
     "output_type": "stream",
     "text": [
      "('name', '오세빈')\n",
      "('age', 25)\n",
      "('money', 0)\n"
     ]
    }
   ],
   "source": [
    "person = {'name': '오세빈', 'age': 25, 'money': 0}\n",
    "for key in person.items():\n",
    "    print(f'{key}')\n"
   ],
   "metadata": {
    "collapsed": false,
    "ExecuteTime": {
     "end_time": "2024-02-27T14:36:03.181135900Z",
     "start_time": "2024-02-27T14:36:03.144035900Z"
    }
   },
   "id": "62df16623dfabc48",
   "execution_count": 32
  },
  {
   "cell_type": "code",
   "outputs": [
    {
     "name": "stdout",
     "output_type": "stream",
     "text": [
      "('moon', '달')\n",
      "('sum', '태양')\n",
      "('mars', '목성')\n"
     ]
    }
   ],
   "source": [
    "space = {'moon': '달', 'sum': '태양', 'mars': '목성'}\n",
    "for key in space.items():\n",
    "    print(key)"
   ],
   "metadata": {
    "collapsed": false,
    "ExecuteTime": {
     "end_time": "2024-02-27T14:38:37.196420600Z",
     "start_time": "2024-02-27T14:38:37.183908500Z"
    }
   },
   "id": "57167824262694da",
   "execution_count": 39
  },
  {
   "cell_type": "code",
   "outputs": [
    {
     "name": "stdout",
     "output_type": "stream",
     "text": [
      "오답입니다. 다시 입력해 주세요;.\n",
      "정답입니다.\n"
     ]
    }
   ],
   "source": [
    "while True:  # 무한 루프\n",
    "    city = input('대한민국의 수도는 어디인가요? >>> ')\n",
    "    city = city.strip().lower()  #문자열의 양쪽 끝에서 공백을 없앰\n",
    "    if city == '서울' or city == 'seoul' or city == 'SEOUL':\n",
    "        print('정답입니다.')\n",
    "        break\n",
    "    else:\n",
    "        print('오답입니다. 다시 입력해 주세요;.')"
   ],
   "metadata": {
    "collapsed": false,
    "ExecuteTime": {
     "end_time": "2024-02-27T14:43:43.214820100Z",
     "start_time": "2024-02-27T14:43:35.446754100Z"
    }
   },
   "id": "8672083bba09e148",
   "execution_count": 42
  },
  {
   "cell_type": "code",
   "outputs": [
    {
     "name": "stdout",
     "output_type": "stream",
     "text": [
      "비밀번호를 맞혔습니다.\n"
     ]
    }
   ],
   "source": [
    "answer = 'qwerty'\n",
    "count = 5\n",
    "while True:\n",
    "    pw = input('비밀번호를 입력하세요 >>> ')\n",
    "    count -= 1\n",
    "    if pw == answer:\n",
    "        print('비밀번호를 맞혔습니다.')\n",
    "        break\n",
    "\n",
    "    if count == 0:\n",
    "        print('비밀번호 입력 횟수를 초과했습니다.')\n",
    "        break"
   ],
   "metadata": {
    "collapsed": false,
    "ExecuteTime": {
     "end_time": "2024-02-27T15:08:50.410272200Z",
     "start_time": "2024-02-27T15:08:48.120995600Z"
    }
   },
   "id": "a26b616adb91daca",
   "execution_count": 46
  },
  {
   "cell_type": "code",
   "outputs": [
    {
     "name": "stdout",
     "output_type": "stream",
     "text": [
      "dict_keys(['name', 'age', 'city'])\n",
      "dict_values(['John', 30, 'New York'])\n",
      "dict_items([('name', 'John'), ('age', 30), ('city', 'New York')])\n"
     ]
    }
   ],
   "source": [
    "my_dict = {'name': 'John', 'age': 30, 'city': 'New York'}\n",
    "keys = my_dict.keys()\n",
    "print(keys)\n",
    "\n",
    "print(my_dict.values())\n",
    "print(my_dict.items())"
   ],
   "metadata": {
    "collapsed": false,
    "ExecuteTime": {
     "end_time": "2024-02-27T15:14:26.568404600Z",
     "start_time": "2024-02-27T15:14:26.500323100Z"
    }
   },
   "id": "77eee7c06d56f794",
   "execution_count": 3
  },
  {
   "cell_type": "code",
   "outputs": [
    {
     "name": "stdout",
     "output_type": "stream",
     "text": [
      "5\n"
     ]
    }
   ],
   "source": [
    "def my_function():\n",
    "    local_var = 5  # 지역변수 선언\n",
    "    print(local_var)  # 지역변수 사용\n",
    "\n",
    "\n",
    "my_function()  # 출력: 5\n",
    "# print(local_var)  # NameError: name 'local_var' is not defined\n"
   ],
   "metadata": {
    "collapsed": false,
    "ExecuteTime": {
     "end_time": "2024-02-28T06:03:54.296641Z",
     "start_time": "2024-02-28T06:03:54.274227Z"
    }
   },
   "id": "38676e5c46a7ef1e",
   "execution_count": 3
  },
  {
   "cell_type": "code",
   "outputs": [],
   "source": [],
   "metadata": {
    "collapsed": false
   },
   "id": "48618ecfa43621ea"
  },
  {
   "cell_type": "code",
   "outputs": [
    {
     "name": "stdout",
     "output_type": "stream",
     "text": [
      "10\n",
      "20\n"
     ]
    }
   ],
   "source": [
    "\n",
    "global_var = 10  # 전역변수 선언\n",
    "\n",
    "\n",
    "def my_function():\n",
    "    print(global_var)  # 전역변수 사용\n",
    "\n",
    "\n",
    "my_function()  # 출력: 10\n",
    "\n",
    "\n",
    "def modify_global_var():\n",
    "    global global_var  # 전역변수\n",
    "    global_var = 20  # 전역변수 값 변경\n",
    "    # global을 사용하지 않았다면 새로운 지역변수를 초기화하는 행위가됨\n",
    "\n",
    "\n",
    "modify_global_var()\n",
    "print(global_var)  # 출력: 20\n"
   ],
   "metadata": {
    "collapsed": false,
    "ExecuteTime": {
     "end_time": "2024-02-28T06:04:32.134887Z",
     "start_time": "2024-02-28T06:04:32.125488Z"
    }
   },
   "id": "12292a76ef5a52e8",
   "execution_count": 6
  },
  {
   "cell_type": "code",
   "outputs": [
    {
     "name": "stdout",
     "output_type": "stream",
     "text": [
      "점수를 입력하세요.\n",
      "더 이상 입력할 점수가 없으면 음수를 아무거나 입력하세요.\n"
     ]
    },
    {
     "ename": "TypeError",
     "evalue": "object of type 'int' has no len()",
     "output_type": "error",
     "traceback": [
      "\u001B[1;31m---------------------------------------------------------------------------\u001B[0m",
      "\u001B[1;31mTypeError\u001B[0m                                 Traceback (most recent call last)",
      "Cell \u001B[1;32mIn[10], line 10\u001B[0m\n\u001B[0;32m      8\u001B[0m         \u001B[38;5;28;01mbreak\u001B[39;00m\n\u001B[0;32m      9\u001B[0m     exam\u001B[38;5;241m.\u001B[39mappend(input_socre)\n\u001B[1;32m---> 10\u001B[0m \u001B[38;5;28;01mif\u001B[39;00m \u001B[38;5;28;43mlen\u001B[39;49m\u001B[43m(\u001B[49m\u001B[43minput_socre\u001B[49m\u001B[43m)\u001B[49m \u001B[38;5;241m>\u001B[39m \u001B[38;5;241m0\u001B[39m:\n\u001B[0;32m     11\u001B[0m     max_exam \u001B[38;5;241m=\u001B[39m \u001B[38;5;28mmax\u001B[39m(exam)\n\u001B[0;32m     12\u001B[0m     min_exam \u001B[38;5;241m=\u001B[39m \u001B[38;5;28mmin\u001B[39m(exam)\n",
      "\u001B[1;31mTypeError\u001B[0m: object of type 'int' has no len()"
     ]
    }
   ],
   "source": [
    "exam = []\n",
    "\n",
    "print('점수를 입력하세요.')\n",
    "print('더 이상 입력할 점수가 없으면 음수를 아무거나 입력하세요.')\n",
    "while True:\n",
    "    input_socre = int(input('점수 입력 >>> '))\n",
    "    if input_socre < 0:  # 0보다 작은 수를 입력 한 경우\n",
    "        break\n",
    "    exam.append(input_socre)\n",
    "if len(input_socre) > 0:\n",
    "    max_exam = max(exam)\n",
    "    min_exam = min(exam)\n",
    "    avg_exam = sum(exam) / len(exam)\n",
    "else:\n",
    "    print('입력된 점수가 없습니다.')\n",
    "print(f'평균 = {avg_exam}, 최대 = {max_exam}, 최소 = {min_exam}')\n"
   ],
   "metadata": {
    "collapsed": false,
    "ExecuteTime": {
     "end_time": "2024-02-28T12:16:43.202215Z",
     "start_time": "2024-02-28T12:16:40.289832Z"
    }
   },
   "id": "7df295a7179f1161",
   "execution_count": 10
  },
  {
   "cell_type": "code",
   "outputs": [
    {
     "name": "stdout",
     "output_type": "stream",
     "text": [
      "점수를 입력하세요.\n",
      "더 이상 입력할 점수가 없으면 음수를 아무거나 입력하세요.\n"
     ]
    },
    {
     "ename": "TypeError",
     "evalue": "'int' object is not callable",
     "output_type": "error",
     "traceback": [
      "\u001B[1;31m---------------------------------------------------------------------------\u001B[0m",
      "\u001B[1;31mTypeError\u001B[0m                                 Traceback (most recent call last)",
      "Cell \u001B[1;32mIn[11], line 12\u001B[0m\n\u001B[0;32m      9\u001B[0m     exam\u001B[38;5;241m.\u001B[39mappend(input_score)\n\u001B[0;32m     11\u001B[0m \u001B[38;5;28;01mif\u001B[39;00m \u001B[38;5;28mlen\u001B[39m(exam) \u001B[38;5;241m>\u001B[39m \u001B[38;5;241m0\u001B[39m:  \u001B[38;5;66;03m# 점수가 하나라도 입력된 경우\u001B[39;00m\n\u001B[1;32m---> 12\u001B[0m     max_exam \u001B[38;5;241m=\u001B[39m \u001B[38;5;28;43mmax\u001B[39;49m\u001B[43m(\u001B[49m\u001B[43mexam\u001B[49m\u001B[43m)\u001B[49m\n\u001B[0;32m     13\u001B[0m     min_exam \u001B[38;5;241m=\u001B[39m \u001B[38;5;28mmin\u001B[39m(exam)\n\u001B[0;32m     14\u001B[0m     avg_exam \u001B[38;5;241m=\u001B[39m \u001B[38;5;28msum\u001B[39m(exam) \u001B[38;5;241m/\u001B[39m \u001B[38;5;28mlen\u001B[39m(exam)\n",
      "\u001B[1;31mTypeError\u001B[0m: 'int' object is not callable"
     ]
    }
   ],
   "source": [
    "exam = []\n",
    "\n",
    "print('점수를 입력하세요.')\n",
    "print('더 이상 입력할 점수가 없으면 음수를 아무거나 입력하세요.')\n",
    "while True:\n",
    "    input_score = int(input('점수 입력 >>> '))\n",
    "    if input_score < 0:  # 0보다 작은 수를 입력 한 경우\n",
    "        break\n",
    "    exam.append(input_score)\n",
    "\n",
    "if len(exam) > 0:  # 점수가 하나라도 입력된 경우\n",
    "    max_exam = max(exam)\n",
    "    min_exam = min(exam)\n",
    "    avg_exam = sum(exam) / len(exam)\n",
    "    print(f'평균 = {avg_exam}, 최대 = {max_exam}, 최소 = {min_exam}')\n",
    "else:  # 점수가 하나도 입력되지 않은 경우\n",
    "    print('입력된 점수가 없습니다.')\n"
   ],
   "metadata": {
    "collapsed": false,
    "ExecuteTime": {
     "end_time": "2024-02-28T12:16:52.600438Z",
     "start_time": "2024-02-28T12:16:51.050462Z"
    }
   },
   "id": "5f3304627236ca67",
   "execution_count": 11
  },
  {
   "cell_type": "code",
   "outputs": [
    {
     "ename": "TypeError",
     "evalue": "'int' object is not callable",
     "output_type": "error",
     "traceback": [
      "\u001B[1;31m---------------------------------------------------------------------------\u001B[0m",
      "\u001B[1;31mTypeError\u001B[0m                                 Traceback (most recent call last)",
      "Cell \u001B[1;32mIn[13], line 9\u001B[0m\n\u001B[0;32m      7\u001B[0m     exam\u001B[38;5;241m.\u001B[39mappend(input_score)\n\u001B[0;32m      8\u001B[0m \u001B[38;5;28;01mif\u001B[39;00m \u001B[38;5;28mlen\u001B[39m(exam) \u001B[38;5;241m>\u001B[39m \u001B[38;5;241m0\u001B[39m:\n\u001B[1;32m----> 9\u001B[0m     max_exam \u001B[38;5;241m=\u001B[39m \u001B[38;5;28;43mmax\u001B[39;49m\u001B[43m(\u001B[49m\u001B[43mexam\u001B[49m\u001B[43m)\u001B[49m\n\u001B[0;32m     10\u001B[0m     min_exam \u001B[38;5;241m=\u001B[39m \u001B[38;5;28mmin\u001B[39m(exam)\n\u001B[0;32m     11\u001B[0m     avg_exam \u001B[38;5;241m=\u001B[39m \u001B[38;5;28msum\u001B[39m(exam) \u001B[38;5;241m/\u001B[39m \u001B[38;5;28mlen\u001B[39m(exam)\n",
      "\u001B[1;31mTypeError\u001B[0m: 'int' object is not callable"
     ]
    }
   ],
   "source": [
    "exam = []\n",
    "\n",
    "while True:\n",
    "    input_score = int(input('점수 입력 >>> '))\n",
    "    if input_score < 0:\n",
    "        break\n",
    "    exam.append(input_score)\n",
    "if len(exam) > 0:\n",
    "    max_exam = max(exam)\n",
    "    min_exam = min(exam)\n",
    "    avg_exam = sum(exam) / len(exam)\n",
    "    print(f'평균 = {avg_exam}, 최대 = {max_exam}, 최소 = {min_exam}')\n",
    "\n",
    "else:\n",
    "    print('입력된 점수가 없습니다.')"
   ],
   "metadata": {
    "collapsed": false,
    "ExecuteTime": {
     "end_time": "2024-02-28T12:20:58.142129Z",
     "start_time": "2024-02-28T12:20:54.815257Z"
    }
   },
   "id": "a42f0196c0f1130",
   "execution_count": 13
  },
  {
   "cell_type": "code",
   "outputs": [
    {
     "name": "stdout",
     "output_type": "stream",
     "text": [
      "2 apple\n",
      "3 banana\n",
      "4 cherry\n"
     ]
    }
   ],
   "source": [
    "my_list = ['apple', 'banana', 'cherry']\n",
    "\n",
    "for index, item in enumerate(my_list, start=2):\n",
    "    print(index, item)\n",
    "# 출력\n",
    "# 2 apple\n",
    "# 3 banana\n",
    "# 4 cherry"
   ],
   "metadata": {
    "collapsed": false,
    "ExecuteTime": {
     "end_time": "2024-02-28T12:53:03.688832Z",
     "start_time": "2024-02-28T12:53:03.667793Z"
    }
   },
   "id": "e5a9ea2ed426b7ed",
   "execution_count": 15
  },
  {
   "cell_type": "code",
   "outputs": [
    {
     "name": "stdout",
     "output_type": "stream",
     "text": [
      "January = 31일\n",
      "February = 28일\n",
      "March = 31일\n",
      "April = 30일\n",
      "May = 31일\n",
      "June = 30일\n",
      "July = 31일\n",
      "August = 31일\n",
      "September = 30일\n",
      "October = 31일\n",
      "November = 30일\n",
      "December = 31일\n"
     ]
    }
   ],
   "source": [
    "months_eng = ['January', 'February', 'March', 'April', 'May', 'June', 'July',\n",
    "              'August', 'September', 'October', 'November', 'December']\n",
    "months = [31, 28, 31, 30, 31, 30, 31, 31, 30, 31, 30, 31]\n",
    "\n",
    "# print(range(len(months))\n",
    "# for idx in range(len(months)):\n",
    "#     print(f'{months[idx]} =  {months_eng[idx]}')\n",
    "# print()\n",
    "# \n",
    "# for i, v in enumerate(months_eng):\n",
    "#     print(f'{i} =  {v}')\n",
    "\n",
    "months_dic = dict()\n",
    "for i, v in enumerate(months_eng):\n",
    "    months_dic.update({v: months[i]})\n",
    "for k, v in months_dic.items():\n",
    "    print(f'{k} = {v}일')"
   ],
   "metadata": {
    "collapsed": false,
    "ExecuteTime": {
     "end_time": "2024-02-28T13:19:23.290776Z",
     "start_time": "2024-02-28T13:19:23.265734Z"
    }
   },
   "id": "a621ed1e17dc1c4a",
   "execution_count": 27
  }
 ],
 "metadata": {
  "kernelspec": {
   "display_name": "Python 3",
   "language": "python",
   "name": "python3"
  },
  "language_info": {
   "codemirror_mode": {
    "name": "ipython",
    "version": 2
   },
   "file_extension": ".py",
   "mimetype": "text/x-python",
   "name": "python",
   "nbconvert_exporter": "python",
   "pygments_lexer": "ipython2",
   "version": "2.7.6"
  }
 },
 "nbformat": 4,
 "nbformat_minor": 5
}
