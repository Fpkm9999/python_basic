{
 "cells": [
  {
   "cell_type": "markdown",
   "source": [
    "# 셋 (집합) : 자바의 set 과 유사.\n",
    "-  1) 중복된 값을 저장할 수 없음\n",
    "-  2) 순서가 없음 <-- 중복을 빨리 확인하기 위해 순서정렬도 안함\n",
    "-  3) 자바처럼 파이썬의 set의 목적도 중복 제거임\n",
    "\n",
    "수학의 집합 개념을 구현한 자료형\n",
    "저장된 값들은 순서가 없기 때문에 인덱싱과 슬라이싱을 사용할 수 없음\n",
    "대신 중복된 값의 저장이 불가능해서 중복 제거용으로 사용\n",
    "특징\n",
    "1. 중복된 값을 저장a할 수 없음\n",
    "2. 저장되는 순서가 없음"
   ],
   "metadata": {
    "collapsed": false
   },
   "id": "6973d37a2b676fe7"
  },
  {
   "cell_type": "code",
   "outputs": [
    {
     "name": "stdout",
     "output_type": "stream",
     "text": [
      "[1, 1, 2, 2, 3, 3]\n",
      "{1, 2, 3}\n",
      "[1, 2, 3]\n"
     ]
    }
   ],
   "source": [
    "# set 사용\n",
    "# 중괄호({}) 또는 set() 함수를 이용하여 생성\n",
    "li = [1,1,2,2,3,3,]\n",
    "print(li) # [1,1,2,2,3,3] #리스트로 출력\n",
    "\n",
    "print(set(li)) # {1,2,3}  #  중복된 값을 제거\n",
    "li = list(set(li)) # tuple을 리스트로 출력\n",
    "print(li) # [1,2,3]"
   ],
   "metadata": {
    "collapsed": false,
    "ExecuteTime": {
     "end_time": "2024-02-26T15:41:19.356268600Z",
     "start_time": "2024-02-26T15:41:19.333206400Z"
    }
   },
   "id": "dda0c37ddc511ec1",
   "execution_count": 2
  },
  {
   "cell_type": "code",
   "outputs": [
    {
     "name": "stdout",
     "output_type": "stream",
     "text": [
      "{40, 10, 20, 30}\n",
      "{40, 10, 30}\n",
      "{40, 10}\n",
      "{40, 10}\n"
     ]
    }
   ],
   "source": [
    "# 추가와 삭제\n",
    "# 추가를 할 때 add() 메소드 사용\n",
    "s = {10,20,30}\n",
    "s.add(40) # 세트에 40을 추가\n",
    "print(s) # {40, 10, 20, 30} / 저장되는 요소들은 순서가 없슴\n",
    "\n",
    "# 삭제를 할 때는 remove()나 discard() 메소드를 사용\n",
    "s.remove(20) # 세트에서 20을 제거. 20이 없으면 오류가 발생\n",
    "print(s)  # {40, 10, 30}\n",
    "\n",
    "s.discard(30) # 세트에서 30을 제거. 30이 없어도 오류가 발생하지 않음\n",
    "s.discard(30) # 세트에서 30을 제거. 30이 없어도 오류가 발생하지 않음\n",
    "s.discard(30) # 세트에서 30을 제거. 30이 없어도 오류가 발생하지 않음\n",
    "s.discard(30) # 세트에서 30을 제거. 30이 없어도 오류가 발생하지 않음\n",
    "print(s)  # {40, 10}\n",
    "s.discard(234567) # 없는 값을 줘도\n",
    "print(s)\n"
   ],
   "metadata": {
    "collapsed": false,
    "ExecuteTime": {
     "end_time": "2024-02-26T15:42:32.997340Z",
     "start_time": "2024-02-26T15:42:32.981916100Z"
    }
   },
   "id": "601fe63a0507e2ed",
   "execution_count": 4
  }
 ],
 "metadata": {
  "kernelspec": {
   "display_name": "Python 3",
   "language": "python",
   "name": "python3"
  },
  "language_info": {
   "codemirror_mode": {
    "name": "ipython",
    "version": 2
   },
   "file_extension": ".py",
   "mimetype": "text/x-python",
   "name": "python",
   "nbconvert_exporter": "python",
   "pygments_lexer": "ipython2",
   "version": "2.7.6"
  }
 },
 "nbformat": 4,
 "nbformat_minor": 5
}
