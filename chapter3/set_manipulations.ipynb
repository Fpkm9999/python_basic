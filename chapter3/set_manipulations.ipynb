{
 "cells": [
  {
   "cell_type": "markdown",
   "source": [
    "# 셋 (집합) "
   ],
   "metadata": {
    "collapsed": false
   },
   "id": "6973d37a2b676fe7"
  },
  {
   "cell_type": "code",
   "outputs": [
    {
     "name": "stdout",
     "output_type": "stream",
     "text": [
      "<class 'set'>\n",
      "[1, 1, 2, 2, 3, 3]\n",
      "{1, 2, 3}\n",
      "[1, 2, 3]\n",
      "s2 : {'e', 'h', 'o', 'l'}\n",
      "set()\n"
     ]
    }
   ],
   "source": [
    "# set 사용\n",
    "s1 = {'hello World'}\n",
    "print(type(s1)) # 출력 : <class 'set'>\n",
    "\n",
    "# 중괄호({}) 또는 set() 함수를 이용하여 생성\n",
    "li = [1,1,2,2,3,3,]  # 리스트\n",
    "print(li) # [1,1,2,2,3,3] #리스트로 출력\n",
    "\n",
    "print(set(li)) # {1,2,3}  #  중복된 값을 제거\n",
    "li = list(set(li)) # set을 리스트로 출력\n",
    "print(li) # 출력 : [1,2,3]\n",
    "\n",
    "s2 = set('hello')\n",
    "print(f's2 : {s2}') # s2 : {'h', 'o', 'l', 'e'}\n",
    "\n",
    "# 비어있는 집합(set) 자료형\n",
    "s3 = set()\n",
    "print(s3)"
   ],
   "metadata": {
    "collapsed": false,
    "ExecuteTime": {
     "end_time": "2024-02-29T14:50:44.508887Z",
     "start_time": "2024-02-29T14:50:44.497149Z"
    }
   },
   "id": "dda0c37ddc511ec1",
   "execution_count": 2
  },
  {
   "cell_type": "code",
   "outputs": [
    {
     "name": "stdout",
     "output_type": "stream",
     "text": [
      "{40, 10, 20, 30}\n",
      "{40, 10, 30}\n",
      "{40, 10}\n",
      "{40, 10}\n"
     ]
    }
   ],
   "source": [
    "# 추가와 삭제\n",
    "# 추가를 할 때 add() 메소드 사용\n",
    "s = {10,20,30}\n",
    "s.add(40) # 출력 : 세트에 40을 추가\n",
    "print(s) # {40, 10, 20, 30} / 저장되는 요소들은 순서가 없슴\n",
    "\n",
    "# 삭제를 할 때는 remove()나 discard() 메소드를 사용\n",
    "s.remove(20) # 세트에서 20을 제거. 20이 없으면 오류가 발생\n",
    "print(s)  # {40, 10, 30}\n",
    "# s.remove(345) # KeyError: 345\n",
    "\n",
    "s.discard(30) # 세트에서 30을 제거. 30이 없어도 오류가 발생하지 않음\n",
    "s.discard(30) # 세트에서 30을 제거. 30이 없어도 오류가 발생하지 않음\n",
    "s.discard(30) # 세트에서 30을 제거. 30이 없어도 오류가 발생하지 않음\n",
    "s.discard(30) # 세트에서 30을 제거. 30이 없어도 오류가 발생하지 않음\n",
    "print(s)  # 출력 : {40, 10}\n",
    "s.discard(234567) # 없는 값을 줘도 remove()와는 다르게 상관없음.\n",
    "\n",
    "print(s) # 출력 : {40, 10}\n"
   ],
   "metadata": {
    "collapsed": false,
    "ExecuteTime": {
     "end_time": "2024-02-29T14:51:43.831Z",
     "start_time": "2024-02-29T14:51:43.811859Z"
    }
   },
   "id": "601fe63a0507e2ed",
   "execution_count": 3
  },
  {
   "cell_type": "code",
   "outputs": [
    {
     "name": "stdout",
     "output_type": "stream",
     "text": [
      "{1, 2, 3}\n",
      "[1, 2, 3]\n",
      "(1, 2, 3)\n"
     ]
    }
   ],
   "source": [
    "s1 = set([1,2,3])   # 리스트를 셋으로 변환\n",
    "print(s1)\n",
    "\n",
    "li = list(s1) # 셋을 리스트로 변환\n",
    "print(li)\n",
    "\n",
    "t1 = tuple(s1) # 리스트를 튜플로 변환\n",
    "print(t1)"
   ],
   "metadata": {
    "collapsed": false,
    "ExecuteTime": {
     "end_time": "2024-02-29T14:52:30.158590Z",
     "start_time": "2024-02-29T14:52:30.143421Z"
    }
   },
   "id": "23038ef9beb8ffdc",
   "execution_count": 4
  },
  {
   "cell_type": "code",
   "outputs": [],
   "source": [
    "# set 자료형의 기능\n",
    "# 교집합, 합집합, 차집함 구할때 유용하다."
   ],
   "metadata": {
    "collapsed": false
   },
   "id": "db7a23979d0e81b8"
  },
  {
   "cell_type": "code",
   "outputs": [
    {
     "name": "stdout",
     "output_type": "stream",
     "text": [
      "1은 my_set에 있습니다.\n",
      "{4, 5, 6, 7}\n",
      "{1, 2, 3, 4, 5, 6, 7}\n",
      "{1, 2, 3}\n"
     ]
    }
   ],
   "source": [
    "# 셋 생성\n",
    "my_set = {1, 2, 3, 4, 5}\n",
    "\n",
    "# 요소 추가\n",
    "my_set.add(6)\n",
    "\n",
    "# 여러 요소 추가\n",
    "my_set.update([7, 8, 9])\n",
    "\n",
    "# 요소 제거\n",
    "my_set.remove(9)  # 요소가 셋 내에 없으면 KeyError 발생\n",
    "my_set.discard(8)  # 요소가 셋 내에 없어도 에러가 발생하지 않음\n",
    "\n",
    "# 데이터 존재 여부 확인\n",
    "if 1 in my_set:\n",
    "    print(\"1은 my_set에 있습니다.\")\n",
    "\n",
    "# 출력: 1은 my_set에 있습니다.\n",
    "\n",
    "# 집합 연산\n",
    "another_set = {4, 5, 6, 7}\n",
    "intersection = my_set.intersection(another_set)  # 교집합\n",
    "union = my_set.union(another_set)  # 합집합\n",
    "difference = my_set.difference(another_set)  # 차집합\n",
    "\n",
    "print(intersection)  # 출력: {4, 5, 6}\n",
    "print(union)         # 출력: {1, 2, 3, 4, 5, 6, 7}\n",
    "print(difference)    # 출력: {1, 2, 3}\n"
   ],
   "metadata": {
    "collapsed": false,
    "ExecuteTime": {
     "end_time": "2024-02-29T14:50:20.351860Z",
     "start_time": "2024-02-29T14:50:20.331899Z"
    }
   },
   "id": "7c062c45109448c3",
   "execution_count": 1
  }
 ],
 "metadata": {
  "kernelspec": {
   "display_name": "Python 3",
   "language": "python",
   "name": "python3"
  },
  "language_info": {
   "codemirror_mode": {
    "name": "ipython",
    "version": 2
   },
   "file_extension": ".py",
   "mimetype": "text/x-python",
   "name": "python",
   "nbconvert_exporter": "python",
   "pygments_lexer": "ipython2",
   "version": "2.7.6"
  }
 },
 "nbformat": 4,
 "nbformat_minor": 5
}
