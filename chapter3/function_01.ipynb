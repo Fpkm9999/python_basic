{
 "cells": [
  {
   "cell_type": "markdown",
   "source": [
    "### 사용자 정의 함수\n",
    "- 사용자가 직접 만든 함수\n",
    "- 1) 어떤 입력을 받아 2) 특정 연산을 수행한 뒤 3) 결과를 반환하는 기능\n",
    "\n",
    "#### 함수 용어 정리\n",
    "1. 함수 정의 : 사용자 함수를 새로 만드는 것을 의미\n",
    "2. 인수 : 사용자 함수에 전달할 입력(input)을 의미. argument\n",
    "3. 매개변수 : 인수를 받아서 저장하는 변수를 의미. parameter\n",
    "4. 반환값 : 사용자 함수의 출략(output)을 의미. return\n",
    "5. 함수 호출 : 만들어진 사용자 함수를 실제로 사용하는 것을 의미"
   ],
   "metadata": {
    "collapsed": false
   },
   "id": "dcd461bbc14fbd62"
  },
  {
   "cell_type": "code",
   "outputs": [],
   "source": [
    "# 함수 정의\n",
    "# 함수를 만드는 것을 의미. def 키워드를 이용\n",
    "\n",
    "# def 함수이름(매개변수) :\n",
    "#    본문\n",
    "#    return 반환값\n",
    "# 함수이름을 개발자가 마음대로 결정\n",
    "# 매개변수, 반환값은 필수 사항이 아님\n",
    "\n",
    "# 함수 호출\n",
    "# 변수 = 함수이름(인수)\n",
    "# 함수의 호출 결과를 저장할 변수를 생략가능"
   ],
   "metadata": {
    "collapsed": false
   },
   "id": "812e0c9aeffafde7"
  },
  {
   "cell_type": "code",
   "outputs": [],
   "source": [
    "# 4가지 함수 호출 형태\n",
    "# 1) 인수: X, 반환값: X\n",
    "# 함수 이름()\n",
    "# 1) 인수: O, 반환값: X\n",
    "# 함수 이름(인수)\n",
    "# 1) 인수: X, 반환값: O\n",
    "# 변수 = 함수 이름()\n",
    "# 1) 인수: O, 반환값: O\n",
    "# 변수 = 함수 이름(인수)"
   ],
   "metadata": {
    "collapsed": false,
    "ExecuteTime": {
     "end_time": "2024-02-28T02:28:36.928784600Z",
     "start_time": "2024-02-28T02:28:36.927695300Z"
    }
   },
   "id": "1c6caf515098fb41",
   "execution_count": 1
  },
  {
   "cell_type": "code",
   "outputs": [
    {
     "name": "stdout",
     "output_type": "stream",
     "text": [
      "Hello Python\n",
      "Nice to meet you\n"
     ]
    }
   ],
   "source": [
    "# 사용\n",
    "# welcome() 함수 정의\n",
    "def welcome():\n",
    "    print(\"Hello Python\")\n",
    "    print('Nice to meet you')\n",
    "\n",
    "\n",
    "welcome()  # 함수가 정의한 후에 호출을 해야 함 # 함수가 먼저 선언이 되어야 사용가능함\n",
    "\n",
    "\n",
    "# 인터프리티 방식의 특징임.\n",
    "\n",
    "# 파이썬 함수의 단점 : 데이터 타입이 없어서 다른 작업자가 만든 함수를 사용할 때 주의할 점이 많음.\n",
    "def process(number):\n",
    "    return number / 1\n",
    "\n",
    "\n",
    "# process(\"hello\")  # TypeError: unsupported operand type(s) for /: 'str' and 'int'\n",
    "# 내가 만들지 않았으니 정수를 넘겨야 하는데 문자열을 넣는 듯 실수를 할 수 있음\n",
    "\n",
    "# sol. 어노테이션 사용\n",
    "# 어노테이션 사용 가능. 타입 강제는 아님 # 타입을 알려줄 수 있게됨\n",
    "def process(number: int) -> float:\n",
    "    return number / 1\n"
   ],
   "metadata": {
    "collapsed": false,
    "ExecuteTime": {
     "end_time": "2024-02-28T02:34:21.372283100Z",
     "start_time": "2024-02-28T02:34:21.355234600Z"
    }
   },
   "id": "5e94a5eacd29091",
   "execution_count": 6
  },
  {
   "cell_type": "code",
   "outputs": [
    {
     "name": "stdout",
     "output_type": "stream",
     "text": [
      "내 이름은 james이고, 나이는25살이다.\n",
      "내 이름은 james이고, 나이는25살이다.\n"
     ]
    }
   ],
   "source": [
    "# 인수와 매개변수\n",
    "# 함수로 전달되는 인수(argument) 를 저장하는 변수를 매개변수(parameter)라고 함\n",
    "\n",
    "\n",
    "# 1. 인수가 있는 함수\n",
    "def introduce(name: str, age: int) -> None:\n",
    "    print(f'내 이름은 {name}이고, 나이는{age}살이다.')\n",
    "\n",
    "\n",
    "introduce('james', 25)  # 출력 : 내 이름은 james이고, 나이는25살이다.\n",
    "introduce(age=25, name='james')  # 출력 : 내 이름은 james이고, 나이는25살이다.\n",
    "\n",
    "\n",
    "# 매개변수 순서를 임의로 할 수있다. 단 맥개변수명= 형태로해야한다.\n",
    "\n",
    "# def introduce(name: Any, age: Any) -> None\n",
    "def introduce(name, age):\n",
    "    print(f'내 이름은 {name}이고, 나이는{age}살이다.')\n"
   ],
   "metadata": {
    "collapsed": false,
    "ExecuteTime": {
     "end_time": "2024-02-28T02:39:29.476141Z",
     "start_time": "2024-02-28T02:39:29.463939Z"
    }
   },
   "id": "42562d479f0b81e",
   "execution_count": 2
  },
  {
   "cell_type": "code",
   "outputs": [
    {
     "name": "stdout",
     "output_type": "stream",
     "text": [
      "python\n",
      "happy\n",
      "birthday\n"
     ]
    }
   ],
   "source": [
    "# 2. 가변 매개변수\n",
    "# 함수로 전달해야 하는 인수의 개수가 정해지지 않아도 매개변수를 선언할 수 있음\n",
    "# 가변 매개변수를 만드는 키워드는 애스터리스크(*)\n",
    "# 매개변수 앞에 *을 붙이면 곧바로 가변 매개 변수가 되면서 전달되는 모든 인수를 하나의 튜플(tuple)로 만들어 줌\n",
    "\n",
    "def show(*args):\n",
    "    for item in args:\n",
    "        print(item)\n",
    "\n",
    "\n",
    "show('python')  # show 함수 호출. 인수가 1개 # 출력 : python\n",
    "show('happy', 'birthday')  # show 함수 호출. 인수가 2개 # 출력 : happy, birthday"
   ],
   "metadata": {
    "collapsed": false,
    "ExecuteTime": {
     "end_time": "2024-02-28T02:44:47.615630Z",
     "start_time": "2024-02-28T02:44:47.602867Z"
    }
   },
   "id": "5b510c63d089450a",
   "execution_count": 4
  },
  {
   "cell_type": "code",
   "outputs": [
    {
     "name": "stdout",
     "output_type": "stream",
     "text": [
      "반갑습니다.\n",
      "안녕하세요\n"
     ]
    }
   ],
   "source": [
    "# 3. 디폴트 매개변수\n",
    "# 매개변수로 전달되는 인수가 없는 경우에는 기본적으로 사용할 수 있도록\n",
    "# 매개변수에 기본값을 설정할 수 있음\n",
    "\n",
    "def greet(message='안녕하세요'):\n",
    "    print(message)\n",
    "\n",
    "\n",
    "greet('반갑습니다.')  # 출력 : 반갑습니다.\n",
    "greet()  # 출력 : 안녕하세요 <-- 기본값이 출력되었음\n",
    "# 자바는 디폴트 매개변수가 지원되지 않는데\n",
    "# 자바는 메소드오버로딩이 있어서 그렇고 파이썬은 메소드 오버로딩을 지원하지 않음. 둘다 지원하는 경우 C++ 가 있는데 헷갈림"
   ],
   "metadata": {
    "collapsed": false,
    "ExecuteTime": {
     "end_time": "2024-02-28T02:48:09.284062Z",
     "start_time": "2024-02-28T02:48:09.261938Z"
    }
   },
   "id": "44dfa1261384ac9d",
   "execution_count": 7
  }
 ],
 "metadata": {
  "kernelspec": {
   "display_name": "Python 3",
   "language": "python",
   "name": "python3"
  },
  "language_info": {
   "codemirror_mode": {
    "name": "ipython",
    "version": 2
   },
   "file_extension": ".py",
   "mimetype": "text/x-python",
   "name": "python",
   "nbconvert_exporter": "python",
   "pygments_lexer": "ipython2",
   "version": "2.7.6"
  }
 },
 "nbformat": 4,
 "nbformat_minor": 5
}
