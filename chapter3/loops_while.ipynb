{
 "cells": [
  {
   "cell_type": "markdown",
   "source": [
    "# 반복문\n",
    "1. do while 문이 없음\n",
    "2. while은 간단\n",
    "3. for 문은 삼항을 이용하는 for문은 없는 대신, 자바에 비해 새로운 기능이 있음\n",
    "개선된 for문은 2000년대 이후에 만들어졌거나(코틀린), 성능이 개선된 언어(자바 스크립트)의 공통적인 특징."
   ],
   "metadata": {
    "collapsed": false
   },
   "id": "56458949398906ca"
  },
  {
   "cell_type": "markdown",
   "source": [
    "### while 문\n",
    "- 특정 조건을 만족하는 동안 반복해서 수행해야 하는 코드를 작성할 때 사용\n",
    "\n",
    "while 조건식 :\n",
    "    반복 실행문"
   ],
   "metadata": {
    "collapsed": false
   },
   "id": "50d195ca527f5e02"
  },
  {
   "cell_type": "code",
   "outputs": [
    {
     "name": "stdout",
     "output_type": "stream",
     "text": [
      "1\n",
      "2\n",
      "3\n",
      "4\n",
      "5\n",
      "6\n",
      "7\n",
      "8\n",
      "9\n",
      "10\n",
      "11\n"
     ]
    }
   ],
   "source": [
    "n = 1\n",
    "while n <= 10:\n",
    "    print(n)\n",
    "    n += 1  # n = n + 1\n",
    "print(n)"
   ],
   "metadata": {
    "collapsed": false,
    "ExecuteTime": {
     "end_time": "2024-02-27T00:40:44.463982Z",
     "start_time": "2024-02-27T00:40:44.458981300Z"
    }
   },
   "id": "d92031854dd34a72",
   "execution_count": 1
  },
  {
   "cell_type": "code",
   "outputs": [
    {
     "name": "stdout",
     "output_type": "stream",
     "text": [
      "10\n",
      "9\n",
      "8\n",
      "7\n",
      "6\n",
      "5\n",
      "4\n",
      "3\n",
      "2\n",
      "1\n",
      "0\n"
     ]
    }
   ],
   "source": [
    "n = 10\n",
    "while n >= 1:\n",
    "    print(n)\n",
    "    n -= 1  # n = n - 1\n",
    "print(n)"
   ],
   "metadata": {
    "collapsed": false,
    "ExecuteTime": {
     "end_time": "2024-02-27T00:42:16.731489200Z",
     "start_time": "2024-02-27T00:42:16.702272400Z"
    }
   },
   "id": "560905732f5b4192",
   "execution_count": 3
  },
  {
   "cell_type": "code",
   "outputs": [
    {
     "name": "stdout",
     "output_type": "stream",
     "text": [
      "10\n",
      "9\n",
      "8\n",
      "7\n",
      "6\n",
      "5\n",
      "4\n",
      "3\n",
      "2\n",
      "1\n"
     ]
    }
   ],
   "source": [
    "### 1 부터 10 사이의 모든 정수를 역순으로 출력\n",
    "n = 10\n",
    "while n >= 1:\n",
    "    print(n)\n",
    "    n -= 1"
   ],
   "metadata": {
    "collapsed": false,
    "ExecuteTime": {
     "end_time": "2024-02-27T00:45:40.996764500Z",
     "start_time": "2024-02-27T00:45:40.979659Z"
    }
   },
   "id": "14f9f4c95bdcd4e5",
   "execution_count": 8
  },
  {
   "cell_type": "code",
   "outputs": [
    {
     "name": "stdout",
     "output_type": "stream",
     "text": [
      "100\n",
      "98\n",
      "96\n",
      "94\n",
      "92\n",
      "90\n",
      "88\n",
      "86\n",
      "84\n",
      "82\n",
      "80\n",
      "78\n",
      "76\n",
      "74\n",
      "72\n",
      "70\n",
      "68\n",
      "66\n",
      "64\n",
      "62\n",
      "60\n",
      "58\n",
      "56\n",
      "54\n",
      "52\n",
      "50\n"
     ]
    }
   ],
   "source": [
    "\n",
    "# 100 부터 50 사이의 짝수를 출력\n",
    "n = 100\n",
    "while n >= 50:\n",
    "    if n % 2 == 0:\n",
    "        print(n)\n",
    "    n -= 1\n",
    "\n"
   ],
   "metadata": {
    "collapsed": false,
    "ExecuteTime": {
     "end_time": "2024-02-27T00:45:31.083664300Z",
     "start_time": "2024-02-27T00:45:31.055844300Z"
    }
   },
   "id": "c09d3e216f5ba65b",
   "execution_count": 6
  },
  {
   "cell_type": "code",
   "outputs": [
    {
     "name": "stdout",
     "output_type": "stream",
     "text": [
      "100\n",
      "98\n",
      "96\n",
      "94\n",
      "92\n",
      "90\n",
      "88\n",
      "86\n",
      "84\n",
      "82\n",
      "80\n",
      "78\n",
      "76\n",
      "74\n",
      "72\n",
      "70\n",
      "68\n",
      "66\n",
      "64\n",
      "62\n",
      "60\n",
      "58\n",
      "56\n",
      "54\n",
      "52\n",
      "50\n"
     ]
    }
   ],
   "source": [
    "n = 100\n",
    "while n >= 50:\n",
    "    print(n)\n",
    "    n -= 2"
   ],
   "metadata": {
    "collapsed": false,
    "ExecuteTime": {
     "end_time": "2024-02-27T00:45:34.579508Z",
     "start_time": "2024-02-27T00:45:34.552339300Z"
    }
   },
   "id": "80041e6b6b457f90",
   "execution_count": 7
  },
  {
   "cell_type": "code",
   "outputs": [
    {
     "name": "stdout",
     "output_type": "stream",
     "text": [
      "[30, 20, 50, 60, 60, 60, 60, 40]\n"
     ]
    }
   ],
   "source": [
    "# 사용자로 부터 임의의 정수를 입력받아 모두 리스트에 보관\n",
    "# 단 사용자가 0을 입력하면 프로그램을 종료. 이 떄 입력받은 0은 리스트에 보관하지 않음\n",
    "\n",
    "my_list = []  # 빈 리스트 생성\n",
    "\n",
    "n = int(input('정수를 입력하세요(종료는 0입니다.) >>> '))  # 한번만 실행\n",
    "\n",
    "while n != 0:  # n이 0이 아니면  계속 실행\n",
    "    my_list.append(n)\n",
    "    n = int(input('정수를 입력하세요(종료는 0입니다. >>> '))\n",
    "\n",
    "print(my_list)\n",
    "\n"
   ],
   "metadata": {
    "collapsed": false,
    "ExecuteTime": {
     "end_time": "2024-02-27T00:48:32.081170300Z",
     "start_time": "2024-02-27T00:48:26.292945200Z"
    }
   },
   "id": "b1dc475456007f4b",
   "execution_count": 10
  },
  {
   "cell_type": "code",
   "outputs": [
    {
     "name": "stdout",
     "output_type": "stream",
     "text": [
      "[10, 20, 30, 60, 10, 10, 10]\n"
     ]
    }
   ],
   "source": [
    "my_list = []  # 빈 리스트 생성\n",
    "\n",
    "n = 1  # 0 이 아닌 초깃값을 주면 반복문이 실행 된다.\n",
    "\n",
    "while n != 0:  # n이 0이 아니면  계속 실행\n",
    "    n = int(input('정수를 입력하세요(종료는 0입니다. >>> '))\n",
    "    my_list.append(n)\n",
    "\n",
    "my_list.pop()  # my_list의 마지막 요소는 언제나 0이므로 제거합니다.\n",
    "print(my_list)"
   ],
   "metadata": {
    "collapsed": false,
    "ExecuteTime": {
     "end_time": "2024-02-27T00:52:46.564559700Z",
     "start_time": "2024-02-27T00:52:42.690731800Z"
    }
   },
   "id": "51d26595c6a99cc4",
   "execution_count": 11
  },
  {
   "cell_type": "code",
   "outputs": [
    {
     "name": "stdout",
     "output_type": "stream",
     "text": [
      "2 * 1 = 2\n",
      "2 * 2 = 4\n",
      "2 * 3 = 6\n",
      "2 * 4 = 8\n",
      "2 * 5 = 10\n",
      "2 * 6 = 12\n",
      "2 * 7 = 14\n",
      "2 * 8 = 16\n",
      "2 * 9 = 18\n",
      "3 * 1 = 3\n",
      "3 * 2 = 6\n",
      "3 * 3 = 9\n",
      "3 * 4 = 12\n",
      "3 * 5 = 15\n",
      "3 * 6 = 18\n",
      "3 * 7 = 21\n",
      "3 * 8 = 24\n",
      "3 * 9 = 27\n",
      "4 * 1 = 4\n",
      "4 * 2 = 8\n",
      "4 * 3 = 12\n",
      "4 * 4 = 16\n",
      "4 * 5 = 20\n",
      "4 * 6 = 24\n",
      "4 * 7 = 28\n",
      "4 * 8 = 32\n",
      "4 * 9 = 36\n",
      "5 * 1 = 5\n",
      "5 * 2 = 10\n",
      "5 * 3 = 15\n",
      "5 * 4 = 20\n",
      "5 * 5 = 25\n",
      "5 * 6 = 30\n",
      "5 * 7 = 35\n",
      "5 * 8 = 40\n",
      "5 * 9 = 45\n",
      "6 * 1 = 6\n",
      "6 * 2 = 12\n",
      "6 * 3 = 18\n",
      "6 * 4 = 24\n",
      "6 * 5 = 30\n",
      "6 * 6 = 36\n",
      "6 * 7 = 42\n",
      "6 * 8 = 48\n",
      "6 * 9 = 54\n",
      "7 * 1 = 7\n",
      "7 * 2 = 14\n",
      "7 * 3 = 21\n",
      "7 * 4 = 28\n",
      "7 * 5 = 35\n",
      "7 * 6 = 42\n",
      "7 * 7 = 49\n",
      "7 * 8 = 56\n",
      "7 * 9 = 63\n",
      "8 * 1 = 8\n",
      "8 * 2 = 16\n",
      "8 * 3 = 24\n",
      "8 * 4 = 32\n",
      "8 * 5 = 40\n",
      "8 * 6 = 48\n",
      "8 * 7 = 56\n",
      "8 * 8 = 64\n",
      "8 * 9 = 72\n",
      "9 * 1 = 9\n",
      "9 * 2 = 18\n",
      "9 * 3 = 27\n",
      "9 * 4 = 36\n",
      "9 * 5 = 45\n",
      "9 * 6 = 54\n",
      "9 * 7 = 63\n",
      "9 * 8 = 72\n",
      "9 * 9 = 81\n"
     ]
    }
   ],
   "source": [
    "# 구구단 2단 부터 9단 까지 출력\n",
    "# 단 앞에 제목, 마지막에 구분선을 넣어 볼것\n",
    "# 8 * 9 = 72\n",
    "# ==========\n",
    "# 9단\n",
    "# 9 * 1 = 9\n",
    "\n",
    "dan = 2  # 구구단의 단을 의미\n",
    "while dan <= 9:  # 9단 까지 반복해서 처리\n",
    "    n = 1\n",
    "    while n <= 9:  # 모든 dan 은 변수 1~9 까지 사ㅛㅇㅇ\n",
    "        print(f'{dan} * {n} = {dan * n}')\n",
    "        n += 1\n",
    "    dan += 1\n"
   ],
   "metadata": {
    "collapsed": false,
    "ExecuteTime": {
     "end_time": "2024-02-27T01:05:58.425365500Z",
     "start_time": "2024-02-27T01:05:58.409373900Z"
    }
   },
   "id": "4c275e151d26215e",
   "execution_count": 12
  },
  {
   "cell_type": "code",
   "outputs": [
    {
     "name": "stdout",
     "output_type": "stream",
     "text": [
      "2 단\n",
      "2 * 1 = 2\n",
      "2 * 2 = 4\n",
      "2 * 3 = 6\n",
      "2 * 4 = 8\n",
      "2 * 5 = 10\n",
      "2 * 6 = 12\n",
      "2 * 7 = 14\n",
      "2 * 8 = 16\n",
      "2 * 9 = 18\n",
      "==========\n",
      "3 단\n",
      "3 * 1 = 3\n",
      "3 * 2 = 6\n",
      "3 * 3 = 9\n",
      "3 * 4 = 12\n",
      "3 * 5 = 15\n",
      "3 * 6 = 18\n",
      "3 * 7 = 21\n",
      "3 * 8 = 24\n",
      "3 * 9 = 27\n",
      "==========\n",
      "4 단\n",
      "4 * 1 = 4\n",
      "4 * 2 = 8\n",
      "4 * 3 = 12\n",
      "4 * 4 = 16\n",
      "4 * 5 = 20\n",
      "4 * 6 = 24\n",
      "4 * 7 = 28\n",
      "4 * 8 = 32\n",
      "4 * 9 = 36\n",
      "==========\n",
      "5 단\n",
      "5 * 1 = 5\n",
      "5 * 2 = 10\n",
      "5 * 3 = 15\n",
      "5 * 4 = 20\n",
      "5 * 5 = 25\n",
      "5 * 6 = 30\n",
      "5 * 7 = 35\n",
      "5 * 8 = 40\n",
      "5 * 9 = 45\n",
      "==========\n",
      "6 단\n",
      "6 * 1 = 6\n",
      "6 * 2 = 12\n",
      "6 * 3 = 18\n",
      "6 * 4 = 24\n",
      "6 * 5 = 30\n",
      "6 * 6 = 36\n",
      "6 * 7 = 42\n",
      "6 * 8 = 48\n",
      "6 * 9 = 54\n",
      "==========\n",
      "7 단\n",
      "7 * 1 = 7\n",
      "7 * 2 = 14\n",
      "7 * 3 = 21\n",
      "7 * 4 = 28\n",
      "7 * 5 = 35\n",
      "7 * 6 = 42\n",
      "7 * 7 = 49\n",
      "7 * 8 = 56\n",
      "7 * 9 = 63\n",
      "==========\n",
      "8 단\n",
      "8 * 1 = 8\n",
      "8 * 2 = 16\n",
      "8 * 3 = 24\n",
      "8 * 4 = 32\n",
      "8 * 5 = 40\n",
      "8 * 6 = 48\n",
      "8 * 7 = 56\n",
      "8 * 8 = 64\n",
      "8 * 9 = 72\n",
      "==========\n",
      "9 단\n",
      "9 * 1 = 9\n",
      "9 * 2 = 18\n",
      "9 * 3 = 27\n",
      "9 * 4 = 36\n",
      "9 * 5 = 45\n",
      "9 * 6 = 54\n",
      "9 * 7 = 63\n",
      "9 * 8 = 72\n",
      "9 * 9 = 81\n",
      "==========\n"
     ]
    }
   ],
   "source": [
    "dan = 2  # 구구단의 단을 의미\n",
    "while dan <= 9:  # 9단 까지 반복해서 처리\n",
    "    n = 1\n",
    "    print(f'{dan} 단')\n",
    "    while n <= 9:  # 모든 dan 은 변수 1~9 까지 사용\n",
    "        print(f'{dan} * {n} = {dan * n}')\n",
    "        n += 1\n",
    "    print('=' * 10)\n",
    "    dan += 1"
   ],
   "metadata": {
    "collapsed": false,
    "ExecuteTime": {
     "end_time": "2024-02-27T01:10:50.606697500Z",
     "start_time": "2024-02-27T01:10:50.594703100Z"
    }
   },
   "id": "8de1a0ddb467369b",
   "execution_count": 13
  },
  {
   "cell_type": "markdown",
   "source": [
    "# 문제\n",
    "1. 정수를 입력받아서 그 횟수만큼 'Hello'를 출력하는 프로그램을 구현하세요.\n",
    "0 이하의 값이 입력되면 '잘못된 입력입니다.'라는 오류 메시지를 출력하세요.\n",
    "\n",
    "실행 예)\n",
    "정수를 입력하세요 >>> 5\n",
    "1번째 Hello\n",
    "2번째 Hello\n",
    "3번째 Hello\n",
    "4번째 Hello\n",
    "5번째 Hello\n",
    "\n",
    "----------------\n",
    "\n",
    "정수를 입력하세요 >>> -5\n",
    "잘못된 입력입니다.\n",
    "\n",
    "3. 커피 1잔을 300원에 판매하는 커피자판기가 있습니다. \n",
    "이 커피자판기에 돈을 넣으면 자판기에서 뽑을 수 있는 커피가 몇 잔이며 잔돈은 얼마인지를 함께 출력하는 프로그램을 구현하세요.\n",
    "\n",
    "실행 예)\n",
    "자판기에 얼마를 넣을까요? >>> 1400\n",
    "커피 1잔, 잔돈 1100원\n",
    "커피 2잔, 잔돈 800원\n",
    "커피 3잔, 잔돈 500원\n",
    "커피 4잔, 잔돈 200원\n",
    "\n",
    "4. 사용자에게 0부터 9사이의 정수를 입력받습니다. \n",
    "이 때 입력된 정수가 5개가 될 때까지 입력받는 프로그램을 구현하세요.\n",
    "이 때 중복된 값이 입력되면 해당 입력은 무시하세요.\n",
    "\n",
    "실행 예)\n",
    "0 ~ 9 사이 정수를 입력하세요 >>> 0\n",
    "0 ~ 9 사이 정수를 입력하세요 >>> 0\n",
    "0 ~ 9 사이 정수를 입력하세요 >>> 0\n",
    "0 ~ 9 사이 정수를 입력하세요 >>> 1\n",
    "0 ~ 9 사이 정수를 입력하세요 >>> 2\n",
    "0 ~ 9 사이 정수를 입력하세요 >>> 5\n",
    "0 ~ 9 사이 정수를 입력하세요 >>> 3\n",
    "모두 입력되었습니다.\n",
    "입력된 값은 {0, 1, 2, 3, 5}입니다."
   ],
   "metadata": {
    "collapsed": false
   },
   "id": "ee89c5803f751abc"
  },
  {
   "cell_type": "code",
   "outputs": [
    {
     "name": "stdout",
     "output_type": "stream",
     "text": [
      "1번째 Hello\n",
      "2번째 Hello\n",
      "3번째 Hello\n",
      "4번째 Hello\n",
      "5번째 Hello\n",
      "6번째 Hello\n"
     ]
    }
   ],
   "source": [
    "# 문제 1\n",
    "inputUser = int(input('정수를 입력하세요 >>> '))\n",
    "\n",
    "if inputUser <= 0:\n",
    "    print('잘못된 입력입니다.')\n",
    "else:\n",
    "    n = 1\n",
    "    while n <= inputUser:\n",
    "        print(f'{n}번째 Hello')\n",
    "        n += 1\n",
    "        # inputUser -= 1\n"
   ],
   "metadata": {
    "collapsed": false,
    "ExecuteTime": {
     "end_time": "2024-02-27T01:34:31.289168500Z",
     "start_time": "2024-02-27T01:34:30.052553800Z"
    }
   },
   "id": "2fbe825b238ac26d",
   "execution_count": 32
  },
  {
   "cell_type": "code",
   "outputs": [
    {
     "name": "stdout",
     "output_type": "stream",
     "text": [
      "1400\n",
      "200\n",
      "커피1잔, 잔돈 1100원\n",
      "커피2잔, 잔돈 800원\n",
      "커피3잔, 잔돈 500원\n",
      "커피4잔, 잔돈 200원\n",
      "커피1잔, 잔동 1100원\n",
      "커피2잔, 잔동 800원\n",
      "커피3잔, 잔동 500원\n",
      "커피4잔, 잔동 200원\n"
     ]
    }
   ],
   "source": [
    "# 문제 3\n",
    "inputUser2 = int(input('자판기에 얼마를 넣을까요? >>> '))\n",
    "print(inputUser2)\n",
    "n = 0\n",
    "coffee_price = 300\n",
    "count = inputUser2 // 300  # 4   # 테스트 코드\n",
    "result = inputUser2 % 300  # 200 # 테스트 코드\n",
    "print(result)  # 테스트 코드\n",
    "\n",
    "while count > 0:\n",
    "    n += 1\n",
    "    count -= 1\n",
    "    print(f'커피{n}잔, 잔돈 {inputUser2 - coffee_price * n}원')\n",
    "\n",
    "    ###############\n",
    "# case 2\n",
    "money = int(input('자판기에 얼마를 넣을까요? >>> '))\n",
    "coffee = 0\n",
    "price = 300\n",
    "while money >= price:\n",
    "    coffee += 1\n",
    "    money -= price\n",
    "    print(f'커피{coffee}잔, 잔동 {money}원')"
   ],
   "metadata": {
    "collapsed": false,
    "ExecuteTime": {
     "end_time": "2024-02-27T01:39:02.921727500Z",
     "start_time": "2024-02-27T01:39:00.884049400Z"
    }
   },
   "id": "bdaa407fd8fe4c2",
   "execution_count": 35
  },
  {
   "cell_type": "code",
   "outputs": [
    {
     "name": "stdout",
     "output_type": "stream",
     "text": [
      "모두 입력되었습니다.\n",
      "입력된 값은 {2, 3, 5, 6, 10}\n"
     ]
    }
   ],
   "source": [
    "# 문제 4\n",
    "numbers = set()\n",
    "while len(numbers) < 5:  # numbers에 저장된 요소의 개수\n",
    "    n = int(input('0 ~ 9 사이 정수를 입력하세요 >>> '))\n",
    "    numbers.add(n)  # n이 중복된 값은 등록이 안됨\n",
    "print('모두 입력되었습니다.')\n",
    "print(f'입력된 값은 {numbers}')"
   ],
   "metadata": {
    "collapsed": false,
    "ExecuteTime": {
     "end_time": "2024-02-27T01:40:17.366036700Z",
     "start_time": "2024-02-27T01:40:13.326419400Z"
    }
   },
   "id": "57127a2ed4ca44c5",
   "execution_count": 36
  }
 ],
 "metadata": {
  "kernelspec": {
   "display_name": "Python 3",
   "language": "python",
   "name": "python3"
  },
  "language_info": {
   "codemirror_mode": {
    "name": "ipython",
    "version": 2
   },
   "file_extension": ".py",
   "mimetype": "text/x-python",
   "name": "python",
   "nbconvert_exporter": "python",
   "pygments_lexer": "ipython2",
   "version": "2.7.6"
  }
 },
 "nbformat": 4,
 "nbformat_minor": 5
}
