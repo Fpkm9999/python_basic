{
 "cells": [
  {
   "cell_type": "code",
   "execution_count": 10,
   "id": "initial_id",
   "metadata": {
    "collapsed": true,
    "ExecuteTime": {
     "end_time": "2024-02-27T05:59:14.996674900Z",
     "start_time": "2024-02-27T05:59:14.987674700Z"
    }
   },
   "outputs": [
    {
     "name": "stdout",
     "output_type": "stream",
     "text": [
      "True\n",
      "True\n",
      "False\n",
      "False\n",
      "False\n",
      "False\n",
      "True\n",
      "False\n",
      "True\n"
     ]
    }
   ],
   "source": [
    "# 불 자료형의 참과 거짓\n",
    "print(bool(True))\n",
    "print(bool(' '))\n",
    "print(bool(''))\n",
    "print(bool([]))\n",
    "print(bool({}))\n",
    "print(bool(()))\n",
    "print(bool([1,2,3]))\n",
    "print(bool(0))\n",
    "print(bool(3))\n",
    "\n"
   ]
  },
  {
   "cell_type": "code",
   "outputs": [
    {
     "name": "stdout",
     "output_type": "stream",
     "text": [
      "1811952502288\n",
      "1811952502288\n",
      "1811952502288\n",
      "a and b are the same object\n"
     ]
    }
   ],
   "source": [
    "a = 42\n",
    "b = a\n",
    "c = 42\n",
    "\n",
    "print(id(a))  # a의 id 출력\n",
    "print(id(b))  # b의 id 출력, a와 같음\n",
    "print(id(c))  # c의 id 출력, Python은 작은 정수에 대해 같은 객체를 재사용할 수 있으므로 a, b와 같을 수 있음\n",
    "\n",
    "if a is b:\n",
    "    print(\"a and b are the same object\")\n",
    "\n",
    "if a is not c:\n",
    "    print(\"a and c are different objects\")  # 이 코드는 일반적으로 실행되지 않음, a와 c는 같은 값을 가지며, 작은 정수의 재사용으로 인해 같은 객체일 수 있음\n"
   ],
   "metadata": {
    "collapsed": false,
    "ExecuteTime": {
     "end_time": "2024-02-27T06:02:58.764653800Z",
     "start_time": "2024-02-27T06:02:58.730657100Z"
    }
   },
   "id": "4fb1dd407963b375",
   "execution_count": 11
  }
 ],
 "metadata": {
  "kernelspec": {
   "display_name": "Python 3",
   "language": "python",
   "name": "python3"
  },
  "language_info": {
   "codemirror_mode": {
    "name": "ipython",
    "version": 2
   },
   "file_extension": ".py",
   "mimetype": "text/x-python",
   "name": "python",
   "nbconvert_exporter": "python",
   "pygments_lexer": "ipython2",
   "version": "2.7.6"
  }
 },
 "nbformat": 4,
 "nbformat_minor": 5
}
