{
 "cells": [
  {
   "cell_type": "markdown",
   "source": [
    "# 튜플 (tuple)\n",
    "저장된 값을 변경할 수 없는 리스트\n",
    "리스트와 마찬가지로 각 요소를 구분하기 위한 인덱스가 부여되고 슬라이싱도 지원\n",
    "이미 저장된 값 이외에는 추가, 수정, 삭제가 불가능\n",
    "\n",
    "튜플은 소괄호(()) 나 tuple() 함수를 이용해서 생성\n",
    "값들을 콤마(,) 로 분리하여 전달하면 자동으로 튜플이 생성"
   ],
   "metadata": {
    "collapsed": false
   },
   "id": "2d13e42f5f6b5b9"
  },
  {
   "cell_type": "code",
   "execution_count": 1,
   "id": "initial_id",
   "metadata": {
    "collapsed": true,
    "ExecuteTime": {
     "end_time": "2024-02-26T15:44:00.198357500Z",
     "start_time": "2024-02-26T15:44:00.191357500Z"
    }
   },
   "outputs": [
    {
     "name": "stdout",
     "output_type": "stream",
     "text": [
      "(1, 2, 3)\n",
      "(1, 2, 3)\n"
     ]
    }
   ],
   "source": [
    "# 튜플 자료형의 예시\n",
    "t1 = (1, 2, 3)\n",
    "print(t1)  # (1,2,3)\n",
    "\n",
    "# 괄호 없이 사용 가능\n",
    "t2 = 1, 2, 3\n",
    "print(t2)  # (1,2,3)"
   ]
  },
  {
   "cell_type": "code",
   "outputs": [
    {
     "name": "stdout",
     "output_type": "stream",
     "text": [
      "(1, 2)\n"
     ]
    }
   ],
   "source": [
    "# 튜플은 자료형을 만들기보다는 함수 만들 때 사용함.\n",
    "\n",
    "### 함수의 값 반환\n",
    "def sample():\n",
    "    return 1, 2\n",
    "\n",
    "print(sample())  # (1, 2)\n",
    "# 파이썬은 반환값이 2개이상이 가능하다. => 실제로는 괄호로 감싸서 자동으로 튜플로 반환하기 때문에 가능한거임.\n",
    "# 자바, 자바스크립트, C 등은 하나의 리턴값만 존재한다."
   ],
   "metadata": {
    "collapsed": false,
    "ExecuteTime": {
     "end_time": "2024-02-26T15:44:24.884718200Z",
     "start_time": "2024-02-26T15:44:24.858162600Z"
    }
   },
   "id": "6329bd8e595b80a5",
   "execution_count": 3
  },
  {
   "cell_type": "code",
   "outputs": [
    {
     "name": "stdout",
     "output_type": "stream",
     "text": [
      "[100, 3.14, 'hello']\n",
      "(100, 3.14, 'hello')\n"
     ]
    }
   ],
   "source": [
    "list1 = [100, 3.14, 'hello']\n",
    "print(list1)\n",
    "\n",
    "# 리스트를 튜플로 변경\n",
    "t3 = tuple([100, 3.14, 'hello'])\n",
    "print(t3) # (100, 3.14, 'hello')"
   ],
   "metadata": {
    "collapsed": false,
    "ExecuteTime": {
     "end_time": "2024-02-26T15:44:57.090015Z",
     "start_time": "2024-02-26T15:44:57.047070Z"
    }
   },
   "id": "21076736d8410af9",
   "execution_count": 5
  },
  {
   "cell_type": "code",
   "outputs": [
    {
     "name": "stdout",
     "output_type": "stream",
     "text": [
      "100\n",
      "<class 'int'>\n",
      "(100,)\n",
      "<class 'tuple'>\n"
     ]
    }
   ],
   "source": [
    "# 값을 1개만 보관하는 튜플을 생성할 경우에는 값과 콤마(,)를 반드시 함께 작성\n",
    "t4 = (100)\n",
    "print(t4) # 100  / 값으로 인식\n",
    "print(type(t4)) # <class 'int'>\n",
    "\n",
    "t5 = (100,)\n",
    "print(t5) # (100,) / 튜플로 인식\n",
    "print(type(t5))     # <class 'tuple'>"
   ],
   "metadata": {
    "collapsed": false,
    "ExecuteTime": {
     "end_time": "2024-02-26T15:45:10.291379100Z",
     "start_time": "2024-02-26T15:45:10.267825200Z"
    }
   },
   "id": "8cc3a3f6f75770d0",
   "execution_count": 6
  },
  {
   "cell_type": "code",
   "outputs": [
    {
     "name": "stdout",
     "output_type": "stream",
     "text": [
      "10 20\n",
      "20 10\n",
      "100\n",
      "홍길동\n"
     ]
    }
   ],
   "source": [
    "# 값을 swap 교환\n",
    "a = 10\n",
    "b = 20\n",
    "print(a, b) # 10 20\n",
    "# a, b = b, a # (a, b) = (b, a)\n",
    "(a, b) = (b, a) # (a, b) = (b, a) 이렇게 해도 동일하다.\n",
    "print(a, b) # 20 10\n",
    "# 파이썬은 튜플을 이용하면 값 swap도 간단하게 할 수 있다.\n",
    "\n",
    "a, b = 100, '홍길동' #이것도 튜플형태가 생략된 튜플임.\n",
    "print(a)\n",
    "print(b)"
   ],
   "metadata": {
    "collapsed": false,
    "ExecuteTime": {
     "end_time": "2024-02-26T15:45:27.840842600Z",
     "start_time": "2024-02-26T15:45:27.813783700Z"
    }
   },
   "id": "6960a7c7d9aa9d43",
   "execution_count": 7
  }
 ],
 "metadata": {
  "kernelspec": {
   "display_name": "Python 3",
   "language": "python",
   "name": "python3"
  },
  "language_info": {
   "codemirror_mode": {
    "name": "ipython",
    "version": 2
   },
   "file_extension": ".py",
   "mimetype": "text/x-python",
   "name": "python",
   "nbconvert_exporter": "python",
   "pygments_lexer": "ipython2",
   "version": "2.7.6"
  }
 },
 "nbformat": 4,
 "nbformat_minor": 5
}
