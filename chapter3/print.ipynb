{
 "cells": [
  {
   "cell_type": "markdown",
   "source": [
    "# print() 함수\n",
    "### end : value 출력 후 출력할 문자\n",
    "### end : 속성을 사용하지 않고 `print()` 함수를 사용하면 출력 후 자동으로 줄 바꿈이 진행됨\n",
    "### sep : 출력할 value의 구분자\n",
    "- sep 속성을 사용하지 않고 `print()` 함수를 사용하면 출력 대상은 공백으로 구분 \n",
    "### file : 출력 방향 지정\n",
    "- file 속성을 사용하지 않고 `print()` 함수를 사용하면 출력 대상은 모니터에 출력"
   ],
   "metadata": {
    "collapsed": false
   },
   "id": "d7e56251358039a9"
  },
  {
   "cell_type": "code",
   "outputs": [
    {
     "name": "stdout",
     "output_type": "stream",
     "text": [
      "재미있는 파이썬\n",
      "재미있는 파이썬\n",
      "Python:Java:C\n"
     ]
    }
   ],
   "source": [
    "print('재미있는','파이썬') # sep 값을 지정하지 않으면 공백이 들어감.\n",
    "print('재미있는','파이썬',sep=' ') # 재미있는 파이썬 / 콤마(,)로 구분된 출력 대상은 공백으로 구분\n",
    "print('Python','Java','C',sep=':') # Python:Java:C / sep 속성으로 구분"
   ],
   "metadata": {
    "collapsed": false,
    "ExecuteTime": {
     "end_time": "2024-02-26T02:27:21.295827400Z",
     "start_time": "2024-02-26T02:27:21.275637800Z"
    }
   },
   "id": "a55ee69ca2253b80",
   "execution_count": 2
  },
  {
   "cell_type": "code",
   "outputs": [
    {
     "name": "stdout",
     "output_type": "stream",
     "text": [
      "\n",
      "영화 타이타닌\n",
      "평점:5점\n"
     ]
    }
   ],
   "source": [
    "print()\n",
    "print('영화 타이타닌',end='\\n') # 지정하지 않았을 때. 기본값은 \\n\n",
    "print('평점',end=':') \n",
    "print('5점') # 평점:5점 / value 출력 후 end 속성 출력. 불 바꿈이 되지 않음"
   ],
   "metadata": {
    "collapsed": false,
    "ExecuteTime": {
     "end_time": "2024-02-26T02:31:36.827357300Z",
     "start_time": "2024-02-26T02:31:36.807395900Z"
    }
   },
   "id": "6b37345d5c3d6fb2",
   "execution_count": 5
  },
  {
   "cell_type": "code",
   "outputs": [],
   "source": [
    "# 파일 객체 만드는 법\n",
    "fos = open('sample.py',mode='wt')\n",
    "print('print(\"Hello World\")', file=fos) # file 속성으로 대상 출력. 파일 출력\n",
    "fos.close()"
   ],
   "metadata": {
    "collapsed": false,
    "ExecuteTime": {
     "end_time": "2024-02-26T02:35:08.174183100Z",
     "start_time": "2024-02-26T02:35:08.164373200Z"
    }
   },
   "id": "29d95ff169adfbe3",
   "execution_count": 7
  }
 ],
 "metadata": {
  "kernelspec": {
   "display_name": "Python 3",
   "language": "python",
   "name": "python3"
  },
  "language_info": {
   "codemirror_mode": {
    "name": "ipython",
    "version": 2
   },
   "file_extension": ".py",
   "mimetype": "text/x-python",
   "name": "python",
   "nbconvert_exporter": "python",
   "pygments_lexer": "ipython2",
   "version": "2.7.6"
  }
 },
 "nbformat": 4,
 "nbformat_minor": 5
}
