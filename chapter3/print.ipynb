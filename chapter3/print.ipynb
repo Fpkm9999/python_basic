{
 "cells": [
  {
   "cell_type": "markdown",
   "source": [
    "# print() 함수"
   ],
   "metadata": {
    "collapsed": false
   },
   "id": "bd74f9cd6b6c4f30"
  },
  {
   "cell_type": "code",
   "outputs": [
    {
     "name": "stdout",
     "output_type": "stream",
     "text": [
      "재미있는 파이썬\n",
      "재미있는 파이썬\n",
      "Python:Java:C\n"
     ]
    }
   ],
   "source": [
    "print('재미있는','파이썬') # sep 값을 지정하지 않으면 공백이 들어감.  # 출력 : 재미있는 파이썬\n",
    "print('재미있는','파이썬',sep=' ') # 재미있는 파이썬 / 콤마(,)로 구분된 출력 대상은 공백으로 구분  # 출력 : 재미있는 파이썬\n",
    "print('Python','Java','C',sep=':') # Python:Java:C / sep 속성으로 구분    # 출력 : Python:Java:C"
   ],
   "metadata": {
    "collapsed": false,
    "ExecuteTime": {
     "end_time": "2024-02-29T15:03:14.834366Z",
     "start_time": "2024-02-29T15:03:14.817684Z"
    }
   },
   "id": "a55ee69ca2253b80",
   "execution_count": 1
  },
  {
   "cell_type": "code",
   "outputs": [
    {
     "name": "stdout",
     "output_type": "stream",
     "text": [
      "영화 타이타닉\n",
      "평점:5점\n"
     ]
    }
   ],
   "source": [
    "print('영화 타이타닉',end='\\n') # 지정하지 않았을 때. 기본값은 \\n # 출력 : 영화 타이타닉\n",
    "print('평점',end=':') # 출력 평점: 줄바꿈X\n",
    "print('5점') # 평점:5점 / value 출력 후 end 속성 출력. 불 바꿈이 되지 않음"
   ],
   "metadata": {
    "collapsed": false,
    "ExecuteTime": {
     "end_time": "2024-02-29T15:05:12.355478Z",
     "start_time": "2024-02-29T15:05:12.347477Z"
    }
   },
   "id": "6b37345d5c3d6fb2",
   "execution_count": 3
  },
  {
   "cell_type": "code",
   "outputs": [],
   "source": [
    "# 파일 객체 만드는 법\n",
    "fos = open('sample.py',mode='wt')\n",
    "print('print(\"Hello World\")', file=fos) # file 속성으로 대상 출력. 파일 출력\n",
    "fos.close()"
   ],
   "metadata": {
    "collapsed": false,
    "ExecuteTime": {
     "end_time": "2024-02-29T15:06:29.538176Z",
     "start_time": "2024-02-29T15:06:29.521035Z"
    }
   },
   "id": "29d95ff169adfbe3",
   "execution_count": 4
  }
 ],
 "metadata": {
  "kernelspec": {
   "display_name": "Python 3",
   "language": "python",
   "name": "python3"
  },
  "language_info": {
   "codemirror_mode": {
    "name": "ipython",
    "version": 2
   },
   "file_extension": ".py",
   "mimetype": "text/x-python",
   "name": "python",
   "nbconvert_exporter": "python",
   "pygments_lexer": "ipython2",
   "version": "2.7.6"
  }
 },
 "nbformat": 4,
 "nbformat_minor": 5
}
