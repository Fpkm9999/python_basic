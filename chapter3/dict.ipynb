{
 "cells": [
  {
   "cell_type": "markdown",
   "source": [],
   "metadata": {
    "collapsed": false
   },
   "id": "dbb2a6f93e13a1dd"
  },
  {
   "cell_type": "markdown",
   "source": [
    "# 딕셔너리(dict) : 자바의 맵과 유사.\n",
    "사전처럼 어떤 단어와 그 단어의 의미로 구성\n",
    "- '키(Key)' 와 '값(value)' 을 '단어'와 '단어의 의미' 처럼 사용\n",
    "- 딕셔너리는 인덱스가 존재하지 않는 대신 키를 인덱스처럼 사용함\n",
    "- 키 값을 알면 저장된 값을 확인할 수 있는 구조\n",
    "\n",
    "## 특징\n",
    "- 키(key)와 값(value)의 쌍으로 이루어진 컬렉션\n",
    "- 딕셔너리는 변경 가능(mutable)하며, 순서가 정의되지 않은 매핑을 저장하는데 사용됨\n",
    "- Python 3.7 이상에서는 딕셔너리가 삽입 순서를 유지합니다. \n",
    "- 딕셔너리는 중괄호 {}를 사용하여 생성하며, 각 요소는 `키: 값`의 형태로 표현됨"
   ],
   "metadata": {
    "collapsed": false
   },
   "id": "232eac9376c1177d"
  },
  {
   "cell_type": "markdown",
   "source": [
    "## 1. 딕셔너리 생성 및 접근\n",
    "- 키값을 사용해 value에 접근이 가능함"
   ],
   "metadata": {
    "collapsed": false
   },
   "id": "e8aba416371adf4"
  },
  {
   "cell_type": "code",
   "outputs": [
    {
     "name": "stdout",
     "output_type": "stream",
     "text": [
      "{'a': 'apple', 'b': 'banana'}\n",
      "<class 'dict'>\n",
      "apple\n",
      "banana\n"
     ]
    }
   ],
   "source": [
    "d = {'a':'apple','b':'banana'} # dict 생성 , 키-값 형태\n",
    "print(d)    # {'a': 'apple', 'b': 'banana'}\n",
    "print(type(d)) # <class 'dict'>\n",
    "print(d['a']) # apple / 인덱스 대신 Key를 사용하면 value가 반환\n",
    "print(d['b']) # banana"
   ],
   "metadata": {
    "collapsed": false,
    "ExecuteTime": {
     "end_time": "2024-02-26T01:30:24.317701400Z",
     "start_time": "2024-02-26T01:30:24.305246900Z"
    }
   },
   "id": "49834fe58444e202",
   "execution_count": 1
  },
  {
   "cell_type": "markdown",
   "source": [],
   "metadata": {
    "collapsed": false
   },
   "id": "9acfd86235a80377"
  },
  {
   "cell_type": "code",
   "outputs": [
    {
     "name": "stdout",
     "output_type": "stream",
     "text": [
      "{'a': 'apple', 'b': 'banana'}\n"
     ]
    }
   ],
   "source": [
    "# 키 값의 자료형이 문자열(str) 이라면 dict() 함수를 이용해서 생성 가능\n",
    "d = dict(a='apple',b='banana')\n",
    "print(d) # {'a': 'apple', 'b': 'banana'}"
   ],
   "metadata": {
    "collapsed": false,
    "ExecuteTime": {
     "end_time": "2024-02-26T01:38:42.042181900Z",
     "start_time": "2024-02-26T01:38:42.023354700Z"
    }
   },
   "id": "25e2f746f3111dd7",
   "execution_count": 2
  },
  {
   "cell_type": "markdown",
   "source": [
    "## 2. 새로운 키-값 쌍 추가 및 수정\n",
    "- 키를 이용해 값을 수정할 수 있습니다."
   ],
   "metadata": {
    "collapsed": false
   },
   "id": "970a2819c08834c5"
  },
  {
   "cell_type": "code",
   "outputs": [
    {
     "name": "stdout",
     "output_type": "stream",
     "text": [
      "\n",
      "{'apple': '사과', 'watermelon': '멜론'}\n",
      "{'apple': '사과', 'watermelon': '수박'}\n"
     ]
    }
   ],
   "source": [
    "# 딕셔너리 요소의 추가와 삭제\n",
    "# 새로운 키와 값을 조합해서 작성\n",
    "print()\n",
    "dic = {'apple' : '사과'}\n",
    "dic['watermelon']='멜론'\n",
    "print(dic) # {'apple': '사과', 'watermelon': '멜론'}\n",
    "# 키는 중복을 허용하지 않기 때문에 저런식으로 해당 키가 존재하지 않다면 추가가 가능하다.\n",
    "\n",
    "# 존재하는 키 값을 이용해서 정의하면, value 수정으로 인식\n",
    "dic['watermelon'] ='수박'\n",
    "print(dic) # {'apple': '사과', 'watermelon': '수박'}\n",
    "# 같은 명령어 이지만 값이 추가될 수도 있고 값이 수정될 수도 있다."
   ],
   "metadata": {
    "collapsed": false,
    "ExecuteTime": {
     "end_time": "2024-02-26T01:43:40.380202800Z",
     "start_time": "2024-02-26T01:43:40.356117600Z"
    }
   },
   "id": "3c869d0b4f97aded",
   "execution_count": 4
  },
  {
   "cell_type": "code",
   "outputs": [
    {
     "name": "stdout",
     "output_type": "stream",
     "text": [
      "{'name': 'james', 'age': 20}\n",
      "{'name': 'james', 'age': 20}\n"
     ]
    }
   ],
   "source": [
    "# setdefault() 메소드를 이용한 추가\n",
    "me = {'name':'james'}\n",
    "me.setdefault('age',20)\n",
    "print(me) # {'name': 'james', 'age': 20}\n",
    "me.setdefault('age',30) # 동일한 키가 있는 경우 무시됨\n",
    "print(me) # {'name': 'james', 'age': 20}"
   ],
   "metadata": {
    "collapsed": false,
    "ExecuteTime": {
     "end_time": "2024-02-26T01:47:23.267564600Z",
     "start_time": "2024-02-26T01:47:23.245138200Z"
    }
   },
   "id": "22b1071613719a16",
   "execution_count": 9
  },
  {
   "cell_type": "code",
   "outputs": [
    {
     "name": "stdout",
     "output_type": "stream",
     "text": [
      "{'name': 'james', 'age': 20}\n",
      "{'name': 'james', 'age': 20}\n",
      "{'name': 'james', 'age': 25}\n",
      "{'name': 'james', 'age': 25, 'address': 'seoul'}\n",
      "{'name': 'james', 'age': 25}\n",
      "james\n",
      "james\n"
     ]
    }
   ],
   "source": [
    "me = {'name':'james'}\n",
    "me.setdefault('age',20)\n",
    "print(me) # {'name': 'james', 'age': 20}\n",
    "me.setdefault('age',30) # 동일한 키가 있는 경우 무시됨\n",
    "print(me) # {'name': 'james', 'age': 20}\n",
    "\n",
    "# update() 메소드의 경우 존재하는 키값이면 수정\n",
    "me.update(age=25)\n",
    "print(me) # {'name': 'james', 'age': 25}\n",
    "\n",
    "# update() 메소드의 경우 존재하지 않는 키값이면 추가\n",
    "me.update(address='seoul')\n",
    "print(me) # {'name': 'james', 'age': 25, 'address': 'seoul'}\n",
    "\n",
    "# pop() 메소드에 키값을 전달하면 해당 키값의 데이터가 삭제\n",
    "me.pop('address')\n",
    "print(me)  # {'name': 'james', 'age': 25}\n",
    "\n",
    "# get() 메서드에 전달한 key에 해당하는 value 를 반환\n",
    "print(me.get('name')) # james"
   ],
   "metadata": {
    "collapsed": false,
    "ExecuteTime": {
     "end_time": "2024-02-26T02:06:49.059660800Z",
     "start_time": "2024-02-26T02:06:49.019668100Z"
    }
   },
   "id": "8b2be0d69d938d3e",
   "execution_count": 19
  },
  {
   "cell_type": "markdown",
   "source": [
    "# mutable 과 immutable\n",
    "### mutable : 생성된 후에도 변경이 가능한 자료형 : list, set, dict\n",
    "### immutable : 생성된 후에는 변경이 불가능한 자료형 : int, float, str, tuple"
   ],
   "metadata": {
    "collapsed": false
   },
   "id": "45a0cd06389235ca"
  },
  {
   "cell_type": "code",
   "outputs": [
    {
     "name": "stdout",
     "output_type": "stream",
     "text": [
      "1809355448384\n",
      "1809355448384\n"
     ]
    }
   ],
   "source": [
    "# mutable\n",
    "# 할당받는 메모리에 저장된 값을 다른 값으로 바꿀 수 잇음\n",
    "# id() : 객체의 고유값 반환. 메모리 주소를 구별하기 위한 용도로 사용\n",
    "me = [1,2,3]\n",
    "print(id(me)) # 1809355448384\n",
    "me.append(4)\n",
    "print(id(me)) # 1809355448384"
   ],
   "metadata": {
    "collapsed": false,
    "ExecuteTime": {
     "end_time": "2024-02-26T02:12:40.185004400Z",
     "start_time": "2024-02-26T02:12:40.166292600Z"
    }
   },
   "id": "7d671ec90bff5486",
   "execution_count": 25
  },
  {
   "cell_type": "code",
   "outputs": [
    {
     "name": "stdout",
     "output_type": "stream",
     "text": [
      "<class 'int'>\n",
      "1809278108176\n",
      "11\n",
      "1809278108208\n"
     ]
    }
   ],
   "source": [
    "# immutable\n",
    "# 한 번 생성하면 최초로 저장된 값을 다른 값으로 바꿀 수 없슴\n",
    "obj = 10\n",
    "print(type(obj)) # <class 'int'>\n",
    "print(id(obj)) # 1809278108176\n",
    "obj = obj + 1\n",
    "print(obj) # 11\n",
    "print(id(obj)) # 1809278108208 / 할당된 메모리 주소가 변경이 됨\n",
    "# 메모리에 저장된 데이터를 수정하는 것이 아니라, 새로 할당을 받아서 데이터를 저장함.\n",
    "\n",
    "# 용어 정도만 잘 알아두자."
   ],
   "metadata": {
    "collapsed": false,
    "ExecuteTime": {
     "end_time": "2024-02-26T02:14:48.482517500Z",
     "start_time": "2024-02-26T02:14:48.451847600Z"
    }
   },
   "id": "b1c77ebb8b82f299",
   "execution_count": 29
  }
 ],
 "metadata": {
  "kernelspec": {
   "display_name": "Python 3",
   "language": "python",
   "name": "python3"
  },
  "language_info": {
   "codemirror_mode": {
    "name": "ipython",
    "version": 2
   },
   "file_extension": ".py",
   "mimetype": "text/x-python",
   "name": "python",
   "nbconvert_exporter": "python",
   "pygments_lexer": "ipython2",
   "version": "2.7.6"
  }
 },
 "nbformat": 4,
 "nbformat_minor": 5
}
