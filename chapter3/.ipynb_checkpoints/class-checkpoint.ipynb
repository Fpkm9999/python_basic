{
 "cells": [
  {
   "cell_type": "code",
   "outputs": [
    {
     "name": "stdout",
     "output_type": "stream",
     "text": [
      "<__main__.WaffleMachine object at 0x000001F970A7DE70>\n",
      "<__main__.WaffleMachine object at 0x000001F970A7E920>\n"
     ]
    }
   ],
   "source": [
    "class WaffleMachine:  #WaffleMachine 이라는 클래스 정의\n",
    "    pass  # 클래스를 정의할떄 pass을 사용함. 정의만 해두고 추후 기능을 정의\n",
    "\n",
    "\n",
    "waffle1 = WaffleMachine()  # WaffleMachine 이라는 클래스를 이용해 waffle 이라는 객체 생성\n",
    "waffle2 = WaffleMachine()\n",
    "\n",
    "print(waffle1)  # 출력 : <__main__.WaffleMachine object at 0x000001F970A95AE0>\n",
    "# 메모리의 0x000001F970A95AE0 번지에 저장된 WaffleMachine 의 객체라는 의미\n",
    "print(waffle2)  # 출력 : <__main__.WaffleMachine object at 0x000001F970A7E920>"
   ],
   "metadata": {
    "collapsed": false,
    "ExecuteTime": {
     "end_time": "2024-02-29T00:13:22.658377Z",
     "start_time": "2024-02-29T00:13:22.637313Z"
    }
   },
   "id": "4618ee1f9580fa0e",
   "execution_count": 2
  },
  {
   "cell_type": "code",
   "outputs": [
    {
     "name": "stdout",
     "output_type": "stream",
     "text": [
      "john\n",
      "15\n",
      "123-1234\n",
      "toronto\n",
      "test@test.com\n"
     ]
    }
   ],
   "source": [
    "class Person:  # Person 클래스를 정의\n",
    "\n",
    "    # 첫 번째 매개변수가 self 이므로 인스턴스 메소드\n",
    "    # 모든 인스턴스는 who_am_i() 메소드를 호출할 수 있음\n",
    "    # 매개변수 self 에는 메서드를 호출하는 인스턴스가 전달\n",
    "    # self를 제외한 나머지 매개변수에 실제로 사용될 데이터가 전달\n",
    "    def who_am_i(self, name, age, tel, address):  # 인스턴스 메소드를 선언하려면 self가 있어야하고 가장 첫번째 매개변수여야함\n",
    "        # 인스턴스 변수 = 매개변수. 모든 인스턴스 변수는 최초에 값이 대입되는 시점에 알아서 생성.\n",
    "        self.name = name  # 인스턴스 변수는 인스턴스 메소드에서 사용할 수 있다.\n",
    "        self.age = age  # self는 여기서 this처럼 사용하면된다.\n",
    "        self.tel = tel\n",
    "        self.address = address  # 인스턴스변수라고 구분짓기 위해 self가 붙음\n",
    "\n",
    "\n",
    "boy = Person()  # 인스턴스 boy가 생성. 클래스의 생성자가 호출\n",
    "# print(boy.name)  # 'Person' object has no attribute 'name' # 인스턴스 메소드를 호출하기 전까지는 인스턴스 변수가 없음\n",
    "# who_am_i 를 호출하기 전까지는 인스턴스 변수가 없음. 현시점에선 인스턴스 변수가 없어서 에러가 뜸\n",
    "\n",
    "boy.who_am_i('john', 15, '123-1234', 'toronto')  # 인스턴스 메소드 호출\n",
    "print(boy.name)  # 출력 : john\n",
    "print(boy.age)  # 출력 : 15\n",
    "print(boy.tel)  # 출력 : 123-1234\n",
    "print(boy.address)  # 출력 : toronto\n",
    "\n",
    "# 없는 인스턴스 변수를 호출하면\n",
    "# print(boy.email)    # AttributeError: 'Person' object has no attribute 'email'\n",
    "\n",
    "# 클래스에 없는 속성도 추가가 가능함. 다른 언어의 객체와는 다른 방식. e.g) 자바스크립트와 유사함\n",
    "boy.email = \"test@test.com\"\n",
    "print(boy.email)  # 출력 : test@test.com\n",
    "\n"
   ],
   "metadata": {
    "collapsed": false,
    "ExecuteTime": {
     "end_time": "2024-02-29T00:35:20.363253Z",
     "start_time": "2024-02-29T00:35:20.345617Z"
    }
   },
   "id": "1fbfacd966948a84",
   "execution_count": 9
  }
 ],
 "metadata": {
  "kernelspec": {
   "display_name": "Python 3",
   "language": "python",
   "name": "python3"
  },
  "language_info": {
   "codemirror_mode": {
    "name": "ipython",
    "version": 2
   },
   "file_extension": ".py",
   "mimetype": "text/x-python",
   "name": "python",
   "nbconvert_exporter": "python",
   "pygments_lexer": "ipython2",
   "version": "2.7.6"
  }
 },
 "nbformat": 4,
 "nbformat_minor": 5
}
