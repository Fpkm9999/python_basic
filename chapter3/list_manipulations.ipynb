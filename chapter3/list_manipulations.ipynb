{
 "cells": [
  {
   "cell_type": "code",
   "execution_count": 1,
   "id": "initial_id",
   "metadata": {
    "collapsed": true,
    "ExecuteTime": {
     "end_time": "2024-02-26T15:32:18.282255500Z",
     "start_time": "2024-02-26T15:32:18.270751600Z"
    }
   },
   "outputs": [
    {
     "name": "stdout",
     "output_type": "stream",
     "text": [
      "[1, 2]\n",
      "[0, 1, 4, 9, 16, 25, 36, 49, 64, 81]\n"
     ]
    }
   ],
   "source": [
    "# 리스트 슬라이딩\n",
    "numbers = [0, 1, 2, 3, 4, 5]\n",
    "sub_numbers = numbers[1:3]\n",
    "print(sub_numbers)  # [1, 2]\n",
    "\n",
    "squares = [x ** 2 for x in range(10)]  # 거듭 제곱\n",
    "print(squares)  # [0, 1, 4, 9, 16, 25, 36, 49, 64, 81]"
   ]
  },
  {
   "cell_type": "code",
   "outputs": [
    {
     "name": "stdout",
     "output_type": "stream",
     "text": [
      "[1, 2, 3, 4, 5, 6]\n",
      "[1, 2, 3, 1, 2, 3, 1, 2, 3]\n"
     ]
    }
   ],
   "source": [
    "# 3. 리스트 연결\n",
    "# 리스트 연결(Concatenation)과 반복(Repetition)\n",
    "# : `+` 연산자로 리스트를 연결하거나 `*` 연산자로 리스트를 반복할 수 있습니다.\n",
    "list1 = [1, 2, 3]\n",
    "list2 = [4, 5, 6]\n",
    "\n",
    "combined_list = list1 + list2\n",
    "print(combined_list)  # [1, 2, 3, 4, 5, 6]\n",
    "\n",
    "# 4.리스트 반복\n",
    "repeated_list = list1 * 3\n",
    "print(repeated_list)  # [1, 2, 3, 1, 2, 3, 1, 2, 3] # list1 요소를 3번 반복.\n"
   ],
   "metadata": {
    "collapsed": false,
    "ExecuteTime": {
     "end_time": "2024-02-26T15:33:22.140459900Z",
     "start_time": "2024-02-26T15:33:22.134460700Z"
    }
   },
   "id": "d4bdc3692587d29d",
   "execution_count": 3
  },
  {
   "cell_type": "code",
   "outputs": [
    {
     "name": "stdout",
     "output_type": "stream",
     "text": [
      "[1, 2, 3, 4, 5]\n"
     ]
    }
   ],
   "source": [
    "# 5. 리스트 정렬(Sorting)\n",
    "# `sort()` 메소드로 리스트를 정렬합니다.\n",
    "# `sorted()` 함수를 사용해도 되지만, 이는 새로운 리스트를 생성한다.\n",
    "\n",
    "random_numbers = [5, 1, 4, 3, 2]\n",
    "random_numbers.sort()  # 리스트 정렬\n",
    "print(random_numbers)  # [1, 2, 3, 4, 5]"
   ],
   "metadata": {
    "collapsed": false,
    "ExecuteTime": {
     "end_time": "2024-02-26T15:33:44.091448Z",
     "start_time": "2024-02-26T15:33:44.085929400Z"
    }
   },
   "id": "c5656468ba82a90f",
   "execution_count": 4
  },
  {
   "cell_type": "code",
   "outputs": [
    {
     "name": "stdout",
     "output_type": "stream",
     "text": [
      "[5, 4, 3, 2, 1]\n",
      "[5, 4, 3, 2, 1]\n"
     ]
    }
   ],
   "source": [
    "# 리스트 역정렬\n",
    "numbers = [1, 2, 3, 4, 5]\n",
    "numbers.reverse()\n",
    "print(numbers)  # [5, 4, 3, 2, 1]\n",
    "# 슬라이싱을 이용한 또 다른 방법\n",
    "numbers = [1, 2, 3, 4, 5]\n",
    "print(numbers[::-1])  # [5, 4, 3, 2, 1]"
   ],
   "metadata": {
    "collapsed": false,
    "ExecuteTime": {
     "end_time": "2024-02-26T15:33:57.068596700Z",
     "start_time": "2024-02-26T15:33:57.060589200Z"
    }
   },
   "id": "a3beb63b66ecc500",
   "execution_count": 5
  },
  {
   "cell_type": "code",
   "outputs": [
    {
     "name": "stdout",
     "output_type": "stream",
     "text": [
      "1\n",
      "3\n"
     ]
    }
   ],
   "source": [
    "# 리스트 요소 검색\n",
    "animals = ['dog', 'cat', 'bird', 'fish']\n",
    "index_of_cat = animals.index('cat')\n",
    "print(index_of_cat)  # 1\n",
    "\n",
    "letters = ['a', 'b', 'c', 'a', 'b', 'a']\n",
    "count_of_a = letters.count('a')\n",
    "print(count_of_a)\n"
   ],
   "metadata": {
    "collapsed": false,
    "ExecuteTime": {
     "end_time": "2024-02-26T15:34:18.284697400Z",
     "start_time": "2024-02-26T15:34:18.257142100Z"
    }
   },
   "id": "b6d4772b91a85388",
   "execution_count": 6
  }
 ],
 "metadata": {
  "kernelspec": {
   "display_name": "Python 3",
   "language": "python",
   "name": "python3"
  },
  "language_info": {
   "codemirror_mode": {
    "name": "ipython",
    "version": 2
   },
   "file_extension": ".py",
   "mimetype": "text/x-python",
   "name": "python",
   "nbconvert_exporter": "python",
   "pygments_lexer": "ipython2",
   "version": "2.7.6"
  }
 },
 "nbformat": 4,
 "nbformat_minor": 5
}
