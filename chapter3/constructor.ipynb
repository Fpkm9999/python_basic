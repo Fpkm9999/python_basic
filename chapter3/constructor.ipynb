{
 "cells": [
  {
   "cell_type": "code",
   "execution_count": null,
   "id": "initial_id",
   "metadata": {
    "collapsed": true
   },
   "outputs": [],
   "source": [
    "from chapter3 import sample_class\n",
    "\n",
    "\n",
    "# 생성자와 소멸자\n",
    "# 1. 생성자\n",
    "class Candy:\n",
    "    def set_info(self, shape, color):\n",
    "        self.shape = shape\n",
    "        self.color = color\n",
    "\n",
    "\n",
    "satang = Candy()\n",
    "satang.set_info('원''빨강')"
   ]
  },
  {
   "cell_type": "code",
   "outputs": [
    {
     "name": "stdout",
     "output_type": "stream",
     "text": [
      "실행이 될까?\n",
      "brown\n",
      "<__main__.Candy object at 0x000002CDBC03DE70>\n"
     ]
    }
   ],
   "source": [
    "class Candy:\n",
    "    def __init__(self, shape, color):\n",
    "        print('실행이 될까?')\n",
    "        self.shape = shape\n",
    "        self.color = color\n",
    "\n",
    "\n",
    "satang = Candy('circle', 'brown')\n",
    "print(satang.color)\n",
    "print(satang)"
   ],
   "metadata": {
    "collapsed": false,
    "ExecuteTime": {
     "end_time": "2024-02-29T02:35:18.054203Z",
     "start_time": "2024-02-29T02:35:18.048202Z"
    }
   },
   "id": "495e4a6f0df3875",
   "execution_count": 2
  },
  {
   "cell_type": "code",
   "outputs": [
    {
     "name": "stdout",
     "output_type": "stream",
     "text": [
      "인스턴스가 소멸됩니다.\n"
     ]
    }
   ],
   "source": [
    "# 2. 소멸자\n",
    "class Sample:\n",
    "    def __del__(self):\n",
    "        print('인스턴스가 소멸됩니다.')\n",
    "\n",
    "\n",
    "sample = Sample()\n",
    "\n",
    "# del sample  # 출력 : 인스턴스가 소멸됩니다.\n"
   ],
   "metadata": {
    "collapsed": false,
    "ExecuteTime": {
     "end_time": "2024-02-29T02:41:54.480668Z",
     "start_time": "2024-02-29T02:41:54.457653Z"
    }
   },
   "id": "4c6f810c1e0d95f3",
   "execution_count": 7
  },
  {
   "cell_type": "code",
   "outputs": [
    {
     "name": "stdout",
     "output_type": "stream",
     "text": [
      "3\n",
      "6\n",
      "what?\n"
     ]
    }
   ],
   "source": [
    "# 매직 메서드 샘플\n",
    "class Sample:\n",
    "    def __init__(self):\n",
    "        pass\n",
    "\n",
    "    def __len__(self):\n",
    "        return 6\n",
    "\n",
    "    def __str__(self):\n",
    "        return 'what?'\n",
    "\n",
    "\n",
    "li = [1, 2, 3]\n",
    "print(len(li))  # 출력 : 3\n",
    "\n",
    "sample = Sample()\n",
    "print(len(sample))  # 출력 : 6\n",
    "print(sample)  # 출력 : what?"
   ],
   "metadata": {
    "collapsed": false,
    "ExecuteTime": {
     "end_time": "2024-02-29T02:44:32.199266Z",
     "start_time": "2024-02-29T02:44:32.176270Z"
    }
   },
   "id": "bc2384375528d1bc",
   "execution_count": 10
  },
  {
   "cell_type": "code",
   "outputs": [
    {
     "name": "stdout",
     "output_type": "stream",
     "text": [
      "한국\n",
      "홍길동\n",
      "한국\n",
      "한국\n",
      "객체 프로퍼티 생성과 동일한 이름의 클래스 변수\n",
      "중국\n",
      "한국\n",
      "한국\n",
      "\n",
      "객체를 이용해서 클래스 변수 값 변경\n",
      "영국\n",
      "\n",
      "클래스를 이용해서 클래스 변수 값 변경\n",
      "미국1\n",
      "미국1\n",
      "미국1\n"
     ]
    }
   ],
   "source": [
    "# 클래스 메소드와 정적 메소드\n",
    "class Korean:\n",
    "    country = '한국'  # 클래스 변수 country \n",
    "\n",
    "    # 클래스 변수는 self가 안붙음\n",
    "\n",
    "    def __init__(self, name, age, address):\n",
    "        self.name = name  # 인스턴스 변수\n",
    "        self.age = age\n",
    "        self.address = address\n",
    "\n",
    "\n",
    "print(Korean.country)  # 클래스 변수는 객체 생성전에도 사용가능\n",
    "\n",
    "man = Korean('홍길동', 35, '서울')\n",
    "print(man.name)  # 홍길동 인스턴스 변수\n",
    "# print(Korean.name)\n",
    "# AttributeError: type object 'Korean' has no attribute 'name'\n",
    "\n",
    "print(man.country)  # 인스턴스 man을 통한 클래스 변수 접근    # 출력 : 한국\n",
    "print(Korean.country)  # 클래스 Korean을 통한 클래스 변수 접근   # 출력 : 한국\n",
    "\n",
    "print('객체 프로퍼티 생성과 동일한 이름의 클래스 변수')\n",
    "man.country = '중국'  # 객체의 인스턴스 변수 생성  # 클래스 변수 변경 X . man 객체의 인스턴스 변수를 수정하라는 것\n",
    "print(man.country)  # 출력 : 중국 # 클래스 변수가 아니라 인스턴스 변수를 불러옴\n",
    "# man 객체의 country 라는 인스턴스 변수의 country 클래스 변수는 다른거임\n",
    "print(man.__class__.country)  # 한국 # 객체를 사용해서 클래스 변수 불러오기\n",
    "print(Korean.country)  # 출력 : 한국 <-- 값이 변하지 않았음 \n",
    "\n",
    "# print(man)  # <__main__.Korean object at 0x000002CDBC03F7F0>\n",
    "# print(Korean)  # <class '__main__.Korean'>\n",
    "\n",
    "print()\n",
    "print('객체를 이용해서 클래스 변수 값 변경')\n",
    "man.__class__.country = '영국'\n",
    "print(Korean.country)  # 영국\n",
    "\n",
    "print()\n",
    "print('클래스를 이용해서 클래스 변수 값 변경')\n",
    "Korean.country = '미국1'  # 클래스 변수를 변경\n",
    "print(Korean.country)\n",
    "\n",
    "man2 = Korean('홍길동2', 35, '서울')\n",
    "print(man2.country)  # 출력 : 미국1\n",
    "print(Korean.country)  # 출력 : 미국1\n",
    "\n",
    "# 클래스 변수는 클래스를 통해서 접근하는 것이 권장사항\n"
   ],
   "metadata": {
    "collapsed": false,
    "ExecuteTime": {
     "end_time": "2024-02-29T03:13:46.565136Z",
     "start_time": "2024-02-29T03:13:46.542590Z"
    }
   },
   "id": "c141e2c5d1eef729",
   "execution_count": 23
  },
  {
   "cell_type": "code",
   "outputs": [
    {
     "name": "stdout",
     "output_type": "stream",
     "text": [
      "국내여행입니다.\n",
      "해외여행입니다.\n"
     ]
    }
   ],
   "source": [
    "# 2. 클래스 메소드\n",
    "class Korean:\n",
    "    country = '한국'  # 클래스 변수 country\n",
    "\n",
    "    @classmethod  # 클래스 메소드\n",
    "    def trip(cls, country):\n",
    "        if cls.country == country:\n",
    "            print('국내여행입니다.')\n",
    "        else:\n",
    "            print('해외여행입니다.')\n",
    "\n",
    "\n",
    "Korean.trip('한국')  # 출력 : 국내여행입니다.\n",
    "Korean.trip('미국')  # 출력 : 해외여행입니다.\n",
    "\n",
    "# Korean.trip('')"
   ],
   "metadata": {
    "collapsed": false,
    "ExecuteTime": {
     "end_time": "2024-02-29T03:22:13.829655Z",
     "start_time": "2024-02-29T03:22:13.822647Z"
    }
   },
   "id": "8afd4a58a6cdf51",
   "execution_count": 27
  },
  {
   "cell_type": "code",
   "outputs": [
    {
     "name": "stdout",
     "output_type": "stream",
     "text": [
      "Imagine your korea\n"
     ]
    }
   ],
   "source": [
    "class Korean:\n",
    "    country = '한국'  # 클래스 변수 country\n",
    "\n",
    "    @staticmethod\n",
    "    def slogan():\n",
    "        print('Imagine your korea')\n",
    "\n",
    "\n",
    "Korean.slogan()  # 출력 : Imagine your korea"
   ],
   "metadata": {
    "collapsed": false,
    "ExecuteTime": {
     "end_time": "2024-02-29T03:26:06.851387Z",
     "start_time": "2024-02-29T03:26:06.833824Z"
    }
   },
   "id": "ff40156bb5753cfc",
   "execution_count": 28
  },
  {
   "cell_type": "code",
   "outputs": [
    {
     "name": "stdout",
     "output_type": "stream",
     "text": [
      "현재 가방 0 개\n",
      "현재 가방 3 개\n",
      "현재 가방 1 개\n"
     ]
    }
   ],
   "source": [
    "# 연습\n",
    "# 가방을 만들 때마다 현재 만들어진 가방이 몇 개인지 계산할 수 있는 Bag 클래스\n",
    "\n",
    "class Bag:\n",
    "    count = 0  # 클래스 변수\n",
    "\n",
    "    def __init__(self):  # 생성자가 실행될 떄 마다 증가\n",
    "        Bag.count += 1\n",
    "        # 혹은\n",
    "        # __class__.count +=1\n",
    "\n",
    "    @classmethod  # 클래스 메소드\n",
    "    def sell(cls):  # 판매시 감소\n",
    "        cls.count -= 1  # cls 키워드를 이용해 클래스 변수 값 변경\n",
    "\n",
    "    @classmethod\n",
    "    def remain_bag(cls):  # 남은 가방의 갯수 반환\n",
    "        return cls.count\n",
    "    \n",
    "print('현재 가방 {} 개'.format(Bag.remain_bag()))    # 출력 : 현재 가방 0 개\n",
    "bag1 = Bag()\n",
    "bag2 = Bag()\n",
    "bag3 = Bag()\n",
    "print('현재 가방 {} 개'.format(Bag.remain_bag()))    # 출력 : 현재 가방 3 개\n",
    "bag1.sell()\n",
    "bag2.sell()\n",
    "print('현재 가방 {} 개'.format(Bag.remain_bag()))    # 출력 : 현재 가방 1 개\n"
   ],
   "metadata": {
    "collapsed": false,
    "ExecuteTime": {
     "end_time": "2024-02-29T03:34:35.416598Z",
     "start_time": "2024-02-29T03:34:35.393262Z"
    }
   },
   "id": "5cef76a6afcd4c9b",
   "execution_count": 33
  },
  {
   "cell_type": "code",
   "outputs": [
    {
     "ename": "TypeError",
     "evalue": "'module' object is not callable",
     "output_type": "error",
     "traceback": [
      "\u001B[1;31m---------------------------------------------------------------------------\u001B[0m",
      "\u001B[1;31mTypeError\u001B[0m                                 Traceback (most recent call last)",
      "Cell \u001B[1;32mIn[36], line 7\u001B[0m\n\u001B[0;32m      5\u001B[0m \u001B[38;5;28;01mimport\u001B[39;00m \u001B[38;5;21;01msample_class\u001B[39;00m\n\u001B[0;32m      6\u001B[0m \u001B[38;5;28;01mimport\u001B[39;00m \u001B[38;5;21;01msample_module\u001B[39;00m\n\u001B[1;32m----> 7\u001B[0m sample \u001B[38;5;241m=\u001B[39m \u001B[43msample_class\u001B[49m\u001B[43m(\u001B[49m\u001B[43m)\u001B[49m\n\u001B[0;32m      8\u001B[0m sample2 \u001B[38;5;241m=\u001B[39m sample_module()\n\u001B[0;32m      9\u001B[0m sample_class\u001B[38;5;241m.\u001B[39mPrintTxt()\n",
      "\u001B[1;31mTypeError\u001B[0m: 'module' object is not callable"
     ]
    }
   ],
   "source": [
    "# 응용\n",
    "# sample_class.py\n",
    "# sample_module.py\n",
    "# 생성함\n"
   ],
   "metadata": {
    "collapsed": false,
    "ExecuteTime": {
     "end_time": "2024-02-29T03:42:22.433368Z",
     "start_time": "2024-02-29T03:42:22.406804Z"
    }
   },
   "id": "8de3860e5a81a01b",
   "execution_count": 36
  }
 ],
 "metadata": {
  "kernelspec": {
   "display_name": "Python 3",
   "language": "python",
   "name": "python3"
  },
  "language_info": {
   "codemirror_mode": {
    "name": "ipython",
    "version": 2
   },
   "file_extension": ".py",
   "mimetype": "text/x-python",
   "name": "python",
   "nbconvert_exporter": "python",
   "pygments_lexer": "ipython2",
   "version": "2.7.6"
  }
 },
 "nbformat": 4,
 "nbformat_minor": 5
}
