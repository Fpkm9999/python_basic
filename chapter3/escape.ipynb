{
 "cells": [
  {
   "cell_type": "code",
   "execution_count": 1,
   "id": "initial_id",
   "metadata": {
    "collapsed": true,
    "ExecuteTime": {
     "end_time": "2024-02-26T02:21:08.163885600Z",
     "start_time": "2024-02-26T02:21:08.157787500Z"
    }
   },
   "outputs": [
    {
     "ename": "SyntaxError",
     "evalue": "unexpected character after line continuation character (2790538644.py, line 3)",
     "output_type": "error",
     "traceback": [
      "\u001B[1;36m  Cell \u001B[1;32mIn[1], line 3\u001B[1;36m\u001B[0m\n\u001B[1;33m    print('Hello \\'World'\\' ')\u001B[0m\n\u001B[1;37m                          ^\u001B[0m\n\u001B[1;31mSyntaxError\u001B[0m\u001B[1;31m:\u001B[0m unexpected character after line continuation character\n"
     ]
    }
   ],
   "source": [
    "# # 이스케이프 문자\n",
    "# # \\(back slash) 로 시작\n",
    "# print('Hello '\\'World'\\'' ) #문자열 안에서\n",
    "# print('Hello \\\"World\\\"\") # 문자열 안에서 \n",
    "# print('*\\n**\\n***') # \\n 줄 바꿈 line feed\n",
    "# print('이름\\t연락처') # \\t 탭\n",
    "# print('제시카\\t02-123-4567')\n",
    "# print('마틴\\t010-8765-1234')"
   ]
  }
 ],
 "metadata": {
  "kernelspec": {
   "display_name": "Python 3",
   "language": "python",
   "name": "python3"
  },
  "language_info": {
   "codemirror_mode": {
    "name": "ipython",
    "version": 2
   },
   "file_extension": ".py",
   "mimetype": "text/x-python",
   "name": "python",
   "nbconvert_exporter": "python",
   "pygments_lexer": "ipython2",
   "version": "2.7.6"
  }
 },
 "nbformat": 4,
 "nbformat_minor": 5
}
