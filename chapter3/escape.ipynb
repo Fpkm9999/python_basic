{
 "cells": [
  {
   "cell_type": "markdown",
   "source": [
    "# 아직 수정 안됨. \n",
    "# # 이스케이프 문자\n",
    "# # \\(back slash) 로 시작\n",
    "# print('Hello '\\'World'\\'' ) #문자열 안에서\n",
    "# print('Hello \\\"World\\\"\") # 문자열 안에서 \n",
    "# print('*\\n**\\n***') # \\n 줄 바꿈 line feed\n",
    "# print('이름\\t연락처') # \\t 탭\n",
    "# print('제시카\\t02-123-4567')\n",
    "# print('마틴\\t010-8765-1234')"
   ],
   "metadata": {
    "collapsed": false
   },
   "id": "a39c9d2c4e8bb817"
  },
  {
   "cell_type": "markdown",
   "source": [],
   "metadata": {
    "collapsed": false
   },
   "id": "f03ab50f778d9221"
  },
  {
   "cell_type": "markdown",
   "source": [
    "파이썬에서 이스케이프 문자(Escape Character)는 문자열 내에서 특별한 의미를 부여하기 위해 백슬래시(`\\`)를 사용하는 문자입니다. 이스케이프 문자는 문자열 내에서 눈에 보이지 않는 제어 문자를 포함하거나, 문자열 내에 포함하기 어려운 특정 문자를 표현하는 데 사용됩니다. 다음은 파이썬에서 자주 사용되는 이스케이프 문자의 목록과 설명입니다:\n",
    "\n",
    "1. **`\\n`**: 줄바꿈(new line). 커서를 다음 줄로 이동합니다.\n",
    "2. **`\\t`**: 탭(tab). 수평 탭 공간을 추가합니다.\n",
    "3. **`\\\\`**: 백슬래시(backslash). 문자열 내에서 백슬래시를 표현할 때 사용합니다.\n",
    "4. **`\\'`**: 단일 인용부호(single quote). 문자열 내에서 단일 인용부호를 표현할 때 사용합니다.\n",
    "5. **`\\\"`**: 이중 인용부호(double quote). 문자열 내에서 이중 인용부호를 표현할 때 사용합니다.\n",
    "6. **`\\r`**: 캐리지 리턴(carriage return). 커서를 해당 줄의 시작으로 이동합니다.\n",
    "7. **`\\b`**: 백스페이스(backspace). 커서를 한 문자 뒤로 이동하고 해당 문자를 삭제합니다.\n",
    "8. **`\\f`**: 폼 피드(form feed). 페이지를 구분하는 용도로 사용되며, 출력 시 새 페이지로 넘어갑니다(주로 프린터에서 사용).\n",
    "9. **`\\ooo`**: 8진수 값(ooo)에 해당하는 문자. 예를 들어, `\\141`은 ASCII에서 'a'에 해당합니다.\n",
    "10. **`\\xhh`**: 16진수 값(hh)에 해당하는 문자. 예를 들어, `\\x61`은 ASCII에서 'a'에 해당합니다.\n",
    "11. **`\\uHHHH`**: 유니코드(Unicode) 문자를 16진수(HHHH)로 표현할 때 사용합니다. 예를 들어, `\\uAC00`은 '가'를 나타냅니다.\n",
    "12. **`\\UHHHHHHHH`**: 유니코드 문자를 32비트 16진수로 표현할 때 사용합니다. 사용 빈도는 낮습니다.\n",
    "\n",
    "이스케이프 문자는 문자열을 더 다양하고 풍부하게 표현할 수 있게 해주며, 특히 파일 경로, 새 줄, 특수 문자 등을 처리할 때 유용합니다."
   ],
   "metadata": {
    "collapsed": false
   },
   "id": "a3a819a3ab64984"
  }
 ],
 "metadata": {
  "kernelspec": {
   "display_name": "Python 3",
   "language": "python",
   "name": "python3"
  },
  "language_info": {
   "codemirror_mode": {
    "name": "ipython",
    "version": 2
   },
   "file_extension": ".py",
   "mimetype": "text/x-python",
   "name": "python",
   "nbconvert_exporter": "python",
   "pygments_lexer": "ipython2",
   "version": "2.7.6"
  }
 },
 "nbformat": 4,
 "nbformat_minor": 5
}
