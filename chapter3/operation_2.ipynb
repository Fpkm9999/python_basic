{
 "cells": [
  {
   "cell_type": "code",
   "execution_count": 7,
   "id": "initial_id",
   "metadata": {
    "collapsed": true,
    "ExecuteTime": {
     "end_time": "2024-02-26T05:20:11.490533400Z",
     "start_time": "2024-02-26T05:20:11.477151500Z"
    }
   },
   "outputs": [
    {
     "name": "stdout",
     "output_type": "stream",
     "text": [
      "7 + 2 = 9 \n",
      "7 - 2 = 5 \n",
      "7 * 2 = 14 \n",
      "7 ** 2 = 49 \n",
      "7 / 2 = 3.5 \n",
      "7 // 2 = 3 \n",
      "7 % 2 = 1 \n"
     ]
    }
   ],
   "source": [
    "# 파이썬 연산자\n",
    "# 1. 산술 연산자\n",
    "\n",
    "a = 7\n",
    "b = 2\n",
    "print('{} + {} = {} '.format(a, b, a + b))  # 9 / + 덧셈\n",
    "print('{} - {} = {} '.format(a, b, a - b))  # 5 / - 뺄셈\n",
    "print('{} * {} = {} '.format(a, b, a * b))  # 14 / * 곱셈\n",
    "print('{} ** {} = {} '.format(a, b, a ** b))  # 49 / ** 거듭제곱 \n",
    "print('{} / {} = {} '.format(a, b, a / b))  # 3.5 /  / 나눗셈\n",
    "print('{} // {} = {} '.format(a, b, a // b))  # 3 / // 몫\n",
    "print('{} % {} = {} '.format(a, b, a % b))  # 1 / % 나머지\n",
    "\n",
    "# 거듭제곱은 잘 사용안함. 그렇지만 알아두면 좋음\n"
   ]
  },
  {
   "cell_type": "code",
   "outputs": [
    {
     "name": "stdout",
     "output_type": "stream",
     "text": [
      "a= 10, b= 20\n",
      "a = 10, b = 20\n",
      "a = 20, b= 10\n"
     ]
    }
   ],
   "source": [
    "# 2. 대입 연산자\n",
    "# a = b : b 에 있는 값을 a라는 변수에 저장을 하라.\n",
    "a = 10\n",
    "a, b = 10, 20  # 2개 이상의 변수에 저장. 튜플을 이용.\n",
    "print('a= %d, b= %d' % (a, b))  # 10, 20\n",
    "print(f'a = {a}, b = {b}')\n",
    "\n",
    "a, b = b, a  # 값을 교환( 튜플을 이용해서 가능한거임)\n",
    "print('a = %d, b= %d' % (a, b))  # 20,10"
   ],
   "metadata": {
    "collapsed": false,
    "ExecuteTime": {
     "end_time": "2024-02-26T05:26:04.536837Z",
     "start_time": "2024-02-26T05:26:04.509145600Z"
    }
   },
   "id": "ec6e0a1e57e7034a",
   "execution_count": 8
  },
  {
   "cell_type": "code",
   "outputs": [
    {
     "name": "stdout",
     "output_type": "stream",
     "text": [
      "20\n",
      "30\n",
      "20\n",
      "2\n",
      "20\n"
     ]
    }
   ],
   "source": [
    "# 3. 복합 대입 연산자\n",
    "# 연산을 먼저 진행하고, 그 결과를 변수에 저장\n",
    "c = 10\n",
    "c = c + 10\n",
    "print(c)\n",
    "c += 10\n",
    "print(c)\n",
    "\n",
    "c -= 10  # c = c - 10\n",
    "print(c)  # 20\n",
    "\n",
    "c //= 10  # 나누고 남은 몫\n",
    "print(c)  # 2\n",
    "\n",
    "c *= 10\n",
    "print(c)  # 20"
   ],
   "metadata": {
    "collapsed": false,
    "ExecuteTime": {
     "end_time": "2024-02-26T05:30:05.914086200Z",
     "start_time": "2024-02-26T05:30:05.895827600Z"
    }
   },
   "id": "a49b4280a95d7d68",
   "execution_count": 10
  },
  {
   "cell_type": "code",
   "outputs": [
    {
     "name": "stdout",
     "output_type": "stream",
     "text": [
      "15 > 10 : True\n",
      "15 < 10 : False \n",
      "15 >= 10 : True\n",
      "15 <= 10 : False \n",
      "15 == 10 : False \n",
      "15 != 10 : True \n"
     ]
    }
   ],
   "source": [
    "# 비교연산자\n",
    "# 결과 값은 True 와 False 둘 중 하나\n",
    "a = 15\n",
    "print(f'{a} > 10 : {a > 10}')  # True. a가 10 보다 크다\n",
    "print('{} < 10 : {} '.format(a, a < 10))  # False.  a 가 10보다 작다. # 매개변수 이름?\n",
    "print('{} >= 10 : {}'.format(a, a >= 10))  # True.  a 가 10보다 크거나 같다.\n",
    "print('{} <= 10 : {} '.format(a, a <= 10))  # False. a 가 10보다 작거나 같다.\n",
    "print('{} == 10 : {} '.format(a, a == 10))  # False. a 와 10이 같다.\n",
    "print('{} != 10 : {} '.format(a, a != 10))  # True.  a 와 10이 같지 않다."
   ],
   "metadata": {
    "collapsed": false,
    "ExecuteTime": {
     "end_time": "2024-02-26T05:37:28.086780800Z",
     "start_time": "2024-02-26T05:37:28.069613100Z"
    }
   },
   "id": "7d517f0b3d5781e7",
   "execution_count": 17
  },
  {
   "cell_type": "code",
   "outputs": [
    {
     "name": "stdout",
     "output_type": "stream",
     "text": [
      "십의 자리 : 4\n",
      "일의 자리 : 5\n",
      "십의 자리 : 4\n",
      "일의 자리 : 6\n",
      "십의 자리 : 5\n",
      "일의 자리 : 0\n"
     ]
    }
   ],
   "source": [
    "# 문제\n",
    "# 임의의 두 자리 정수 (10 ~ 99) 를 입력받아서 십의 자리와 일의 자리로 분류하여\n",
    "# 출력하는 프로그램을 구현하세요.\n",
    "\n",
    "# 실행 예)\n",
    "# 10 ~ 99 사이의 정수를 입력하세요 >>> 45\n",
    "# 십의 자리 : 4\n",
    "# 일의 자리 : 5\n",
    "\n",
    "intputInt = int(input('10 ~ 99 사이의 정수를 입력하세요 >>> '))\n",
    "print('십의 자리 : {}'.format(int(intputInt // 10)))\n",
    "print('일의 자리 : {}'.format((int(intputInt) % 10)))\n",
    "\n",
    "# 다른 방법\n",
    "number = int(input('10 ~ 99 사이의 정수를 입력하세요 >>> '))\n",
    "tens = number // 10\n",
    "units = number % 10\n",
    "\n",
    "print('십의 자리 : {}'.format(tens))\n",
    "print('일의 자리 : {}'.format(units))\n",
    "\n",
    "number_str = input('Enter a number')\n",
    "# 또 다른 방법\n",
    "print(f'십의 자리 : {number_str[0]}')\n",
    "print(f'일의 자리 : {number_str[1]}')\n",
    "\n"
   ],
   "metadata": {
    "collapsed": false,
    "ExecuteTime": {
     "end_time": "2024-02-26T05:50:45.664910400Z",
     "start_time": "2024-02-26T05:50:42.471320600Z"
    }
   },
   "id": "105e878b3c982c1e",
   "execution_count": 28
  },
  {
   "cell_type": "code",
   "outputs": [
    {
     "name": "stdout",
     "output_type": "stream",
     "text": [
      "변환 결과는 1시간 1분 30 초 입니다.\n"
     ]
    }
   ],
   "source": [
    "# 1분은 60초이고, 1시간은 60분입니다. 따라서 1시간은 3600초 입니다.\n",
    "# 임의의 초를 입력받아 해당 초를 시, 분, 초로 변환하여 출력하는 프로그램을 구현하세요.\n",
    "\n",
    "# 실행 예)\n",
    "# 초를 입력하세요 >> 3690\n",
    "# 변환 결과는 1시간 1분 30초 입니다.\n",
    "\n",
    "# 힌트 : 나누기에 관련된 산술 연산자를 활용하는 문제입니다.\n",
    "input_sec = int(input('초를 입력하세요'))\n",
    "# print(input_sec)\n",
    "hours = input_sec // 3600\n",
    "minutes = input_sec % 3600 // 60\n",
    "seconds = input_sec % 60\n",
    "print(f'변환 결과는 {hours}시간 {minutes}분 {seconds} 초 입니다.')"
   ],
   "metadata": {
    "collapsed": false,
    "ExecuteTime": {
     "end_time": "2024-02-26T06:15:24.639872200Z",
     "start_time": "2024-02-26T06:15:23.228978200Z"
    }
   },
   "id": "e9cc02301e48c665",
   "execution_count": 39
  },
  {
   "cell_type": "code",
   "outputs": [
    {
     "name": "stdout",
     "output_type": "stream",
     "text": [
      "10 > 0 and 0 > 0 : False \n",
      "10 > 0 or 0 > 0 : True \n",
      "not 10 : False \n",
      "not 0 : True \n"
     ]
    }
   ],
   "source": [
    "# 논리 연산자\n",
    "# 결과값은 True 와 False 둘 중 하나\n",
    "# a 논리연산자 b 의 형식. a, b  모두 불형.\n",
    "# a and b : a 와 b 가 모두 참(True) 이면 True, 아니면 False\n",
    "# a or b : a 와 b 중 하나라도 참(True) 이면 True, 아니면 False \n",
    "# not a : a가 참(True) 이면 False, a 가 거짓(False) 이면 True\n",
    "\n",
    "a = 10\n",
    "b = 0\n",
    "print('{} > 0 and {} > 0 : {} '.format(a, b, a > 0 and b > 0))  # False / True and False \n",
    "print('{} > 0 or {} > 0 : {} '.format(a, b, a > 0 or b > 0))  # True / True or False\n",
    "print('not {} : {} '.format(a, not a))  # False / 0이 아니면 True\n",
    "print('not {} : {} '.format(b, not b))  # True / 0 이면 False "
   ],
   "metadata": {
    "collapsed": false,
    "ExecuteTime": {
     "end_time": "2024-02-26T06:20:10.473011800Z",
     "start_time": "2024-02-26T06:20:10.453934800Z"
    }
   },
   "id": "6263c2d5f7eb5016",
   "execution_count": 43
  },
  {
   "cell_type": "code",
   "outputs": [
    {
     "name": "stdout",
     "output_type": "stream",
     "text": [
      "    #\n",
      "   ###\n",
      "  #####\n",
      " #######\n",
      "#########\n",
      "--------------------\n"
     ]
    }
   ],
   "source": [
    "# 시퀀스 연산자 : 순서가 있는 시퀀스 ( 리스트, 튜플, range, 문자열 등) 에서 사용할 수 있는 연산자\n",
    "# + : 연결하기\n",
    "# * : 반복하기\n",
    "tree = '#'\n",
    "space = ' '\n",
    "print(space * 4 + tree * 1)  #         #\n",
    "print(space * 3 + tree * 3)  #        ###\n",
    "print(space * 2 + tree * 5)  #       #####\n",
    "print(space * 1 + tree * 7)  #      #######\n",
    "print(space * 0 + tree * 9)  #     #########\n",
    "print('-' * 20)\n"
   ],
   "metadata": {
    "collapsed": false,
    "ExecuteTime": {
     "end_time": "2024-02-26T06:25:46.546118600Z",
     "start_time": "2024-02-26T06:25:46.538119500Z"
    }
   },
   "id": "c74a6316289b4d5f",
   "execution_count": 46
  },
  {
   "cell_type": "code",
   "outputs": [
    {
     "name": "stdout",
     "output_type": "stream",
     "text": [
      "10 과 20의 차이는 10 입니다.\n",
      "오전\n",
      "근무 시간은 오전\n",
      "평균은83.0점이고, 결과는합격\n"
     ]
    }
   ],
   "source": [
    "# 삼항 조건 연산자 (ternary conditional operator)\n",
    "# 일반적인 삼항 조건 연산자 : 조건식 ? 참 : 거짓\n",
    "# 파이썬 삼항 조건 연산자 : 참 if 조건식 else 거짓\n",
    "# Python에서 삼항 조건 연산자는 if-else 문을 한 줄로 간단히 표현할 수 있게 해줍니다. \n",
    "# Python의 삼항 조건 연산자는 다음과 같은 형태를 취합니다\n",
    "#   - 참일 때의 값 if 조건 else 거짓일 때의  값\n",
    "a = 10\n",
    "b = 20\n",
    "\n",
    "# 참  if    조건식    # else 거짓\n",
    "result = (a - b) if (a >= b) else (b - a)  # 조건식 a >= b 은 False 이므로 b-a 실행\n",
    "print('{} 과 {}의 차이는 {} 입니다.'.format(a, b, result))  # 10과 20의 차이는 10 입니다.\n",
    "\n",
    "# 문제\n",
    "# 네 자리 정수로 구성된 사원번호를 기준으로 근무 시간을 결정하고자 합니다.\n",
    "# 사원번호의 끝자리 숫자가 5 이상이면 '오전', 아니면 '오후'를 출력하는 프로그램을 구현하세요.\n",
    "\n",
    "# 실행 예)\n",
    "# 4자리 사원번호를 입력하세요 >>> 1255\n",
    "# 근무 시간은 오전입니다.\n",
    "inputUser = int(input('4자리 사원번호를 입력하세요 >>> '))\n",
    "# result3 = (inputUser % 1000 )\n",
    "# print(result3)\n",
    "result_ = inputUser % 10\n",
    "work_time = '오전' if result_ >= 5 else '오후'\n",
    "\n",
    "print(work_time)\n",
    "print(f'근무 시간은 {work_time}')\n",
    "\n",
    "# 국어, 영어, 수학 점수를 각각 입력받아서 평균을 구하고, 평균이 80점 이상이면 '합격',\n",
    "# 아니면 '불합격'을 출력하는 프로그램을 구현하세요.\n",
    "\n",
    "# 실행 예)\n",
    "# 국어 점수를 입력하세요 >>> 85 \n",
    "# 영어 점수를 입력하세요 >>> 83\n",
    "# 수학 점수를 입력하세요 >>> 81\n",
    "# 평균은 83.0점이고, 결과는 합격입니다.\n",
    "\n",
    "kor = int(input('국어 점수를 입력하세요 >>>'))\n",
    "eng = int(input('영어 점수를 입력하세요 >>>'))\n",
    "math = int(input('수학 점수를 입력하세요 >>>'))\n",
    "\n",
    "total = kor + eng + math\n",
    "avg = total / 3\n",
    "\n",
    "result4 = '합격' if avg >= 80 else '불합격'\n",
    "print(f'평균은{avg}점이고, 결과는{result4}')\n"
   ],
   "metadata": {
    "collapsed": false,
    "ExecuteTime": {
     "end_time": "2024-02-26T06:49:27.052096900Z",
     "start_time": "2024-02-26T06:49:22.199250600Z"
    }
   },
   "id": "722a0ae757a92b3c",
   "execution_count": 65
  },
  {
   "cell_type": "code",
   "outputs": [
    {
     "name": "stdout",
     "output_type": "stream",
     "text": [
      "한 박스에 20개의 라면을 담을 수 있습니다.\n",
      "라면의 개수를 입력하시면 필요한 박스 수를 알려드립니다.\n",
      "2\n",
      "55개의 라면을 담으려면 3박스가 필요합니다 \n"
     ]
    }
   ],
   "source": [
    "\"\"\"\n",
    "1박스에 라면이 20개씩 들어갑니다. 라면이 21개가 있다면 2박스가 있어야 모두 담을 수 있습니다.\n",
    "라면의 갯수를 입력받아 라면을 담기 위해서 필요한 박스의 개수를 구하여 출력하는 프로그램을 구현하세요.\n",
    "\n",
    "실행 예)\n",
    "한 박스에 20개의 라면을 담을 수 있습니다.\n",
    "라면의 개수를 입력하시면 필요한 박스 수를 알려드립니다.\n",
    "라면의 개수를 입력하세요 >>> 50\n",
    "50개의 라면을 담으려면 3박스가 필요합니다.\n",
    "\n",
    "한 박스에 20개의 라면을 담을 수 있습니다.\n",
    "라면의 개수를 입력하시면 필요한 박스 수를 알려드립니다.\n",
    "라면의 개수를 입력하세요 >>> 60\n",
    "60개의 라면을 담으려면 3박스가 필요합니다.\n",
    "\"\"\"\n",
    "print('한 박스에 20개의 라면을 담을 수 있습니다.')\n",
    "print('라면의 개수를 입력하시면 필요한 박스 수를 알려드립니다.')\n",
    "inputUser = int(input('라면의 개수를 입력하세요 >>>'))\n",
    "# print(inputUser)\n",
    "result = inputUser // 20\n",
    "# 20  : 1 \n",
    "# 30  : 1\n",
    "# 40  : 2\n",
    "# 50  : 2\n",
    "# 60  : 3\n",
    "\n",
    "result2  = result if  result==0 else (inputUser // 20) + 1\n",
    "print(result)\n",
    "print(f'{inputUser}개의 라면을 담으려면 {result2}박스가 필요합니다 ')"
   ],
   "metadata": {
    "collapsed": false,
    "ExecuteTime": {
     "end_time": "2024-02-26T07:15:20.284206500Z",
     "start_time": "2024-02-26T07:15:18.455063900Z"
    }
   },
   "id": "8dd270aa084cd38d",
   "execution_count": 77
  },
  {
   "cell_type": "code",
   "outputs": [],
   "source": [],
   "metadata": {
    "collapsed": false
   },
   "id": "64cc100481af4e7c"
  }
 ],
 "metadata": {
  "kernelspec": {
   "display_name": "Python 3",
   "language": "python",
   "name": "python3"
  },
  "language_info": {
   "codemirror_mode": {
    "name": "ipython",
    "version": 2
   },
   "file_extension": ".py",
   "mimetype": "text/x-python",
   "name": "python",
   "nbconvert_exporter": "python",
   "pygments_lexer": "ipython2",
   "version": "2.7.6"
  }
 },
 "nbformat": 4,
 "nbformat_minor": 5
}
