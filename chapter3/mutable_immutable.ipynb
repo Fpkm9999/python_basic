{
 "cells": [
  {
   "cell_type": "code",
   "execution_count": 3,
   "id": "initial_id",
   "metadata": {
    "collapsed": true,
    "ExecuteTime": {
     "end_time": "2024-02-29T15:47:12.752887Z",
     "start_time": "2024-02-29T15:47:12.732324Z"
    }
   },
   "outputs": [
    {
     "name": "stdout",
     "output_type": "stream",
     "text": [
      "1487272977152\n",
      "1487272977152\n"
     ]
    }
   ],
   "source": [
    "me = [1, 2, 3]\n",
    "print(id(me))  # 출력 : 1809355448384\n",
    "me.append(4)\n",
    "print(id(me))  # 출력 : 1809355448384"
   ]
  },
  {
   "cell_type": "code",
   "outputs": [
    {
     "name": "stdout",
     "output_type": "stream",
     "text": [
      "<class 'int'>\n",
      "1487195865616\n",
      "11\n",
      "1487195865648\n"
     ]
    }
   ],
   "source": [
    "# immutable\n",
    "# 한 번 생성하면 최초로 저장된 값을 다른 값으로 바꿀 수 없슴\n",
    "obj = 10\n",
    "print(type(obj))  # 출력 : <class 'int'>\n",
    "print(id(obj))  # 출력 : 2548145586704\n",
    "\n",
    "obj = obj + 1\n",
    "print(obj)  # 11\n",
    "print(id(obj))  # 2548145586736 / 할당된 메모리 주소가 변경이 됨\n",
    "# 메모리에 저장된 데이터를 수정하는 것이 아니라, 새로 할당을 받아서 데이터를 저장함."
   ],
   "metadata": {
    "collapsed": false,
    "ExecuteTime": {
     "end_time": "2024-02-29T15:47:11.063479Z",
     "start_time": "2024-02-29T15:47:11.051275Z"
    }
   },
   "id": "6329657c90ff08d5",
   "execution_count": 2
  },
  {
   "cell_type": "code",
   "outputs": [
    {
     "name": "stdout",
     "output_type": "stream",
     "text": [
      "[0, 2, 3, 4]\n",
      "{'name': 'Alice', 'age': 26, 'gender': 'Female'}\n",
      "{2, 3, 4}\n"
     ]
    }
   ],
   "source": [
    "# mutable\n",
    "\n",
    "my_list = [1, 2, 3]\n",
    "my_list.append(4)  # 리스트에 요소 추가\n",
    "my_list[0] = 0  # 리스트의 첫 번째 요소 변경\n",
    "print(my_list)  # 출력: [0, 2, 3, 4]\n",
    "\n",
    "my_dict = {'name': 'Alice', 'age': 25}\n",
    "my_dict['age'] = 26  # 값 변경\n",
    "my_dict['gender'] = 'Female'  # 새로운 키와 값 추가\n",
    "print(my_dict)  # 출력: {'name': 'Alice', 'age': 26, 'gender': 'Female'}\n",
    "\n",
    "my_set = {1, 2, 3}\n",
    "my_set.add(4)  # 요소 추가\n",
    "my_set.remove(1)  # 요소 삭제\n",
    "print(my_set)  # 출력: {2, 3, 4}\n"
   ],
   "metadata": {
    "collapsed": false,
    "ExecuteTime": {
     "end_time": "2024-02-29T15:47:11.047825Z",
     "start_time": "2024-02-29T15:47:11.023424Z"
    }
   },
   "id": "a69b21b3d86f9432",
   "execution_count": 1
  }
 ],
 "metadata": {
  "kernelspec": {
   "display_name": "Python 3",
   "language": "python",
   "name": "python3"
  },
  "language_info": {
   "codemirror_mode": {
    "name": "ipython",
    "version": 2
   },
   "file_extension": ".py",
   "mimetype": "text/x-python",
   "name": "python",
   "nbconvert_exporter": "python",
   "pygments_lexer": "ipython2",
   "version": "2.7.6"
  }
 },
 "nbformat": 4,
 "nbformat_minor": 5
}
