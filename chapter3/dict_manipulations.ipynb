{
 "cells": [
  {
   "cell_type": "markdown",
   "source": [
    "#### 딕셔너리(dict) : 자바의 맵과 유사.\n",
    "사전처럼 어떤 단어와 그 단어의 의미로 구성\n",
    "- '키(Key)' 와 '값(value)' 을 '단어'와 '단어의 의미' 처럼 사용\n",
    "- 딕셔너리는 인덱스가 존재하지 않는 대신 키를 인덱스처럼 사용함\n",
    "- 키 값을 알면 저장된 값을 확인할 수 있는 구조\n",
    "\n",
    "##### 특징\n",
    "- 키(key)와 값(value)의 쌍으로 이루어진 컬렉션\n",
    "- 딕셔너리는 변경 가능(mutable)하며, 순서가 정의되지 않은 매핑을 저장하는데 사용됨\n",
    "- Python 3.7 이상에서는 딕셔너리가 삽입 순서를 유지합니다. \n",
    "- 딕셔너리는 중괄호 {}를 사용하여 생성하며, 각 요소는 `키: 값`의 형태로 표현됨"
   ],
   "metadata": {
    "collapsed": false
   },
   "id": "232eac9376c1177d"
  },
  {
   "cell_type": "markdown",
   "source": [
    "## 1. 딕셔너리 생성 및 접근\n",
    "- 키값을 사용해 value에 접근이 가능함"
   ],
   "metadata": {
    "collapsed": false
   },
   "id": "e8aba416371adf4"
  },
  {
   "cell_type": "code",
   "outputs": [
    {
     "name": "stdout",
     "output_type": "stream",
     "text": [
      "<class 'dict'>\n",
      "{'a': 'apple', 'b': 'banana'}\n",
      "<class 'dict'>\n",
      "apple\n",
      "banana\n"
     ]
    }
   ],
   "source": [
    "a = dict()\n",
    "print(type(a))\n",
    "\n",
    "d = {'a': 'apple', 'b': 'banana'}  # dict 생성 , 키-값 형태\n",
    "print(d)  # {'a': 'apple', 'b': 'banana'}\n",
    "print(type(d))  # <class 'dict'>\n",
    "\n",
    "# value 값 찾기\n",
    "print(d['a'])  # apple / 인덱스 대신 Key를 사용하면 value가 반환\n",
    "print(d['b'])  # banana"
   ],
   "metadata": {
    "collapsed": false,
    "ExecuteTime": {
     "end_time": "2024-02-27T08:11:08.340508100Z",
     "start_time": "2024-02-27T08:11:08.320514900Z"
    }
   },
   "id": "49834fe58444e202",
   "execution_count": 1
  },
  {
   "cell_type": "markdown",
   "source": [],
   "metadata": {
    "collapsed": false
   },
   "id": "9acfd86235a80377"
  },
  {
   "cell_type": "code",
   "outputs": [
    {
     "name": "stdout",
     "output_type": "stream",
     "text": [
      "{'a': 'apple', 'b': 'banana'}\n"
     ]
    }
   ],
   "source": [
    "# 키 값의 자료형이 문자열(str) 이라면 dict() 함수를 이용해서 생성 가능\n",
    "d = dict(a='apple', b='banana')\n",
    "print(d)  # {'a': 'apple', 'b': 'banana'}"
   ],
   "metadata": {
    "collapsed": false,
    "ExecuteTime": {
     "end_time": "2024-02-26T01:38:42.042181900Z",
     "start_time": "2024-02-26T01:38:42.023354700Z"
    }
   },
   "id": "25e2f746f3111dd7",
   "execution_count": 2
  },
  {
   "cell_type": "markdown",
   "source": [
    "## 2. 새로운 키-값 쌍 추가 및 수정\n",
    "- 키를 이용해 값을 수정할 수 있습니다."
   ],
   "metadata": {
    "collapsed": false
   },
   "id": "970a2819c08834c5"
  },
  {
   "cell_type": "code",
   "outputs": [
    {
     "name": "stdout",
     "output_type": "stream",
     "text": [
      "{'apple': '사과', 'watermelon': '멜론'}\n",
      "{'apple': '사과', 'watermelon': '수박'}\n"
     ]
    }
   ],
   "source": [
    "# 딕셔너리 요소의 추가와 수정, 삭제\n",
    "# 새로운 키와 값을 조합해서 작성\n",
    "dic = {'apple': '사과'}\n",
    "dic['watermelon'] = '멜론'\n",
    "print(dic)  # {'apple': '사과', 'watermelon': '멜론'}\n",
    "# 키는 중복을 허용하지 않기 때문에 저런식으로 해당 키가 존재하지 않다면 추가가 가능하다.\n",
    "\n",
    "# 존재하는 키 값을 이용해서 정의하면, value 수정으로 인식\n",
    "dic['watermelon'] = '수박'\n",
    "print(dic)  # {'apple': '사과', 'watermelon': '수박'}\n",
    "# 같은 명령어 이지만 값이 추가될 수도 있고 값이 수정될 수도 있다."
   ],
   "metadata": {
    "collapsed": false,
    "ExecuteTime": {
     "end_time": "2024-02-27T08:12:56.971105600Z",
     "start_time": "2024-02-27T08:12:56.950692100Z"
    }
   },
   "id": "3c869d0b4f97aded",
   "execution_count": 2
  },
  {
   "cell_type": "code",
   "outputs": [
    {
     "name": "stdout",
     "output_type": "stream",
     "text": [
      "{'name': 'james', 'age': 20}\n",
      "{'name': 'james', 'age': 20}\n",
      "{'name': 'james', 'age': 35}\n",
      "{1: 'a', 2: 'b'}\n",
      "{1: 'a', 2: 'b', 3: [1, 2, 3]}\n",
      "{1: 'a', 2: 'b', 3: [1, 2, 3], 4: (1, 2, 3)}\n"
     ]
    }
   ],
   "source": [
    "# setdefault() 메소드를 이용한 추가\n",
    "me = {'name': 'james'}\n",
    "me.setdefault('age', 20)\n",
    "print(me)  # {'name': 'james', 'age': 20}\n",
    "\n",
    "me.setdefault('age', 30)  # 동일한 키가 있는 경우 무시됨\n",
    "print(me)  # {'name': 'james', 'age': 20}\n",
    "\n",
    "me['age'] = 35\n",
    "print(me)  # 이건 된다\n",
    "\n",
    "a = {1: 'a'}\n",
    "a[2] = 'b'\n",
    "print(a)\n",
    "\n",
    "a[3] = [1,2,3]\n",
    "print(a)\n",
    "# 딕셔너리 안에 value 값으로 리스트가 올 수 도 있다.\n",
    "a[4] = (1,2,3)\n",
    "# 딕셔너리 안에 value 값으로 튜블이 올 수 도 있다.\n",
    "print(a)"
   ],
   "metadata": {
    "collapsed": false,
    "ExecuteTime": {
     "end_time": "2024-02-27T08:14:11.819503300Z",
     "start_time": "2024-02-27T08:14:11.785999200Z"
    }
   },
   "id": "22b1071613719a16",
   "execution_count": 5
  },
  {
   "cell_type": "code",
   "outputs": [
    {
     "name": "stdout",
     "output_type": "stream",
     "text": [
      "{'name': 'james', 'age': 20}\n",
      "{'name': 'james', 'age': 20}\n",
      "{'name': 'james', 'age': 25}\n",
      "{'name': 'james', 'age': 25, 'address': 'seoul'}\n",
      "{'name': 'james', 'age': 25}\n",
      "james\n",
      "None\n",
      "None\n",
      "None\n"
     ]
    }
   ],
   "source": [
    "me = {'name': 'james'}\n",
    "me.setdefault('age', 20)\n",
    "print(me)  # {'name': 'james', 'age': 20}\n",
    "me.setdefault('age', 30)  # 동일한 키가 있는 경우 무시됨\n",
    "print(me)  # {'name': 'james', 'age': 20}\n",
    "\n",
    "# update() 메소드의 경우 존재하는 키값이면 수정\n",
    "me.update(age=25)\n",
    "print(me)  # {'name': 'james', 'age': 25}\n",
    "\n",
    "# update() 메소드의 경우 존재하지 않는 키값이면 추가\n",
    "me.update(address='seoul')\n",
    "print(me)  # {'name': 'james', 'age': 25, 'address': 'seoul'}\n",
    "\n",
    "# pop() 메소드에 키값을 전달하면 해당 키값의 데이터가 삭제\n",
    "me.pop('address')\n",
    "print(me)  # {'name': 'james', 'age': 25}\n",
    "\n",
    "# get() 메서드에 전달한 key에 해당하는 value 를 반환\n",
    "print(me.get('name'))  # james\n",
    "\n",
    "print(me.get('address')) # 없는 요소를 가져올려고 하면 None 반환\n",
    "print(me.get(''))\n",
    "print(me.get('james'))  # values 값은 사용할 수 없다."
   ],
   "metadata": {
    "collapsed": false,
    "ExecuteTime": {
     "end_time": "2024-02-27T08:16:40.905108300Z",
     "start_time": "2024-02-27T08:16:40.895391700Z"
    }
   },
   "id": "8b2be0d69d938d3e",
   "execution_count": 9
  },
  {
   "cell_type": "markdown",
   "source": [
    "# mutable 과 immutable\n",
    "- mutable : 생성된 후에도 변경이 가능한 자료형 : list, set, dict\n",
    "- immutable : 생성된 후에는 변경이 불가능한 자료형 : int, float, str, tuple"
   ],
   "metadata": {
    "collapsed": false
   },
   "id": "45a0cd06389235ca"
  },
  {
   "cell_type": "markdown",
   "source": [
    "파이썬에서 데이터 타입은 변경 가능한(mutable) 타입과 변경 불가능한(immutable) 타입으로 분류됩니다. \n",
    "이 구분은 변수에 할당된 데이터의 값을 변경할 수 있는지 여부에 따라 결정됩니다.\n",
    "\n",
    "Immutable 타입 (변경 불가능)\n",
    "\n",
    "정수(int), 실수(float), 문자열(str), 튜플(tuple), 불리언(bool): 이들 타입의 객체는 생성 후에 그 내용을 변경할 수 없습니다.\n",
    "값이 '변경'되는 것처럼 보일 때, 실제로는 새로운 객체가 생성되고, 변수는 새 객체를 참조하게 됩니다.\n",
    "\n",
    "Mutable 타입 (변경 가능)\n",
    "\n",
    "리스트(list), 딕셔너리(dict), 집합(set): 이들 타입의 객체는 생성된 후에도 그 내용을 변경할 수 있습니다.\n",
    "즉, 객체의 주소는 그대로 유지하면서 내용만 변경될 수 있습니다."
   ],
   "metadata": {
    "collapsed": false
   },
   "id": "3caa1ad898364bbc"
  },
  {
   "cell_type": "code",
   "outputs": [
    {
     "name": "stdout",
     "output_type": "stream",
     "text": [
      "1809355448384\n",
      "1809355448384\n"
     ]
    }
   ],
   "source": [
    "# mutable\n",
    "# 할당받는 메모리에 저장된 값을 다른 값으로 바꿀 수 잇음\n",
    "# id() : 객체의 고유값 반환. 메모리 주소를 구별하기 위한 용도로 사용\n",
    "me = [1, 2, 3]\n",
    "print(id(me))  # 1809355448384\n",
    "me.append(4)\n",
    "print(id(me))  # 1809355448384\n",
    "\n",
    "id()"
   ],
   "metadata": {
    "collapsed": false,
    "ExecuteTime": {
     "end_time": "2024-02-26T02:12:40.185004400Z",
     "start_time": "2024-02-26T02:12:40.166292600Z"
    }
   },
   "id": "7d671ec90bff5486",
   "execution_count": 25
  },
  {
   "cell_type": "code",
   "outputs": [
    {
     "name": "stdout",
     "output_type": "stream",
     "text": [
      "<class 'int'>\n",
      "1809278108176\n",
      "11\n",
      "1809278108208\n"
     ]
    }
   ],
   "source": [
    "# immutable\n",
    "# 한 번 생성하면 최초로 저장된 값을 다른 값으로 바꿀 수 없슴\n",
    "obj = 10\n",
    "print(type(obj))  # <class 'int'>\n",
    "print(id(obj))  # 1809278108176\n",
    "obj = obj + 1\n",
    "print(obj)  # 11\n",
    "print(id(obj))  # 1809278108208 / 할당된 메모리 주소가 변경이 됨\n",
    "# 메모리에 저장된 데이터를 수정하는 것이 아니라, 새로 할당을 받아서 데이터를 저장함.\n",
    "\n",
    "# 용어 정도만 잘 알아두자."
   ],
   "metadata": {
    "collapsed": false,
    "ExecuteTime": {
     "end_time": "2024-02-26T02:14:48.482517500Z",
     "start_time": "2024-02-26T02:14:48.451847600Z"
    }
   },
   "id": "b1c77ebb8b82f299",
   "execution_count": 29
  },
  {
   "cell_type": "markdown",
   "source": [],
   "metadata": {
    "collapsed": false
   },
   "id": "17b4e6f25d32ac78"
  },
  {
   "cell_type": "markdown",
   "source": [
    "중요성\n",
    "\n",
    "    변경 불가능성의 장점: Immutable 객체는 프로그램 동작 중 데이터가 예기치 않게 변경되는 것을 방지할 수 있으며, 복사본이 아닌 원본 데이터에 대한 참조를 안전하게 공유할 수 있습니다. 이는 함수 인자 전달 시 부작용(side effect)을 방지하는 데 유용합니다.\n",
    "    변경 가능성의 유연성: Mutable 객체는 데이터를 자유롭게 추가, 삭제, 변경할 수 있어 동적인 데이터 구조를 필요로 할 때 유리합니다. 예를 들어, 리스트나 딕셔너리는 프로그램 실행 중 내용을 조정해야 할 때 매우 유용합니다.\n",
    "\n",
    "이러한 특성을 이해하는 것은 파이썬 프로그래밍에서 중요한 부분이며, 객체의 타입에 따라 변수를 사용하고 함수에 인자를 전달할 때 예상치 못한 오류를 방지하는 데 도움이 됩니다."
   ],
   "metadata": {
    "collapsed": false
   },
   "id": "d71cd19772b2f69f"
  },
  {
   "cell_type": "code",
   "outputs": [
    {
     "name": "stdout",
     "output_type": "stream",
     "text": [
      "True\n",
      "False\n"
     ]
    }
   ],
   "source": [
    "# 해당 Key가 딕셔너리 안에 있는지 조사하기 - in\n",
    "a = {'name':'pay','phone' : '010-4444-5555', 'email' : 'abc@gmail.com'}\n",
    "print('name' in a)\n",
    "print('email' not in a)"
   ],
   "metadata": {
    "collapsed": false,
    "ExecuteTime": {
     "end_time": "2024-02-27T03:48:55.028245Z",
     "start_time": "2024-02-27T03:48:55.009737500Z"
    }
   },
   "id": "e94aa6e79c47c851",
   "execution_count": 2
  }
 ],
 "metadata": {
  "kernelspec": {
   "display_name": "Python 3",
   "language": "python",
   "name": "python3"
  },
  "language_info": {
   "codemirror_mode": {
    "name": "ipython",
    "version": 2
   },
   "file_extension": ".py",
   "mimetype": "text/x-python",
   "name": "python",
   "nbconvert_exporter": "python",
   "pygments_lexer": "ipython2",
   "version": "2.7.6"
  }
 },
 "nbformat": 4,
 "nbformat_minor": 5
}
