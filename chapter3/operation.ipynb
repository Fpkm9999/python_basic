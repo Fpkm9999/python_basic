{
 "cells": [
  {
   "cell_type": "code",
   "execution_count": null,
   "id": "initial_id",
   "metadata": {
    "collapsed": true
   },
   "outputs": [],
   "source": [
    "# % 연산자\n",
    "# 형식문자를 포함한 문자열에 `%` 연산자를 사용해 형식 문자에 전달될 값을 작성.\n"
   ]
  },
  {
   "cell_type": "code",
   "outputs": [
    {
     "name": "stdout",
     "output_type": "stream",
     "text": [
      "내 이름은 Kai입니다.\n",
      "내 이름은 Kai입니다.\n",
      "내 이름은 Kai입니다.\n",
      "내 키는 120.500000cm입니다.\n",
      "내 몸무게는 23.6kg입니다.\n",
      "내 생일은 2014 년 8월 25일입니다.\n"
     ]
    }
   ],
   "source": [
    "# % 연산자\n",
    "name = 'Kai'\n",
    "print('내 이름은 %s입니다.' % name)  # 내 이름은 Kai입니다. # %s : string\n",
    "print('내 이름은 ', name, '입니다.', sep='')\n",
    "print('내 이름은 ' + name + '입니다.')  # 자바에서 쓰던 방식. \n",
    "\n",
    "height = 120.5\n",
    "print('내 키는 %fcm입니다.' % height)  # 내 키는 120.500000cm입니다. # %f : float\n",
    "\n",
    "weight = 23.55\n",
    "print('내 몸무게는 %.1fkg입니다.' % weight)  # 내 몸무게는 23.6kg입니다.\n",
    "\n",
    "year, month, day = 2014, 8, 25\n",
    "print('내 생일은 %d 년 %d월 %d일입니다.' % (year, month, day))\n",
    "# 내 생일은 2014 년 8월 25일입니다. / %d : decimal (십진법)\n",
    "\n",
    "# 지금은 이렇게 잘 안함. 이렇게 썼었다고만 인지하고 있으면 됨"
   ],
   "metadata": {
    "collapsed": false,
    "ExecuteTime": {
     "end_time": "2024-02-26T02:47:38.031663900Z",
     "start_time": "2024-02-26T02:47:38.002700800Z"
    }
   },
   "id": "3c2da2db615a04a6",
   "execution_count": 4
  },
  {
   "cell_type": "code",
   "outputs": [
    {
     "name": "stdout",
     "output_type": "stream",
     "text": [
      "우편번호 : 06236\n",
      "우편번호 : 06236\n",
      "주소 : 서울특별시 강남구\n",
      "테헤란로 146\n",
      "주소 : 서울특별시 강남구\n",
      "테헤란로 146\n"
     ]
    }
   ],
   "source": [
    "# format() 메소드\n",
    "# format() 메소드의 인수로 변수나 값을 표시하고, 해당 값이 표시될 위치를 중괄호({})로 표시하는 방식\n",
    "\n",
    "zipcode = '06236'\n",
    "print('우편번호 : {}'.format(zipcode))  # format() 메소드를 이용해 출력\n",
    "\n",
    "zipcode_str = '우편번호 : {}'.format(zipcode)\n",
    "print(zipcode_str)\n",
    "\n",
    "address = '''서울특별시 강남구\n",
    "테헤란로 146'''  # multi line\n",
    "\n",
    "print('주소 : {addr}'.format(addr=address))  # format() 메서드의 변수 이용 # 주소 : 서울특별시 강남구\n",
    "print('주소 : ' + address)  # 테헤란로 146"
   ],
   "metadata": {
    "collapsed": false,
    "ExecuteTime": {
     "end_time": "2024-02-26T02:52:54.755053100Z",
     "start_time": "2024-02-26T02:52:54.719532400Z"
    }
   },
   "id": "f68c62acceacebd",
   "execution_count": 8
  },
  {
   "cell_type": "code",
   "outputs": [
    {
     "name": "stdout",
     "output_type": "stream",
     "text": [
      "you make me happy\n",
      "내년엔 26 살이 됩니다.\n"
     ]
    }
   ],
   "source": [
    "# f-strings (formatted strings) : 파이썬 3.6 이후 버젼에서 사용 가능\n",
    "\n",
    "who = 'you'\n",
    "how = 'happy'\n",
    "print(f'{who} make me {how}')  # you make me happy / 문자열에 f 또는 F라는 접두어 prefix 를 붙임\n",
    "\n",
    "age = 25\n",
    "print(f'내년엔 {age + 1}살이 됩니다.')  # 내년엔 26살이 됩니다."
   ],
   "metadata": {
    "collapsed": false,
    "ExecuteTime": {
     "end_time": "2024-02-26T03:07:38.972068700Z",
     "start_time": "2024-02-26T03:07:38.954489400Z"
    }
   },
   "id": "264a784b6d86beae",
   "execution_count": 9
  },
  {
   "cell_type": "code",
   "outputs": [
    {
     "name": "stdout",
     "output_type": "stream",
     "text": [
      "10\n",
      "<class 'str'>\n",
      "<class 'int'>\n"
     ]
    }
   ],
   "source": [
    "# 표준입력\n",
    "# input() 함수 : 표준 입력 장치(키보드)로 부터 입력받을 때 사용\n",
    "# n = input('')\n",
    "# print(n)\n",
    "\n",
    "n = input('정수를 입력하세요.')  # 100 # 파이썬은 입력을 받는 메소드가 input만 있음. nextInt, next ... 그런거 없음.\n",
    "print(n)\n",
    "print(type(n))  # <class 'str'> / input() 함수는 모든 입력을 '문자열 str' 로 저장됨.\n",
    "\n",
    "n = int(input('정수를 입력하세요.'))  # 정수로 형변환\n",
    "# n = input('정수를 입력하세요.') # 100\n",
    "# n = int(n)\n",
    "print(type(n))  # <class 'int'>"
   ],
   "metadata": {
    "collapsed": false,
    "ExecuteTime": {
     "end_time": "2024-02-26T03:21:23.445971300Z",
     "start_time": "2024-02-26T03:21:20.927010900Z"
    }
   },
   "id": "4ce2c83954cad168",
   "execution_count": 19
  },
  {
   "cell_type": "code",
   "outputs": [
    {
     "name": "stdout",
     "output_type": "stream",
     "text": [
      "입력된 이름은 김김김 입니다.\n",
      "입력된 나이는 15 입니다.\n"
     ]
    }
   ],
   "source": [
    "name = input('이름을 입력하세요 >>> ')\n",
    "age = input('나이를 입력하세요 >>>')\n",
    "\n",
    "print('입력된 이름은 {} 입니다.'.format(name))  # format 메서드를 이용한 출력\n",
    "print('입력된 나이는 {} 입니다.'.format(age))"
   ],
   "metadata": {
    "collapsed": false,
    "ExecuteTime": {
     "end_time": "2024-02-26T03:26:12.852077700Z",
     "start_time": "2024-02-26T03:26:08.458354300Z"
    }
   },
   "id": "53799f50e630cd69",
   "execution_count": 20
  },
  {
   "cell_type": "code",
   "outputs": [
    {
     "name": "stdout",
     "output_type": "stream",
     "text": [
      "1.23 와 2.34 의 합은 3.57 입니다.\n",
      "1.23 와 2.34 의 합은 3.57 입니다.\n"
     ]
    }
   ],
   "source": [
    "# 1. 사용자로부터 2개의 실수를 입력받아 합계를 구하는 프로그램을 구현하세요.\n",
    "\n",
    "# 실행 예)\n",
    "# 첫 번째 실수를 입력하세요 >>> 1.23\n",
    "# 두 번째 실수를 입력하세요 >>> 2.34\n",
    "# 1.23 와 2.34 의 합은 3.57 입니다.\n",
    "\n",
    "a = float(input('첫 번째 실수를 입력하세요 >>> '))\n",
    "b = float(input('두 번째 실수를 입력하세요 >>> '))\n",
    "print('{} 와 {} 의 합은 {} 입니다.'.format(a, b, (b + a)))\n",
    "\n",
    "print(f'{a} 와 {b} 의 합은 {a + b} 입니다.')\n",
    "\n",
    "\n",
    "\n"
   ],
   "metadata": {
    "collapsed": false,
    "ExecuteTime": {
     "end_time": "2024-02-26T03:36:33.446843800Z",
     "start_time": "2024-02-26T03:36:30.675919400Z"
    }
   },
   "id": "170919deeee14851",
   "execution_count": 4
  },
  {
   "cell_type": "code",
   "outputs": [
    {
     "name": "stdout",
     "output_type": "stream",
     "text": [
      "2\n",
      "28\n",
      "2월은 28 까지 있습니다\n",
      "2월은 28 일까지 있습니다.\n"
     ]
    }
   ],
   "source": [
    "# 사용자로부터 1에서 12 사이의 월을 입력 받아 해당 월이 며칠까지 있는지 출력하는 프로그램을 구현하세요.\n",
    "# 실행 예)\n",
    "# 1~ 12 사이의 월을 입력하세요 >>> 2\n",
    "# 2월은 28일 까지 있습니다.\n",
    "\n",
    "# 1. 리스트 사용\n",
    "intputUser = int(input('1~12사이의 월을 입력하세요 >>> '))\n",
    "# 1 ~ 12 사이의 값을 받음\n",
    "days = [31, 28, 31, 30, 31, 30, 31, 31, 30, 31, 30, 31]\n",
    "day = month[intputUser - 1]\n",
    "print(intputUser)\n",
    "print(day)\n",
    "print(f'{intputUser}월은 {day} 까지 있습니다')\n",
    "\n",
    "# 2. 딕셔너리 사용\n",
    "days_dict = {1: 31, 2: 28, 3: 31, 4: 30, 5: 31, 6: 30, 7: 30, 8: 31, 9: 30, 10: 30, 11: 30, 12: 31}\n",
    "print(f'{intputUser}월은 {days_dict[intputUser]} 일까지 있습니다.')\n",
    "\n"
   ],
   "metadata": {
    "collapsed": false,
    "ExecuteTime": {
     "end_time": "2024-02-26T03:48:51.896607900Z",
     "start_time": "2024-02-26T03:48:50.987604400Z"
    }
   },
   "id": "97c7323e04615829",
   "execution_count": 29
  },
  {
   "cell_type": "code",
   "outputs": [
    {
     "ename": "KeyError",
     "evalue": "'제주'",
     "output_type": "error",
     "traceback": [
      "\u001B[1;31m---------------------------------------------------------------------------\u001B[0m",
      "\u001B[1;31mKeyError\u001B[0m                                  Traceback (most recent call last)",
      "Cell \u001B[1;32mIn[41], line 12\u001B[0m\n\u001B[0;32m      8\u001B[0m \u001B[38;5;66;03m# 실행 예)\u001B[39;00m\n\u001B[0;32m      9\u001B[0m \u001B[38;5;66;03m# 영어 단어를 입력하세요 >>> flower\u001B[39;00m\n\u001B[0;32m     10\u001B[0m \u001B[38;5;66;03m# flower : 꽃\u001B[39;00m\n\u001B[0;32m     11\u001B[0m intputUser2 \u001B[38;5;241m=\u001B[39m \u001B[38;5;28minput\u001B[39m(\u001B[38;5;124m'\u001B[39m\u001B[38;5;124m영어 단어를 입력하세요 >>>\u001B[39m\u001B[38;5;124m'\u001B[39m)\n\u001B[1;32m---> 12\u001B[0m \u001B[38;5;28mprint\u001B[39m(\u001B[38;5;124mf\u001B[39m\u001B[38;5;124m'\u001B[39m\u001B[38;5;132;01m{\u001B[39;00mintputUser2\u001B[38;5;132;01m}\u001B[39;00m\u001B[38;5;124m: \u001B[39m\u001B[38;5;132;01m{\u001B[39;00menglish_dict[intputUser2]\u001B[38;5;132;01m}\u001B[39;00m\u001B[38;5;124m'\u001B[39m)\n\u001B[0;32m     13\u001B[0m \u001B[38;5;28mprint\u001B[39m(\u001B[38;5;124m'\u001B[39m\u001B[38;5;132;01m{}\u001B[39;00m\u001B[38;5;124m: \u001B[39m\u001B[38;5;132;01m{}\u001B[39;00m\u001B[38;5;124m'\u001B[39m\u001B[38;5;241m.\u001B[39mformat(english_dict[intputUser2]))\n\u001B[0;32m     14\u001B[0m \u001B[38;5;66;03m# 4. 수학여행을 어디로 갈지 결정하기 위해 학생들이 희망하는 모든 수학여행 장소를 조사하기로 했습니다.\u001B[39;00m\n\u001B[0;32m     15\u001B[0m \u001B[38;5;66;03m# 학생들이 원하는 장소를 입력받아 동일한 입력은 무시하고 모든 입력을 저장하려고 합니다.\u001B[39;00m\n\u001B[0;32m     16\u001B[0m \u001B[38;5;66;03m# 학생을 3명으로 가정하고 실행 예와 같이 동작하는 프로그램을 구현하세요.\u001B[39;00m\n\u001B[1;32m   (...)\u001B[0m\n\u001B[0;32m     21\u001B[0m \u001B[38;5;66;03m# 희망하는 수학여행지를 입력하세요 >>> 민속촌\u001B[39;00m\n\u001B[0;32m     22\u001B[0m \u001B[38;5;66;03m# 조사된 수학여행지는 {'제주', '민속촌'} 입니다.\u001B[39;00m\n",
      "\u001B[1;31mKeyError\u001B[0m: '제주'"
     ]
    }
   ],
   "source": [
    "# 3. 파이썬으로 영어사전을 구현하고자 합니다.\n",
    "# 다음과 같은 딕셔너리(dict)를 하나 생성하고 실행 예와 같이 동작하는 프로그램을 구현하세요.\n",
    "english_dict = {\n",
    "    'flower': '꽃',\n",
    "    'fly': '날다',\n",
    "    'floor': '바닥'\n",
    "}\n",
    "# 실행 예)\n",
    "# 영어 단어를 입력하세요 >>> flower\n",
    "# flower : 꽃\n",
    "intputUser2 = input('영어 단어를 입력하세요 >>>')\n",
    "print(f'{intputUser2}: {english_dict[intputUser2]}')\n",
    "print('{}: {}'.format(english_dict[intputUser2]))\n",
    "# 4. 수학여행을 어디로 갈지 결정하기 위해 학생들이 희망하는 모든 수학여행 장소를 조사하기로 했습니다.\n",
    "# 학생들이 원하는 장소를 입력받아 동일한 입력은 무시하고 모든 입력을 저장하려고 합니다.\n",
    "# 학생을 3명으로 가정하고 실행 예와 같이 동작하는 프로그램을 구현하세요.\n",
    "\n",
    "# 실행 예)\n",
    "# 희망하는 수학여행지를 입력하세요 >>> 제주\n",
    "# 희망하는 수학여행지를 입력하세요 >>> 제주\n",
    "# 희망하는 수학여행지를 입력하세요 >>> 민속촌\n",
    "# 조사된 수학여행지는 {'제주', '민속촌'} 입니다.\n",
    "\n",
    "intputUser3 = input('희망하는 수학여행지를 입력하세요 >>> ')\n",
    "intputUser4 = input('희망하는 수학여행지를 입력하세요 >>> ')\n",
    "intputUser5 = input('희망하는 수학여행지를 입력하세요 >>> ')\n",
    "result = {intputUser3, intputUser4, intputUser5}\n",
    "print(f'조사된 수학여행지는 {result} 입니다.')\n",
    "\n",
    "s= set()\n",
    "s.add(input('희망하는 수학여행지를 입력하세요 >>>'))\n",
    "s.add(input('희망하는 수학여행지를 입력하세요 >>>'))\n",
    "s.add(input('희망하는 수학여행지를 입력하세요 >>>'))\n",
    "print('조사된 수학여행지는 {} 입니다.'.format(s))\n",
    "\n",
    "li = list()\n",
    "li.append(input('희망하는 수학여행지를 입력하세요 >>>'))\n",
    "li.append(input('희망하는 수학여행지를 입력하세요 >>>'))\n",
    "li.append(input('희망하는 수학여행지를 입력하세요 >>>'))\n",
    "print(f'조사된 수학여행지는 {set(li)} 입니다.')\n"
   ],
   "metadata": {
    "collapsed": false,
    "ExecuteTime": {
     "end_time": "2024-02-26T05:17:21.105769300Z",
     "start_time": "2024-02-26T05:17:19.055726800Z"
    }
   },
   "id": "2acfa6ffd9463920",
   "execution_count": 41
  }
 ],
 "metadata": {
  "kernelspec": {
   "display_name": "Python 3",
   "language": "python",
   "name": "python3"
  },
  "language_info": {
   "codemirror_mode": {
    "name": "ipython",
    "version": 2
   },
   "file_extension": ".py",
   "mimetype": "text/x-python",
   "name": "python",
   "nbconvert_exporter": "python",
   "pygments_lexer": "ipython2",
   "version": "2.7.6"
  }
 },
 "nbformat": 4,
 "nbformat_minor": 5
}
