{
 "cells": [
  {
   "cell_type": "markdown",
   "source": [
    "#### 메소드\n",
    "- 메소드(method) 란 \n",
    "- 특정 객체(object)가 가지고 있는 함수 function을 의미\n",
    "- 함수는 독립적으로 호출할 수 있지만, 메소드는 특정 객체를 통해서만 호출할 수 있음\n",
    "\n",
    "- 함수와 다르게 메소드는 특정 객체 소속이어서, 메소드를 호출하려면\n",
    "- 특정 객체를 통해서만 호출 가능\n",
    "\n",
    "#### 1. 문자열 메소드\n",
    "- 문자열 str 을 처리하기 위해 많은 메소드를 제공"
   ],
   "metadata": {
    "collapsed": false
   },
   "id": "7a130144cc023ee"
  },
  {
   "cell_type": "code",
   "outputs": [
    {
     "name": "stdout",
     "output_type": "stream",
     "text": [
      "10자리 폭 왼 쪽 정렬 '123       '\n",
      "10자리 폭 오른 쪽 정렬 '       123'\n",
      "10자리 폭 가운데 정렬 '   123    '\n",
      "\n",
      "10자리 폭 왼 쪽 정렬 채움문자 '123*******'\n",
      "10자리 폭 오른 쪽 정렬 채움문자 '*******123'\n",
      "10자리 폭 가운데 쪽 정렬 채움문자 '***123****'\n"
     ]
    }
   ],
   "source": [
    "# 1) format()\n",
    "# 정렬 옵션\n",
    "# < : 지정된 공간 내에서 왼쪽 정렬\n",
    "# > : 지정된 공간 내에서 오른쪽 정렬\n",
    "# ^ : 지정된 공간 내에서 가운데 정렬\n",
    "\n",
    "# 10d는 10자리의 필드 폭을 의미\n",
    "print(\"10자리 폭 왼 쪽 정렬 '{:<10d}'\".format(123))  # 10자리 폭 왼 쪽 정렬 '123       '\n",
    "print(\"10자리 폭 오른 쪽 정렬 '{:>10d}'\".format(123))  # 10자리 폭 오른 쪽 정렬 '       123'\n",
    "print(\"10자리 폭 가운데 정렬 '{:^10d}'\".format(123))  # 10자리 폭 가운데 정렬 '   123    '\n",
    "print()\n",
    "# 채움문자를 지정하면 공백 대신 채움문자가 빈자리를 채움\n",
    "print(\"10자리 폭 왼 쪽 정렬 채움문자 '{:*<10d}'\".format(123))  # 10자리 폭 왼 쪽 정렬 채움문자 '123*******'\n",
    "print(\"10자리 폭 오른 쪽 정렬 채움문자 '{:*>10d}'\".format(123))  # 10자리 폭 오른 쪽 정렬 채움문자 '*******123'\n",
    "print(\"10자리 폭 가운데 쪽 정렬 채움문자 '{:*^10d}'\".format(123))  # 10자리 폭 가운데 쪽 정렬 채움문자 '***123****'\n",
    "\n",
    "# 현재는 많이는 사용안한다."
   ],
   "metadata": {
    "collapsed": false,
    "ExecuteTime": {
     "end_time": "2024-02-28T00:11:24.277870100Z",
     "start_time": "2024-02-28T00:11:24.220206100Z"
    }
   },
   "id": "9072d7f295e41830",
   "execution_count": 1
  },
  {
   "cell_type": "code",
   "outputs": [
    {
     "name": "stdout",
     "output_type": "stream",
     "text": [
      "4\n",
      "6\n",
      "1\n",
      "1\n"
     ]
    }
   ],
   "source": [
    "# 2) count\n",
    "# 문자열 내부에 포함된 특정 문자열의 개수를 반환하는 메소드\n",
    "\n",
    "s = '내가 그린 기린 그림은 목 긴 기린 그림이고, 네가 그린 기린 그림은 목 짧은 기린 그림이다.'\n",
    "print(s.count('기린'))  # 출력: 4\n",
    "print(s.find('기린'))  # 6\n",
    "\n",
    "# 시작 인덱스를 지정하여 그 이후로 나타나는 특정 문자열의 개수를 세어보기\n",
    "# 인덱스를 지정해서 범위를 지정할 수 있음\n",
    "s = 'best of best'\n",
    "print(s.count('best', 5))  # 출력: 1 / 인덱스 5번 부터 검색\n",
    "\n",
    "# 마이너스 인덱스를 사용하여 문자열의 뒤에서부터 검색 범위를 지정하기\n",
    "\n",
    "# 마이너스 인덱스를 사용할 수 있음\n",
    "s = 'best of best'\n",
    "print(s.count('best', -7))  # 출력: 1 / o 부터 검색"
   ],
   "metadata": {
    "collapsed": false,
    "ExecuteTime": {
     "end_time": "2024-02-28T01:17:35.826982200Z",
     "start_time": "2024-02-28T01:17:35.789880200Z"
    }
   },
   "id": "4c7b33a73417cae3",
   "execution_count": 5
  },
  {
   "cell_type": "code",
   "outputs": [
    {
     "name": "stdout",
     "output_type": "stream",
     "text": [
      "1\n",
      "-1\n",
      "apple\n",
      "0\n",
      "8\n",
      "8\n"
     ]
    }
   ],
   "source": [
    "# 3) find()\n",
    "# 문자열 내부에 포함된 특정 문자열을 찾고자 할 때 사용\n",
    "# 찾고자 하는 문자열이 있으면 그 문자열이 처음으로 나온 위치 즉 인덱스(index) 를 반환\n",
    "\n",
    "# 정리\n",
    "# .find() 메소드는 Python에서 문자열 내에 특정 부분 문자열이 처음으로 나타나는 위치의 인덱스를 반환\n",
    "\n",
    "s = 'apple'\n",
    "print(s.find('p'))  # 1\n",
    "\n",
    "# 찾는 문자열이 없는 경우 -1 반환\n",
    "s = 'apple'\n",
    "print(s.find('z'))  # -1\n",
    "\n",
    "## find메소드 활용\n",
    "# 1. 특정 문자열의 존재 여부 확인: .find() 메소드의 반환값이 -1인지 아닌지를 확인하여 특정 문자열의 존재 여부를 판단\n",
    "# 2. 검색 범위 지정: .find() 메소드에는 시작 인덱스를 옵션으로 지정할 수 있어, 문자열의 특정 부분에서부터 검색을 할 수있음.\n",
    "#    문자열의 일부분에서만 검색을 수행하고자 할 때 유용합니다.\n",
    "\n",
    "if s.find('z') == -1:\n",
    "    print(s)\n",
    "\n",
    "# 인덱스를 이용해서 검색할 범위를 지정 가능\n",
    "# 시작할 인덱스를 지정하지 않는 경우에는 문자열의 처음부터 찾고, 시작할 인덱스를 지정하는 경우 지정된 인덱스부터 찾음\n",
    "s = 'best of best'\n",
    "print(s.find('best'))  # 0\n",
    "print(s.find('best', 5))  # 8\n",
    "\n",
    "# find() 메소드와 찾는 방향이 다른 rfind() 메소드 . right + find()\n",
    "# right와 find 를 합친 이름으로 오른쪽 부터 찾음\n",
    "s = 'best of best'\n",
    "print(s.rfind('best'))  # 8"
   ],
   "metadata": {
    "collapsed": false,
    "ExecuteTime": {
     "end_time": "2024-02-28T01:06:25.333340Z",
     "start_time": "2024-02-28T01:06:25.302487800Z"
    }
   },
   "id": "272b50a8162e7523",
   "execution_count": 45
  },
  {
   "cell_type": "code",
   "outputs": [
    {
     "name": "stdout",
     "output_type": "stream",
     "text": [
      "1\n",
      "0\n"
     ]
    }
   ],
   "source": [
    "# 4) index()\n",
    "# find() 메소드와 같은 역할을 수행하며 사용방법도 동일하다. 두 메소드의 차이점은 문자열이 없을 때 발생\n",
    "# find() 메소드는 찾는 문자열이 없는 경우 -1을 반환, index() 메소드는 오류 발생\n",
    "\n",
    "s = 'apple'\n",
    "# find() 메소드 사용 예\n",
    "print(s.find('p'))  # 1\n",
    "print(s.find('z'))  # -1\n",
    "\n",
    "# index() 메소드 사용 예\n",
    "print(s.index('p'))  # 1\n",
    "# print(s.index('z'))  # ValueError: substring not found\n",
    "# 통상적으로 index()는 잘 사용안하고 find()을 사용함\n",
    "# 빈 문자열 검색\n",
    "print(s.index(''))  # 0\n"
   ],
   "metadata": {
    "collapsed": false,
    "ExecuteTime": {
     "end_time": "2024-02-28T00:49:53.670076Z",
     "start_time": "2024-02-28T00:49:53.645822400Z"
    }
   },
   "id": "e4cecbce97679ff6",
   "execution_count": 44
  },
  {
   "cell_type": "code",
   "outputs": [
    {
     "name": "stdout",
     "output_type": "stream",
     "text": [
      "BEST OF BEST\n",
      "best of best\n",
      "Best of best\n"
     ]
    }
   ],
   "source": [
    "# 5) 대소문자 변환 메소드 #str(문자열) 타입에서만 가능한 메소드\n",
    "# upper : 모두 대문자로 변환한 결과를 반환\n",
    "# lower : 모두 소문자로 변환한 결과를 반환\n",
    "# capitalize : 첫 글자는 대문자로 변환하고 나머지는 소문자로 변환한 결과를 반환\n",
    "\n",
    "s = 'Best of best'\n",
    "print(s.upper())  # BEST OF BEST\n",
    "print(s.lower())  # best of best\n",
    "print(s.capitalize())  # Best of best . 첫글자만 대문자로 변환하고 나머지 글자는 소문자로 변환"
   ],
   "metadata": {
    "collapsed": false,
    "ExecuteTime": {
     "end_time": "2024-02-28T00:28:24.740702800Z",
     "start_time": "2024-02-28T00:28:24.700050300Z"
    }
   },
   "id": "62c54952a4593103",
   "execution_count": 24
  },
  {
   "cell_type": "code",
   "outputs": [
    {
     "name": "stdout",
     "output_type": "stream",
     "text": [
      "\n",
      "p-y-t-h-o-n\n",
      "a+b+c+d+e\n",
      "x y z\n",
      "ab\n"
     ]
    }
   ],
   "source": [
    "# 6) join() # 거의 쓸일이 없음\n",
    "# 인수로 전달한 반복가능객체(문자열, 리스트 등)의 각 요소 사이에\n",
    "# 문자열을 포함시켜 새로운 문자열을 만들고 그 결과를 반환\n",
    "\n",
    "print('-'.join('python'))  # p-y-t-h-o-n\n",
    "\n",
    "print('+'.join(['a', 'b', 'c', 'd', 'e']))  # a+b+c+d+e\n",
    "\n",
    "# 포함하는 문자 없이 단순하게 리스트의 요소들을 연결하고자 한다면 빈 문자열 사용\n",
    "print(' '.join(['x', 'y', 'z']))  # x y z\n",
    "a = {'a': 'apple', 'b': 'banana'}\n",
    "print(''.join(a))  # ab / 딕셔너리의 경우 key를 연결\n",
    "\n",
    "# 실제 이러한 작업이 필요한 경우 for문으로도 가능해서 이 함수를 쓰면 좋지만\n",
    "# 거기 까지 생각이 안나서 잘 안쓰게됨"
   ],
   "metadata": {
    "collapsed": false,
    "ExecuteTime": {
     "end_time": "2024-02-28T00:32:39.810459100Z",
     "start_time": "2024-02-28T00:32:39.786139100Z"
    }
   },
   "id": "c81d6c06ac9b2cbb",
   "execution_count": 25
  },
  {
   "cell_type": "code",
   "outputs": [
    {
     "name": "stdout",
     "output_type": "stream",
     "text": [
      "['Life', 'is', 'too', 'short']\n",
      "['010', '1234', '5678']\n"
     ]
    }
   ],
   "source": [
    "# 7) split() #  문자열(str) 타입에서만 사용할 수 있는 메소드\n",
    "# 하나의 문자열을 여러 개의 문자열로 분리해서 저장한 리스트를 반환\n",
    "\n",
    "s = 'Life is too short'\n",
    "s2 = s.split()  # split() 메소드에 아무 인수도 전달하지 않으면 공백 문자를 기준으로 각 문자열이 분리\n",
    "\n",
    "print(s2)  # ['Life', 'is', 'too', 'short']\n",
    "\n",
    "s = '010-1234-5678'\n",
    "s2 = s.split('-')  # 공백 대신 특정 문자열을 기준으로 분리하는 기법\n",
    "print(s2)  # ['010', '1234', '5678']\n",
    "\n",
    "# 이건 반복문으로도 되지만 split()메소드를 사용하면 간단하게 처리가 가능함으로 알아두면 좋다."
   ],
   "metadata": {
    "collapsed": false,
    "ExecuteTime": {
     "end_time": "2024-02-28T00:35:50.188343300Z",
     "start_time": "2024-02-28T00:35:50.161888700Z"
    }
   },
   "id": "a205a58e570b8a6",
   "execution_count": 29
  },
  {
   "cell_type": "code",
   "outputs": [
    {
     "name": "stdout",
     "output_type": "stream",
     "text": [
      "Life is too long\n",
      "01012345678\n"
     ]
    }
   ],
   "source": [
    "# 8) replace()\n",
    "# 문자열의 일부 문자열을 다른 문자열로 바꾼 결과를 반환\n",
    "\n",
    "s = 'Life is too short'\n",
    "s2 = s.replace('short', 'long')\n",
    "print(s2)  # Life is too long\n",
    "\n",
    "# 특정 문자열을 제거하기 위한 용도로 사용 <- 자주 사용함\n",
    "s = '010-1234-5678'\n",
    "s2 = s.replace('-', '')  # - 제거\n",
    "print(s2)  #01012345678 \n",
    "\n",
    "# replace() 메소드의 경우 특정 문자열을 삭제하는 용도로 많이 사용한다.\n"
   ],
   "metadata": {
    "collapsed": false,
    "ExecuteTime": {
     "end_time": "2024-02-28T00:38:58.045672300Z",
     "start_time": "2024-02-28T00:38:58.025680700Z"
    }
   },
   "id": "d76d79987b7f1aa4",
   "execution_count": 31
  },
  {
   "cell_type": "code",
   "outputs": [
    {
     "name": "stdout",
     "output_type": "stream",
     "text": [
      "hello world\n",
      "10\n",
      "apple\n",
      "5\n",
      "apple is very short      \n",
      "apple is very short\n",
      "25\n",
      "19\n",
      "This is a test###\n",
      "---example\n"
     ]
    }
   ],
   "source": [
    "# 9) 불필요한 문자열 제거 메소드\n",
    "# 문자열 양끝에 있는 불필요한 문자열을 제거\n",
    "# strip() : 양쪽 끝에 있는 불필요한 문자열을 제거한 결과를 반환\n",
    "# lstrip() : 왼쪽 끝에 있는 불필요한 문자열을 제거한 결과를 반환\n",
    "# rstrip() : 오른쪽 끝에 있는 불필요한 문자열을 제거한 결과를 반환\n",
    "\n",
    "s = '  hello world  '\n",
    "s2 = s.strip()\n",
    "print(s2)  # 'hello world' . 양끝의 공백 제거\n",
    "\n",
    "s = '     apple'\n",
    "print(len(s))  # 10\n",
    "\n",
    "s2 = s.lstrip()\n",
    "print(s2)  # apple\n",
    "print(len(s2))  # 5 . 공백 5칸 제거\n",
    "\n",
    "# 공백도 문자열임.\n",
    "# 주로 공백제거 용도로 많이 사용함.\n",
    "\n",
    "s3 = 'apple is very short      '\n",
    "s4 = s3.rstrip()\n",
    "print(s3)  # apple is very short      \n",
    "print(s4)  # apple is very short  \n",
    "print(len(s3))  # 25\n",
    "print(len(s4))  # 19\n",
    "\n",
    "# 다른 언어(java)에서는 trim 이라는 메소드로 동일한 기능을 제공한다. \n",
    "# 대부분의 언어에 trim이나 strip라는 이름으로 불필요한 문자열 제거 메소드를 제공한다.\n",
    "\n",
    "s = '###This is a test###'\n",
    "s2 = s.lstrip('#')\n",
    "print(s2)  # 'This is a test###'\n",
    "# lstrip('#') 메소드는 문자열 왼쪽 끝에 있는 '#' 문자를 제거합니다.\n",
    "s = '---example---'\n",
    "s2 = s.rstrip('-')\n",
    "print(s2)  # '---example'\n",
    "# rstrip('-') 메소드는 문자열 오른쪽 끝에 있는 '-' 문자를 제거합니다.\n"
   ],
   "metadata": {
    "collapsed": false,
    "ExecuteTime": {
     "end_time": "2024-02-28T00:48:39.591443600Z",
     "start_time": "2024-02-28T00:48:39.563449700Z"
    }
   },
   "id": "61fa261d9e8f3d50",
   "execution_count": 41
  },
  {
   "cell_type": "code",
   "outputs": [
    {
     "name": "stdout",
     "output_type": "stream",
     "text": [
      "하이픈의 위치가 잘못되었습니다.\n",
      "['990324', '1676111']\n",
      "생년월일은 990324 입니다.\n",
      "생년월일은 990324입니다.\n"
     ]
    }
   ],
   "source": [
    "# 활용 1\n",
    "# 주민등록번호에서 생년월일 6자리를 추출하는 프로그램\n",
    "# 사용자로 부터 하이픈을 포함한 전체 주민등록번호를 입력받아 처리를 하는데\n",
    "# 만약 하이픈의 위치가 올바르지 않다면 오류 메시지를 출력하고 다시 입력 받도록 처리.\n",
    "\n",
    "# split을 시용한 방법\n",
    "while True:\n",
    "    p = input('주민등록번호를 입력하세요(하이픈을 포함해서 총 14자리) >>> ')\n",
    "    if p.find('-') != 6:  # 문자열 내부에 포함된 특정 문자열을 찾고자 할 때 사용\n",
    "        print('하이픈의 위치가 잘못되었습니다.')\n",
    "        continue\n",
    "    # e.g) 000000-0000000\n",
    "    birthday = p.split('-')\n",
    "    print(birthday)\n",
    "    print('생년월일은 {} 입니다.'.format(birthday[0]))\n",
    "    print(f'생년월일은 {p[0:6]}입니다.')  # 문자열 슬라이싱 사용\n",
    "    break"
   ],
   "metadata": {
    "collapsed": false,
    "ExecuteTime": {
     "end_time": "2024-02-28T01:16:13.657538300Z",
     "start_time": "2024-02-28T01:15:59.147099700Z"
    }
   },
   "id": "b25e2f8355e8309b",
   "execution_count": 4
  },
  {
   "cell_type": "markdown",
   "source": [
    "# 문제\n",
    "1. 우리나라의 전화번호는 '지역번호-국번-가입자 개별번호'형식으로 되어 있습니다.\n",
    "\n",
    "02-543-2109\n",
    "02-2345-6789\n",
    "032-789-0123\n",
    "031-4567-8900\n",
    "\n",
    "어떤 형식의 전화번호를 입력하더라도 '국번'을 추출하여 출력하는 프로그램을 구현하세요.\n",
    "\n",
    "실행 예)\n",
    "전화번호를 입력하세요 >>> 02-1234-5678\n",
    "1234\n",
    "\n",
    "2. '숫자3자리-숫자2자리-숫자5자리' 형식(예: 123-45-67890)의 사업자등록번호를 입력받아서 형식이 \n",
    "맞는지 점검하는 프로그램을 구현하세요.\n",
    "다음 지시사항을 모두 점검해야 합니다.\n",
    "\n",
    "지시사항\n",
    "1. 전체 글자 수를 점검합니다.\n",
    "2. 모든 하이픈(-)의 위치가 올바른지 점검합니다.\n",
    "3. 하이픈(-)을 제외하면 모두 숫자인지 점검합니다.\n",
    "\n",
    "실행 예) \n",
    "사업자등록번호를 입력하세요(예: 123-45-67890) >>> 123-사오-67890\n",
    "올바른 형식이 아닙니다.\n",
    "\n",
    "--------------------\n",
    "\n",
    "사업자등록번호를 입력하세요(예: 123-45-67890) >>> 123-4-67890\n",
    "올바른 형식이 아닙니다\n",
    "--------------------\n",
    "\n",
    "사업자등록번호를 입력하세요(예: 123-45-67890) >>> 123-45-67890\n",
    "올바른 형식입니다.\n",
    "\n",
    "힌트 : 숫자인지는 점검할 때는 isdecimal() 메서드를 이용합니다."
   ],
   "metadata": {
    "collapsed": false
   },
   "id": "3d088d99c6e8ce3"
  },
  {
   "cell_type": "code",
   "outputs": [
    {
     "name": "stdout",
     "output_type": "stream",
     "text": [
      "789\n",
      "4\n",
      "7\n",
      "789\n"
     ]
    }
   ],
   "source": [
    "# 문제1\n",
    "phone = input('전화번호를 입력하세요 >>> ')\n",
    "# 02-543-2109 \n",
    "# 02-2345-6789 \n",
    "# 032-789-0123 \n",
    "# 031-4567-8900\n",
    "\n",
    "# case1\n",
    "code = phone.split('-')[1]\n",
    "print(code)\n",
    "\n",
    "# case2\n",
    "start = phone.find('-') + 1  # 첫번째 '-' 이 나오는 인덱스의 다음 인덱스를 구함.\n",
    "end = phone.find('-', start)  # 인덱스로 범위를 지정해 두번째 '-' 인덱스를 구함\n",
    "print(start)  # 테스트 4\n",
    "print(end)  # 테스트 7\n",
    "code = phone[start:end]  # 문자열 슬라이싱을 사용\n",
    "print(code)"
   ],
   "metadata": {
    "collapsed": false,
    "ExecuteTime": {
     "end_time": "2024-02-28T01:45:14.780885300Z",
     "start_time": "2024-02-28T01:45:06.625692800Z"
    }
   },
   "id": "d3c97d8431c91fc5",
   "execution_count": 10
  },
  {
   "cell_type": "code",
   "outputs": [
    {
     "name": "stdout",
     "output_type": "stream",
     "text": [
      "올바른 형식이 아닙니다.\n",
      "0\n"
     ]
    }
   ],
   "source": [
    "# 문제 2\n",
    "\n",
    "# 형식검사:\n",
    "input_number = input('사업자등록번호를 입력하세요(예:123-45-67890 >>> ')\n",
    "if len(input_number) != 12:  # 전체 글자 수 점검\n",
    "    print('올바른 형식이 아닙니다.')\n",
    "    print('0')\n",
    "elif input_number.find('-') != 3 or input_number.find('-', 5) != 6:\n",
    "    print('올바른 형식이 아닙니다.')\n",
    "    print('1')  # 에러 코드 자체\n",
    "elif input_number.replace('-', '').isnumeric() !=1:  # - 제거\n",
    "    print('올바른 형식이 아닙니다.')  # 문자열이 들어간 경우\n",
    "    print('2')\n",
    "else:\n",
    "    print(input_number)\n",
    "    print('올바른 형식입니다.')\n",
    "# s = input_number.find('-')  # 3 # 6\n",
    "# print(s)\n",
    "\n"
   ],
   "metadata": {
    "collapsed": false,
    "ExecuteTime": {
     "end_time": "2024-02-28T01:59:56.279300500Z",
     "start_time": "2024-02-28T01:59:50.093359200Z"
    }
   },
   "id": "bf33c58539747ea1",
   "execution_count": 8
  },
  {
   "cell_type": "code",
   "outputs": [],
   "source": [
    "# case1\n",
    "\n",
    "no = input('사업자등록번호를 입력하세요(예:123-45-67890 >>> ')\n",
    "if len(no) != 12:  # 전체 글자수 (12) 확인\n",
    "    print('올바른 형식이 아닙니다.')\n",
    "elif no.find('-') != 3:  # 첫번째 '-' 위치 확인\n",
    "    print('올바른 형식이 아닙니다.')\n",
    "elif no.find('-', 4) != 6:  # 두번째 '-' 위치 확인\n",
    "    print('올바른 형식이 아닙니다.')\n",
    "elif not no.replace('-').isdecimal():  # '-' 을 제외한 문자가 숫자인지 확인\n",
    "    print('올바른 형식이 아닙니다.')\n",
    "else:\n",
    "    print('올바른 형식입니다.')"
   ],
   "metadata": {
    "collapsed": false
   },
   "id": "c98b19c6a3347d6b"
  },
  {
   "cell_type": "code",
   "outputs": [],
   "source": [
    "# case 2\n",
    "condition1 = (no.find('-') == 3)  # 첫번째 '-' 위치 확인\n",
    "condition2 = (no.find('-', 4) == 6)  # 두번째 '-' 위치 확인\n",
    "condition3 = (len(no)) == 12  # 전체 글자수 (12) 확인\n",
    "condition4 = (no.replace('-').isdecimal())  # '-' 을 제외한 문자가 숫자인지 확인\n",
    "if condition1 or condition2 or condition3 or condition4:\n",
    "    print('올바른 형식입니다.')\n",
    "else:\n",
    "    print('올바른 형식이 아닙니다.')"
   ],
   "metadata": {
    "collapsed": false
   },
   "id": "9d99f9e2c119e0cf"
  }
 ],
 "metadata": {
  "kernelspec": {
   "display_name": "Python 3",
   "language": "python",
   "name": "python3"
  },
  "language_info": {
   "codemirror_mode": {
    "name": "ipython",
    "version": 2
   },
   "file_extension": ".py",
   "mimetype": "text/x-python",
   "name": "python",
   "nbconvert_exporter": "python",
   "pygments_lexer": "ipython2",
   "version": "2.7.6"
  }
 },
 "nbformat": 4,
 "nbformat_minor": 5
}
