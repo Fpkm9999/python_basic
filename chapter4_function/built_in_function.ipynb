{
 "cells": [
  {
   "cell_type": "code",
   "outputs": [
    {
     "name": "stdout",
     "output_type": "stream",
     "text": [
      "0\n",
      "1\n",
      "A\n",
      "B\n",
      "a\n",
      "b\n",
      "\n",
      "65\n",
      "54620\n",
      "\n",
      "300\n",
      "50\n",
      "1\n"
     ]
    }
   ],
   "source": [
    "# chr() : 특정 문자의 유니코드 값을 전달하면 해당 유니코드 값을 가진 문자를 반환하는 함수\n",
    "# 유니코드의 유효범위 0 ~ 1,114,111 / 아스키코드의 유효 범위 0 ~ 127\n",
    "print(chr(48))  # 출력 : 0\n",
    "print(chr(49))  # 출력 : 1\n",
    "print(chr(65))  # 출력 : A\n",
    "print(chr(66))  # 출력 : B\n",
    "print(chr(97))  # 출력 : a\n",
    "print(chr(98))  # 출력 : b\n",
    "\n",
    "# ord() : 문자를 전달하면 해당 문자의 유니코드 값을 반환\n",
    "print()\n",
    "print(ord('A'))  # 출력 : 65\n",
    "print(ord('한'))  # 출력 : 54620\n",
    "\n",
    "# eval() : 실행하고자 하는 표현식(expression) 을 문자열로 전달하면 표현식의 결과값을 반환\n",
    "print()\n",
    "print(eval('100 + 200'))  # 출력 : 300\n",
    "a = 10\n",
    "print(eval('a * 5'))  # 출력 : 50\n",
    "print(eval('min(1, 2, 3)'))  # 출력 : 1"
   ],
   "metadata": {
    "collapsed": false,
    "ExecuteTime": {
     "end_time": "2024-02-28T11:47:38.585456Z",
     "start_time": "2024-02-28T11:47:38.561397Z"
    }
   },
   "id": "2b08b5186256b3a9",
   "execution_count": 2
  },
  {
   "cell_type": "code",
   "outputs": [
    {
     "name": "stdout",
     "output_type": "stream",
     "text": [
      "\n",
      "10000\n",
      "10_000\n",
      "10,000\n"
     ]
    }
   ],
   "source": [
    "# format() : 전달받은 인수와 포맷 코드에 따라 형식을 갖춘 문자열을 반환\n",
    "# 포멧 코드를 전달하지 않으면 str() 을 호출한 것과 같음\n",
    "\n",
    "print(format(10000))  # 출력 : 10000 / str(10000) 과 같음\n",
    "print(format(10000, '_'))  # 출력 : 10_000  / 천단위 구분 기호로 밑줄(_)을 사용\n",
    "print(format(10000, ','))  # 출력 : 10,000    / 천단위 구분 기호로 쉼표(,)를 사용"
   ],
   "metadata": {
    "collapsed": false,
    "ExecuteTime": {
     "end_time": "2024-02-28T11:49:17.646228Z",
     "start_time": "2024-02-28T11:49:17.627187Z"
    }
   },
   "id": "3c917d403fe889e6",
   "execution_count": 3
  },
  {
   "cell_type": "code",
   "outputs": [
    {
     "name": "stdout",
     "output_type": "stream",
     "text": [
      "10\n",
      "10\n",
      "(3, 1)\n",
      "<class 'tuple'>\n",
      "\n",
      "10\n",
      "5\n",
      "\n",
      "1\n",
      "1\n"
     ]
    }
   ],
   "source": [
    "# str() : 전달받은 인수를 문자열로 변환하여 반환\n",
    "\n",
    "# 2. 숫자 내장 함수. # 잘 사용하지는 않음.\n",
    "# abs() : 전달된 인수 (정수 혹은 실수)의 절대값을 반환\n",
    "print(abs(10))  # 출력 : 10\n",
    "print(abs(-10))  # 출력 : 10\n",
    "\n",
    "# divmod() : 전달된 두 인수를 나누어 몫과 나머지를 한 쌍의 결과로 반환. 몫과 나머지는 하나의 튜플(tuple)로 반환\n",
    "print(divmod(10, 3))  # 출력 : (3, 1)\n",
    "print(type(divmod(10, 3)))  # 출력 : <class 'tuple'>\n",
    "\n",
    "# float() : 전달된 인수(숫자 또는 문자열)를 실수로 만들어 반환. 전달된 인수가 없는 경우에는 0.0을 반환\n",
    "\n",
    "# int() : 전달된 인수(숫자 또는 문자열)를 정수로 만들어 반환. 전달된 인수가 없는 경우에는 0을 반환\n",
    "\n",
    "# max() : 전달된 인수 중 가장 큰 값을 반환\n",
    "print()\n",
    "print(max(1, 10))  # 출력 : 10\n",
    "li = [5, 3, 4, 2, 1]\n",
    "print(max(li))  # 출력 : 5\n",
    "\n",
    "# min() : 전달된 인수 중 가장 작은 값을 반환\n",
    "print()\n",
    "print(min(1, 10))  # 출력 : 1\n",
    "li = [5, 3, 4, 2, 1]\n",
    "print(min(li))  # 출력 : 1\n"
   ],
   "metadata": {
    "collapsed": false,
    "ExecuteTime": {
     "end_time": "2024-02-27T06:32:45.680446200Z",
     "start_time": "2024-02-27T06:32:45.657660200Z"
    }
   },
   "id": "1d3a69bb4c7c721a",
   "execution_count": 10
  },
  {
   "cell_type": "code",
   "outputs": [
    {
     "name": "stdout",
     "output_type": "stream",
     "text": [
      "100\n",
      "1000\n",
      "0.01\n",
      "0.001\n",
      "1331\n",
      "\n",
      "2\n",
      "1\n",
      "1.6\n",
      "2.67\n",
      "2.68\n",
      "\n",
      "15\n"
     ]
    }
   ],
   "source": [
    "# pow() : 전달된 두 인수의 거듭제곱을 반환. 연산자 중에서 거듭 제곱 연산자 ** 와 같음\n",
    "print(pow(10, 2))  # 출력 : 100\n",
    "print(pow(10, 3))  # 출력 : 1000\n",
    "print(pow(10, -2))  # 출력 : 0.01\n",
    "print(pow(10, -3))  # 출력 : 0.001\n",
    "print(pow(11, 3))  # 출력 : 1331\n",
    "\n",
    "# round : 전달된 인수를 이용해 반올림한 값을 반환\n",
    "# 전달된 인수가 하나이면 정수로 반올림한 값을 반환하고, 전달된 인수가 2개이면\n",
    "# 두 번째로 전달한 인수만큼 소수점을 남겨둠\n",
    "print()\n",
    "print(round(1.5))  # 출력 : 2\n",
    "print(round(1.4))  # 출력 : 1\n",
    "print(round(1.55, 1))  # 출력 : 1.6\n",
    "print(round(2.675, 2))  # 출력 : 2.67 -> 부동 소수점 에러로 인해 2.68이 아니라 2.67 이 반환\n",
    "print(round(2.6755, 2))  # 출력 : 2.68\n",
    "\n",
    "# sum() : 전달된 리스트나 튜플과 같은 반복가능객체의 합계를 반환\n",
    "# 숫자가 아닌 값을 전달하면 에러가 발생\n",
    "print()\n",
    "list1 = [1, 2, 3, 4, 5]\n",
    "print(sum(list1))  # 출력 : 15\n",
    "\n",
    "list2 = ['h', 'e', 'l', 'l', 'o']\n",
    "# print(sum(list2))\n",
    "# TypeError: unsupported operand type(s) for +: 'int' and 'str'\n",
    "# 문자열은 sum내장함수를 사용할 수 없다.\n"
   ],
   "metadata": {
    "collapsed": false,
    "ExecuteTime": {
     "end_time": "2024-02-28T11:58:07.890056Z",
     "start_time": "2024-02-28T11:58:07.872455Z"
    }
   },
   "id": "ecfefc65f5cf7a5e",
   "execution_count": 4
  },
  {
   "cell_type": "code",
   "outputs": [
    {
     "name": "stdout",
     "output_type": "stream",
     "text": [
      "더 이상 입력할 점수가 없으면 음수를 아무거나 입력하세요.\n",
      "평균 = 24.75, 최대 = 99, 최소 = 10\n"
     ]
    }
   ],
   "source": [
    "# 어떤 학생의 점수를 입력받아 평균점수, 최고 점수, 최저 점수를 구하는 성적 계산 프로그램을 구현하세요.\n",
    "# 다음 지시사항을 고려하여 구현하세요.\n",
    "# * 몇 개의 점수를 입력 받아야 하는지 모르는 상황입니다.\n",
    "# * 0보다 작은 점수를 입력하면 더 이상 입력할 점수가 없음을 의미합니다.\n",
    "# * 입력받은 모든 점수는 exam 리스트에 저장합니다.\n",
    "# * 마지막에 입력된 0 보다 작은 점수는 exam에 저장하지 않습니다.\n",
    "\n",
    "\"\"\"\n",
    "실행 예)\n",
    "점수를 입력하세요.\n",
    "더 이상 입력할 점수가 없으면 음수를 아무거나 입력하세요.\n",
    "점수 입력 >>> 80\n",
    "점수 입력 >>> 50\n",
    "점수 입력 >>> 60\n",
    "점수 입력 >>> 30\n",
    "점수 입력 >>> 90\n",
    "점수 입력 >>> -1\n",
    "평균 = 62.0, 최대 = 90, 최소 = 30\n",
    "\n",
    "len(exam)\n",
    "\"\"\"\n",
    "exam = []\n",
    "\n",
    "print('점수를 입력하세요.')\n",
    "print('더 이상 입력할 점수가 없으면 음수를 아무거나 입력하세요.')\n",
    "while True:\n",
    "    input_score = int(input('점수 입력 >>> '))\n",
    "    if input_score < 0:  # 0보다 작은 수를 입력 한 경우\n",
    "        break\n",
    "    exam.append(input_score)\n",
    "\n",
    "if len(exam) > 0:  # 점수가 하나라도 입력된 경우\n",
    "    max_exam = max(exam)\n",
    "    min_exam = min(exam)\n",
    "    avg_exam = sum(exam) / len(exam)\n",
    "    print(f'평균 = {avg_exam}, 최대 = {max_exam}, 최소 = {min_exam}')\n",
    "else:  # 점수가 하나도 입력되지 않은 경우\n",
    "    print('입력된 점수가 없습니다.')"
   ],
   "metadata": {
    "collapsed": false,
    "ExecuteTime": {
     "end_time": "2024-02-27T07:08:59.688552900Z",
     "start_time": "2024-02-27T07:08:55.896191300Z"
    }
   },
   "id": "3b6ad90a764d917e",
   "execution_count": 30
  },
  {
   "cell_type": "code",
   "outputs": [
    {
     "name": "stdout",
     "output_type": "stream",
     "text": [
      "(0, '가위')\n",
      "(1, '바위')\n",
      "(2, '보')\n",
      "0  /  가위\n",
      "1  /  바위\n",
      "2  /  보\n"
     ]
    }
   ],
   "source": [
    "# 3. 시퀀스 내장 함수\n",
    "\n",
    "for item in enumerate(['가위', '바위', '보']):\n",
    "    print(item)\n",
    "# 출력 : \n",
    "# (0, '가위')\n",
    "# (1, '바위')\n",
    "# (2, '보')\n",
    "\n",
    "for idx, element in enumerate(['가위', '바위', '보']):\n",
    "    print(idx, ' / ', element)\n",
    "# 출력 : \n",
    "# 0  /  가위\n",
    "# 1  /  바위\n",
    "# 2  /  보"
   ],
   "metadata": {
    "collapsed": false,
    "ExecuteTime": {
     "end_time": "2024-02-28T12:47:36.056836Z",
     "start_time": "2024-02-28T12:47:36.037921Z"
    }
   },
   "id": "7ad91df6dfe6d9aa",
   "execution_count": 5
  },
  {
   "cell_type": "code",
   "outputs": [
    {
     "name": "stdout",
     "output_type": "stream",
     "text": [
      "\n",
      "[0, 1, 2, 3, 4, 5, 6, 7, 8, 9]\n",
      "[1, 2, 3, 4, 5, 6, 7, 8, 9, 10]\n",
      "[0, 5, 10, 15, 20, 25]\n",
      "[0, 3, 6, 9]\n",
      "[0, -1, -2, -3, -4, -5, -6, -7, -8, -9]\n",
      "[]\n",
      "[]\n"
     ]
    }
   ],
   "source": [
    "# range() : 전달된 인수값에 따라 시퀀스 자료형의 데이터를 생성\n",
    "\n",
    "print(list(range(10)))  # 출력 : [0, 1, 2, 3, 4, 5, 6, 7, 8, 9]\n",
    "print(list(range(1, 11)))  # 출력 : [1, 2, 3, 4, 5, 6, 7, 8, 9, 10]\n",
    "print(list(range(0, 30, 5)))  # 출력 : [0, 5, 10, 15, 20, 25]\n",
    "print(list(range(0, 10, 3)))  # 출력 : [0, 3, 6, 9] # 0부터 9까지 3씩 증가\n",
    "print(list(range(0, -10, -1)))  # 출력 : [0, -1, -2, -3, -4, -5, -6, -7, -8, -9]\n",
    "print(list(range(0)))  # 출력 : [] # 0까지\n",
    "print(list(range(1, 0)))  # 출력 : [] # 1부터 0 까지"
   ],
   "metadata": {
    "collapsed": false,
    "ExecuteTime": {
     "end_time": "2024-02-28T12:59:22.465517Z",
     "start_time": "2024-02-28T12:59:22.453994Z"
    }
   },
   "id": "6843de3e781459f7",
   "execution_count": 6
  },
  {
   "cell_type": "code",
   "outputs": [
    {
     "name": "stdout",
     "output_type": "stream",
     "text": [
      "\n",
      "4\n",
      "2\n",
      "10\n",
      "9\n"
     ]
    }
   ],
   "source": [
    "# len() : 함수에 전달된 객체의 길이(항목 수)를 반환\n",
    "print()\n",
    "li = ['a', 'b', 'c', 'd']\n",
    "print(len(li))  # 4\n",
    "\n",
    "d = {'a': 'apple', 'b': 'banana'}\n",
    "print(len(d))  # 출력 : 2 / 딕셔너리는 '키:값' 으로 구성된 한 쌍을 하나의 데이터로 봄\n",
    "\n",
    "print(len(range(10)))  # 출력 : 10         / range() 함수로 생성되는 값은 0,1,2,3,4,5,6,7,8,9\n",
    "print(len(range(1, 10)))  # 출력 : 9       / range() 함수로 생성되는 값은 1,2,3,4,5,6,6,7,8,9\n"
   ],
   "metadata": {
    "collapsed": false,
    "ExecuteTime": {
     "end_time": "2024-02-27T07:19:28.339627100Z",
     "start_time": "2024-02-27T07:19:28.319613800Z"
    }
   },
   "id": "433ed24d8b1ab7f6",
   "execution_count": 38
  },
  {
   "cell_type": "code",
   "outputs": [
    {
     "name": "stdout",
     "output_type": "stream",
     "text": [
      "2493541582352\n",
      "2493541582352\n",
      "2493541582352\n",
      "a and b are the same object\n"
     ]
    }
   ],
   "source": [
    "a = 42\n",
    "b = a\n",
    "c = 42\n",
    "\n",
    "print(id(a))  # a의 id 출력\n",
    "print(id(b))  # b의 id 출력, a와 같음\n",
    "print(id(c))  # c의 id 출력, Python은 작은 정수에 대해 같은 객체를 재사용할 수 있으므로 a, b와 같을 수 있음\n",
    "\n",
    "if a is b:\n",
    "    print(\"a and b are the same object\")\n",
    "\n",
    "if a is not c:\n",
    "    print(\"a and c are different objects\")  # 이 코드는 일반적으로 실행되지 않음, a와 c는 같은 값을 가지며, 작은 정수의 재사용으로 인해 같은 객체일 수 있음\n"
   ],
   "metadata": {
    "collapsed": false,
    "ExecuteTime": {
     "end_time": "2024-02-28T13:11:30.766834Z",
     "start_time": "2024-02-28T13:11:30.756304Z"
    }
   },
   "id": "27e955f7ad8b3677",
   "execution_count": 7
  },
  {
   "cell_type": "code",
   "outputs": [
    {
     "name": "stdout",
     "output_type": "stream",
     "text": [
      "봄 / spring\n",
      "여름 / summer\n",
      "가을 / fall\n",
      "겨울 / winter\n"
     ]
    }
   ],
   "source": [
    "# range() 함수와 리스트의 길이를 구하는 len() 함수를 함께 사용하면 리스트의 인덱스를 생성 가능\n",
    "seasons = ['봄', '여름', '가을', '겨울']\n",
    "seasons_eng = ['spring', 'summer', 'fall', 'winter']\n",
    "for idx in range(len(seasons)):\n",
    "    print(f'{seasons[idx]} / {seasons_eng[idx]}')\n",
    "\n",
    "# 출력\n",
    "# 봄 / spring\n",
    "# 여름 / summer\n",
    "# 가을 / fall\n",
    "# 겨울 / winter"
   ],
   "metadata": {
    "collapsed": false,
    "ExecuteTime": {
     "end_time": "2024-02-28T13:12:05.555624Z",
     "start_time": "2024-02-28T13:12:05.537565Z"
    }
   },
   "id": "d7f22c243d7afdac",
   "execution_count": 8
  },
  {
   "cell_type": "code",
   "outputs": [
    {
     "name": "stdout",
     "output_type": "stream",
     "text": [
      "January = 31일\n",
      "February = 28일\n",
      "March = 31일\n",
      "April = 30일\n",
      "May = 31일\n",
      "June = 30일\n",
      "July = 31일\n",
      "August = 31일\n",
      "September = 30일\n",
      "October = 31일\n",
      "November = 30일\n",
      "December = 31일\n",
      "\n",
      "January = 31일\n",
      "February = 28일\n",
      "March = 31일\n",
      "April = 30일\n",
      "May = 31일\n",
      "June = 30일\n",
      "July = 31일\n",
      "August = 31일\n",
      "September = 30일\n",
      "October = 31일\n",
      "November = 30일\n",
      "December = 31일\n",
      "\n",
      "January = 31일\n",
      "February = 28일\n",
      "March = 31일\n",
      "April = 30일\n",
      "May = 31일\n",
      "June = 30일\n",
      "July = 31일\n",
      "August = 31일\n",
      "September = 30일\n",
      "October = 31일\n",
      "November = 30일\n",
      "December = 31일\n",
      "\n",
      "January = 31일\n",
      "February = 28일\n",
      "March = 31일\n",
      "April = 30일\n",
      "May = 31일\n",
      "June = 30일\n",
      "July = 31일\n",
      "August = 31일\n",
      "September = 30일\n",
      "October = 31일\n",
      "November = 30일\n",
      "December = 31일\n"
     ]
    }
   ],
   "source": [
    "# 문제\n",
    "\n",
    "\n",
    "months_eng = ['January', 'February', 'March', 'April', 'May', 'June', 'July',\n",
    "              'August', 'September', 'October', 'November', 'December']\n",
    "months = [31, 28, 31, 30, 31, 30, 31, 31, 30, 31, 30, 31]\n",
    "\n",
    "# case1\n",
    "for idx in range(len(months)):\n",
    "    print(f'{months_eng[idx]} = {months[idx]}일')\n",
    "print()\n",
    "\n",
    "# case2 - enumrate\n",
    "for i, v in enumerate(months_eng):\n",
    "    print(f'{v} = {months[i]}일')\n",
    "print()\n",
    "\n",
    "# dict 사용\n",
    "months_dic = dict()\n",
    "for i, v in enumerate(months_eng):\n",
    "    months_dic.update({v: months[i]})\n",
    "for k, v in months_dic.items():\n",
    "    print(f'{k} = {v}일')\n",
    "print()\n",
    "# zip() 사용\n",
    "for item1, item2 in zip(months_eng, months):\n",
    "    print(f'{item1} = {item2}일')"
   ],
   "metadata": {
    "collapsed": false,
    "ExecuteTime": {
     "end_time": "2024-02-27T07:42:33.574095800Z",
     "start_time": "2024-02-27T07:42:33.557995500Z"
    }
   },
   "id": "335755d804ede7b4",
   "execution_count": 60
  },
  {
   "cell_type": "code",
   "outputs": [
    {
     "name": "stdout",
     "output_type": "stream",
     "text": [
      "['a', 'b', 'c', 'd']\n",
      "['d', 'c', 'b', 'a']\n",
      "[1, 2, 3, 4, 5, 6]\n",
      "[1, 2, 3, 4, 5, 6]\n",
      "[6, 5, 4, 3, 2, 1]\n",
      "\n",
      "[1, 2, 3, 4, 5, 6]\n",
      "[6, 3, 1, 2, 5, 4]\n",
      "\n",
      "[1, 2, 3, 4, 5, 6]\n",
      "\n",
      "('james', 60)\n",
      "('emily', 70)\n",
      "('amanda', 80)\n",
      "james의 점수는 60입니다.\n",
      "emily의 점수는 70입니다.\n",
      "amanda의 점수는 80입니다.\n",
      "\n",
      "james의 점수는 60입니다.\n",
      "emily의 점수는 70입니다.\n",
      "amanda의 점수는 80입니다.\n",
      "\n",
      "james의 점수는 60입니다.\n",
      "emily의 점수는 70입니다.\n",
      "amanda의 점수는 80입니다.\n"
     ]
    }
   ],
   "source": [
    "# sorted() : 전달된 반복가능객체의 오름차순 정렬 결과를 반환\n",
    "# reverse=True 옵션을 추가할 경우 내림차순 정렬 결과를 반환\n",
    "my_list2 = ['b', 'c', 'a', 'd']\n",
    "print(sorted(my_list2))  # ['a', 'b', 'c', 'd']\n",
    "print(sorted(my_list2, reverse=True))  # ['d', 'c', 'b', 'a']\n",
    "\n",
    "my_list = [6, 3, 1, 2, 5, 4]\n",
    "print(sorted(my_list))  # [1, 2, 3, 4, 5, 6]\n",
    "print(sorted(my_list, reverse=False))  # [1, 2, 3, 4, 5, 6]\n",
    "print(sorted(my_list, reverse=True))  # [6, 5, 4, 3, 2, 1]\n",
    "\n",
    "print()\n",
    "print(sorted(my_list))  # [1, 2, 3, 4, 5, 6]\n",
    "print(my_list)  # [6, 3, 1, 2, 5, 4] / 실제로 정렬이 된건 아님\n",
    "\n",
    "print()\n",
    "my_list = sorted(my_list)  # 오름차순 정렬 결과를 덮어쓰기\n",
    "print(my_list)  # [1, 2, 3, 4, 5, 6]\n",
    "\n",
    "# zip() : 전달된 여러 개의 반복가능객체의 각 요소를 튜플로 묶어서 반환\n",
    "# 전달된 반복가능객체들의 길이가 서로 다르면 길이가 짧은 반복가능객체 기준으로 동작\n",
    "print()\n",
    "names = ['james', 'emily', 'amanda']\n",
    "scores = [60, 70, 80]\n",
    "for student in zip(names, scores):\n",
    "    print(student)\n",
    "# 출력\n",
    "# ('james', 60)\n",
    "# ('emily', 70)\n",
    "# ('amanda', 80)\n",
    "\n",
    "# 튜플은 언패킹이 가능하므로 다음과 같은 모습으로 구성 가능\n",
    "for name, score in zip(names, scores):\n",
    "    print(f'{name}의 점수는 {score}입니다.')\n",
    "# james의 점수는 60입니다.\n",
    "# emily의 점수는 70입니다.\n",
    "# amanda의 점수는 80입니다.\n",
    "\n",
    "print()\n",
    "for idx, name in enumerate(names):\n",
    "    print(f'{name}의 점수는 {scores[idx]}입니다.')\n",
    "\n",
    "print()\n",
    "for idx in range(len(names)):\n",
    "    print(f'{names[idx]}의 점수는 {scores[idx]}입니다.')"
   ],
   "metadata": {
    "collapsed": false,
    "ExecuteTime": {
     "end_time": "2024-03-01T10:10:52.166066Z",
     "start_time": "2024-03-01T10:10:52.144011Z"
    }
   },
   "id": "bb55770605ec28f5",
   "execution_count": 3
  }
 ],
 "metadata": {
  "kernelspec": {
   "display_name": "Python 3",
   "language": "python",
   "name": "python3"
  },
  "language_info": {
   "codemirror_mode": {
    "name": "ipython",
    "version": 2
   },
   "file_extension": ".py",
   "mimetype": "text/x-python",
   "name": "python",
   "nbconvert_exporter": "python",
   "pygments_lexer": "ipython2",
   "version": "2.7.6"
  }
 },
 "nbformat": 4,
 "nbformat_minor": 5
}
