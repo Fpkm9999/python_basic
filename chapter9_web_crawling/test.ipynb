{
 "cells": [
  {
   "cell_type": "code",
   "execution_count": 59,
   "id": "initial_id",
   "metadata": {
    "collapsed": true,
    "ExecuteTime": {
     "end_time": "2024-03-07T02:47:41.647795Z",
     "start_time": "2024-03-07T02:47:41.629262Z"
    }
   },
   "outputs": [
    {
     "name": "stdout",
     "output_type": "stream",
     "text": [
      "['0600', '0620', '0730', '0750', '0840', '0900', '1010', '1030', '1120', '1140', '1500', '1520', '1640', '1700', '1920', '1940', '2040', '2100', '2330', '2350']\n",
      "1234\n",
      "0600, 0620, 0730, 0750, 0840, 0900, 1010, 1030, 1120, 1140, 1500, 1520, 1640, 1700, 1920, 1940, 2040, 2100, 2330, 2350\n",
      "0600, 0620, 0730, 0750, 0840, 0900, 1010, 1030, 1120, 1140, 1500, 1520, 1640, 1700, 1920, 1940, 2040, 2100, 2330, 2350\n"
     ]
    }
   ],
   "source": [
    "# 두 개의 문자열을 결합해서 정렬\n",
    "# \n",
    "t1wdayt: str = '0620, 0750, 0900, 1030, 1140, 1520, 1700, 1940, 2100, 2350'\n",
    "t2wdayt: str = '0600, 0730, 0840, 1010, 1120, 1500, 1640, 1920, 2040, 2330'\n",
    "# \n",
    "# # print(t1wdayt)\n",
    "# # print(list(t1wdayt.split(',')))\n",
    "# \n",
    "# list_temp = []\n",
    "# for i in list_temp:\n",
    "#     list_temp.append(t1wdayt)\n",
    "#     list_temp.append(t2wdayt)\n",
    "#     print(list_temp)\n",
    "# print(list_temp)\n",
    "# print(t1wdayt.split())\n",
    "# list_temp = t1wdayt.split()\n",
    "# list_temp = t2wdayt.split()\n",
    "# list_temp.append(t1wdayt)\n",
    "# list_temp.append(t2wdayt)\n",
    "# list_temp.sort()\n",
    "# print(list_temp)\n",
    "# 두 문자열을 결합하고 정렬하는 코드\n",
    "# 두 문자열을 리스트로 변환\n",
    "times_list = t1wdayt.split(', ') + t2wdayt.split(', ')\n",
    "# print(times_list)\n",
    "# ['0620', '0750', '0900', '1030', '1140', '1520', '1700', '1940', '2100', '2350', '0600', '0730', '0840', '1010', '1120', '1500', '1640', '1920', '2040', '2330']\n",
    "\n",
    "# print(type(times_list))\n",
    "# 리스트를 정수로 변환하여 정렬\n",
    "sorted_times = sorted(times_list,key=int) # , key=int)\n",
    "print(sorted_times)\n",
    "print('1234')\n",
    "# ['0600', '0620', '0730', '0750', '0840', '0900', '1010', '1030', '1120', '1140', '1500', '1520', '1640', '1700', '1920', '1940', '2040', '2100', '2330', '2350']\n",
    "\n",
    "# 정렬된 리스트를 문자열로 결합\n",
    "sorted_times_str = ', '.join(sorted_times)\n",
    "\n",
    "print(sorted_times_str)\n",
    "\n",
    "# print(sorted_times)\n",
    "###\n",
    "#1. 문자열 결합\n",
    "tmp: str = t1wdayt + ', ' + t2wdayt\n",
    "# print(f'{tmp}')\n",
    "# 0620, 0750, 0900, 1030, 1140, 1520, 1700, 1940, 2100, 2350, 0600, 0730, 0840, 1010, 1120, 1500, 1640, 1920, 2040, 2330\n",
    "# -> 정렬이 안됨\n",
    "# 2. 정렬을 위해 리스트로 변환\n",
    "tmp_list: list[str] = tmp.split(',')\n",
    "# print(tmp_list)\n",
    "# ['0620', ' 0750', ' 0900', ' 1030', ' 1140', ' 1520', ' 1700', ' 1940', ' 2100', ' 2350', ' 0600', ' 0730', ' 0840', ' 1010', ' 1120', ' 1500', ' 1640', ' 1920', ' 2040', ' 2330']\n",
    "# -> 공백이 포함된 문자열이 있음\n",
    "\n",
    "# 공백제거 후 리스트 처리\n",
    "tmp_list: list[str] = tmp.replace(' ','').split(',')\n",
    "# print(tmp_list)\n",
    "# ['0620', '0750', '0900', '1030', '1140', '1520', '1700', '1940', '2100', '2350', '0600', '0730', '0840', '1010', '1120', '1500', '1640', '1920', '2040', '2330']\n",
    "\n",
    "# 3. 중복 제거 후 정렬\n",
    "tmp_list = list(set(tmp_list)) # 중복 제거\n",
    "tmp_list.sort()\n",
    "# print(tmp_list)\n",
    "# ['0600', '0620', '0730', '0750', '0840', '0900', '1010', '1030', '1120', '1140', '1500', '1520', '1640', '1700', '1920', '1940', '2040', '2100', '2330', '2350']\n",
    "\n",
    "# 4. 문자열로 형변환. 예) 0600, 0620, 0730\n",
    "tmp_str = str(tmp_list)[1:-1].replace(\"'\",'')\n",
    "print(tmp_str)"
   ]
  },
  {
   "cell_type": "code",
   "outputs": [
    {
     "name": "stdout",
     "output_type": "stream",
     "text": [
      "['apple', 'banana', 'orange']\n"
     ]
    }
   ],
   "source": [
    "my_dict = {'apple': 5, 'banana': 2, 'orange': 3}\n",
    "sorted_dict_keys = sorted(my_dict)\n",
    "\n",
    "print(sorted_dict_keys)  # ['apple', 'banana', 'orange']\n"
   ],
   "metadata": {
    "collapsed": false,
    "ExecuteTime": {
     "end_time": "2024-03-07T04:39:59.701404Z",
     "start_time": "2024-03-07T04:39:59.688499Z"
    }
   },
   "id": "1d4cc555e60361a7",
   "execution_count": 1
  },
  {
   "cell_type": "code",
   "outputs": [],
   "source": [],
   "metadata": {
    "collapsed": false
   },
   "id": "f907c5c7639c0c7e"
  }
 ],
 "metadata": {
  "kernelspec": {
   "display_name": "Python 3",
   "language": "python",
   "name": "python3"
  },
  "language_info": {
   "codemirror_mode": {
    "name": "ipython",
    "version": 2
   },
   "file_extension": ".py",
   "mimetype": "text/x-python",
   "name": "python",
   "nbconvert_exporter": "python",
   "pygments_lexer": "ipython2",
   "version": "2.7.6"
  }
 },
 "nbformat": 4,
 "nbformat_minor": 5
}
