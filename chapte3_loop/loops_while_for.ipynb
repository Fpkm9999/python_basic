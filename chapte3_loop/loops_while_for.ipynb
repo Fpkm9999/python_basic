{
 "cells": [
  {
   "cell_type": "markdown",
   "source": [
    "# 반복문\n",
    "1. while 문"
   ],
   "metadata": {
    "collapsed": false
   },
   "id": "56458949398906ca"
  },
  {
   "cell_type": "code",
   "outputs": [
    {
     "name": "stdout",
     "output_type": "stream",
     "text": [
      "1\n",
      "2\n",
      "3\n",
      "4\n",
      "5\n",
      "6\n",
      "7\n",
      "8\n",
      "9\n",
      "10\n",
      "11\n"
     ]
    }
   ],
   "source": [
    "n = 1\n",
    "while n <= 10:\n",
    "    print(n)\n",
    "    n += 1  # n = n + 1\n",
    "print(n)\n",
    "# 1\n",
    "# 2\n",
    "# 3\n",
    "# 4\n",
    "# 5\n",
    "# 6\n",
    "# 7\n",
    "# 8\n",
    "# 9\n",
    "# 10\n",
    "# 11"
   ],
   "metadata": {
    "collapsed": false,
    "ExecuteTime": {
     "end_time": "2024-03-01T06:20:11.182989Z",
     "start_time": "2024-03-01T06:20:11.166982Z"
    }
   },
   "id": "d92031854dd34a72",
   "execution_count": 3
  },
  {
   "cell_type": "code",
   "outputs": [
    {
     "name": "stdout",
     "output_type": "stream",
     "text": [
      "10\n",
      "9\n",
      "8\n",
      "7\n",
      "6\n",
      "5\n",
      "4\n",
      "3\n",
      "2\n",
      "1\n",
      "0\n"
     ]
    }
   ],
   "source": [
    "### 1 부터 10 사이의 모든 정수를 역순으로 출력\n",
    "\n",
    "n = 10\n",
    "while n >= 1:\n",
    "    print(n)\n",
    "    n -= 1  # n = n - 1\n",
    "print(n)\n",
    "# 10\n",
    "# 9\n",
    "# 8\n",
    "# 7\n",
    "# 6\n",
    "# 5\n",
    "# 4\n",
    "# 3\n",
    "# 2\n",
    "# 1\n",
    "# 0"
   ],
   "metadata": {
    "collapsed": false,
    "ExecuteTime": {
     "end_time": "2024-03-01T06:20:49.994939Z",
     "start_time": "2024-03-01T06:20:49.977938Z"
    }
   },
   "id": "560905732f5b4192",
   "execution_count": 5
  },
  {
   "cell_type": "code",
   "outputs": [
    {
     "name": "stdout",
     "output_type": "stream",
     "text": [
      "100\n",
      "98\n",
      "96\n",
      "94\n",
      "92\n",
      "90\n",
      "88\n",
      "86\n",
      "84\n",
      "82\n",
      "80\n",
      "78\n",
      "76\n",
      "74\n",
      "72\n",
      "70\n",
      "68\n",
      "66\n",
      "64\n",
      "62\n",
      "60\n",
      "58\n",
      "56\n",
      "54\n",
      "52\n",
      "50\n"
     ]
    }
   ],
   "source": [
    "# 100 부터 50 사이의 짝수를 출력\n",
    "n = 100\n",
    "while n >= 50:\n",
    "    if n % 2 == 0:\n",
    "        print(n)\n",
    "    n -= 1\n",
    "\n"
   ],
   "metadata": {
    "collapsed": false,
    "ExecuteTime": {
     "end_time": "2024-03-01T06:22:04.639768Z",
     "start_time": "2024-03-01T06:22:04.624684Z"
    }
   },
   "id": "c09d3e216f5ba65b",
   "execution_count": 7
  },
  {
   "cell_type": "code",
   "outputs": [
    {
     "name": "stdout",
     "output_type": "stream",
     "text": [
      "100\n",
      "98\n",
      "96\n",
      "94\n",
      "92\n",
      "90\n",
      "88\n",
      "86\n",
      "84\n",
      "82\n",
      "80\n",
      "78\n",
      "76\n",
      "74\n",
      "72\n",
      "70\n",
      "68\n",
      "66\n",
      "64\n",
      "62\n",
      "60\n",
      "58\n",
      "56\n",
      "54\n",
      "52\n",
      "50\n"
     ]
    }
   ],
   "source": [
    "n = 100\n",
    "while n >= 50:\n",
    "    print(n)\n",
    "    n -= 2"
   ],
   "metadata": {
    "collapsed": false,
    "ExecuteTime": {
     "end_time": "2024-03-01T06:23:52.561340Z",
     "start_time": "2024-03-01T06:23:52.538789Z"
    }
   },
   "id": "80041e6b6b457f90",
   "execution_count": 9
  },
  {
   "cell_type": "code",
   "outputs": [
    {
     "name": "stdout",
     "output_type": "stream",
     "text": [
      "[1, 2, 3, 5, 1]\n"
     ]
    }
   ],
   "source": [
    "# 사용자로 부터 임의의 정수를 입력받아 모두 리스트에 보관\n",
    "# 단 사용자가 0을 입력하면 프로그램을 종료. 이 떄 입력받은 0은 리스트에 보관하지 않음\n",
    "\n",
    "my_list = []  # 빈 리스트 생성\n",
    "\n",
    "n = int(input('정수를 입력하세요(종료는 0입니다.) >>> '))  # 한번만 실행\n",
    "\n",
    "while n != 0:  # n이 0이 아니면  계속 실행\n",
    "    my_list.append(n)\n",
    "    n = int(input('정수를 입력하세요(종료는 0입니다. >>> '))\n",
    "\n",
    "print(my_list)"
   ],
   "metadata": {
    "collapsed": false,
    "ExecuteTime": {
     "end_time": "2024-03-01T06:47:19.236820Z",
     "start_time": "2024-03-01T06:47:15.394951Z"
    }
   },
   "id": "b1dc475456007f4b",
   "execution_count": 10
  },
  {
   "cell_type": "code",
   "outputs": [
    {
     "name": "stdout",
     "output_type": "stream",
     "text": [
      "[1, 2, 3, 5, 0]\n"
     ]
    }
   ],
   "source": [
    "my_list = []  # 빈 리스트 생성\n",
    "\n",
    "n = 1  # 0 이 아닌 초깃값을 주면 반복문이 실행 된다.\n",
    "\n",
    "while n != 0:  # n이 0이 아니면  계속 실행\n",
    "    n = int(input('정수를 입력하세요(종료는 0입니다. >>> '))\n",
    "    my_list.append(n)\n",
    "\n",
    "my_list.pop()  # my_list의 마지막 요소는 언제나 0이므로 제거합니다.\n",
    "print(my_list)"
   ],
   "metadata": {
    "collapsed": false,
    "ExecuteTime": {
     "end_time": "2024-03-01T06:49:07.622681Z",
     "start_time": "2024-03-01T06:49:05.650108Z"
    }
   },
   "id": "51d26595c6a99cc4",
   "execution_count": 12
  },
  {
   "cell_type": "code",
   "outputs": [
    {
     "name": "stdout",
     "output_type": "stream",
     "text": [
      "2 * 1 = 2\n",
      "2 * 2 = 4\n",
      "2 * 3 = 6\n",
      "2 * 4 = 8\n",
      "2 * 5 = 10\n",
      "2 * 6 = 12\n",
      "2 * 7 = 14\n",
      "2 * 8 = 16\n",
      "2 * 9 = 18\n",
      "3 * 1 = 3\n",
      "3 * 2 = 6\n",
      "3 * 3 = 9\n",
      "3 * 4 = 12\n",
      "3 * 5 = 15\n",
      "3 * 6 = 18\n",
      "3 * 7 = 21\n",
      "3 * 8 = 24\n",
      "3 * 9 = 27\n",
      "4 * 1 = 4\n",
      "4 * 2 = 8\n",
      "4 * 3 = 12\n",
      "4 * 4 = 16\n",
      "4 * 5 = 20\n",
      "4 * 6 = 24\n",
      "4 * 7 = 28\n",
      "4 * 8 = 32\n",
      "4 * 9 = 36\n",
      "5 * 1 = 5\n",
      "5 * 2 = 10\n",
      "5 * 3 = 15\n",
      "5 * 4 = 20\n",
      "5 * 5 = 25\n",
      "5 * 6 = 30\n",
      "5 * 7 = 35\n",
      "5 * 8 = 40\n",
      "5 * 9 = 45\n",
      "6 * 1 = 6\n",
      "6 * 2 = 12\n",
      "6 * 3 = 18\n",
      "6 * 4 = 24\n",
      "6 * 5 = 30\n",
      "6 * 6 = 36\n",
      "6 * 7 = 42\n",
      "6 * 8 = 48\n",
      "6 * 9 = 54\n",
      "7 * 1 = 7\n",
      "7 * 2 = 14\n",
      "7 * 3 = 21\n",
      "7 * 4 = 28\n",
      "7 * 5 = 35\n",
      "7 * 6 = 42\n",
      "7 * 7 = 49\n",
      "7 * 8 = 56\n",
      "7 * 9 = 63\n",
      "8 * 1 = 8\n",
      "8 * 2 = 16\n",
      "8 * 3 = 24\n",
      "8 * 4 = 32\n",
      "8 * 5 = 40\n",
      "8 * 6 = 48\n",
      "8 * 7 = 56\n",
      "8 * 8 = 64\n",
      "8 * 9 = 72\n",
      "9 * 1 = 9\n",
      "9 * 2 = 18\n",
      "9 * 3 = 27\n",
      "9 * 4 = 36\n",
      "9 * 5 = 45\n",
      "9 * 6 = 54\n",
      "9 * 7 = 63\n",
      "9 * 8 = 72\n",
      "9 * 9 = 81\n"
     ]
    }
   ],
   "source": [
    "# 구구단 2단 부터 9단 까지 출력\n",
    "# 단 앞에 제목, 마지막에 구분선을 넣어 볼것\n",
    "# 8 * 9 = 72\n",
    "# ==========\n",
    "# 9단\n",
    "# 9 * 1 = 9\n",
    "\n",
    "dan = 2  # 구구단의 단을 의미\n",
    "while dan <= 9:  # 9단 까지 반복해서 처리\n",
    "    n = 1\n",
    "    while n <= 9:  # 모든 dan 은 변수 1~9 까지 사ㅛㅇㅇ\n",
    "        print(f'{dan} * {n} = {dan * n}')\n",
    "        n += 1\n",
    "    dan += 1\n"
   ],
   "metadata": {
    "collapsed": false,
    "ExecuteTime": {
     "end_time": "2024-03-01T06:49:45.349872Z",
     "start_time": "2024-03-01T06:49:45.331865Z"
    }
   },
   "id": "4c275e151d26215e",
   "execution_count": 13
  },
  {
   "cell_type": "code",
   "outputs": [
    {
     "name": "stdout",
     "output_type": "stream",
     "text": [
      "2 단\n",
      "2 * 1 = 2\n",
      "2 * 2 = 4\n",
      "2 * 3 = 6\n",
      "2 * 4 = 8\n",
      "2 * 5 = 10\n",
      "2 * 6 = 12\n",
      "2 * 7 = 14\n",
      "2 * 8 = 16\n",
      "2 * 9 = 18\n",
      "==========\n",
      "3 단\n",
      "3 * 1 = 3\n",
      "3 * 2 = 6\n",
      "3 * 3 = 9\n",
      "3 * 4 = 12\n",
      "3 * 5 = 15\n",
      "3 * 6 = 18\n",
      "3 * 7 = 21\n",
      "3 * 8 = 24\n",
      "3 * 9 = 27\n",
      "==========\n",
      "4 단\n",
      "4 * 1 = 4\n",
      "4 * 2 = 8\n",
      "4 * 3 = 12\n",
      "4 * 4 = 16\n",
      "4 * 5 = 20\n",
      "4 * 6 = 24\n",
      "4 * 7 = 28\n",
      "4 * 8 = 32\n",
      "4 * 9 = 36\n",
      "==========\n",
      "5 단\n",
      "5 * 1 = 5\n",
      "5 * 2 = 10\n",
      "5 * 3 = 15\n",
      "5 * 4 = 20\n",
      "5 * 5 = 25\n",
      "5 * 6 = 30\n",
      "5 * 7 = 35\n",
      "5 * 8 = 40\n",
      "5 * 9 = 45\n",
      "==========\n",
      "6 단\n",
      "6 * 1 = 6\n",
      "6 * 2 = 12\n",
      "6 * 3 = 18\n",
      "6 * 4 = 24\n",
      "6 * 5 = 30\n",
      "6 * 6 = 36\n",
      "6 * 7 = 42\n",
      "6 * 8 = 48\n",
      "6 * 9 = 54\n",
      "==========\n",
      "7 단\n",
      "7 * 1 = 7\n",
      "7 * 2 = 14\n",
      "7 * 3 = 21\n",
      "7 * 4 = 28\n",
      "7 * 5 = 35\n",
      "7 * 6 = 42\n",
      "7 * 7 = 49\n",
      "7 * 8 = 56\n",
      "7 * 9 = 63\n",
      "==========\n",
      "8 단\n",
      "8 * 1 = 8\n",
      "8 * 2 = 16\n",
      "8 * 3 = 24\n",
      "8 * 4 = 32\n",
      "8 * 5 = 40\n",
      "8 * 6 = 48\n",
      "8 * 7 = 56\n",
      "8 * 8 = 64\n",
      "8 * 9 = 72\n",
      "==========\n",
      "9 단\n",
      "9 * 1 = 9\n",
      "9 * 2 = 18\n",
      "9 * 3 = 27\n",
      "9 * 4 = 36\n",
      "9 * 5 = 45\n",
      "9 * 6 = 54\n",
      "9 * 7 = 63\n",
      "9 * 8 = 72\n",
      "9 * 9 = 81\n",
      "==========\n"
     ]
    }
   ],
   "source": [
    "dan = 2  # 구구단의 단을 의미\n",
    "while dan <= 9:  # 9단 까지 반복해서 처리\n",
    "    n = 1\n",
    "    print(f'{dan} 단')\n",
    "    while n <= 9:  # 모든 dan 은 변수 1~9 까지 사용\n",
    "        print(f'{dan} * {n} = {dan * n}')\n",
    "        n += 1\n",
    "    print('=' * 10)\n",
    "    dan += 1"
   ],
   "metadata": {
    "collapsed": false,
    "ExecuteTime": {
     "end_time": "2024-03-01T06:50:38.576846Z",
     "start_time": "2024-03-01T06:50:38.567593Z"
    }
   },
   "id": "8de1a0ddb467369b",
   "execution_count": 14
  },
  {
   "cell_type": "markdown",
   "source": [
    "# 문제\n",
    "1. 정수를 입력받아서 그 횟수만큼 'Hello'를 출력하는 프로그램을 구현하세요.\n",
    "0 이하의 값이 입력되면 '잘못된 입력입니다.'라는 오류 메시지를 출력하세요.\n",
    "\n",
    "실행 예)\n",
    "정수를 입력하세요 >>> 5\n",
    "1번째 Hello\n",
    "2번째 Hello\n",
    "3번째 Hello\n",
    "4번째 Hello\n",
    "5번째 Hello\n",
    "\n",
    "----------------\n",
    "\n",
    "정수를 입력하세요 >>> -5\n",
    "잘못된 입력입니다.\n",
    "\n",
    "3. 커피 1잔을 300원에 판매하는 커피자판기가 있습니다. \n",
    "이 커피자판기에 돈을 넣으면 자판기에서 뽑을 수 있는 커피가 몇 잔이며 잔돈은 얼마인지를 함께 출력하는 프로그램을 구현하세요.\n",
    "\n",
    "실행 예)\n",
    "자판기에 얼마를 넣을까요? >>> 1400\n",
    "커피 1잔, 잔돈 1100원\n",
    "커피 2잔, 잔돈 800원\n",
    "커피 3잔, 잔돈 500원\n",
    "커피 4잔, 잔돈 200원\n",
    "\n",
    "4. 사용자에게 0부터 9사이의 정수를 입력받습니다. \n",
    "이 때 입력된 정수가 5개가 될 때까지 입력받는 프로그램을 구현하세요.\n",
    "이 때 중복된 값이 입력되면 해당 입력은 무시하세요.\n",
    "\n",
    "실행 예)\n",
    "0 ~ 9 사이 정수를 입력하세요 >>> 0\n",
    "0 ~ 9 사이 정수를 입력하세요 >>> 0\n",
    "0 ~ 9 사이 정수를 입력하세요 >>> 0\n",
    "0 ~ 9 사이 정수를 입력하세요 >>> 1\n",
    "0 ~ 9 사이 정수를 입력하세요 >>> 2\n",
    "0 ~ 9 사이 정수를 입력하세요 >>> 5\n",
    "0 ~ 9 사이 정수를 입력하세요 >>> 3\n",
    "모두 입력되었습니다.\n",
    "입력된 값은 {0, 1, 2, 3, 5}입니다."
   ],
   "metadata": {
    "collapsed": false
   },
   "id": "ee89c5803f751abc"
  },
  {
   "cell_type": "code",
   "outputs": [
    {
     "name": "stdout",
     "output_type": "stream",
     "text": [
      "1번째 Hello\n"
     ]
    }
   ],
   "source": [
    "# 문제 1\n",
    "inputUser = int(input('정수를 입력하세요 >>> '))\n",
    "\n",
    "if inputUser <= 0:\n",
    "    print('잘못된 입력입니다.')\n",
    "else:\n",
    "    n = 1\n",
    "    while n <= inputUser:\n",
    "        print(f'{n}번째 Hello')\n",
    "        n += 1\n",
    "        # inputUser -= 1\n"
   ],
   "metadata": {
    "collapsed": false,
    "ExecuteTime": {
     "end_time": "2024-02-27T12:30:33.780665600Z",
     "start_time": "2024-02-27T12:30:33.134275Z"
    }
   },
   "id": "2fbe825b238ac26d",
   "execution_count": 5
  },
  {
   "cell_type": "code",
   "outputs": [
    {
     "name": "stdout",
     "output_type": "stream",
     "text": [
      "잔액이 부족합니다.\n"
     ]
    }
   ],
   "source": [
    "# 문제 3\n",
    "\n",
    "money = int(input('자판기에 얼마를 넣을까요? >>> '))\n",
    "coffee = 0\n",
    "price = 300\n",
    "if money < price:  # 추가 기능 : 초기 금액이 300원보다 적을 경우\n",
    "    print('잔액이 부족합니다.')\n",
    "while money >= price:\n",
    "    coffee += 1\n",
    "    money -= price\n",
    "    print(f'커피{coffee}잔, 잔동 {money}원')"
   ],
   "metadata": {
    "collapsed": false,
    "ExecuteTime": {
     "end_time": "2024-03-01T07:13:09.368710Z",
     "start_time": "2024-03-01T07:13:07.769384Z"
    }
   },
   "id": "bdaa407fd8fe4c2",
   "execution_count": 24
  },
  {
   "cell_type": "code",
   "outputs": [
    {
     "name": "stdout",
     "output_type": "stream",
     "text": [
      "모두 입력되었습니다.\n",
      "입력된 값은 {0, 1, 2, 4, 5}\n"
     ]
    }
   ],
   "source": [
    "# 문제 4 - set 을 이용한 방법\n",
    "numbers = set()\n",
    "while len(numbers) < 5:  # numbers에 저장된 요소의 개수\n",
    "    n = int(input('0 ~ 9 사이 정수를 입력하세요 >>> '))\n",
    "    if n > 9 or n < 0:\n",
    "        print('0~9사이의 정수를 입력해주세요.')\n",
    "        continue\n",
    "    numbers.add(n)  # n이 중복된 값은 등록이 안됨\n",
    "print('모두 입력되었습니다.')\n",
    "print(f'입력된 값은 {numbers}')"
   ],
   "metadata": {
    "collapsed": false,
    "ExecuteTime": {
     "end_time": "2024-03-01T07:32:44.531109Z",
     "start_time": "2024-03-01T07:32:40.532058Z"
    }
   },
   "id": "57127a2ed4ca44c5",
   "execution_count": 43
  },
  {
   "cell_type": "code",
   "outputs": [],
   "source": [
    "# set 개선\n",
    "my_set = set()\n",
    "while len(my_set) < 5:\n",
    "    n = int(input('0 ~ 9 사이 정수를 입력하세요 >>> '))\n",
    "    if 0 <= n <= 9:\n",
    "        if n in my_set:\n",
    "            print('이미 입력된 값입니다. 다른 값을 입력하세요.')  # 중복이면 추가는 안되지만. 중복입력이라고 문구를 추가\n",
    "        else:\n",
    "            my_set.add(n)\n",
    "    else:\n",
    "        print('0~9사이의 정수를 입력하세요')\n",
    "print('모두 입력되었습니다.')\n",
    "print(f'입력된 값은 {sorted(list(my_set))}')"
   ],
   "metadata": {
    "collapsed": false
   },
   "id": "665c3178295abd03"
  },
  {
   "cell_type": "code",
   "outputs": [
    {
     "name": "stdout",
     "output_type": "stream",
     "text": [
      "모두 입력되었습니다.\n",
      "입력된 값은 [0, 1, 2, 5, 3]\n"
     ]
    }
   ],
   "source": [
    "my_list = []\n",
    "while len(my_list) < 5:\n",
    "    n = int(input('0 ~ 9 사이 정수를 입력하세요 >>> '))\n",
    "    if 0 <= n <= 9:  # 0~9 사이의 조건으로 변경\n",
    "        if n not in my_list:  # 리스트에 없는 경우에만 추가\n",
    "            my_list.append(n)\n",
    "        else:\n",
    "            print('이미 입력된 값입니다. 다른 값을 입력하세요.')\n",
    "    else:\n",
    "        print('0~9사이의 정수를 입력하세요')  # 범위를 벗어난 입력에 대한 경고\n",
    "print('모두 입력되었습니다.')\n",
    "print(f'입력된 값은 {my_list}')"
   ],
   "metadata": {
    "collapsed": false,
    "ExecuteTime": {
     "end_time": "2024-03-01T07:29:09.180120Z",
     "start_time": "2024-03-01T07:29:05.778105Z"
    }
   },
   "id": "970accfa04333a7c",
   "execution_count": 42
  },
  {
   "cell_type": "code",
   "outputs": [
    {
     "name": "stdout",
     "output_type": "stream",
     "text": [
      "모두 입력되었습니다.\n",
      "입력된 값은 [0, 1, 2, 5, 3]\n"
     ]
    }
   ],
   "source": [
    "# 문제 4 - 리스트를 이용한방법\n",
    "numbers = []\n",
    "while len(numbers) < 5:  # numbers에 저장된 요소의 개수\n",
    "    n = int(input('0 ~ 9 사이 정수를 입력하세요 >>> '))\n",
    "    if not n in numbers:\n",
    "        numbers.append(n)  # n이 중복된 값은 등록이 안됨\n",
    "print('모두 입력되었습니다.')\n",
    "print(f'입력된 값은 {numbers}')"
   ],
   "metadata": {
    "collapsed": false,
    "ExecuteTime": {
     "end_time": "2024-03-01T07:37:31.364055Z",
     "start_time": "2024-03-01T07:37:28.756902Z"
    }
   },
   "id": "e3857463b445ab31",
   "execution_count": 45
  },
  {
   "cell_type": "markdown",
   "source": [
    "# for 문\n",
    "기본 구조\n",
    "for 변수 in 반복가능객체 :\n",
    "    반복실행문"
   ],
   "metadata": {
    "collapsed": false
   },
   "id": "3b32f9ad9e4bc0a"
  },
  {
   "cell_type": "code",
   "outputs": [
    {
     "name": "stdout",
     "output_type": "stream",
     "text": [
      "2\n",
      "4\n",
      "6\n"
     ]
    }
   ],
   "source": [
    "for n in [2, 4, 6]:  # 반복될 떄마다 순서대로 전달\n",
    "    print(n)\n",
    "    \n",
    "    # 출력\n",
    "    2\n",
    "    4\n",
    "    6"
   ],
   "metadata": {
    "collapsed": false,
    "ExecuteTime": {
     "end_time": "2024-02-27T12:49:49.290150100Z",
     "start_time": "2024-02-27T12:49:49.259828700Z"
    }
   },
   "id": "38c528beb33be966",
   "execution_count": 10
  },
  {
   "cell_type": "code",
   "outputs": [
    {
     "name": "stdout",
     "output_type": "stream",
     "text": [
      "H\n",
      "e\n",
      "l\n",
      "l\n",
      "o\n",
      "가위\n",
      "바위\n",
      "보\n",
      "0 가위\n",
      "1 바위\n",
      "2 보\n",
      "0 가위\n",
      "1 바위\n",
      "2 보\n"
     ]
    }
   ],
   "source": [
    "# 1. 문자열\n",
    "# for 문자 in 문자열 :\n",
    "#    반복실행문\n",
    "\n",
    "for ch in 'Hello':  # 문자열 내부의 문자를 하나씩 꺼내서 사용할 수 있슴\n",
    "    print(ch)\n",
    "# 출력\n",
    "# e\n",
    "# l\n",
    "# l\n",
    "# o\n",
    "\n",
    "for item in ['가위', '바위', '보']:\n",
    "    print(item)\n",
    "# 출력\n",
    "# 가위\n",
    "# 바위\n",
    "# 보\n",
    "\n",
    "# 만약 인덱스 번호를 같이 출력 해야 한다면? 어떻게 해야 될까?\n",
    "# 인덱스 번호 사용 1) 변수 생성을 통한 인덱스 출력. 비추천\n",
    "n = 0\n",
    "for item in ['가위', '바위', '보']:\n",
    "    print(f'{n} {item}')\n",
    "    n += 1\n",
    "# 0 가위\n",
    "# 1 바위\n",
    "# 2 보\n",
    "# 인덱스 번호 사용 2) enumerate() 사용. 추천\n",
    "# 파이썬에서는 이넘레이트를 지원하니까 이거 쓰면됨\n",
    "\n",
    "li = ['가위', '바위', '보']\n",
    "for i, v in enumerate(li):  # i:index, v: 요소의 값 value\n",
    "    print(f'{i} {v}')\n",
    "# 0 가위\n",
    "# 1 바위\n",
    "# 2 보"
   ],
   "metadata": {
    "collapsed": false,
    "ExecuteTime": {
     "end_time": "2024-03-01T07:45:00.217214Z",
     "start_time": "2024-03-01T07:45:00.197133Z"
    }
   },
   "id": "73256cb2e7a6d322",
   "execution_count": 47
  },
  {
   "cell_type": "code",
   "outputs": [
    {
     "name": "stdout",
     "output_type": "stream",
     "text": [
      "[2, 4, 6]\n",
      "[2, 6, 10]\n",
      "[2, 6, 10, 2, 6, 10]\n"
     ]
    }
   ],
   "source": [
    "# 리스트 내포\n",
    "# 리스트 생성할 때 for 문을 유용하게 사용할 수 있음\n",
    "# 기본 형식\n",
    "# 리스트 = [표현식 for 변수 in 반복가능객체]\n",
    "li = [n * 2 for n in [1, 2, 3]]\n",
    "\n",
    "print(li)  # [2, 4, 6]\n",
    "\n",
    "# 이런식으로도 가능하다\n",
    "li = [n * 2 for n in [1, 2, 3, 4, 5] if n % 2 == 1]  # 1, 3, 5 만 추출\n",
    "\n",
    "print(li)  # [2, 6, 10]\n",
    "\n",
    "# 리스트 내포를 사용하지 않으면\n",
    "list = []\n",
    "for n in [1, 2, 3, 4, 5]:\n",
    "    if n % 2 == 1:\n",
    "        li.append(n * 2)\n",
    "print(li)   # 출력 [2, 6, 10, 2, 6, 10]"
   ],
   "metadata": {
    "collapsed": false,
    "ExecuteTime": {
     "end_time": "2024-03-01T07:46:49.002626Z",
     "start_time": "2024-03-01T07:46:48.982197Z"
    }
   },
   "id": "40dd74cc9e2b116c",
   "execution_count": 48
  },
  {
   "cell_type": "code",
   "outputs": [
    {
     "name": "stdout",
     "output_type": "stream",
     "text": [
      "Spring\n",
      "Summer\n",
      "Autumn\n",
      "Winter\n"
     ]
    }
   ],
   "source": [
    "# 3. 튜플\n",
    "# 기본 형식\n",
    "# for 요소 in (튜플) :\n",
    "#   반복실행문\n",
    "\n",
    "four_seasons = ('Spring', 'Summer', 'Autumn', 'Winter')\n",
    "for season in four_seasons:\n",
    "    print(season)\n",
    "# Spring\n",
    "# Summer\n",
    "# Autumn\n",
    "# Winter"
   ],
   "metadata": {
    "collapsed": false,
    "ExecuteTime": {
     "end_time": "2024-02-27T13:38:16.483728200Z",
     "start_time": "2024-02-27T13:38:16.464213200Z"
    }
   },
   "id": "cfe9cc2042cce976",
   "execution_count": 13
  },
  {
   "cell_type": "code",
   "outputs": [],
   "source": [
    "# 4. range() 함수"
   ],
   "metadata": {
    "collapsed": false
   },
   "id": "378cc52a8ce7f89e"
  },
  {
   "cell_type": "code",
   "outputs": [
    {
     "name": "stdout",
     "output_type": "stream",
     "text": [
      "(1, 2, 3, 4, 5)\n",
      "(1, 2, 3, 4, 5, 6, 7, 8, 9)\n",
      "(0, 1, 2, 3, 4, 5)\n",
      "(1, 3, 5, 7, 9)\n"
     ]
    }
   ],
   "source": [
    "print(tuple(range(1, 6)))  # (1,2,3,4,5)\n",
    "print(tuple(range(1,10)))   # (1, 2, 3, 4, 5, 6, 7, 8, 9)\n",
    "print(tuple(range(6)))  # (0, 1, 2, 3, 4, 5)\n",
    "print(tuple(range(1,10,2))) # (1, 3, 5, 7, 9)"
   ],
   "metadata": {
    "collapsed": false,
    "ExecuteTime": {
     "end_time": "2024-03-01T07:53:30.548821Z",
     "start_time": "2024-03-01T07:53:30.537666Z"
    }
   },
   "id": "f876c7410641243e",
   "execution_count": 54
  },
  {
   "cell_type": "code",
   "outputs": [
    {
     "name": "stdout",
     "output_type": "stream",
     "text": [
      "1\n",
      "2\n",
      "3\n",
      "4\n",
      "5\n",
      "6\n",
      "7\n",
      "8\n",
      "9\n",
      "10\n",
      "1\n",
      "2\n",
      "3\n",
      "4\n",
      "5\n",
      "6\n",
      "7\n",
      "8\n",
      "9\n",
      "10\n",
      "Hello\n",
      "Hello\n",
      "Hello\n",
      "Hello\n",
      "Hello\n",
      "Hello\n",
      "Hello\n",
      "Hello\n",
      "Hello\n",
      "Hello\n"
     ]
    }
   ],
   "source": [
    "for n in [1, 2, 3, 4, 5, 6, 7, 8, 9, 10]:\n",
    "    print(n)\n",
    "\n",
    "# 아래와 같이 변경 가능\n",
    "for n in range(1, 11):\n",
    "    print(n)\n",
    "# 1\n",
    "# 2\n",
    "# 3\n",
    "# 4\n",
    "# 5\n",
    "# 6\n",
    "# 7\n",
    "# 8\n",
    "# 9\n",
    "# 10\n",
    "\n",
    "# range() 함수를 이용해 생성한 값을 사용하지 않는 경우\n",
    "for n in range(10):  # 10번 반복 0,1,2,3,4,5,6,8,9\n",
    "    print('Hello')\n",
    "# Hello\n",
    "# Hello\n",
    "# Hello\n",
    "# Hello\n",
    "# Hello\n",
    "# Hello\n",
    "# Hello\n",
    "# Hello\n",
    "# Hello\n",
    "# Hello"
   ],
   "metadata": {
    "collapsed": false,
    "ExecuteTime": {
     "end_time": "2024-03-01T07:55:18.144247Z",
     "start_time": "2024-03-01T07:55:18.125738Z"
    }
   },
   "id": "cb22baf82d033d88",
   "execution_count": 56
  },
  {
   "cell_type": "code",
   "outputs": [],
   "source": [
    "# 문제\n",
    "# 문자열로 비밀번호를 입력 받아 숫자와 문자가 모두 포함이 되었는지 확인\n",
    "\n",
    "pwd = input('비밀번호를 입력하세요 >>> ')\n",
    "ch_count = 0  # 문자의 개수 저장\n",
    "num_count = 0  # 숫자의 개수 저장\n",
    "\n",
    "for ch in pwd:  # 반복 가능 객체가 문자열이니까 한 글자씩 반복\n",
    "    if ch.isalpha():  # ch가 문자인 경우 True 를 반환\n",
    "        ch_count += 1  #is로 시작하는 함수 특징 : 반환값이 불린이다. is뒤 문자의 상태가 맞으면 true/ 틀리면 false\n",
    "    elif ch.isnumeric():  # ch가 숫자인 경우 True 를 반환\n",
    "        num_count += 1  # 숫자가 포함된 횟수만큼 더함\n",
    "\n",
    "if ch_count > 0 and num_count > 0:  # 문자와 숫자를 모두 포함한 경우\n",
    "    print('가능한 비밀번호 입니다.')\n",
    "else:\n",
    "    print('불가능한 비밀번호 입니다.')\n",
    "\n",
    "print(ch_count, num_count)  # 테스트 코드\n"
   ],
   "metadata": {
    "collapsed": false
   },
   "id": "55ef7fa5fd0f9ee0",
   "execution_count": null
  },
  {
   "cell_type": "code",
   "outputs": [],
   "source": [
    "# 출력하고자 하는 구구단을 입력받아 구구단을 출력\n",
    "dan = int(input('출력할 구구단을 입력하세요 >>> '))\n",
    "for n in range(1, 10):\n",
    "    print('{} x {} = {}'.format(dan, n, dan * n))"
   ],
   "metadata": {
    "collapsed": false
   },
   "id": "7c237a719f7dc4f4",
   "execution_count": null
  },
  {
   "cell_type": "code",
   "outputs": [
    {
     "name": "stdout",
     "output_type": "stream",
     "text": [
      "1단\n",
      "1 X 1 = 1\n",
      "1 X 2 = 2\n",
      "1 X 3 = 3\n",
      "1 X 4 = 4\n",
      "1 X 5 = 5\n",
      "1 X 6 = 6\n",
      "1 X 7 = 7\n",
      "1 X 8 = 8\n",
      "1 X 9 = 9\n",
      "==========\n",
      "2단\n",
      "2 X 1 = 2\n",
      "2 X 2 = 4\n",
      "2 X 3 = 6\n",
      "2 X 4 = 8\n",
      "2 X 5 = 10\n",
      "2 X 6 = 12\n",
      "2 X 7 = 14\n",
      "2 X 8 = 16\n",
      "2 X 9 = 18\n",
      "==========\n",
      "3단\n",
      "3 X 1 = 3\n",
      "3 X 2 = 6\n",
      "3 X 3 = 9\n",
      "3 X 4 = 12\n",
      "3 X 5 = 15\n",
      "3 X 6 = 18\n",
      "3 X 7 = 21\n",
      "3 X 8 = 24\n",
      "3 X 9 = 27\n",
      "==========\n",
      "4단\n",
      "4 X 1 = 4\n",
      "4 X 2 = 8\n",
      "4 X 3 = 12\n",
      "4 X 4 = 16\n",
      "4 X 5 = 20\n",
      "4 X 6 = 24\n",
      "4 X 7 = 28\n",
      "4 X 8 = 32\n",
      "4 X 9 = 36\n",
      "==========\n",
      "5단\n",
      "5 X 1 = 5\n",
      "5 X 2 = 10\n",
      "5 X 3 = 15\n",
      "5 X 4 = 20\n",
      "5 X 5 = 25\n",
      "5 X 6 = 30\n",
      "5 X 7 = 35\n",
      "5 X 8 = 40\n",
      "5 X 9 = 45\n",
      "==========\n",
      "6단\n",
      "6 X 1 = 6\n",
      "6 X 2 = 12\n",
      "6 X 3 = 18\n",
      "6 X 4 = 24\n",
      "6 X 5 = 30\n",
      "6 X 6 = 36\n",
      "6 X 7 = 42\n",
      "6 X 8 = 48\n",
      "6 X 9 = 54\n",
      "==========\n",
      "7단\n",
      "7 X 1 = 7\n",
      "7 X 2 = 14\n",
      "7 X 3 = 21\n",
      "7 X 4 = 28\n",
      "7 X 5 = 35\n",
      "7 X 6 = 42\n",
      "7 X 7 = 49\n",
      "7 X 8 = 56\n",
      "7 X 9 = 63\n",
      "==========\n",
      "8단\n",
      "8 X 1 = 8\n",
      "8 X 2 = 16\n",
      "8 X 3 = 24\n",
      "8 X 4 = 32\n",
      "8 X 5 = 40\n",
      "8 X 6 = 48\n",
      "8 X 7 = 56\n",
      "8 X 8 = 64\n",
      "8 X 9 = 72\n",
      "==========\n",
      "9단\n",
      "9 X 1 = 9\n",
      "9 X 2 = 18\n",
      "9 X 3 = 27\n",
      "9 X 4 = 36\n",
      "9 X 5 = 45\n",
      "9 X 6 = 54\n",
      "9 X 7 = 63\n",
      "9 X 8 = 72\n",
      "9 X 9 = 81\n",
      "==========\n"
     ]
    }
   ],
   "source": [
    "dan = 2  # 구구단의 단을 의미\n",
    "# while dan <= 9:  # 9단 까지 반복해서 처리\n",
    "#     n = 1\n",
    "#         n += 1\n",
    "#     dan += 1\n",
    "#     \n",
    "# dan =2\n",
    "for dan in range(1, 10):\n",
    "    print(f'{dan}단')\n",
    "    for n in range(1, 10):  # 모든 dan 은 변수 1~9 까지 사용 가능\n",
    "        print(f'{dan} X {n} = {dan * n}')\n",
    "    print('=' * 10)"
   ],
   "metadata": {
    "collapsed": false,
    "ExecuteTime": {
     "end_time": "2024-02-27T13:52:33.891428700Z",
     "start_time": "2024-02-27T13:52:33.821684400Z"
    }
   },
   "id": "768b0276d8390fa8",
   "execution_count": 19
  },
  {
   "cell_type": "markdown",
   "source": [
    "1. 1부터 5사이에 존재하는 모든 정수를 역순으로 출력하는 프로그램을 구현하세요.\n",
    "\n",
    "실행 예)\n",
    "5\n",
    "4\n",
    "3\n",
    "2\n",
    "1\n",
    "\n",
    "\n",
    "2. 사용자로부터 임의의 양의 정수를 하나 입력받은 뒤 1부터 입력받은 정수까지 모든 정수의 합계를 출력하는 프로그램을 구현하세요.\n",
    "\n",
    "실행 예)\n",
    "임의의 양수를 입력하세요 >>> 5\n",
    "1부터 5사이의 모든 정수의 합계는 15입니다.\n",
    "\n",
    "\n",
    "3. 사용자로부터 임의의 양의 정수를 하나 입력 받은 뒤 그 숫자만큼 '과일 이름'을 입력받아 'basket' 리스트에\n",
    "저장하는 프로그램을 구현하세요.\n",
    "\n",
    "실행 예)\n",
    "몇 개의 과일을 보관할까요? >>> 5\n",
    "1번째 과일을 입력하세요 >>> 사과\n",
    "2번째 과일을 입력하세요 >>> 바나나\n",
    "3번째 과일을 입력하세요 >>> 체리\n",
    "4번째 과일을 입력하세요 >>> 오렌지\n",
    "5번째 과일을 입력하세요 >>> 망고\n",
    "입력 받은 과일들은 ['사과', '바나나', '체리', '오렌지', '망고']입니다."
   ],
   "metadata": {
    "collapsed": false
   },
   "id": "587165cfcb8ca06d"
  },
  {
   "cell_type": "code",
   "outputs": [],
   "source": [
    "# 1번\n",
    "for n in range(5, 0, -1):\n",
    "    print(n)"
   ],
   "metadata": {
    "collapsed": false
   },
   "id": "546480e367353952",
   "execution_count": null
  },
  {
   "cell_type": "code",
   "outputs": [
    {
     "name": "stdout",
     "output_type": "stream",
     "text": [
      "1부터 5까지 모든 정수의 합계는 15입니다.\n"
     ]
    }
   ],
   "source": [
    "# 2번\n",
    "inputuser3 = int(input('임의의 양수를 입력하세요 >>> '))\n",
    "sum = 0\n",
    "\n",
    "for n in range(1, inputuser3 + 1):\n",
    "    sum += n\n",
    "\n",
    "print(f'1부터 {inputuser3}까지 모든 정수의 합계는 {sum}입니다.')"
   ],
   "metadata": {
    "collapsed": false,
    "ExecuteTime": {
     "end_time": "2024-02-27T14:24:00.897841700Z",
     "start_time": "2024-02-27T14:23:59.508096200Z"
    }
   },
   "id": "37655dcdc0877e85",
   "execution_count": 20
  },
  {
   "cell_type": "code",
   "outputs": [
    {
     "name": "stdout",
     "output_type": "stream",
     "text": [
      "입력 받은 과일들은 ['사과', '바나나', '체리', '오렌지', '망고']입니다.\n",
      "입력 받은 과일들은 ['사과', '바나나', '체리', '오렌지', '망고', '5', '사가ㅘ', '바나나', '체리', '오렌지']입니다.\n"
     ]
    }
   ],
   "source": [
    "# 3번\n",
    "basket = []\n",
    "count = int(input('몇 개의 과일을 보관할까요? >>> '))\n",
    "for n in range(1, count + 1):\n",
    "    basket.append(input(f'{n}번째 과일을 입력하세요 >>> '))\n",
    "print(f'입력 받은 과일들은 {basket}입니다.')\n",
    "\n",
    "# 다른 경우\n",
    "for n in range(count):\n",
    "    fruit = input(f'{n + 1}번째 과일을 입력하세요 >>> ')\n",
    "    basket.append(fruit)\n",
    "print(f'입력 받은 과일들은 {basket}입니다.')\n"
   ],
   "metadata": {
    "collapsed": false,
    "ExecuteTime": {
     "end_time": "2024-02-27T14:31:18.423488400Z",
     "start_time": "2024-02-27T14:31:06.398403700Z"
    }
   },
   "id": "87e0f00e40c98223",
   "execution_count": 21
  },
  {
   "cell_type": "code",
   "outputs": [],
   "source": [
    "# 비시퀀스 - 반복 가능 객체"
   ],
   "metadata": {
    "collapsed": false
   },
   "id": "70fac90a27f4aca5"
  },
  {
   "cell_type": "code",
   "outputs": [
    {
     "name": "stdout",
     "output_type": "stream",
     "text": [
      "바위\n",
      "가위\n",
      "보\n"
     ]
    }
   ],
   "source": [
    "# 1. 세트 set\n",
    "# 비시퀀스 자료형이기 때문에 저장된 요소들 사이에 순서가 없음\n",
    "\n",
    "# 기본형식\n",
    "# for 요소 in {세트}:\n",
    "#    반복실행문\n",
    "\n",
    "for item in {'가위', '바위', '보'}:  # 순서가 지켜지지 않음\n",
    "    print(item)"
   ],
   "metadata": {
    "collapsed": false,
    "ExecuteTime": {
     "end_time": "2024-02-27T14:32:36.246705500Z",
     "start_time": "2024-02-27T14:32:36.162796100Z"
    }
   },
   "id": "4e1e0bff7b2870e4",
   "execution_count": 22
  },
  {
   "cell_type": "code",
   "outputs": [
    {
     "name": "stdout",
     "output_type": "stream",
     "text": [
      "name\n",
      "age\n",
      "name : 에밀리\n",
      "age : 20\n",
      "에밀리\n",
      "20\n",
      "에밀리\n",
      "20\n"
     ]
    }
   ],
   "source": [
    "# 2. 딕셔너리\n",
    "# key와 value 의 조합이라 다른 자료형과 다른 방식으로 사용을 함\n",
    "# 키만 출력\n",
    "person = {'name': '에밀리', 'age': 20}\n",
    "for item in person:\n",
    "    print(item)  # name age\n",
    "# 딕셔너리 특징\n",
    "# 키만 출력이 된다.\n",
    "\n",
    "# value 출력 방법 3가지\n",
    "for key, value in person.items():\n",
    "    print(f'{key} : {value}')\n",
    "\n",
    "for key in person:\n",
    "    print(person[key])  # 에밀리 20\n",
    "\n",
    "for key in person:  # get() 메소드를 이용해서 해당 key에 해당하는 value 값을 가져옴\n",
    "    print(person.get(key))  # 에밀리 20\n"
   ],
   "metadata": {
    "collapsed": false,
    "ExecuteTime": {
     "end_time": "2024-02-27T14:33:06.537140Z",
     "start_time": "2024-02-27T14:33:06.466877100Z"
    }
   },
   "id": "837f8352293944c1",
   "execution_count": 23
  },
  {
   "cell_type": "code",
   "outputs": [
    {
     "name": "stdout",
     "output_type": "stream",
     "text": [
      "sun의 뜻: 태양\n",
      "sun의 뜻: 태양\n",
      "moon의 뜻: 달\n",
      "moon의 뜻: 달\n",
      "star의 뜻: 별\n",
      "star의 뜻: 별\n",
      "space의 뜻: 우주\n",
      "space의 뜻: 우주\n"
     ]
    }
   ],
   "source": [
    "# 영어 사전을 딕셔너리 자료형으로 구현하고\n",
    "# 영어 사전에 등록된 모든 단어와 그 단어의 의미를 출력\n",
    "eng_dict = {\n",
    "    'sun': '태양',\n",
    "    'moon': '달',\n",
    "    'star': '별',\n",
    "    'space': '우주'\n",
    "}\n",
    "for word in eng_dict:\n",
    "    print(f'{word}의 뜻: {eng_dict.get(word)}')\n",
    "    print(f'{word}의 뜻: {eng_dict[word]}')"
   ],
   "metadata": {
    "collapsed": false,
    "ExecuteTime": {
     "end_time": "2024-02-27T14:36:43.501944200Z",
     "start_time": "2024-02-27T14:36:43.427641400Z"
    }
   },
   "id": "41e22a819cc4b3b0",
   "execution_count": 24
  },
  {
   "cell_type": "code",
   "outputs": [
    {
     "name": "stdout",
     "output_type": "stream",
     "text": [
      "1\n",
      "2\n",
      "3\n",
      "4\n",
      "5\n",
      "6\n",
      "7\n",
      "8\n",
      "9\n",
      "10\n",
      "11\n",
      "1\n",
      "2\n",
      "3\n",
      "4\n",
      "5\n",
      "6\n",
      "7\n",
      "8\n",
      "9\n",
      "10\n",
      "10\n"
     ]
    }
   ],
   "source": [
    "# break 문\n",
    "# while 문이나 for 문과 같은 반복문을 강제로 종료하고자 할 때 사용하는 제어문\n",
    "# 반복문 내에 break 문이 나타나면 곧바로 break 문이 포함된 반복문은 종료\n",
    "\n",
    "n = 1\n",
    "while n <= 10:\n",
    "    print(n)\n",
    "    n += 1\n",
    "print(n)  # 11\n",
    "\n",
    "n = 1\n",
    "while True:  # while문을 무한루프\n",
    "    print(n)\n",
    "    if n == 10:\n",
    "        break  # if 문에서 break 문을 작성 했지만 실제로 종료 되는 것은 while 문\n",
    "    n += 1\n",
    "print(n)  # 10   "
   ],
   "metadata": {
    "collapsed": false,
    "ExecuteTime": {
     "end_time": "2024-02-27T14:39:04.256645300Z",
     "start_time": "2024-02-27T14:39:04.202494200Z"
    }
   },
   "id": "d6b4e94b2678c785",
   "execution_count": 25
  },
  {
   "cell_type": "code",
   "outputs": [],
   "source": [
    "while True:  # 무한 루프\n",
    "    city = input('대한민국의 수도는 어디인가요? >>> ')\n",
    "    city = city.strip().lower()  # 문자열의 양쪽끝에서 공백을 없앰 # 문자열을 소문자로 처리함\n",
    "    if city == '서울' or city == 'seoul':  # or city == 'SEOUL':  # 대소문자 모두 정답처리\n",
    "        print('정답입니다')\n",
    "        break  # 정답을 맞춰야 종료\n",
    "    else:\n",
    "        print('오답입니다. 다시 시도하세요.')"
   ],
   "metadata": {
    "collapsed": false
   },
   "id": "463ca20b0b6a3b0c",
   "execution_count": null
  },
  {
   "cell_type": "code",
   "outputs": [
    {
     "name": "stdout",
     "output_type": "stream",
     "text": [
      "중복입니다. 다시입력해 주세요.\n",
      "5개 입력!\n",
      "['하키', '축구', '농구', '풋살', '농']\n"
     ]
    }
   ],
   "source": [
    "# 종료 조건이 2가지인 경우 : 5개 까지 입력이 가능 혹은 그전에 그만 두려면 q 입력.\n",
    "hobbies = []  # 빈 리스트 생성\n",
    "while True:  # 무한루프\n",
    "    if len(hobbies) >= 5:\n",
    "        print('5개 입력!')\n",
    "        break\n",
    "    hobby = input('취미를 입력하세요(종료는 그냥 q) >>> ')\n",
    "    if hobby == 'q':\n",
    "        print('입력된 취미가 모두 저장되었습니다.')\n",
    "        break\n",
    "    else:\n",
    "        if hobby not in hobbies:\n",
    "            hobbies.append(hobby)\n",
    "        else:\n",
    "            print('중복입니다. 다시입력해 주세요.')\n",
    "\n",
    "print(hobbies)  # 전체 요소 출력\n"
   ],
   "metadata": {
    "collapsed": false,
    "ExecuteTime": {
     "end_time": "2024-02-27T14:47:59.624972700Z",
     "start_time": "2024-02-27T14:47:44.161802200Z"
    }
   },
   "id": "ef8e389027a190fd",
   "execution_count": 28
  },
  {
   "cell_type": "code",
   "outputs": [
    {
     "name": "stdout",
     "output_type": "stream",
     "text": [
      "3367\n"
     ]
    }
   ],
   "source": [
    "# continue 문\n",
    "# 반복문의 시작 지점으로 제어의 흐름을 옮기는 역할\n",
    "# 반복에서 제외하거나 생략하고 싶은 코드가 존재할 때 사용\n",
    "\n",
    "# 1에서 100 사이의 모든 정수를 합치는데 3의 배수는 제외\n",
    "total = 0\n",
    "for a in range(1, 101):  # 1에서 100까지\n",
    "    if a % 3 == 0:  # 3의 배수인지 검사한다.\n",
    "        continue  # 3의 배수라면 넘어가기.\n",
    "    total += a\n",
    "print(total)  # 3367"
   ],
   "metadata": {
    "collapsed": false,
    "ExecuteTime": {
     "end_time": "2024-02-27T14:48:14.630091400Z",
     "start_time": "2024-02-27T14:48:14.591486100Z"
    }
   },
   "id": "aa3ddb0ee5d52971",
   "execution_count": 29
  },
  {
   "cell_type": "code",
   "outputs": [],
   "source": [
    "# 과일 이름 5개를 fruits 리스트에 저장.\n",
    "# 2개는 미리 저장됨.\n",
    "# 중복된 과일 이름은 저장이 안됨.\n",
    "fruits = ['사과', '감귤']\n",
    "count = 3  # 입력 가능한 횟수\n",
    "\n",
    "while count > 0:\n",
    "    fruit = input('어떤 과일을 저장할까요? >>> ')\n",
    "\n",
    "    if fruit in fruits:  # fruits 리스트에 fruit 변수에 있는 값이 있다면\n",
    "        print('동일한 과일이 있습니다.')\n",
    "        continue  # while 문의 시작 지점으로 돌아가서 다시 과일 이름을 입력\n",
    "\n",
    "    fruits.append(fruit)  # 입력된 과일 이름을 리스트에 저장\n",
    "    count -= 1  # 입력 가능한 횟수가 줄어듬\n",
    "    print(f'입력이 {count}번 남았습니다.')\n",
    "\n",
    "print(f'5개 과일은 {fruits}입니다')"
   ],
   "metadata": {
    "collapsed": false
   },
   "id": "a3eb62d4b515a12a",
   "execution_count": null
  },
  {
   "cell_type": "markdown",
   "source": [
    "1. 현재 10000원을 가지고 있습니다.\n",
    "얼마를 사용할 것인지 반복해서 입력받아 10000원을 모두 사용하세요.\n",
    "0 이하의 금액은 사용할 수 없으며, 현재 가지고 있는 돈보다 더 큰 금액도 사용할 수 없습니다.\n",
    "\n",
    "실행 예) \n",
    "현재 10000원이 있습니다.\n",
    "사용할 금액 입력 >>> 5000\n",
    "현재 5000원이 있습니다.\n",
    "사용할 금액 입력 >>> -5000\n",
    "0 이하의 금액은 사용할 수 없습니다.\n",
    "현재 5000원이 있습니다.\n",
    "사용할 금액 입력 >>> 6000\n",
    "1000원이 부족합니다.\n",
    "현재 5000원이 있습니다.\n",
    "사용할 금액 입력 >>> 4000\n",
    "현재 1000원이 있습니다.\n",
    "사용할 금액 입력 >>> 1000\n",
    "현재 0원이 있습니다.\n",
    "\n",
    "2. 영화 평점을 1부터 5 사이의 정수로 입력받아서 해당 평점만큼 *을 표시하는 프로그램을 구현하세요.\n",
    "표시할 수 있는 평점의 범위를 벗어나면 재입력을 요구하세요.\n",
    "\n",
    "실행 예)\n",
    "이번 영화의 평점을 입력하세요 >>> 10\n",
    "평점은 1~5 사이만 입력할 수 있습니다.\n",
    "이번 영화의 평점을 입력하세요 >>> -2\n",
    "평점은 1~5 사이만 입력할 수 있습니다.\n",
    "이번 영화의 평점을 입력하세요 >>> 5\n",
    "평점: *****\n",
    "\n",
    "\n",
    "3. 저장된 비밀번호를 맞히는 프로그램을 구현하세요.\n",
    "저장된 비밀번호는 'qwerty'이며 최대 5번 시도할 수 있습니다.\n",
    "5번 이내에 비밀번호를 맞히면 '비밀번호를 맞혔습니다.'를 출력하고 그렇지 않으면 '비밀번호 입력 횟수를 초과했습니다.'\n",
    "를 출력하세요.\n",
    "\n",
    "실행 예) \n",
    "비밀번호를 입력하세요 >>> 123456\n",
    "비밀번호를 입력하세요 >>> asdfgh\n",
    "비밀번호를 입력하세요 >>> qwerty\n",
    "비밀번호를 맞혔습니다.\n",
    "\n",
    "----------------------------\n",
    "\n",
    "비밀번호를 입력하세요 >>> 123456\n",
    "비밀번호를 입력하세요 >>> asdfgh\n",
    "비밀번호를 입력하세요 >>> zxcvbn\n",
    "비밀번호를 입력하세요 >>> 098765\n",
    "비밀번호를 입력하세요 >>> poiuyt\n",
    "비밀번호 입력 횟수를 초과했습니다."
   ],
   "metadata": {
    "collapsed": false
   },
   "id": "2dfec8a32fbf3928"
  },
  {
   "cell_type": "code",
   "outputs": [
    {
     "name": "stdout",
     "output_type": "stream",
     "text": [
      "현재 10000원이 있습니다.\n",
      "현재 5000원이 있습니다.\n",
      "현재 2000원이 있습니다.\n",
      "현재 0원이 있습니다.\n"
     ]
    }
   ],
   "source": [
    "money = 10000\n",
    "\n",
    "while money != 0:  # money!= 0으로 할 수 도 있다.\n",
    "    # if money == 0:\n",
    "    #     break\n",
    "    print(f'현재 {money}원이 있습니다.')\n",
    "\n",
    "    spend_money = int(input('사용할 금액 입력 >>> '))\n",
    "    # 출금 조건 확인\n",
    "    if spend_money <= 0:\n",
    "        print('0 이하의 금액은 사용할 수 없습니다.')\n",
    "        continue\n",
    "    elif spend_money > money:\n",
    "        print(f'{spend_money - money}원이 부족합니다.')\n",
    "        continue\n",
    "    money -= spend_money\n",
    "print('현재 0원이 있습니다.')"
   ],
   "metadata": {
    "collapsed": false,
    "ExecuteTime": {
     "end_time": "2024-02-27T06:09:16.429263600Z",
     "start_time": "2024-02-27T06:09:12.352466400Z"
    }
   },
   "id": "93a03bd5006d4674",
   "execution_count": 271
  },
  {
   "cell_type": "code",
   "outputs": [
    {
     "name": "stdout",
     "output_type": "stream",
     "text": [
      "평점: ****\n",
      "평점: ****\n",
      "평점: ****\n"
     ]
    }
   ],
   "source": [
    "# 내가 한거\n",
    "movie_star = int(input('이번 영화의 평점을 입력하세요 >>> '))\n",
    "star = '*'\n",
    "while True:\n",
    "    if movie_star < 1 or movie_star > 5:\n",
    "        print('평점은 1~5 사이만 입력할 수 있습니다.')\n",
    "        continue\n",
    "    else:\n",
    "        print('평점: {}'.format(star * movie_star))\n",
    "        break\n",
    "\n",
    "# break를 사용하는 경우\n",
    "while True:\n",
    "    grade = int(input('이번 영화의 평점을 입력하세요 >>> '))\n",
    "    if 1 <= grade <= 5:  # 평점의 정상 범위. 종료 조건\n",
    "        print(f'평점: {\"*\" * grade}')\n",
    "        break\n",
    "    print('평점은 1~5 사이만 입력할 수 있습니다.')\n",
    "\n",
    "# 종료 조건을 while에 쓰는 경우\n",
    "score = int(input('이번 영화의 평점을 입력하세요 >>> '))\n",
    "while score < 1 or score > 5:\n",
    "    print('평점은 1~5 사이만 입력할 수 있습니다.')\n",
    "    score = int(input('이번 영화의 평점을 입력하세요 >>> '))\n",
    "print(f'평점: {\"*\" * score}')"
   ],
   "metadata": {
    "collapsed": false,
    "ExecuteTime": {
     "end_time": "2024-02-27T14:58:16.574055200Z",
     "start_time": "2024-02-27T14:58:11.111819800Z"
    }
   },
   "id": "acfa5c8a10f5398c",
   "execution_count": 30
  },
  {
   "cell_type": "code",
   "outputs": [
    {
     "name": "stdout",
     "output_type": "stream",
     "text": [
      "비밀번호 입력 횟수를 초과했습니다.\n"
     ]
    }
   ],
   "source": [
    "count = 0\n",
    "password = 'qwerty'\n",
    "while True:\n",
    "    intput_user = input('비밀번호를 입력하세요 >>> ')\n",
    "    count += 1\n",
    "    # if len(intput_user) >=5:\n",
    "    if intput_user == password:\n",
    "        print('비밀번호를 맞혔습니다.')\n",
    "        break\n",
    "\n",
    "    if count == 5:\n",
    "        print('비밀번호 입력 횟수를 초과했습니다.')\n",
    "        break\n",
    "\n",
    "# 다른 경우 # 이경우가 가독성이 조금 더 좋음\n",
    "answer = 'qwerty'\n",
    "count = 5\n",
    "while True:\n",
    "    pw = input('비밀번호를 입력하세요 >>> ')\n",
    "    count -= 1\n",
    "    # if len(intput_user) >=5:\n",
    "    # 종료 조건이 2개인 경우에는 같이 적어주는 것이 가독성에 좋음\n",
    "    if pw == password:\n",
    "        print('비밀번호를 맞혔습니다.')\n",
    "        break\n",
    "\n",
    "    if count == 0:\n",
    "        print('비밀번호 입력 횟수를 초과했습니다.')\n",
    "        break\n"
   ],
   "metadata": {
    "collapsed": false,
    "ExecuteTime": {
     "end_time": "2024-02-27T05:48:04.478462200Z",
     "start_time": "2024-02-27T05:47:53.654040400Z"
    }
   },
   "id": "743856c968a69331",
   "execution_count": 264
  }
 ],
 "metadata": {
  "kernelspec": {
   "display_name": "Python 3",
   "language": "python",
   "name": "python3"
  },
  "language_info": {
   "codemirror_mode": {
    "name": "ipython",
    "version": 2
   },
   "file_extension": ".py",
   "mimetype": "text/x-python",
   "name": "python",
   "nbconvert_exporter": "python",
   "pygments_lexer": "ipython2",
   "version": "2.7.6"
  }
 },
 "nbformat": 4,
 "nbformat_minor": 5
}
