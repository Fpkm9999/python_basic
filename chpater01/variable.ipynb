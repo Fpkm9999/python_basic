{
 "cells": [
  {
   "cell_type": "code",
   "outputs": [],
   "source": [
    "# 좋은 예\n",
    "user_age = 25\n",
    "total_price = 199.99\n",
    "is_active = True\n",
    "\n",
    "# 나쁜 예\n",
    "a = 25  # 무엇을 의미하는지 명확하지 않음\n",
    "tp = 199.99  # 너무 축약됨\n",
    "flg = True  # 의미를 알기 어려움"
   ],
   "metadata": {
    "collapsed": false,
    "ExecuteTime": {
     "end_time": "2024-02-26T15:59:42.531020500Z",
     "start_time": "2024-02-26T15:59:42.517515100Z"
    }
   },
   "id": "e8189a6c1a3e8f8",
   "execution_count": 1
  }
 ],
 "metadata": {
  "kernelspec": {
   "display_name": "Python 3",
   "language": "python",
   "name": "python3"
  },
  "language_info": {
   "codemirror_mode": {
    "name": "ipython",
    "version": 2
   },
   "file_extension": ".py",
   "mimetype": "text/x-python",
   "name": "python",
   "nbconvert_exporter": "python",
   "pygments_lexer": "ipython2",
   "version": "2.7.6"
  }
 },
 "nbformat": 4,
 "nbformat_minor": 5
}
