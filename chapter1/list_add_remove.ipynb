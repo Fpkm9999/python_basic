{
 "cells": [
  {
   "cell_type": "code",
   "execution_count": 1,
   "id": "initial_id",
   "metadata": {
    "collapsed": true,
    "ExecuteTime": {
     "end_time": "2024-02-26T15:36:28.860817500Z",
     "start_time": "2024-02-26T15:36:28.842785800Z"
    }
   },
   "outputs": [
    {
     "name": "stdout",
     "output_type": "stream",
     "text": [
      "[50, 40, 30, 100]\n",
      "40\n",
      "[90, 50, 40, 30, 100]\n",
      "50\n"
     ]
    }
   ],
   "source": [
    "# 요소의 추가와 삭제\n",
    "\n",
    "## 요소의 추가\n",
    "# 새로운 요소를 추가할 때는 append() 와 insert() 메소드를 사용\n",
    "# append() : 항상 마지막 요소로 추가\n",
    "# insert() : 추가할 인덱스(위치 정보)를 지정\n",
    "scores = [50, 40, 30]  # 대괄호로 감싸고 콤마로 구분하면 list임\n",
    "scores.append(100)  # 마지막 요소에 100을 추가\n",
    "print(scores)  # [50,40,30,100]\n",
    "print(scores[1])  # 40\n",
    "scores.insert(0, 90)  # 인덱스 0에 90을 추가\n",
    "print(scores)  # [90, 50, 40, 30, 100]\n",
    "print(scores[1])  # 50"
   ]
  },
  {
   "cell_type": "code",
   "outputs": [
    {
     "name": "stdout",
     "output_type": "stream",
     "text": [
      "[90, 50, 40, 30]\n",
      "[50, 40, 30]\n"
     ]
    }
   ],
   "source": [
    "## 삭제\n",
    "# pop() : 인덱스를 전달하지 않으면 마지막 요소를 삭제,\n",
    "# 인덱스를 전달하면 전달된 인덱스의 요소를 삭제\n",
    "scores.pop()  # 마지막 요소를 제거\n",
    "print(scores)  # [90, 50, 40, 30]\n",
    "scores.pop(0)\n",
    "print(scores)  # [50, 40, 30]"
   ],
   "metadata": {
    "collapsed": false,
    "ExecuteTime": {
     "end_time": "2024-02-26T15:36:51.588807300Z",
     "start_time": "2024-02-26T15:36:51.565600600Z"
    }
   },
   "id": "3f6e2a3ef6fd9cc1",
   "execution_count": 2
  }
 ],
 "metadata": {
  "kernelspec": {
   "display_name": "Python 3",
   "language": "python",
   "name": "python3"
  },
  "language_info": {
   "codemirror_mode": {
    "name": "ipython",
    "version": 2
   },
   "file_extension": ".py",
   "mimetype": "text/x-python",
   "name": "python",
   "nbconvert_exporter": "python",
   "pygments_lexer": "ipython2",
   "version": "2.7.6"
  }
 },
 "nbformat": 4,
 "nbformat_minor": 5
}
