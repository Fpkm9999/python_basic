{
 "cells": [
  {
   "cell_type": "markdown",
   "source": [
    "# 딕셔너리(dict) : 자바의 맵과 유사."
   ],
   "metadata": {
    "collapsed": false
   },
   "id": "232eac9376c1177d"
  },
  {
   "cell_type": "markdown",
   "source": [
    "## 1. 딕셔너리 생성 및 접근\n",
    "- 키값을 사용해 value에 접근이 가능함"
   ],
   "metadata": {
    "collapsed": false
   },
   "id": "e8aba416371adf4"
  },
  {
   "cell_type": "code",
   "outputs": [
    {
     "name": "stdout",
     "output_type": "stream",
     "text": [
      "<class 'dict'>\n",
      "<class 'dict'>\n",
      "<class 'dict'>\n",
      "{'name': 'John', 'age': 30, 'city': 'New York'}\n",
      "{}\n",
      "{}\n"
     ]
    }
   ],
   "source": [
    "my_dict = {'name': 'John', 'age': 30, 'city': 'New York'}\n",
    "empty_dict = {}\n",
    "another_dict = dict()\n",
    "\n",
    "print(type(my_dict))    # 출력 : <class 'dict'>\n",
    "print(type(empty_dict)) # 출력 : <class 'dict'>\n",
    "print(type(another_dict))   # 출력 : <class 'dict'>\n",
    "print(my_dict)  # 출력 : {'name': 'John', 'age': 30, 'city': 'New York'}\n",
    "print(empty_dict)   # 출력 : {}\n",
    "print(another_dict) # 출력 : {}"
   ],
   "metadata": {
    "collapsed": false,
    "ExecuteTime": {
     "end_time": "2024-02-29T15:12:32.127014Z",
     "start_time": "2024-02-29T15:12:32.097778Z"
    }
   },
   "id": "8077ee5f052dffaa",
   "execution_count": 3
  },
  {
   "cell_type": "code",
   "outputs": [
    {
     "name": "stdout",
     "output_type": "stream",
     "text": [
      "{'a': 'apple', 'b': 'banana'}\n",
      "<class 'dict'>\n",
      "apple\n",
      "banana\n"
     ]
    },
    {
     "ename": "KeyError",
     "evalue": "'apple'",
     "output_type": "error",
     "traceback": [
      "\u001B[1;31m---------------------------------------------------------------------------\u001B[0m",
      "\u001B[1;31mKeyError\u001B[0m                                  Traceback (most recent call last)",
      "Cell \u001B[1;32mIn[6], line 8\u001B[0m\n\u001B[0;32m      6\u001B[0m \u001B[38;5;28mprint\u001B[39m(d[\u001B[38;5;124m'\u001B[39m\u001B[38;5;124ma\u001B[39m\u001B[38;5;124m'\u001B[39m])  \u001B[38;5;66;03m# apple / 인덱스 대신 Key를 사용하면 value가 반환\u001B[39;00m\n\u001B[0;32m      7\u001B[0m \u001B[38;5;28mprint\u001B[39m(d[\u001B[38;5;124m'\u001B[39m\u001B[38;5;124mb\u001B[39m\u001B[38;5;124m'\u001B[39m])  \u001B[38;5;66;03m# banana\u001B[39;00m\n\u001B[1;32m----> 8\u001B[0m \u001B[38;5;28mprint\u001B[39m(\u001B[43md\u001B[49m\u001B[43m[\u001B[49m\u001B[38;5;124;43m'\u001B[39;49m\u001B[38;5;124;43mapple\u001B[39;49m\u001B[38;5;124;43m'\u001B[39;49m\u001B[43m]\u001B[49m)\n",
      "\u001B[1;31mKeyError\u001B[0m: 'apple'"
     ]
    }
   ],
   "source": [
    "d = {'a': 'apple', 'b': 'banana'}  # dict 생성 , 키-값 형태\n",
    "print(d)  # 출력 : {'a': 'apple', 'b': 'banana'}\n",
    "print(type(d))  # 출력 : <class 'dict'>\n",
    "\n",
    "# value 값 찾기\n",
    "print(d['a'])  # apple / 인덱스 대신 Key를 사용하면 value가 반환\n",
    "print(d['b'])  # banana\n"
   ],
   "metadata": {
    "collapsed": false,
    "ExecuteTime": {
     "end_time": "2024-02-29T15:14:07.670272Z",
     "start_time": "2024-02-29T15:14:07.637594Z"
    }
   },
   "id": "49834fe58444e202",
   "execution_count": 6
  },
  {
   "cell_type": "markdown",
   "source": [],
   "metadata": {
    "collapsed": false
   },
   "id": "9acfd86235a80377"
  },
  {
   "cell_type": "code",
   "outputs": [
    {
     "name": "stdout",
     "output_type": "stream",
     "text": [
      "{'a': 'apple', 'b': 'banana'}\n",
      "{'a': 'apple', 'b': 'banana', 'c': 'grape'}\n"
     ]
    }
   ],
   "source": [
    "# 키 값의 자료형이 문자열(str) 이라면 dict() 함수를 이용해서 생성 가능\n",
    "d = dict(a='apple', b='banana')\n",
    "print(d)  # {'a': 'apple', 'b': 'banana'}\n",
    "\n",
    "d['c'] = 'grape'\n",
    "print(d) # 출력 : {'a': 'apple', 'b': 'banana', 'c': 'grape'}"
   ],
   "metadata": {
    "collapsed": false,
    "ExecuteTime": {
     "end_time": "2024-02-29T15:18:39.811765Z",
     "start_time": "2024-02-29T15:18:39.791580Z"
    }
   },
   "id": "25e2f746f3111dd7",
   "execution_count": 11
  },
  {
   "cell_type": "markdown",
   "source": [
    "## 2. 새로운 키-값 쌍 추가 및 수정\n",
    "- 키를 이용해 값을 수정할 수 있습니다."
   ],
   "metadata": {
    "collapsed": false
   },
   "id": "970a2819c08834c5"
  },
  {
   "cell_type": "code",
   "outputs": [
    {
     "name": "stdout",
     "output_type": "stream",
     "text": [
      "{'apple': '사과', 'watermelon': '멜론'}\n",
      "{'apple': '사과', 'watermelon': '수박'}\n"
     ]
    }
   ],
   "source": [
    "# 딕셔너리 요소의 추가와 수정, 삭제\n",
    "# 새로운 키와 값을 조합해서 작성\n",
    "dic = {'apple': '사과'}\n",
    "dic['watermelon'] = '멜론'\n",
    "print(dic)  # 출력 : {'apple': '사과', 'watermelon': '멜론'}\n",
    "# 키는 중복을 허용하지 않기 때문에 저런식으로 해당 키가 존재하지 않다면 추가가 가능하다.\n",
    "\n",
    "# 존재하는 키 값을 이용해서 정의하면, value 수정으로 인식\n",
    "dic['watermelon'] = '수박'\n",
    "print(dic)  # 출력 : {'apple': '사과', 'watermelon': '수박'}\n",
    "# 같은 명령어 이지만 값이 추가될 수도 있고 값이 수정될 수도 있다."
   ],
   "metadata": {
    "collapsed": false,
    "ExecuteTime": {
     "end_time": "2024-02-29T15:19:28.644571Z",
     "start_time": "2024-02-29T15:19:28.626880Z"
    }
   },
   "id": "3c869d0b4f97aded",
   "execution_count": 12
  },
  {
   "cell_type": "code",
   "outputs": [
    {
     "name": "stdout",
     "output_type": "stream",
     "text": [
      "{'name': 'james', 'age': 20}\n",
      "{'name': 'james', 'age': 20}\n",
      "{'name': 'james', 'age': 35}\n",
      "{1: 'a', 2: 'b'}\n",
      "{1: 'a', 2: 'b', 3: [1, 2, 3]}\n",
      "{1: 'a', 2: 'b', 3: [1, 2, 3], 4: (1, 2, 3)}\n"
     ]
    }
   ],
   "source": [
    "# setdefault() 메소드를 이용한 추가\n",
    "me = {'name': 'james'}\n",
    "me.setdefault('age', 20)\n",
    "print(me)  # {'name': 'james', 'age': 20}\n",
    "\n",
    "me.setdefault('age', 30)  # 동일한 키가 있는 경우 무시됨\n",
    "print(me)  # {'name': 'james', 'age': 20}\n",
    "\n",
    "me['age'] = 35\n",
    "print(me)  # 이건 된다\n",
    "\n",
    "a = {1: 'a'}\n",
    "a[2] = 'b'\n",
    "print(a)\n",
    "\n",
    "a[3] = [1,2,3]\n",
    "print(a)\n",
    "# 딕셔너리 안에 value 값으로 리스트가 올 수 도 있다.\n",
    "a[4] = (1,2,3)  # 출력 : {1: 'a', 2: 'b', 3: [1, 2, 3], 4: (1, 2, 3)}\n",
    "# 딕셔너리 안에 value 값으로 튜블이 올 수 도 있다.\n",
    "print(a)"
   ],
   "metadata": {
    "collapsed": false,
    "ExecuteTime": {
     "end_time": "2024-02-27T08:14:11.819503300Z",
     "start_time": "2024-02-27T08:14:11.785999200Z"
    }
   },
   "id": "22b1071613719a16",
   "execution_count": 5
  },
  {
   "cell_type": "code",
   "outputs": [
    {
     "name": "stdout",
     "output_type": "stream",
     "text": [
      "{'name': 'james', 'age': 20}\n",
      "{'name': 'james', 'age': 20}\n",
      "{'name': 'james', 'age': 25}\n",
      "{'name': 'james', 'age': 25, 'address': 'seoul'}\n",
      "{'name': 'james', 'age': 25}\n",
      "james\n",
      "None\n",
      "None\n",
      "None\n"
     ]
    }
   ],
   "source": [
    "me = {'name': 'james'}\n",
    "me.setdefault('age', 20)\n",
    "print(me)  # {'name': 'james', 'age': 20}\n",
    "me.setdefault('age', 30)  # 동일한 키가 있는 경우 무시됨\n",
    "print(me)  # {'name': 'james', 'age': 20}\n",
    "\n",
    "# update() 메소드의 경우 존재하는 키값이면 수정\n",
    "me.update(age=25)\n",
    "print(me)  # {'name': 'james', 'age': 25}\n",
    "\n",
    "# update() 메소드의 경우 존재하지 않는 키값이면 추가\n",
    "me.update(address='seoul')\n",
    "print(me)  # {'name': 'james', 'age': 25, 'address': 'seoul'}\n",
    "\n",
    "# pop() 메소드에 키값을 전달하면 해당 키값의 데이터가 삭제\n",
    "me.pop('address')\n",
    "print(me)  # {'name': 'james', 'age': 25}\n",
    "\n",
    "# get() 메서드에 전달한 key에 해당하는 value 를 반환\n",
    "print(me.get('name'))  # james\n",
    "\n",
    "print(me.get('address')) # 없는 요소를 가져올려고 하면 None 반환\n",
    "print(me.get(''))   # 출력 : None\n",
    "print(me.get('james'))  # values 값은 사용할 수 없다.   # 출력 : None"
   ],
   "metadata": {
    "collapsed": false,
    "ExecuteTime": {
     "end_time": "2024-02-27T08:16:40.905108300Z",
     "start_time": "2024-02-27T08:16:40.895391700Z"
    }
   },
   "id": "8b2be0d69d938d3e",
   "execution_count": 9
  },
  {
   "cell_type": "markdown",
   "source": [],
   "metadata": {
    "collapsed": false
   },
   "id": "17b4e6f25d32ac78"
  },
  {
   "cell_type": "code",
   "outputs": [
    {
     "name": "stdout",
     "output_type": "stream",
     "text": [
      "True\n",
      "False\n"
     ]
    }
   ],
   "source": [
    "# 해당 Key가 딕셔너리 안에 있는지 조사하기 - in\n",
    "a = {'name':'pay','phone' : '010-4444-5555', 'email' : 'abc@gmail.com'}\n",
    "print('name' in a)  # 출력 : True\n",
    "print('email' not in a) # 출력 : False"
   ],
   "metadata": {
    "collapsed": false,
    "ExecuteTime": {
     "end_time": "2024-02-29T15:37:15.282871Z",
     "start_time": "2024-02-29T15:37:15.270341Z"
    }
   },
   "id": "e94aa6e79c47c851",
   "execution_count": 16
  }
 ],
 "metadata": {
  "kernelspec": {
   "display_name": "Python 3",
   "language": "python",
   "name": "python3"
  },
  "language_info": {
   "codemirror_mode": {
    "name": "ipython",
    "version": 2
   },
   "file_extension": ".py",
   "mimetype": "text/x-python",
   "name": "python",
   "nbconvert_exporter": "python",
   "pygments_lexer": "ipython2",
   "version": "2.7.6"
  }
 },
 "nbformat": 4,
 "nbformat_minor": 5
}
